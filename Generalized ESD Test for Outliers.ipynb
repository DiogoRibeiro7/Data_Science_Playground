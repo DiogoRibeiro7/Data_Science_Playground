{
 "cells": [
  {
   "cell_type": "code",
   "execution_count": 1,
   "metadata": {},
   "outputs": [],
   "source": [
    "import matplotlib.pyplot as plt\n",
    "import numpy as np\n",
    "import pandas as pd\n",
    "import scipy.stats as stats"
   ]
  },
  {
   "cell_type": "code",
   "execution_count": 2,
   "metadata": {},
   "outputs": [],
   "source": [
    "%matplotlib inline"
   ]
  },
  {
   "cell_type": "code",
   "execution_count": 3,
   "metadata": {},
   "outputs": [],
   "source": [
    "y = np.random.random(100)\n",
    "x = np.arange(len(y))"
   ]
  },
  {
   "cell_type": "code",
   "execution_count": 4,
   "metadata": {},
   "outputs": [
    {
     "data": {
      "text/plain": [
       "<matplotlib.collections.PathCollection at 0x2860d7d32c8>"
      ]
     },
     "execution_count": 4,
     "metadata": {},
     "output_type": "execute_result"
    },
    {
     "data": {
      "image/png": "[encoded data removed]",
      "text/plain": [
       "<Figure size 432x288 with 1 Axes>"
      ]
     },
     "metadata": {
      "needs_background": "light"
     },
     "output_type": "display_data"
    }
   ],
   "source": [
    "plt.scatter(x,y)"
   ]
  },
  {
   "cell_type": "code",
   "execution_count": 5,
   "metadata": {},
   "outputs": [],
   "source": [
    "y[14] = 9\n",
    "y[83] = 10"
   ]
  },
  {
   "cell_type": "code",
   "execution_count": 6,
   "metadata": {},
   "outputs": [
    {
     "data": {
      "text/plain": [
       "<matplotlib.collections.PathCollection at 0x2860d891a08>"
      ]
     },
     "execution_count": 6,
     "metadata": {},
     "output_type": "execute_result"
    },
    {
     "data": {
      "image/png": "[encoded data removed]",
      "text/plain": [
       "<Figure size 432x288 with 1 Axes>"
      ]
     },
     "metadata": {
      "needs_background": "light"
     },
     "output_type": "display_data"
    }
   ],
   "source": [
    "plt.scatter(x,y)"
   ]
  },
  {
   "cell_type": "code",
   "execution_count": 7,
   "metadata": {},
   "outputs": [],
   "source": [
    "def grubbs_stat(y):\n",
    "    std_dev = np.std(y)\n",
    "    avg_y = np.mean(y)\n",
    "    abs_val_minus_avg = abs(y - avg_y)\n",
    "    max_of_deviations = max(abs_val_minus_avg)\n",
    "    max_ind = np.argmax(abs_val_minus_avg)\n",
    "    Gcal = max_of_deviations/ std_dev\n",
    "    print(\"Grubbs Statistics Value : {}\".format(Gcal))\n",
    "    return Gcal, max_ind"
   ]
  },
  {
   "cell_type": "code",
   "execution_count": 8,
   "metadata": {},
   "outputs": [],
   "source": [
    "def calculate_critical_value(size, alpha):\n",
    "    t_dist = stats.t.ppf(1 - alpha / (2 * size), size - 2)\n",
    "    numerator = (size - 1) * np.sqrt(np.square(t_dist))\n",
    "    denominator = np.sqrt(size) * np.sqrt(size - 2 + np.square(t_dist))\n",
    "    critical_value = numerator / denominator\n",
    "    print(\"Grubbs Critical Value: {}\".format(critical_value))\n",
    "    return critical_value"
   ]
  },
  {
   "cell_type": "code",
   "execution_count": 9,
   "metadata": {},
   "outputs": [],
   "source": [
    "def check_G_values(Gs, Gc, inp, max_index):\n",
    "    if Gs > Gc:\n",
    "        print('{} is an outlier. G > G-critical: {:.4f} > {:.4f} \\n'.format(inp[max_index], Gs, Gc))\n",
    "    else:\n",
    "        print('{} is not an outlier. G > G-critical: {:.4f} > {:.4f} \\n'.format(inp[max_index], Gs, Gc))"
   ]
  },
  {
   "cell_type": "code",
   "execution_count": 10,
   "metadata": {},
   "outputs": [],
   "source": [
    "def ESD_Test(input_series, alpha, max_outliers):\n",
    "    for iterations in range(max_outliers):\n",
    "        Gcritical = calculate_critical_value(len(input_series), alpha)\n",
    "        Gstat, max_index = grubbs_stat(input_series)\n",
    "        check_G_values(Gstat, Gcritical, input_series, max_index)\n",
    "        input_series = np.delete(input_series, max_index)"
   ]
  },
  {
   "cell_type": "code",
   "execution_count": 11,
   "metadata": {},
   "outputs": [
    {
     "name": "stdout",
     "output_type": "stream",
     "text": [
      "Grubbs Critical Value: 3.384082902288351\n",
      "Grubbs Statistics Value : 7.197126211379453\n",
      "10.0 is an outlier. G > G-critical: 7.1971 > 3.3841 \n",
      "\n",
      "Grubbs Critical Value: 3.380650508067058\n",
      "Grubbs Statistics Value : 9.361693952707766\n",
      "9.0 is an outlier. G > G-critical: 9.3617 > 3.3807 \n",
      "\n",
      "Grubbs Critical Value: 3.377175980782947\n",
      "Grubbs Statistics Value : 1.6689176096874876\n",
      "0.999945173018854 is not an outlier. G > G-critical: 1.6689 > 3.3772 \n",
      "\n"
     ]
    }
   ],
   "source": [
    "ESD_Test(y, 0.05, 3)"
   ]
  }
 ],
 "metadata": {
  "kernelspec": {
   "display_name": "Python 3",
   "language": "python",
   "name": "python3"
  },
  "language_info": {
   "codemirror_mode": {
    "name": "ipython",
    "version": 3
   },
   "file_extension": ".py",
   "mimetype": "text/x-python",
   "name": "python",
   "nbconvert_exporter": "python",
   "pygments_lexer": "ipython3",
   "version": "3.7.6"
  }
 },
 "nbformat": 4,
 "nbformat_minor": 2
}
