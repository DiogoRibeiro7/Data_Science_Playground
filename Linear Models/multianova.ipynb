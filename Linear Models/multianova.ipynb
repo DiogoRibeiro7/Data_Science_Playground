{
 "cells": [
  {
   "cell_type": "markdown",
   "metadata": {},
   "source": [
    "# Chapter 16: Models with several factors\n",
    "\n",
    "Load the packages"
   ]
  },
  {
   "cell_type": "code",
   "execution_count": 1,
   "metadata": {},
   "outputs": [],
   "source": [
    "import pandas as pd\n",
    "import numpy as np\n",
    "import matplotlib.pyplot as plt\n",
    "import statsmodels.api as sm\n",
    "import statsmodels.formula.api as smf\n",
    "import seaborn as sns\n",
    "from scipy import stats"
   ]
  },
  {
   "cell_type": "markdown",
   "metadata": {},
   "source": [
    "## Two factors with no replication\n",
    "\n",
    "Load in the data"
   ]
  },
  {
   "cell_type": "code",
   "execution_count": 2,
   "metadata": {},
   "outputs": [
    {
     "data": {
      "text/html": [
       "<div>\n",
       "<style scoped>\n",
       "    .dataframe tbody tr th:only-of-type {\n",
       "        vertical-align: middle;\n",
       "    }\n",
       "\n",
       "    .dataframe tbody tr th {\n",
       "        vertical-align: top;\n",
       "    }\n",
       "\n",
       "    .dataframe thead th {\n",
       "        text-align: right;\n",
       "    }\n",
       "</style>\n",
       "<table border=\"1\" class=\"dataframe\">\n",
       "  <thead>\n",
       "    <tr style=\"text-align: right;\">\n",
       "      <th></th>\n",
       "      <th>strength</th>\n",
       "      <th>laser</th>\n",
       "      <th>tape</th>\n",
       "    </tr>\n",
       "  </thead>\n",
       "  <tbody>\n",
       "    <tr>\n",
       "      <th>1</th>\n",
       "      <td>25.66</td>\n",
       "      <td>40W</td>\n",
       "      <td>slow</td>\n",
       "    </tr>\n",
       "    <tr>\n",
       "      <th>2</th>\n",
       "      <td>29.15</td>\n",
       "      <td>50W</td>\n",
       "      <td>slow</td>\n",
       "    </tr>\n",
       "    <tr>\n",
       "      <th>3</th>\n",
       "      <td>35.73</td>\n",
       "      <td>60W</td>\n",
       "      <td>slow</td>\n",
       "    </tr>\n",
       "    <tr>\n",
       "      <th>4</th>\n",
       "      <td>28.00</td>\n",
       "      <td>40W</td>\n",
       "      <td>medium</td>\n",
       "    </tr>\n",
       "    <tr>\n",
       "      <th>5</th>\n",
       "      <td>35.09</td>\n",
       "      <td>50W</td>\n",
       "      <td>medium</td>\n",
       "    </tr>\n",
       "    <tr>\n",
       "      <th>6</th>\n",
       "      <td>39.56</td>\n",
       "      <td>60W</td>\n",
       "      <td>medium</td>\n",
       "    </tr>\n",
       "    <tr>\n",
       "      <th>7</th>\n",
       "      <td>20.65</td>\n",
       "      <td>40W</td>\n",
       "      <td>fast</td>\n",
       "    </tr>\n",
       "    <tr>\n",
       "      <th>8</th>\n",
       "      <td>29.79</td>\n",
       "      <td>50W</td>\n",
       "      <td>fast</td>\n",
       "    </tr>\n",
       "    <tr>\n",
       "      <th>9</th>\n",
       "      <td>35.66</td>\n",
       "      <td>60W</td>\n",
       "      <td>fast</td>\n",
       "    </tr>\n",
       "  </tbody>\n",
       "</table>\n",
       "</div>"
      ],
      "text/plain": [
       "   strength laser    tape\n",
       "1     25.66   40W    slow\n",
       "2     29.15   50W    slow\n",
       "3     35.73   60W    slow\n",
       "4     28.00   40W  medium\n",
       "5     35.09   50W  medium\n",
       "6     39.56   60W  medium\n",
       "7     20.65   40W    fast\n",
       "8     29.79   50W    fast\n",
       "9     35.66   60W    fast"
      ]
     },
     "execution_count": 2,
     "metadata": {},
     "output_type": "execute_result"
    }
   ],
   "source": [
    "composite = pd.read_csv(\"data/composite.csv\", index_col=0)\n",
    "composite"
   ]
  },
  {
   "cell_type": "markdown",
   "metadata": {},
   "source": [
    "Create the interaction plots:"
   ]
  },
  {
   "cell_type": "code",
   "execution_count": 3,
   "metadata": {},
   "outputs": [
    {
     "data": {
      "text/plain": [
       "<seaborn.axisgrid.FacetGrid at 0x260bbb9a308>"
      ]
     },
     "execution_count": 3,
     "metadata": {},
     "output_type": "execute_result"
    },
    {
     "data": {
      "image/png": "[encoded data removed]",
      "text/plain": [
       "<Figure size 437x360 with 1 Axes>"
      ]
     },
     "metadata": {
      "needs_background": "light"
     },
     "output_type": "display_data"
    }
   ],
   "source": [
    "sns.catplot(x=\"laser\", y=\"strength\", hue=\"tape\", data=composite, kind=\"point\")"
   ]
  },
  {
   "cell_type": "code",
   "execution_count": 4,
   "metadata": {},
   "outputs": [
    {
     "data": {
      "text/plain": [
       "<seaborn.axisgrid.FacetGrid at 0x260bcb4f208>"
      ]
     },
     "execution_count": 4,
     "metadata": {},
     "output_type": "execute_result"
    },
    {
     "data": {
      "image/png": "[encoded data removed]",
      "text/plain": [
       "<Figure size 418.625x360 with 1 Axes>"
      ]
     },
     "metadata": {
      "needs_background": "light"
     },
     "output_type": "display_data"
    }
   ],
   "source": [
    "sns.catplot(x=\"tape\", y=\"strength\", hue=\"laser\", data=composite, kind=\"point\")"
   ]
  },
  {
   "cell_type": "markdown",
   "metadata": {},
   "source": [
    "Fit a saturated model. Don't show the error messages (get complaints about small datasets)"
   ]
  },
  {
   "cell_type": "code",
   "execution_count": 5,
   "metadata": {},
   "outputs": [
    {
     "data": {
      "text/html": [
       "<table class=\"simpletable\">\n",
       "<caption>OLS Regression Results</caption>\n",
       "<tr>\n",
       "  <th>Dep. Variable:</th>        <td>strength</td>     <th>  R-squared:         </th> <td>   1.000</td>\n",
       "</tr>\n",
       "<tr>\n",
       "  <th>Model:</th>                   <td>OLS</td>       <th>  Adj. R-squared:    </th> <td>     nan</td>\n",
       "</tr>\n",
       "<tr>\n",
       "  <th>Method:</th>             <td>Least Squares</td>  <th>  F-statistic:       </th> <td>     nan</td>\n",
       "</tr>\n",
       "<tr>\n",
       "  <th>Date:</th>             <td>Tue, 23 Jun 2020</td> <th>  Prob (F-statistic):</th>  <td>   nan</td> \n",
       "</tr>\n",
       "<tr>\n",
       "  <th>Time:</th>                 <td>17:12:26</td>     <th>  Log-Likelihood:    </th> <td>  274.42</td>\n",
       "</tr>\n",
       "<tr>\n",
       "  <th>No. Observations:</th>      <td>     9</td>      <th>  AIC:               </th> <td>  -530.8</td>\n",
       "</tr>\n",
       "<tr>\n",
       "  <th>Df Residuals:</th>          <td>     0</td>      <th>  BIC:               </th> <td>  -529.1</td>\n",
       "</tr>\n",
       "<tr>\n",
       "  <th>Df Model:</th>              <td>     8</td>      <th>                     </th>     <td> </td>   \n",
       "</tr>\n",
       "<tr>\n",
       "  <th>Covariance Type:</th>      <td>nonrobust</td>    <th>                     </th>     <td> </td>   \n",
       "</tr>\n",
       "</table>\n",
       "<table class=\"simpletable\">\n",
       "<tr>\n",
       "               <td></td>                  <th>coef</th>     <th>std err</th>      <th>t</th>      <th>P>|t|</th>  <th>[0.025</th>    <th>0.975]</th>  \n",
       "</tr>\n",
       "<tr>\n",
       "  <th>Intercept</th>                   <td>   20.6500</td> <td>      inf</td> <td>        0</td> <td>   nan</td> <td>      nan</td> <td>      nan</td>\n",
       "</tr>\n",
       "<tr>\n",
       "  <th>tape[T.medium]</th>              <td>    7.3500</td> <td>      inf</td> <td>        0</td> <td>   nan</td> <td>      nan</td> <td>      nan</td>\n",
       "</tr>\n",
       "<tr>\n",
       "  <th>tape[T.slow]</th>                <td>    5.0100</td> <td>      inf</td> <td>        0</td> <td>   nan</td> <td>      nan</td> <td>      nan</td>\n",
       "</tr>\n",
       "<tr>\n",
       "  <th>laser[T.50W]</th>                <td>    9.1400</td> <td>      inf</td> <td>        0</td> <td>   nan</td> <td>      nan</td> <td>      nan</td>\n",
       "</tr>\n",
       "<tr>\n",
       "  <th>laser[T.60W]</th>                <td>   15.0100</td> <td>      inf</td> <td>        0</td> <td>   nan</td> <td>      nan</td> <td>      nan</td>\n",
       "</tr>\n",
       "<tr>\n",
       "  <th>tape[T.medium]:laser[T.50W]</th> <td>   -2.0500</td> <td>      inf</td> <td>       -0</td> <td>   nan</td> <td>      nan</td> <td>      nan</td>\n",
       "</tr>\n",
       "<tr>\n",
       "  <th>tape[T.slow]:laser[T.50W]</th>   <td>   -5.6500</td> <td>      inf</td> <td>       -0</td> <td>   nan</td> <td>      nan</td> <td>      nan</td>\n",
       "</tr>\n",
       "<tr>\n",
       "  <th>tape[T.medium]:laser[T.60W]</th> <td>   -3.4500</td> <td>      inf</td> <td>       -0</td> <td>   nan</td> <td>      nan</td> <td>      nan</td>\n",
       "</tr>\n",
       "<tr>\n",
       "  <th>tape[T.slow]:laser[T.60W]</th>   <td>   -4.9400</td> <td>      inf</td> <td>       -0</td> <td>   nan</td> <td>      nan</td> <td>      nan</td>\n",
       "</tr>\n",
       "</table>\n",
       "<table class=\"simpletable\">\n",
       "<tr>\n",
       "  <th>Omnibus:</th>       <td> 4.500</td> <th>  Durbin-Watson:     </th> <td>   0.628</td>\n",
       "</tr>\n",
       "<tr>\n",
       "  <th>Prob(Omnibus):</th> <td> 0.105</td> <th>  Jarque-Bera (JB):  </th> <td>   2.010</td>\n",
       "</tr>\n",
       "<tr>\n",
       "  <th>Skew:</th>          <td> 1.157</td> <th>  Prob(JB):          </th> <td>   0.366</td>\n",
       "</tr>\n",
       "<tr>\n",
       "  <th>Kurtosis:</th>      <td> 2.925</td> <th>  Cond. No.          </th> <td>    13.9</td>\n",
       "</tr>\n",
       "</table><br/><br/>Warnings:<br/>[1] Standard Errors assume that the covariance matrix of the errors is correctly specified."
      ],
      "text/plain": [
       "<class 'statsmodels.iolib.summary.Summary'>\n",
       "\"\"\"\n",
       "                            OLS Regression Results                            \n",
       "==============================================================================\n",
       "Dep. Variable:               strength   R-squared:                       1.000\n",
       "Model:                            OLS   Adj. R-squared:                    nan\n",
       "Method:                 Least Squares   F-statistic:                       nan\n",
       "Date:                Tue, 23 Jun 2020   Prob (F-statistic):                nan\n",
       "Time:                        17:12:26   Log-Likelihood:                 274.42\n",
       "No. Observations:                   9   AIC:                            -530.8\n",
       "Df Residuals:                       0   BIC:                            -529.1\n",
       "Df Model:                           8                                         \n",
       "Covariance Type:            nonrobust                                         \n",
       "===============================================================================================\n",
       "                                  coef    std err          t      P>|t|      [0.025      0.975]\n",
       "-----------------------------------------------------------------------------------------------\n",
       "Intercept                      20.6500        inf          0        nan         nan         nan\n",
       "tape[T.medium]                  7.3500        inf          0        nan         nan         nan\n",
       "tape[T.slow]                    5.0100        inf          0        nan         nan         nan\n",
       "laser[T.50W]                    9.1400        inf          0        nan         nan         nan\n",
       "laser[T.60W]                   15.0100        inf          0        nan         nan         nan\n",
       "tape[T.medium]:laser[T.50W]    -2.0500        inf         -0        nan         nan         nan\n",
       "tape[T.slow]:laser[T.50W]      -5.6500        inf         -0        nan         nan         nan\n",
       "tape[T.medium]:laser[T.60W]    -3.4500        inf         -0        nan         nan         nan\n",
       "tape[T.slow]:laser[T.60W]      -4.9400        inf         -0        nan         nan         nan\n",
       "==============================================================================\n",
       "Omnibus:                        4.500   Durbin-Watson:                   0.628\n",
       "Prob(Omnibus):                  0.105   Jarque-Bera (JB):                2.010\n",
       "Skew:                           1.157   Prob(JB):                        0.366\n",
       "Kurtosis:                       2.925   Cond. No.                         13.9\n",
       "==============================================================================\n",
       "\n",
       "Warnings:\n",
       "[1] Standard Errors assume that the covariance matrix of the errors is correctly specified.\n",
       "\"\"\""
      ]
     },
     "execution_count": 5,
     "metadata": {},
     "output_type": "execute_result"
    }
   ],
   "source": [
    "%%capture --no-display\n",
    "lmod = smf.ols(\"strength ~ tape * laser\", composite).fit()\n",
    "lmod.summary()"
   ]
  },
  {
   "cell_type": "markdown",
   "metadata": {},
   "source": [
    "Fit main effects only model:"
   ]
  },
  {
   "cell_type": "code",
   "execution_count": 6,
   "metadata": {},
   "outputs": [
    {
     "data": {
      "text/plain": [
       "Intercept         22.437778\n",
       "tape[T.medium]     5.516667\n",
       "tape[T.slow]       1.480000\n",
       "laser[T.50W]       6.573333\n",
       "laser[T.60W]      12.213333\n",
       "dtype: float64"
      ]
     },
     "execution_count": 6,
     "metadata": {},
     "output_type": "execute_result"
    }
   ],
   "source": [
    "lmod = smf.ols(\"strength ~ tape + laser\", composite).fit()\n",
    "lmod.params"
   ]
  },
  {
   "cell_type": "code",
   "execution_count": 7,
   "metadata": {},
   "outputs": [
    {
     "data": {
      "text/plain": [
       "array([ 0.  ,  6.57, 12.21,  0.  ,  6.57, 12.21,  0.  ,  6.57, 12.21])"
      ]
     },
     "execution_count": 7,
     "metadata": {},
     "output_type": "execute_result"
    }
   ],
   "source": [
    "lasercoefs = np.tile([0, 6.57, 12.21],3)\n",
    "lasercoefs"
   ]
  },
  {
   "cell_type": "code",
   "execution_count": 8,
   "metadata": {},
   "outputs": [
    {
     "data": {
      "text/plain": [
       "array([1.48, 1.48, 1.48, 5.52, 5.52, 5.52, 0.  , 0.  , 0.  ])"
      ]
     },
     "execution_count": 8,
     "metadata": {},
     "output_type": "execute_result"
    }
   ],
   "source": [
    "tapecoefs = np.repeat([1.48, 5.52, 0], 3)\n",
    "tapecoefs"
   ]
  },
  {
   "cell_type": "code",
   "execution_count": 9,
   "metadata": {},
   "outputs": [
    {
     "data": {
      "text/html": [
       "<table class=\"simpletable\">\n",
       "<caption>OLS Regression Results</caption>\n",
       "<tr>\n",
       "  <th>Dep. Variable:</th>        <td>strength</td>     <th>  R-squared:         </th> <td>   0.968</td>\n",
       "</tr>\n",
       "<tr>\n",
       "  <th>Model:</th>                   <td>OLS</td>       <th>  Adj. R-squared:    </th> <td>   0.914</td>\n",
       "</tr>\n",
       "<tr>\n",
       "  <th>Method:</th>             <td>Least Squares</td>  <th>  F-statistic:       </th> <td>   18.03</td>\n",
       "</tr>\n",
       "<tr>\n",
       "  <th>Date:</th>             <td>Tue, 23 Jun 2020</td> <th>  Prob (F-statistic):</th>  <td>0.0191</td> \n",
       "</tr>\n",
       "<tr>\n",
       "  <th>Time:</th>                 <td>17:12:26</td>     <th>  Log-Likelihood:    </th> <td> -12.837</td>\n",
       "</tr>\n",
       "<tr>\n",
       "  <th>No. Observations:</th>      <td>     9</td>      <th>  AIC:               </th> <td>   37.67</td>\n",
       "</tr>\n",
       "<tr>\n",
       "  <th>Df Residuals:</th>          <td>     3</td>      <th>  BIC:               </th> <td>   38.86</td>\n",
       "</tr>\n",
       "<tr>\n",
       "  <th>Df Model:</th>              <td>     5</td>      <th>                     </th>     <td> </td>   \n",
       "</tr>\n",
       "<tr>\n",
       "  <th>Covariance Type:</th>      <td>nonrobust</td>    <th>                     </th>     <td> </td>   \n",
       "</tr>\n",
       "</table>\n",
       "<table class=\"simpletable\">\n",
       "<tr>\n",
       "         <td></td>           <th>coef</th>     <th>std err</th>      <th>t</th>      <th>P>|t|</th>  <th>[0.025</th>    <th>0.975]</th>  \n",
       "</tr>\n",
       "<tr>\n",
       "  <th>Intercept</th>      <td>   21.9483</td> <td>    1.491</td> <td>   14.717</td> <td> 0.001</td> <td>   17.202</td> <td>   26.694</td>\n",
       "</tr>\n",
       "<tr>\n",
       "  <th>tape[T.medium]</th> <td>    6.6746</td> <td>    2.239</td> <td>    2.982</td> <td> 0.059</td> <td>   -0.449</td> <td>   13.799</td>\n",
       "</tr>\n",
       "<tr>\n",
       "  <th>tape[T.slow]</th>   <td>    1.7905</td> <td>    1.498</td> <td>    1.195</td> <td> 0.318</td> <td>   -2.977</td> <td>    6.558</td>\n",
       "</tr>\n",
       "<tr>\n",
       "  <th>laser[T.50W]</th>   <td>    7.0870</td> <td>    1.618</td> <td>    4.381</td> <td> 0.022</td> <td>    1.939</td> <td>   12.235</td>\n",
       "</tr>\n",
       "<tr>\n",
       "  <th>laser[T.60W]</th>   <td>   13.1680</td> <td>    2.014</td> <td>    6.538</td> <td> 0.007</td> <td>    6.759</td> <td>   19.578</td>\n",
       "</tr>\n",
       "<tr>\n",
       "  <th>crossp</th>         <td>   -0.0335</td> <td>    0.050</td> <td>   -0.671</td> <td> 0.550</td> <td>   -0.193</td> <td>    0.126</td>\n",
       "</tr>\n",
       "</table>\n",
       "<table class=\"simpletable\">\n",
       "<tr>\n",
       "  <th>Omnibus:</th>       <td> 0.288</td> <th>  Durbin-Watson:     </th> <td>   2.095</td>\n",
       "</tr>\n",
       "<tr>\n",
       "  <th>Prob(Omnibus):</th> <td> 0.866</td> <th>  Jarque-Bera (JB):  </th> <td>   0.368</td>\n",
       "</tr>\n",
       "<tr>\n",
       "  <th>Skew:</th>          <td> 0.306</td> <th>  Prob(JB):          </th> <td>   0.832</td>\n",
       "</tr>\n",
       "<tr>\n",
       "  <th>Kurtosis:</th>      <td> 2.220</td> <th>  Cond. No.          </th> <td>    146.</td>\n",
       "</tr>\n",
       "</table><br/><br/>Warnings:<br/>[1] Standard Errors assume that the covariance matrix of the errors is correctly specified."
      ],
      "text/plain": [
       "<class 'statsmodels.iolib.summary.Summary'>\n",
       "\"\"\"\n",
       "                            OLS Regression Results                            \n",
       "==============================================================================\n",
       "Dep. Variable:               strength   R-squared:                       0.968\n",
       "Model:                            OLS   Adj. R-squared:                  0.914\n",
       "Method:                 Least Squares   F-statistic:                     18.03\n",
       "Date:                Tue, 23 Jun 2020   Prob (F-statistic):             0.0191\n",
       "Time:                        17:12:26   Log-Likelihood:                -12.837\n",
       "No. Observations:                   9   AIC:                             37.67\n",
       "Df Residuals:                       3   BIC:                             38.86\n",
       "Df Model:                           5                                         \n",
       "Covariance Type:            nonrobust                                         \n",
       "==================================================================================\n",
       "                     coef    std err          t      P>|t|      [0.025      0.975]\n",
       "----------------------------------------------------------------------------------\n",
       "Intercept         21.9483      1.491     14.717      0.001      17.202      26.694\n",
       "tape[T.medium]     6.6746      2.239      2.982      0.059      -0.449      13.799\n",
       "tape[T.slow]       1.7905      1.498      1.195      0.318      -2.977       6.558\n",
       "laser[T.50W]       7.0870      1.618      4.381      0.022       1.939      12.235\n",
       "laser[T.60W]      13.1680      2.014      6.538      0.007       6.759      19.578\n",
       "crossp            -0.0335      0.050     -0.671      0.550      -0.193       0.126\n",
       "==============================================================================\n",
       "Omnibus:                        0.288   Durbin-Watson:                   2.095\n",
       "Prob(Omnibus):                  0.866   Jarque-Bera (JB):                0.368\n",
       "Skew:                           0.306   Prob(JB):                        0.832\n",
       "Kurtosis:                       2.220   Cond. No.                         146.\n",
       "==============================================================================\n",
       "\n",
       "Warnings:\n",
       "[1] Standard Errors assume that the covariance matrix of the errors is correctly specified.\n",
       "\"\"\""
      ]
     },
     "execution_count": 9,
     "metadata": {},
     "output_type": "execute_result"
    }
   ],
   "source": [
    "%%capture --no-display\n",
    "composite['crossp'] = tapecoefs * lasercoefs\n",
    "tmod = smf.ols(\"strength ~ tape + laser + crossp\", composite).fit()\n",
    "tmod.summary()"
   ]
  },
  {
   "cell_type": "code",
   "execution_count": 10,
   "metadata": {},
   "outputs": [
    {
     "data": {
      "text/html": [
       "<div>\n",
       "<style scoped>\n",
       "    .dataframe tbody tr th:only-of-type {\n",
       "        vertical-align: middle;\n",
       "    }\n",
       "\n",
       "    .dataframe tbody tr th {\n",
       "        vertical-align: top;\n",
       "    }\n",
       "\n",
       "    .dataframe thead th {\n",
       "        text-align: right;\n",
       "    }\n",
       "</style>\n",
       "<table border=\"1\" class=\"dataframe\">\n",
       "  <thead>\n",
       "    <tr style=\"text-align: right;\">\n",
       "      <th></th>\n",
       "      <th>df</th>\n",
       "      <th>sum_sq</th>\n",
       "      <th>mean_sq</th>\n",
       "      <th>F</th>\n",
       "      <th>PR(&gt;F)</th>\n",
       "    </tr>\n",
       "  </thead>\n",
       "  <tbody>\n",
       "    <tr>\n",
       "      <th>tape</th>\n",
       "      <td>2.0</td>\n",
       "      <td>48.918689</td>\n",
       "      <td>24.459344</td>\n",
       "      <td>8.033725</td>\n",
       "      <td>0.062408</td>\n",
       "    </tr>\n",
       "    <tr>\n",
       "      <th>laser</th>\n",
       "      <td>2.0</td>\n",
       "      <td>224.183822</td>\n",
       "      <td>112.091911</td>\n",
       "      <td>36.816831</td>\n",
       "      <td>0.007746</td>\n",
       "    </tr>\n",
       "    <tr>\n",
       "      <th>crossp</th>\n",
       "      <td>1.0</td>\n",
       "      <td>1.369294</td>\n",
       "      <td>1.369294</td>\n",
       "      <td>0.449748</td>\n",
       "      <td>0.550466</td>\n",
       "    </tr>\n",
       "    <tr>\n",
       "      <th>Residual</th>\n",
       "      <td>3.0</td>\n",
       "      <td>9.133750</td>\n",
       "      <td>3.044583</td>\n",
       "      <td>NaN</td>\n",
       "      <td>NaN</td>\n",
       "    </tr>\n",
       "  </tbody>\n",
       "</table>\n",
       "</div>"
      ],
      "text/plain": [
       "           df      sum_sq     mean_sq          F    PR(>F)\n",
       "tape      2.0   48.918689   24.459344   8.033725  0.062408\n",
       "laser     2.0  224.183822  112.091911  36.816831  0.007746\n",
       "crossp    1.0    1.369294    1.369294   0.449748  0.550466\n",
       "Residual  3.0    9.133750    3.044583        NaN       NaN"
      ]
     },
     "execution_count": 10,
     "metadata": {},
     "output_type": "execute_result"
    }
   ],
   "source": [
    "sm.stats.anova_lm(tmod)"
   ]
  },
  {
   "cell_type": "markdown",
   "metadata": {},
   "source": [
    "Fix the order of the categories"
   ]
  },
  {
   "cell_type": "code",
   "execution_count": 11,
   "metadata": {},
   "outputs": [],
   "source": [
    "cat_type = pd.api.types.CategoricalDtype(categories=['slow','medium','fast'],ordered=True)\n",
    "composite['tape'] = composite.tape.astype(cat_type)"
   ]
  },
  {
   "cell_type": "code",
   "execution_count": 12,
   "metadata": {},
   "outputs": [
    {
     "data": {
      "text/html": [
       "<table class=\"simpletable\">\n",
       "<caption>OLS Regression Results</caption>\n",
       "<tr>\n",
       "  <th>Dep. Variable:</th>        <td>strength</td>     <th>  R-squared:         </th> <td>   0.963</td>\n",
       "</tr>\n",
       "<tr>\n",
       "  <th>Model:</th>                   <td>OLS</td>       <th>  Adj. R-squared:    </th> <td>   0.926</td>\n",
       "</tr>\n",
       "<tr>\n",
       "  <th>Method:</th>             <td>Least Squares</td>  <th>  F-statistic:       </th> <td>   26.00</td>\n",
       "</tr>\n",
       "<tr>\n",
       "  <th>Date:</th>             <td>Tue, 23 Jun 2020</td> <th>  Prob (F-statistic):</th>  <td>0.00401</td>\n",
       "</tr>\n",
       "<tr>\n",
       "  <th>Time:</th>                 <td>17:12:26</td>     <th>  Log-Likelihood:    </th> <td> -13.465</td>\n",
       "</tr>\n",
       "<tr>\n",
       "  <th>No. Observations:</th>      <td>     9</td>      <th>  AIC:               </th> <td>   36.93</td>\n",
       "</tr>\n",
       "<tr>\n",
       "  <th>Df Residuals:</th>          <td>     4</td>      <th>  BIC:               </th> <td>   37.92</td>\n",
       "</tr>\n",
       "<tr>\n",
       "  <th>Df Model:</th>              <td>     4</td>      <th>                     </th>     <td> </td>   \n",
       "</tr>\n",
       "<tr>\n",
       "  <th>Covariance Type:</th>      <td>nonrobust</td>    <th>                     </th>     <td> </td>   \n",
       "</tr>\n",
       "</table>\n",
       "<table class=\"simpletable\">\n",
       "<tr>\n",
       "              <td></td>                <th>coef</th>     <th>std err</th>      <th>t</th>      <th>P>|t|</th>  <th>[0.025</th>    <th>0.975]</th>  \n",
       "</tr>\n",
       "<tr>\n",
       "  <th>Intercept</th>                <td>   31.0322</td> <td>    0.540</td> <td>   57.452</td> <td> 0.000</td> <td>   29.533</td> <td>   32.532</td>\n",
       "</tr>\n",
       "<tr>\n",
       "  <th>C(tape, Poly).Linear</th>     <td>   -1.0465</td> <td>    0.936</td> <td>   -1.119</td> <td> 0.326</td> <td>   -3.644</td> <td>    1.551</td>\n",
       "</tr>\n",
       "<tr>\n",
       "  <th>C(tape, Poly).Quadratic</th>  <td>   -3.9001</td> <td>    0.936</td> <td>   -4.169</td> <td> 0.014</td> <td>   -6.498</td> <td>   -1.303</td>\n",
       "</tr>\n",
       "<tr>\n",
       "  <th>C(laser, Poly).Linear</th>    <td>    8.6361</td> <td>    0.936</td> <td>    9.231</td> <td> 0.001</td> <td>    6.039</td> <td>   11.234</td>\n",
       "</tr>\n",
       "<tr>\n",
       "  <th>C(laser, Poly).Quadratic</th> <td>   -0.3810</td> <td>    0.936</td> <td>   -0.407</td> <td> 0.705</td> <td>   -2.979</td> <td>    2.216</td>\n",
       "</tr>\n",
       "</table>\n",
       "<table class=\"simpletable\">\n",
       "<tr>\n",
       "  <th>Omnibus:</th>       <td> 0.284</td> <th>  Durbin-Watson:     </th> <td>   1.929</td>\n",
       "</tr>\n",
       "<tr>\n",
       "  <th>Prob(Omnibus):</th> <td> 0.868</td> <th>  Jarque-Bera (JB):  </th> <td>   0.411</td>\n",
       "</tr>\n",
       "<tr>\n",
       "  <th>Skew:</th>          <td>-0.128</td> <th>  Prob(JB):          </th> <td>   0.814</td>\n",
       "</tr>\n",
       "<tr>\n",
       "  <th>Kurtosis:</th>      <td> 1.985</td> <th>  Cond. No.          </th> <td>    1.73</td>\n",
       "</tr>\n",
       "</table><br/><br/>Warnings:<br/>[1] Standard Errors assume that the covariance matrix of the errors is correctly specified."
      ],
      "text/plain": [
       "<class 'statsmodels.iolib.summary.Summary'>\n",
       "\"\"\"\n",
       "                            OLS Regression Results                            \n",
       "==============================================================================\n",
       "Dep. Variable:               strength   R-squared:                       0.963\n",
       "Model:                            OLS   Adj. R-squared:                  0.926\n",
       "Method:                 Least Squares   F-statistic:                     26.00\n",
       "Date:                Tue, 23 Jun 2020   Prob (F-statistic):            0.00401\n",
       "Time:                        17:12:26   Log-Likelihood:                -13.465\n",
       "No. Observations:                   9   AIC:                             36.93\n",
       "Df Residuals:                       4   BIC:                             37.92\n",
       "Df Model:                           4                                         \n",
       "Covariance Type:            nonrobust                                         \n",
       "============================================================================================\n",
       "                               coef    std err          t      P>|t|      [0.025      0.975]\n",
       "--------------------------------------------------------------------------------------------\n",
       "Intercept                   31.0322      0.540     57.452      0.000      29.533      32.532\n",
       "C(tape, Poly).Linear        -1.0465      0.936     -1.119      0.326      -3.644       1.551\n",
       "C(tape, Poly).Quadratic     -3.9001      0.936     -4.169      0.014      -6.498      -1.303\n",
       "C(laser, Poly).Linear        8.6361      0.936      9.231      0.001       6.039      11.234\n",
       "C(laser, Poly).Quadratic    -0.3810      0.936     -0.407      0.705      -2.979       2.216\n",
       "==============================================================================\n",
       "Omnibus:                        0.284   Durbin-Watson:                   1.929\n",
       "Prob(Omnibus):                  0.868   Jarque-Bera (JB):                0.411\n",
       "Skew:                          -0.128   Prob(JB):                        0.814\n",
       "Kurtosis:                       1.985   Cond. No.                         1.73\n",
       "==============================================================================\n",
       "\n",
       "Warnings:\n",
       "[1] Standard Errors assume that the covariance matrix of the errors is correctly specified.\n",
       "\"\"\""
      ]
     },
     "execution_count": 12,
     "metadata": {},
     "output_type": "execute_result"
    }
   ],
   "source": [
    "%%capture --no-display\n",
    "from patsy.contrasts import Poly\n",
    "lmod = smf.ols(\"strength ~ C(tape,Poly) + C(laser,Poly)\", composite).fit()\n",
    "lmod.summary()"
   ]
  },
  {
   "cell_type": "markdown",
   "metadata": {},
   "source": [
    "Check out the design matrix"
   ]
  },
  {
   "cell_type": "code",
   "execution_count": 13,
   "metadata": {},
   "outputs": [
    {
     "data": {
      "text/plain": [
       "array([[ 1.  , -0.71,  0.41, -0.71,  0.41],\n",
       "       [ 1.  , -0.71,  0.41, -0.  , -0.82],\n",
       "       [ 1.  , -0.71,  0.41,  0.71,  0.41],\n",
       "       [ 1.  , -0.  , -0.82, -0.71,  0.41],\n",
       "       [ 1.  , -0.  , -0.82, -0.  , -0.82],\n",
       "       [ 1.  , -0.  , -0.82,  0.71,  0.41],\n",
       "       [ 1.  ,  0.71,  0.41, -0.71,  0.41],\n",
       "       [ 1.  ,  0.71,  0.41, -0.  , -0.82],\n",
       "       [ 1.  ,  0.71,  0.41,  0.71,  0.41]])"
      ]
     },
     "execution_count": 13,
     "metadata": {},
     "output_type": "execute_result"
    }
   ],
   "source": [
    "import patsy\n",
    "dm = patsy.dmatrix('~ C(tape,Poly) + C(laser,Poly)', composite)\n",
    "np.asarray(dm).round(2)"
   ]
  },
  {
   "cell_type": "code",
   "execution_count": 14,
   "metadata": {},
   "outputs": [],
   "source": [
    "composite['Nlaser'] = np.tile([40,50,60],3)\n",
    "composite['Ntape'] = np.repeat([6.42,13,27], 3)"
   ]
  },
  {
   "cell_type": "code",
   "execution_count": 15,
   "metadata": {},
   "outputs": [
    {
     "data": {
      "text/html": [
       "<table class=\"simpletable\">\n",
       "<caption>OLS Regression Results</caption>\n",
       "<tr>\n",
       "  <th>Dep. Variable:</th>        <td>strength</td>     <th>  R-squared:         </th> <td>   0.961</td>\n",
       "</tr>\n",
       "<tr>\n",
       "  <th>Model:</th>                   <td>OLS</td>       <th>  Adj. R-squared:    </th> <td>   0.938</td>\n",
       "</tr>\n",
       "<tr>\n",
       "  <th>Method:</th>             <td>Least Squares</td>  <th>  F-statistic:       </th> <td>   41.55</td>\n",
       "</tr>\n",
       "<tr>\n",
       "  <th>Date:</th>             <td>Tue, 23 Jun 2020</td> <th>  Prob (F-statistic):</th> <td>0.000587</td>\n",
       "</tr>\n",
       "<tr>\n",
       "  <th>Time:</th>                 <td>17:12:26</td>     <th>  Log-Likelihood:    </th> <td> -13.648</td>\n",
       "</tr>\n",
       "<tr>\n",
       "  <th>No. Observations:</th>      <td>     9</td>      <th>  AIC:               </th> <td>   35.30</td>\n",
       "</tr>\n",
       "<tr>\n",
       "  <th>Df Residuals:</th>          <td>     5</td>      <th>  BIC:               </th> <td>   36.09</td>\n",
       "</tr>\n",
       "<tr>\n",
       "  <th>Df Model:</th>              <td>     3</td>      <th>                     </th>     <td> </td>   \n",
       "</tr>\n",
       "<tr>\n",
       "  <th>Covariance Type:</th>      <td>nonrobust</td>    <th>                     </th>     <td> </td>   \n",
       "</tr>\n",
       "</table>\n",
       "<table class=\"simpletable\">\n",
       "<tr>\n",
       "            <td></td>               <th>coef</th>     <th>std err</th>      <th>t</th>      <th>P>|t|</th>  <th>[0.025</th>    <th>0.975]</th>  \n",
       "</tr>\n",
       "<tr>\n",
       "  <th>Intercept</th>             <td>  -55.0499</td> <td>   13.338</td> <td>   -4.127</td> <td> 0.009</td> <td>  -89.336</td> <td>  -20.763</td>\n",
       "</tr>\n",
       "<tr>\n",
       "  <th>np.log(Ntape)</th>         <td>   46.5929</td> <td>   10.499</td> <td>    4.438</td> <td> 0.007</td> <td>   19.605</td> <td>   73.581</td>\n",
       "</tr>\n",
       "<tr>\n",
       "  <th>I(np.log(Ntape) ** 2)</th> <td>   -9.2378</td> <td>    2.028</td> <td>   -4.554</td> <td> 0.006</td> <td>  -14.452</td> <td>   -4.024</td>\n",
       "</tr>\n",
       "<tr>\n",
       "  <th>Nlaser</th>                <td>    0.6107</td> <td>    0.060</td> <td>   10.113</td> <td> 0.000</td> <td>    0.455</td> <td>    0.766</td>\n",
       "</tr>\n",
       "</table>\n",
       "<table class=\"simpletable\">\n",
       "<tr>\n",
       "  <th>Omnibus:</th>       <td> 0.659</td> <th>  Durbin-Watson:     </th> <td>   1.972</td>\n",
       "</tr>\n",
       "<tr>\n",
       "  <th>Prob(Omnibus):</th> <td> 0.719</td> <th>  Jarque-Bera (JB):  </th> <td>   0.553</td>\n",
       "</tr>\n",
       "<tr>\n",
       "  <th>Skew:</th>          <td>-0.205</td> <th>  Prob(JB):          </th> <td>   0.758</td>\n",
       "</tr>\n",
       "<tr>\n",
       "  <th>Kurtosis:</th>      <td> 1.857</td> <th>  Cond. No.          </th> <td>1.76e+03</td>\n",
       "</tr>\n",
       "</table><br/><br/>Warnings:<br/>[1] Standard Errors assume that the covariance matrix of the errors is correctly specified.<br/>[2] The condition number is large, 1.76e+03. This might indicate that there are<br/>strong multicollinearity or other numerical problems."
      ],
      "text/plain": [
       "<class 'statsmodels.iolib.summary.Summary'>\n",
       "\"\"\"\n",
       "                            OLS Regression Results                            \n",
       "==============================================================================\n",
       "Dep. Variable:               strength   R-squared:                       0.961\n",
       "Model:                            OLS   Adj. R-squared:                  0.938\n",
       "Method:                 Least Squares   F-statistic:                     41.55\n",
       "Date:                Tue, 23 Jun 2020   Prob (F-statistic):           0.000587\n",
       "Time:                        17:12:26   Log-Likelihood:                -13.648\n",
       "No. Observations:                   9   AIC:                             35.30\n",
       "Df Residuals:                       5   BIC:                             36.09\n",
       "Df Model:                           3                                         \n",
       "Covariance Type:            nonrobust                                         \n",
       "=========================================================================================\n",
       "                            coef    std err          t      P>|t|      [0.025      0.975]\n",
       "-----------------------------------------------------------------------------------------\n",
       "Intercept               -55.0499     13.338     -4.127      0.009     -89.336     -20.763\n",
       "np.log(Ntape)            46.5929     10.499      4.438      0.007      19.605      73.581\n",
       "I(np.log(Ntape) ** 2)    -9.2378      2.028     -4.554      0.006     -14.452      -4.024\n",
       "Nlaser                    0.6107      0.060     10.113      0.000       0.455       0.766\n",
       "==============================================================================\n",
       "Omnibus:                        0.659   Durbin-Watson:                   1.972\n",
       "Prob(Omnibus):                  0.719   Jarque-Bera (JB):                0.553\n",
       "Skew:                          -0.205   Prob(JB):                        0.758\n",
       "Kurtosis:                       1.857   Cond. No.                     1.76e+03\n",
       "==============================================================================\n",
       "\n",
       "Warnings:\n",
       "[1] Standard Errors assume that the covariance matrix of the errors is correctly specified.\n",
       "[2] The condition number is large, 1.76e+03. This might indicate that there are\n",
       "strong multicollinearity or other numerical problems.\n",
       "\"\"\""
      ]
     },
     "execution_count": 15,
     "metadata": {},
     "output_type": "execute_result"
    }
   ],
   "source": [
    "%%capture --no-display\n",
    "lmodn = smf.ols(\"strength ~ np.log(Ntape) + I(np.log(Ntape)**2) + Nlaser\", composite).fit()\n",
    "lmodn.summary()"
   ]
  },
  {
   "cell_type": "markdown",
   "metadata": {},
   "source": [
    "# Two factors with replication\n",
    "\n",
    "Read in the data while making sure the predictors are treated as categorical variables:"
   ]
  },
  {
   "cell_type": "code",
   "execution_count": 16,
   "metadata": {},
   "outputs": [
    {
     "data": {
      "text/html": [
       "<div>\n",
       "<style scoped>\n",
       "    .dataframe tbody tr th:only-of-type {\n",
       "        vertical-align: middle;\n",
       "    }\n",
       "\n",
       "    .dataframe tbody tr th {\n",
       "        vertical-align: top;\n",
       "    }\n",
       "\n",
       "    .dataframe thead th {\n",
       "        text-align: right;\n",
       "    }\n",
       "</style>\n",
       "<table border=\"1\" class=\"dataframe\">\n",
       "  <thead>\n",
       "    <tr style=\"text-align: right;\">\n",
       "      <th></th>\n",
       "      <th>psize</th>\n",
       "      <th>operator</th>\n",
       "      <th>resin</th>\n",
       "    </tr>\n",
       "  </thead>\n",
       "  <tbody>\n",
       "    <tr>\n",
       "      <th>1</th>\n",
       "      <td>36.2</td>\n",
       "      <td>1</td>\n",
       "      <td>1</td>\n",
       "    </tr>\n",
       "    <tr>\n",
       "      <th>2</th>\n",
       "      <td>36.3</td>\n",
       "      <td>1</td>\n",
       "      <td>1</td>\n",
       "    </tr>\n",
       "    <tr>\n",
       "      <th>3</th>\n",
       "      <td>35.3</td>\n",
       "      <td>1</td>\n",
       "      <td>2</td>\n",
       "    </tr>\n",
       "    <tr>\n",
       "      <th>4</th>\n",
       "      <td>35.0</td>\n",
       "      <td>1</td>\n",
       "      <td>2</td>\n",
       "    </tr>\n",
       "    <tr>\n",
       "      <th>5</th>\n",
       "      <td>30.8</td>\n",
       "      <td>1</td>\n",
       "      <td>3</td>\n",
       "    </tr>\n",
       "  </tbody>\n",
       "</table>\n",
       "</div>"
      ],
      "text/plain": [
       "   psize operator resin\n",
       "1   36.2        1     1\n",
       "2   36.3        1     1\n",
       "3   35.3        1     2\n",
       "4   35.0        1     2\n",
       "5   30.8        1     3"
      ]
     },
     "execution_count": 16,
     "metadata": {},
     "output_type": "execute_result"
    }
   ],
   "source": [
    "pvc = pd.read_csv(\"data/pvc.csv\", index_col=0, dtype={'psize':'float','operator':'category','resin':'category'})\n",
    "pvc.head()"
   ]
  },
  {
   "cell_type": "markdown",
   "metadata": {},
   "source": [
    "Compute the group means"
   ]
  },
  {
   "cell_type": "code",
   "execution_count": 17,
   "metadata": {},
   "outputs": [
    {
     "data": {
      "text/html": [
       "<div>\n",
       "<style scoped>\n",
       "    .dataframe tbody tr th:only-of-type {\n",
       "        vertical-align: middle;\n",
       "    }\n",
       "\n",
       "    .dataframe tbody tr th {\n",
       "        vertical-align: top;\n",
       "    }\n",
       "\n",
       "    .dataframe thead th {\n",
       "        text-align: right;\n",
       "    }\n",
       "</style>\n",
       "<table border=\"1\" class=\"dataframe\">\n",
       "  <thead>\n",
       "    <tr style=\"text-align: right;\">\n",
       "      <th></th>\n",
       "      <th>psize</th>\n",
       "    </tr>\n",
       "    <tr>\n",
       "      <th>operator</th>\n",
       "      <th></th>\n",
       "    </tr>\n",
       "  </thead>\n",
       "  <tbody>\n",
       "    <tr>\n",
       "      <th>1</th>\n",
       "      <td>32.94375</td>\n",
       "    </tr>\n",
       "    <tr>\n",
       "      <th>2</th>\n",
       "      <td>32.68125</td>\n",
       "    </tr>\n",
       "    <tr>\n",
       "      <th>3</th>\n",
       "      <td>31.43750</td>\n",
       "    </tr>\n",
       "  </tbody>\n",
       "</table>\n",
       "</div>"
      ],
      "text/plain": [
       "             psize\n",
       "operator          \n",
       "1         32.94375\n",
       "2         32.68125\n",
       "3         31.43750"
      ]
     },
     "execution_count": 17,
     "metadata": {},
     "output_type": "execute_result"
    }
   ],
   "source": [
    "pvc.groupby('operator')[['psize']].mean()"
   ]
  },
  {
   "cell_type": "code",
   "execution_count": 18,
   "metadata": {},
   "outputs": [
    {
     "data": {
      "text/plain": [
       "<seaborn.axisgrid.FacetGrid at 0x260bcaeaa48>"
      ]
     },
     "execution_count": 18,
     "metadata": {},
     "output_type": "execute_result"
    },
    {
     "data": {
      "image/png": "[encoded data removed]",
      "text/plain": [
       "<Figure size 410.625x360 with 1 Axes>"
      ]
     },
     "metadata": {
      "needs_background": "light"
     },
     "output_type": "display_data"
    }
   ],
   "source": [
    "sns.catplot(x='resin',y='psize',hue='operator', data=pvc, kind=\"point\",ci=None)"
   ]
  },
  {
   "cell_type": "code",
   "execution_count": 19,
   "metadata": {},
   "outputs": [
    {
     "data": {
      "image/png": "[encoded data removed]",
      "text/plain": [
       "<Figure size 402.375x360 with 1 Axes>"
      ]
     },
     "metadata": {
      "needs_background": "light"
     },
     "output_type": "display_data"
    }
   ],
   "source": [
    "ax = sns.catplot(x='operator',y='psize',hue='resin', data=pvc, ci=None,scale=0.5,kind=\"point\")\n",
    "ax = sns.swarmplot(x='operator',y='psize',hue='resin', data=pvc)\n",
    "ax.legend_.remove()"
   ]
  },
  {
   "cell_type": "markdown",
   "metadata": {},
   "source": [
    "Create the ANOVA table"
   ]
  },
  {
   "cell_type": "code",
   "execution_count": 20,
   "metadata": {},
   "outputs": [
    {
     "data": {
      "text/html": [
       "<div>\n",
       "<style scoped>\n",
       "    .dataframe tbody tr th:only-of-type {\n",
       "        vertical-align: middle;\n",
       "    }\n",
       "\n",
       "    .dataframe tbody tr th {\n",
       "        vertical-align: top;\n",
       "    }\n",
       "\n",
       "    .dataframe thead th {\n",
       "        text-align: right;\n",
       "    }\n",
       "</style>\n",
       "<table border=\"1\" class=\"dataframe\">\n",
       "  <thead>\n",
       "    <tr style=\"text-align: right;\">\n",
       "      <th></th>\n",
       "      <th>df</th>\n",
       "      <th>sum_sq</th>\n",
       "      <th>mean_sq</th>\n",
       "      <th>F</th>\n",
       "      <th>PR(&gt;F)</th>\n",
       "    </tr>\n",
       "  </thead>\n",
       "  <tbody>\n",
       "    <tr>\n",
       "      <th>operator</th>\n",
       "      <td>2.0</td>\n",
       "      <td>20.718</td>\n",
       "      <td>10.359</td>\n",
       "      <td>7.007</td>\n",
       "      <td>0.004</td>\n",
       "    </tr>\n",
       "    <tr>\n",
       "      <th>resin</th>\n",
       "      <td>7.0</td>\n",
       "      <td>283.946</td>\n",
       "      <td>40.564</td>\n",
       "      <td>27.439</td>\n",
       "      <td>0.000</td>\n",
       "    </tr>\n",
       "    <tr>\n",
       "      <th>operator:resin</th>\n",
       "      <td>14.0</td>\n",
       "      <td>14.335</td>\n",
       "      <td>1.024</td>\n",
       "      <td>0.693</td>\n",
       "      <td>0.760</td>\n",
       "    </tr>\n",
       "    <tr>\n",
       "      <th>Residual</th>\n",
       "      <td>24.0</td>\n",
       "      <td>35.480</td>\n",
       "      <td>1.478</td>\n",
       "      <td>NaN</td>\n",
       "      <td>NaN</td>\n",
       "    </tr>\n",
       "  </tbody>\n",
       "</table>\n",
       "</div>"
      ],
      "text/plain": [
       "                  df   sum_sq  mean_sq       F  PR(>F)\n",
       "operator         2.0   20.718   10.359   7.007   0.004\n",
       "resin            7.0  283.946   40.564  27.439   0.000\n",
       "operator:resin  14.0   14.335    1.024   0.693   0.760\n",
       "Residual        24.0   35.480    1.478     NaN     NaN"
      ]
     },
     "execution_count": 20,
     "metadata": {},
     "output_type": "execute_result"
    }
   ],
   "source": [
    "lmod = smf.ols('psize ~ operator*resin', pvc).fit()\n",
    "sm.stats.anova_lm(lmod).round(3)"
   ]
  },
  {
   "cell_type": "markdown",
   "metadata": {},
   "source": [
    "Now remove the interaction term:"
   ]
  },
  {
   "cell_type": "code",
   "execution_count": 21,
   "metadata": {},
   "outputs": [
    {
     "data": {
      "text/html": [
       "<div>\n",
       "<style scoped>\n",
       "    .dataframe tbody tr th:only-of-type {\n",
       "        vertical-align: middle;\n",
       "    }\n",
       "\n",
       "    .dataframe tbody tr th {\n",
       "        vertical-align: top;\n",
       "    }\n",
       "\n",
       "    .dataframe thead th {\n",
       "        text-align: right;\n",
       "    }\n",
       "</style>\n",
       "<table border=\"1\" class=\"dataframe\">\n",
       "  <thead>\n",
       "    <tr style=\"text-align: right;\">\n",
       "      <th></th>\n",
       "      <th>df</th>\n",
       "      <th>sum_sq</th>\n",
       "      <th>mean_sq</th>\n",
       "      <th>F</th>\n",
       "      <th>PR(&gt;F)</th>\n",
       "    </tr>\n",
       "  </thead>\n",
       "  <tbody>\n",
       "    <tr>\n",
       "      <th>operator</th>\n",
       "      <td>2.0</td>\n",
       "      <td>20.718</td>\n",
       "      <td>10.359</td>\n",
       "      <td>7.902</td>\n",
       "      <td>0.001</td>\n",
       "    </tr>\n",
       "    <tr>\n",
       "      <th>resin</th>\n",
       "      <td>7.0</td>\n",
       "      <td>283.946</td>\n",
       "      <td>40.564</td>\n",
       "      <td>30.943</td>\n",
       "      <td>0.000</td>\n",
       "    </tr>\n",
       "    <tr>\n",
       "      <th>Residual</th>\n",
       "      <td>38.0</td>\n",
       "      <td>49.815</td>\n",
       "      <td>1.311</td>\n",
       "      <td>NaN</td>\n",
       "      <td>NaN</td>\n",
       "    </tr>\n",
       "  </tbody>\n",
       "</table>\n",
       "</div>"
      ],
      "text/plain": [
       "            df   sum_sq  mean_sq       F  PR(>F)\n",
       "operator   2.0   20.718   10.359   7.902   0.001\n",
       "resin      7.0  283.946   40.564  30.943   0.000\n",
       "Residual  38.0   49.815    1.311     NaN     NaN"
      ]
     },
     "execution_count": 21,
     "metadata": {},
     "output_type": "execute_result"
    }
   ],
   "source": [
    "lmod = smf.ols('psize ~ operator+resin', pvc).fit()\n",
    "sm.stats.anova_lm(lmod).round(3)"
   ]
  },
  {
   "cell_type": "markdown",
   "metadata": {},
   "source": [
    "Make the diagnostic plots:"
   ]
  },
  {
   "cell_type": "code",
   "execution_count": 22,
   "metadata": {},
   "outputs": [
    {
     "data": {
      "image/png": "[encoded data removed]",
      "text/plain": [
       "<Figure size 432x288 with 1 Axes>"
      ]
     },
     "metadata": {
      "needs_background": "light"
     },
     "output_type": "display_data"
    }
   ],
   "source": [
    "fig = sm.qqplot(lmod.resid, line=\"q\")"
   ]
  },
  {
   "cell_type": "code",
   "execution_count": 23,
   "metadata": {},
   "outputs": [
    {
     "data": {
      "image/png": "[encoded data removed]",
      "text/plain": [
       "<Figure size 432x288 with 1 Axes>"
      ]
     },
     "metadata": {
      "needs_background": "light"
     },
     "output_type": "display_data"
    }
   ],
   "source": [
    "sns.residplot(lmod.fittedvalues, lmod.resid)\n",
    "plt.xlabel(\"Fitted values\")\n",
    "plt.ylabel(\"Residuals\")\n",
    "plt.show()"
   ]
  },
  {
   "cell_type": "code",
   "execution_count": 24,
   "metadata": {},
   "outputs": [
    {
     "data": {
      "image/png": "[encoded data removed]",
      "text/plain": [
       "<Figure size 432x288 with 1 Axes>"
      ]
     },
     "metadata": {
      "needs_background": "light"
     },
     "output_type": "display_data"
    }
   ],
   "source": [
    "sns.swarmplot(pvc['operator'], lmod.resid)\n",
    "plt.axhline(0)\n",
    "plt.xlabel(\"Operator\")\n",
    "plt.ylabel(\"Residuals\")\n",
    "plt.show()"
   ]
  },
  {
   "cell_type": "markdown",
   "metadata": {},
   "source": [
    "Test for equality of variance:"
   ]
  },
  {
   "cell_type": "code",
   "execution_count": 25,
   "metadata": {},
   "outputs": [
    {
     "data": {
      "text/html": [
       "<div>\n",
       "<style scoped>\n",
       "    .dataframe tbody tr th:only-of-type {\n",
       "        vertical-align: middle;\n",
       "    }\n",
       "\n",
       "    .dataframe tbody tr th {\n",
       "        vertical-align: top;\n",
       "    }\n",
       "\n",
       "    .dataframe thead th {\n",
       "        text-align: right;\n",
       "    }\n",
       "</style>\n",
       "<table border=\"1\" class=\"dataframe\">\n",
       "  <thead>\n",
       "    <tr style=\"text-align: right;\">\n",
       "      <th></th>\n",
       "      <th>sum_sq</th>\n",
       "      <th>df</th>\n",
       "      <th>F</th>\n",
       "      <th>PR(&gt;F)</th>\n",
       "    </tr>\n",
       "  </thead>\n",
       "  <tbody>\n",
       "    <tr>\n",
       "      <th>Intercept</th>\n",
       "      <td>0.263</td>\n",
       "      <td>1.0</td>\n",
       "      <td>5.326</td>\n",
       "      <td>0.037</td>\n",
       "    </tr>\n",
       "    <tr>\n",
       "      <th>operator</th>\n",
       "      <td>1.490</td>\n",
       "      <td>2.0</td>\n",
       "      <td>15.117</td>\n",
       "      <td>0.000</td>\n",
       "    </tr>\n",
       "    <tr>\n",
       "      <th>resin</th>\n",
       "      <td>0.638</td>\n",
       "      <td>7.0</td>\n",
       "      <td>1.848</td>\n",
       "      <td>0.155</td>\n",
       "    </tr>\n",
       "    <tr>\n",
       "      <th>Residual</th>\n",
       "      <td>0.690</td>\n",
       "      <td>14.0</td>\n",
       "      <td>NaN</td>\n",
       "      <td>NaN</td>\n",
       "    </tr>\n",
       "  </tbody>\n",
       "</table>\n",
       "</div>"
      ],
      "text/plain": [
       "           sum_sq    df       F  PR(>F)\n",
       "Intercept   0.263   1.0   5.326   0.037\n",
       "operator    1.490   2.0  15.117   0.000\n",
       "resin       0.638   7.0   1.848   0.155\n",
       "Residual    0.690  14.0     NaN     NaN"
      ]
     },
     "execution_count": 25,
     "metadata": {},
     "output_type": "execute_result"
    }
   ],
   "source": [
    "lmod = smf.ols('psize ~ operator*resin', pvc).fit()\n",
    "ii = np.arange(0,48,2)\n",
    "pvce = pvc.iloc[ii,:].copy()\n",
    "pvce['res'] = np.sqrt(abs(lmod.resid.loc[ii+1]))\n",
    "vmod = smf.ols('res ~ operator+resin', pvce).fit()\n",
    "sm.stats.anova_lm(vmod,typ=3).round(3)"
   ]
  },
  {
   "cell_type": "code",
   "execution_count": 26,
   "metadata": {},
   "outputs": [
    {
     "data": {
      "text/html": [
       "<table class=\"simpletable\">\n",
       "<caption>OLS Regression Results</caption>\n",
       "<tr>\n",
       "  <th>Dep. Variable:</th>          <td>psize</td>      <th>  R-squared:         </th> <td>   0.859</td>\n",
       "</tr>\n",
       "<tr>\n",
       "  <th>Model:</th>                   <td>OLS</td>       <th>  Adj. R-squared:    </th> <td>   0.826</td>\n",
       "</tr>\n",
       "<tr>\n",
       "  <th>Method:</th>             <td>Least Squares</td>  <th>  F-statistic:       </th> <td>   25.82</td>\n",
       "</tr>\n",
       "<tr>\n",
       "  <th>Date:</th>             <td>Tue, 23 Jun 2020</td> <th>  Prob (F-statistic):</th> <td>1.47e-13</td>\n",
       "</tr>\n",
       "<tr>\n",
       "  <th>Time:</th>                 <td>17:12:28</td>     <th>  Log-Likelihood:    </th> <td> -69.000</td>\n",
       "</tr>\n",
       "<tr>\n",
       "  <th>No. Observations:</th>      <td>    48</td>      <th>  AIC:               </th> <td>   158.0</td>\n",
       "</tr>\n",
       "<tr>\n",
       "  <th>Df Residuals:</th>          <td>    38</td>      <th>  BIC:               </th> <td>   176.7</td>\n",
       "</tr>\n",
       "<tr>\n",
       "  <th>Df Model:</th>              <td>     9</td>      <th>                     </th>     <td> </td>   \n",
       "</tr>\n",
       "<tr>\n",
       "  <th>Covariance Type:</th>      <td>nonrobust</td>    <th>                     </th>     <td> </td>   \n",
       "</tr>\n",
       "</table>\n",
       "<table class=\"simpletable\">\n",
       "<tr>\n",
       "        <td></td>           <th>coef</th>     <th>std err</th>      <th>t</th>      <th>P>|t|</th>  <th>[0.025</th>    <th>0.975]</th>  \n",
       "</tr>\n",
       "<tr>\n",
       "  <th>Intercept</th>     <td>   36.2396</td> <td>    0.523</td> <td>   69.345</td> <td> 0.000</td> <td>   35.182</td> <td>   37.298</td>\n",
       "</tr>\n",
       "<tr>\n",
       "  <th>operator[T.2]</th> <td>   -0.2625</td> <td>    0.405</td> <td>   -0.648</td> <td> 0.521</td> <td>   -1.082</td> <td>    0.557</td>\n",
       "</tr>\n",
       "<tr>\n",
       "  <th>operator[T.3]</th> <td>   -1.5063</td> <td>    0.405</td> <td>   -3.721</td> <td> 0.001</td> <td>   -2.326</td> <td>   -0.687</td>\n",
       "</tr>\n",
       "<tr>\n",
       "  <th>resin[T.2]</th>    <td>   -1.0333</td> <td>    0.661</td> <td>   -1.563</td> <td> 0.126</td> <td>   -2.372</td> <td>    0.305</td>\n",
       "</tr>\n",
       "<tr>\n",
       "  <th>resin[T.3]</th>    <td>   -5.8000</td> <td>    0.661</td> <td>   -8.774</td> <td> 0.000</td> <td>   -7.138</td> <td>   -4.462</td>\n",
       "</tr>\n",
       "<tr>\n",
       "  <th>resin[T.4]</th>    <td>   -6.1833</td> <td>    0.661</td> <td>   -9.354</td> <td> 0.000</td> <td>   -7.522</td> <td>   -4.845</td>\n",
       "</tr>\n",
       "<tr>\n",
       "  <th>resin[T.5]</th>    <td>   -4.8000</td> <td>    0.661</td> <td>   -7.261</td> <td> 0.000</td> <td>   -6.138</td> <td>   -3.462</td>\n",
       "</tr>\n",
       "<tr>\n",
       "  <th>resin[T.6]</th>    <td>   -5.4500</td> <td>    0.661</td> <td>   -8.245</td> <td> 0.000</td> <td>   -6.788</td> <td>   -4.112</td>\n",
       "</tr>\n",
       "<tr>\n",
       "  <th>resin[T.7]</th>    <td>   -2.9167</td> <td>    0.661</td> <td>   -4.412</td> <td> 0.000</td> <td>   -4.255</td> <td>   -1.578</td>\n",
       "</tr>\n",
       "<tr>\n",
       "  <th>resin[T.8]</th>    <td>   -0.1833</td> <td>    0.661</td> <td>   -0.277</td> <td> 0.783</td> <td>   -1.522</td> <td>    1.155</td>\n",
       "</tr>\n",
       "</table>\n",
       "<table class=\"simpletable\">\n",
       "<tr>\n",
       "  <th>Omnibus:</th>       <td>13.065</td> <th>  Durbin-Watson:     </th> <td>   2.517</td>\n",
       "</tr>\n",
       "<tr>\n",
       "  <th>Prob(Omnibus):</th> <td> 0.001</td> <th>  Jarque-Bera (JB):  </th> <td>  17.339</td>\n",
       "</tr>\n",
       "<tr>\n",
       "  <th>Skew:</th>          <td> 0.885</td> <th>  Prob(JB):          </th> <td>0.000172</td>\n",
       "</tr>\n",
       "<tr>\n",
       "  <th>Kurtosis:</th>      <td> 5.353</td> <th>  Cond. No.          </th> <td>    9.82</td>\n",
       "</tr>\n",
       "</table><br/><br/>Warnings:<br/>[1] Standard Errors assume that the covariance matrix of the errors is correctly specified."
      ],
      "text/plain": [
       "<class 'statsmodels.iolib.summary.Summary'>\n",
       "\"\"\"\n",
       "                            OLS Regression Results                            \n",
       "==============================================================================\n",
       "Dep. Variable:                  psize   R-squared:                       0.859\n",
       "Model:                            OLS   Adj. R-squared:                  0.826\n",
       "Method:                 Least Squares   F-statistic:                     25.82\n",
       "Date:                Tue, 23 Jun 2020   Prob (F-statistic):           1.47e-13\n",
       "Time:                        17:12:28   Log-Likelihood:                -69.000\n",
       "No. Observations:                  48   AIC:                             158.0\n",
       "Df Residuals:                      38   BIC:                             176.7\n",
       "Df Model:                           9                                         \n",
       "Covariance Type:            nonrobust                                         \n",
       "=================================================================================\n",
       "                    coef    std err          t      P>|t|      [0.025      0.975]\n",
       "---------------------------------------------------------------------------------\n",
       "Intercept        36.2396      0.523     69.345      0.000      35.182      37.298\n",
       "operator[T.2]    -0.2625      0.405     -0.648      0.521      -1.082       0.557\n",
       "operator[T.3]    -1.5063      0.405     -3.721      0.001      -2.326      -0.687\n",
       "resin[T.2]       -1.0333      0.661     -1.563      0.126      -2.372       0.305\n",
       "resin[T.3]       -5.8000      0.661     -8.774      0.000      -7.138      -4.462\n",
       "resin[T.4]       -6.1833      0.661     -9.354      0.000      -7.522      -4.845\n",
       "resin[T.5]       -4.8000      0.661     -7.261      0.000      -6.138      -3.462\n",
       "resin[T.6]       -5.4500      0.661     -8.245      0.000      -6.788      -4.112\n",
       "resin[T.7]       -2.9167      0.661     -4.412      0.000      -4.255      -1.578\n",
       "resin[T.8]       -0.1833      0.661     -0.277      0.783      -1.522       1.155\n",
       "==============================================================================\n",
       "Omnibus:                       13.065   Durbin-Watson:                   2.517\n",
       "Prob(Omnibus):                  0.001   Jarque-Bera (JB):               17.339\n",
       "Skew:                           0.885   Prob(JB):                     0.000172\n",
       "Kurtosis:                       5.353   Cond. No.                         9.82\n",
       "==============================================================================\n",
       "\n",
       "Warnings:\n",
       "[1] Standard Errors assume that the covariance matrix of the errors is correctly specified.\n",
       "\"\"\""
      ]
     },
     "execution_count": 26,
     "metadata": {},
     "output_type": "execute_result"
    }
   ],
   "source": [
    "lmod = smf.ols('psize ~ operator+resin', pvc).fit()\n",
    "lmod.summary()"
   ]
  },
  {
   "cell_type": "markdown",
   "metadata": {},
   "source": [
    "Get the Tukey critical value:"
   ]
  },
  {
   "cell_type": "code",
   "execution_count": 27,
   "metadata": {},
   "outputs": [
    {
     "data": {
      "text/plain": [
       "array(3.45)"
      ]
     },
     "execution_count": 27,
     "metadata": {},
     "output_type": "execute_result"
    }
   ],
   "source": [
    "from statsmodels.sandbox.stats.multicomp import get_tukeyQcrit\n",
    "get_tukeyQcrit(3,38)"
   ]
  },
  {
   "cell_type": "markdown",
   "metadata": {},
   "source": [
    "Get the first pairwise difference:"
   ]
  },
  {
   "cell_type": "code",
   "execution_count": 28,
   "metadata": {},
   "outputs": [
    {
     "data": {
      "text/plain": [
       "array([-1.25002748,  0.72502748])"
      ]
     },
     "execution_count": 28,
     "metadata": {},
     "output_type": "execute_result"
    }
   ],
   "source": [
    "lmod.params[1] + np.array([-1,1]) * get_tukeyQcrit(3,38) * lmod.bse[1] / np.sqrt(2)"
   ]
  },
  {
   "cell_type": "markdown",
   "metadata": {},
   "source": [
    "# Two factors with an interaction"
   ]
  },
  {
   "cell_type": "markdown",
   "metadata": {},
   "source": [
    "Read in the data:"
   ]
  },
  {
   "cell_type": "code",
   "execution_count": 29,
   "metadata": {},
   "outputs": [
    {
     "data": {
      "text/html": [
       "<div>\n",
       "<style scoped>\n",
       "    .dataframe tbody tr th:only-of-type {\n",
       "        vertical-align: middle;\n",
       "    }\n",
       "\n",
       "    .dataframe tbody tr th {\n",
       "        vertical-align: top;\n",
       "    }\n",
       "\n",
       "    .dataframe thead th {\n",
       "        text-align: right;\n",
       "    }\n",
       "</style>\n",
       "<table border=\"1\" class=\"dataframe\">\n",
       "  <thead>\n",
       "    <tr style=\"text-align: right;\">\n",
       "      <th></th>\n",
       "      <th>breaks</th>\n",
       "      <th>wool</th>\n",
       "      <th>tension</th>\n",
       "    </tr>\n",
       "  </thead>\n",
       "  <tbody>\n",
       "    <tr>\n",
       "      <th>1</th>\n",
       "      <td>26</td>\n",
       "      <td>A</td>\n",
       "      <td>L</td>\n",
       "    </tr>\n",
       "    <tr>\n",
       "      <th>2</th>\n",
       "      <td>30</td>\n",
       "      <td>A</td>\n",
       "      <td>L</td>\n",
       "    </tr>\n",
       "    <tr>\n",
       "      <th>3</th>\n",
       "      <td>54</td>\n",
       "      <td>A</td>\n",
       "      <td>L</td>\n",
       "    </tr>\n",
       "    <tr>\n",
       "      <th>4</th>\n",
       "      <td>25</td>\n",
       "      <td>A</td>\n",
       "      <td>L</td>\n",
       "    </tr>\n",
       "    <tr>\n",
       "      <th>5</th>\n",
       "      <td>70</td>\n",
       "      <td>A</td>\n",
       "      <td>L</td>\n",
       "    </tr>\n",
       "  </tbody>\n",
       "</table>\n",
       "</div>"
      ],
      "text/plain": [
       "   breaks wool tension\n",
       "1      26    A       L\n",
       "2      30    A       L\n",
       "3      54    A       L\n",
       "4      25    A       L\n",
       "5      70    A       L"
      ]
     },
     "execution_count": 29,
     "metadata": {},
     "output_type": "execute_result"
    }
   ],
   "source": [
    "warpbreaks = pd.read_csv(\"data/warpbreaks.csv\", index_col=0, dtype={'breaks':'int','wool':'category','tension':'category'})\n",
    "warpbreaks.head()"
   ]
  },
  {
   "cell_type": "code",
   "execution_count": 30,
   "metadata": {},
   "outputs": [
    {
     "data": {
      "image/png": "[encoded data removed]",
      "text/plain": [
       "<Figure size 432x288 with 1 Axes>"
      ]
     },
     "metadata": {
      "needs_background": "light"
     },
     "output_type": "display_data"
    }
   ],
   "source": [
    "sns.boxplot(x=\"wool\", y=\"breaks\", data=warpbreaks)\n",
    "plt.show()"
   ]
  },
  {
   "cell_type": "code",
   "execution_count": 31,
   "metadata": {},
   "outputs": [
    {
     "data": {
      "text/plain": [
       "<seaborn.axisgrid.FacetGrid at 0x260be92cf48>"
      ]
     },
     "execution_count": 31,
     "metadata": {},
     "output_type": "execute_result"
    },
    {
     "data": {
      "image/png": "[encoded data removed]",
      "text/plain": [
       "<Figure size 404.875x360 with 1 Axes>"
      ]
     },
     "metadata": {
      "needs_background": "light"
     },
     "output_type": "display_data"
    }
   ],
   "source": [
    "sns.catplot(x='wool',y='breaks',hue='tension', data=warpbreaks, ci=None,kind=\"point\")"
   ]
  },
  {
   "cell_type": "code",
   "execution_count": 32,
   "metadata": {},
   "outputs": [],
   "source": [
    "warpbreaks['nwool'] = warpbreaks['wool'].cat.codes"
   ]
  },
  {
   "cell_type": "code",
   "execution_count": 33,
   "metadata": {},
   "outputs": [
    {
     "data": {
      "image/png": "[encoded data removed]",
      "text/plain": [
       "<Figure size 404.875x360 with 1 Axes>"
      ]
     },
     "metadata": {
      "needs_background": "light"
     },
     "output_type": "display_data"
    }
   ],
   "source": [
    "ax = sns.catplot(x='wool',y='breaks',hue='tension', data=warpbreaks, ci=None,kind=\"point\")\n",
    "ax = sns.swarmplot(x='wool',y='breaks',hue='tension', data=warpbreaks)\n",
    "ax.legend_.remove()"
   ]
  },
  {
   "cell_type": "code",
   "execution_count": 34,
   "metadata": {},
   "outputs": [
    {
     "data": {
      "image/png": "[encoded data removed]",
      "text/plain": [
       "<Figure size 402.875x360 with 1 Axes>"
      ]
     },
     "metadata": {
      "needs_background": "light"
     },
     "output_type": "display_data"
    }
   ],
   "source": [
    "ax = sns.catplot(x='tension',y='breaks',hue='wool', data=warpbreaks, ci=None, kind=\"point\")\n",
    "ax = sns.swarmplot(x='tension',y='breaks',hue='wool', data=warpbreaks)\n",
    "ax.legend_.remove()"
   ]
  },
  {
   "cell_type": "code",
   "execution_count": 35,
   "metadata": {},
   "outputs": [
    {
     "data": {
      "text/plain": [
       "Text(0, 0.5, 'Residuals')"
      ]
     },
     "execution_count": 35,
     "metadata": {},
     "output_type": "execute_result"
    },
    {
     "data": {
      "image/png": "[encoded data removed]",
      "text/plain": [
       "<Figure size 432x288 with 1 Axes>"
      ]
     },
     "metadata": {
      "needs_background": "light"
     },
     "output_type": "display_data"
    }
   ],
   "source": [
    "lmod = smf.ols('breaks ~ wool * tension', warpbreaks).fit()\n",
    "sns.regplot(lmod.fittedvalues, lmod.resid,scatter_kws={'alpha':0.3}, ci=None)\n",
    "plt.xlabel(\"Fitted values\")\n",
    "plt.ylabel(\"Residuals\")"
   ]
  },
  {
   "cell_type": "code",
   "execution_count": 36,
   "metadata": {},
   "outputs": [
    {
     "data": {
      "text/plain": [
       "Text(0, 0.5, 'Residuals')"
      ]
     },
     "execution_count": 36,
     "metadata": {},
     "output_type": "execute_result"
    },
    {
     "data": {
      "image/png": "[encoded data removed]",
      "text/plain": [
       "<Figure size 432x288 with 1 Axes>"
      ]
     },
     "metadata": {
      "needs_background": "light"
     },
     "output_type": "display_data"
    }
   ],
   "source": [
    "lmod = smf.ols('np.sqrt(breaks) ~ wool * tension', warpbreaks).fit()\n",
    "sns.regplot(lmod.fittedvalues, lmod.resid,scatter_kws={'alpha':0.3}, ci=None)\n",
    "plt.xlabel(\"Fitted values\")\n",
    "plt.ylabel(\"Residuals\")"
   ]
  },
  {
   "cell_type": "code",
   "execution_count": 37,
   "metadata": {},
   "outputs": [
    {
     "data": {
      "text/html": [
       "<div>\n",
       "<style scoped>\n",
       "    .dataframe tbody tr th:only-of-type {\n",
       "        vertical-align: middle;\n",
       "    }\n",
       "\n",
       "    .dataframe tbody tr th {\n",
       "        vertical-align: top;\n",
       "    }\n",
       "\n",
       "    .dataframe thead th {\n",
       "        text-align: right;\n",
       "    }\n",
       "</style>\n",
       "<table border=\"1\" class=\"dataframe\">\n",
       "  <thead>\n",
       "    <tr style=\"text-align: right;\">\n",
       "      <th></th>\n",
       "      <th>df</th>\n",
       "      <th>sum_sq</th>\n",
       "      <th>mean_sq</th>\n",
       "      <th>F</th>\n",
       "      <th>PR(&gt;F)</th>\n",
       "    </tr>\n",
       "  </thead>\n",
       "  <tbody>\n",
       "    <tr>\n",
       "      <th>wool</th>\n",
       "      <td>1.0</td>\n",
       "      <td>2.901924</td>\n",
       "      <td>2.901924</td>\n",
       "      <td>3.022232</td>\n",
       "      <td>0.088542</td>\n",
       "    </tr>\n",
       "    <tr>\n",
       "      <th>tension</th>\n",
       "      <td>2.0</td>\n",
       "      <td>15.891615</td>\n",
       "      <td>7.945807</td>\n",
       "      <td>8.275225</td>\n",
       "      <td>0.000817</td>\n",
       "    </tr>\n",
       "    <tr>\n",
       "      <th>wool:tension</th>\n",
       "      <td>2.0</td>\n",
       "      <td>7.201396</td>\n",
       "      <td>3.600698</td>\n",
       "      <td>3.749976</td>\n",
       "      <td>0.030674</td>\n",
       "    </tr>\n",
       "    <tr>\n",
       "      <th>Residual</th>\n",
       "      <td>48.0</td>\n",
       "      <td>46.089229</td>\n",
       "      <td>0.960192</td>\n",
       "      <td>NaN</td>\n",
       "      <td>NaN</td>\n",
       "    </tr>\n",
       "  </tbody>\n",
       "</table>\n",
       "</div>"
      ],
      "text/plain": [
       "                df     sum_sq   mean_sq         F    PR(>F)\n",
       "wool           1.0   2.901924  2.901924  3.022232  0.088542\n",
       "tension        2.0  15.891615  7.945807  8.275225  0.000817\n",
       "wool:tension   2.0   7.201396  3.600698  3.749976  0.030674\n",
       "Residual      48.0  46.089229  0.960192       NaN       NaN"
      ]
     },
     "execution_count": 37,
     "metadata": {},
     "output_type": "execute_result"
    }
   ],
   "source": [
    "sm.stats.anova_lm(lmod)"
   ]
  },
  {
   "cell_type": "code",
   "execution_count": 38,
   "metadata": {},
   "outputs": [
    {
     "data": {
      "text/html": [
       "<table class=\"simpletable\">\n",
       "<caption>OLS Regression Results</caption>\n",
       "<tr>\n",
       "  <th>Dep. Variable:</th>     <td>np.sqrt(breaks)</td> <th>  R-squared:         </th> <td>   0.361</td>\n",
       "</tr>\n",
       "<tr>\n",
       "  <th>Model:</th>                   <td>OLS</td>       <th>  Adj. R-squared:    </th> <td>   0.294</td>\n",
       "</tr>\n",
       "<tr>\n",
       "  <th>Method:</th>             <td>Least Squares</td>  <th>  F-statistic:       </th> <td>   5.415</td>\n",
       "</tr>\n",
       "<tr>\n",
       "  <th>Date:</th>             <td>Tue, 23 Jun 2020</td> <th>  Prob (F-statistic):</th> <td>0.000500</td>\n",
       "</tr>\n",
       "<tr>\n",
       "  <th>Time:</th>                 <td>17:12:29</td>     <th>  Log-Likelihood:    </th> <td> -72.346</td>\n",
       "</tr>\n",
       "<tr>\n",
       "  <th>No. Observations:</th>      <td>    54</td>      <th>  AIC:               </th> <td>   156.7</td>\n",
       "</tr>\n",
       "<tr>\n",
       "  <th>Df Residuals:</th>          <td>    48</td>      <th>  BIC:               </th> <td>   168.6</td>\n",
       "</tr>\n",
       "<tr>\n",
       "  <th>Df Model:</th>              <td>     5</td>      <th>                     </th>     <td> </td>   \n",
       "</tr>\n",
       "<tr>\n",
       "  <th>Covariance Type:</th>      <td>nonrobust</td>    <th>                     </th>     <td> </td>   \n",
       "</tr>\n",
       "</table>\n",
       "<table class=\"simpletable\">\n",
       "<tr>\n",
       "             <td></td>               <th>coef</th>     <th>std err</th>      <th>t</th>      <th>P>|t|</th>  <th>[0.025</th>    <th>0.975]</th>  \n",
       "</tr>\n",
       "<tr>\n",
       "  <th>Intercept</th>              <td>    4.8564</td> <td>    0.327</td> <td>   14.868</td> <td> 0.000</td> <td>    4.200</td> <td>    5.513</td>\n",
       "</tr>\n",
       "<tr>\n",
       "  <th>wool[T.B]</th>              <td>   -0.5542</td> <td>    0.462</td> <td>   -1.200</td> <td> 0.236</td> <td>   -1.483</td> <td>    0.375</td>\n",
       "</tr>\n",
       "<tr>\n",
       "  <th>tension[T.L]</th>           <td>    1.6912</td> <td>    0.462</td> <td>    3.661</td> <td> 0.001</td> <td>    0.762</td> <td>    2.620</td>\n",
       "</tr>\n",
       "<tr>\n",
       "  <th>tension[T.M]</th>           <td>   -0.0304</td> <td>    0.462</td> <td>   -0.066</td> <td> 0.948</td> <td>   -0.959</td> <td>    0.898</td>\n",
       "</tr>\n",
       "<tr>\n",
       "  <th>wool[T.B]:tension[T.L]</th> <td>   -0.7553</td> <td>    0.653</td> <td>   -1.156</td> <td> 0.253</td> <td>   -2.069</td> <td>    0.558</td>\n",
       "</tr>\n",
       "<tr>\n",
       "  <th>wool[T.B]:tension[T.M]</th> <td>    1.0269</td> <td>    0.653</td> <td>    1.572</td> <td> 0.123</td> <td>   -0.287</td> <td>    2.340</td>\n",
       "</tr>\n",
       "</table>\n",
       "<table class=\"simpletable\">\n",
       "<tr>\n",
       "  <th>Omnibus:</th>       <td> 4.119</td> <th>  Durbin-Watson:     </th> <td>   2.147</td>\n",
       "</tr>\n",
       "<tr>\n",
       "  <th>Prob(Omnibus):</th> <td> 0.127</td> <th>  Jarque-Bera (JB):  </th> <td>   1.882</td>\n",
       "</tr>\n",
       "<tr>\n",
       "  <th>Skew:</th>          <td> 0.034</td> <th>  Prob(JB):          </th> <td>   0.390</td>\n",
       "</tr>\n",
       "<tr>\n",
       "  <th>Kurtosis:</th>      <td> 2.088</td> <th>  Cond. No.          </th> <td>    9.77</td>\n",
       "</tr>\n",
       "</table><br/><br/>Warnings:<br/>[1] Standard Errors assume that the covariance matrix of the errors is correctly specified."
      ],
      "text/plain": [
       "<class 'statsmodels.iolib.summary.Summary'>\n",
       "\"\"\"\n",
       "                            OLS Regression Results                            \n",
       "==============================================================================\n",
       "Dep. Variable:        np.sqrt(breaks)   R-squared:                       0.361\n",
       "Model:                            OLS   Adj. R-squared:                  0.294\n",
       "Method:                 Least Squares   F-statistic:                     5.415\n",
       "Date:                Tue, 23 Jun 2020   Prob (F-statistic):           0.000500\n",
       "Time:                        17:12:29   Log-Likelihood:                -72.346\n",
       "No. Observations:                  54   AIC:                             156.7\n",
       "Df Residuals:                      48   BIC:                             168.6\n",
       "Df Model:                           5                                         \n",
       "Covariance Type:            nonrobust                                         \n",
       "==========================================================================================\n",
       "                             coef    std err          t      P>|t|      [0.025      0.975]\n",
       "------------------------------------------------------------------------------------------\n",
       "Intercept                  4.8564      0.327     14.868      0.000       4.200       5.513\n",
       "wool[T.B]                 -0.5542      0.462     -1.200      0.236      -1.483       0.375\n",
       "tension[T.L]               1.6912      0.462      3.661      0.001       0.762       2.620\n",
       "tension[T.M]              -0.0304      0.462     -0.066      0.948      -0.959       0.898\n",
       "wool[T.B]:tension[T.L]    -0.7553      0.653     -1.156      0.253      -2.069       0.558\n",
       "wool[T.B]:tension[T.M]     1.0269      0.653      1.572      0.123      -0.287       2.340\n",
       "==============================================================================\n",
       "Omnibus:                        4.119   Durbin-Watson:                   2.147\n",
       "Prob(Omnibus):                  0.127   Jarque-Bera (JB):                1.882\n",
       "Skew:                           0.034   Prob(JB):                        0.390\n",
       "Kurtosis:                       2.088   Cond. No.                         9.77\n",
       "==============================================================================\n",
       "\n",
       "Warnings:\n",
       "[1] Standard Errors assume that the covariance matrix of the errors is correctly specified.\n",
       "\"\"\""
      ]
     },
     "execution_count": 38,
     "metadata": {},
     "output_type": "execute_result"
    }
   ],
   "source": [
    "lmod.summary()"
   ]
  },
  {
   "cell_type": "code",
   "execution_count": 39,
   "metadata": {},
   "outputs": [
    {
     "data": {
      "text/html": [
       "<table class=\"simpletable\">\n",
       "<caption>OLS Regression Results</caption>\n",
       "<tr>\n",
       "  <th>Dep. Variable:</th>     <td>np.sqrt(breaks)</td> <th>  R-squared:         </th> <td>   0.361</td>\n",
       "</tr>\n",
       "<tr>\n",
       "  <th>Model:</th>                   <td>OLS</td>       <th>  Adj. R-squared:    </th> <td>   0.294</td>\n",
       "</tr>\n",
       "<tr>\n",
       "  <th>Method:</th>             <td>Least Squares</td>  <th>  F-statistic:       </th> <td>   5.415</td>\n",
       "</tr>\n",
       "<tr>\n",
       "  <th>Date:</th>             <td>Tue, 23 Jun 2020</td> <th>  Prob (F-statistic):</th> <td>0.000500</td>\n",
       "</tr>\n",
       "<tr>\n",
       "  <th>Time:</th>                 <td>17:12:29</td>     <th>  Log-Likelihood:    </th> <td> -72.346</td>\n",
       "</tr>\n",
       "<tr>\n",
       "  <th>No. Observations:</th>      <td>    54</td>      <th>  AIC:               </th> <td>   156.7</td>\n",
       "</tr>\n",
       "<tr>\n",
       "  <th>Df Residuals:</th>          <td>    48</td>      <th>  BIC:               </th> <td>   168.6</td>\n",
       "</tr>\n",
       "<tr>\n",
       "  <th>Df Model:</th>              <td>     5</td>      <th>                     </th>     <td> </td>   \n",
       "</tr>\n",
       "<tr>\n",
       "  <th>Covariance Type:</th>      <td>nonrobust</td>    <th>                     </th>     <td> </td>   \n",
       "</tr>\n",
       "</table>\n",
       "<table class=\"simpletable\">\n",
       "<tr>\n",
       "           <td></td>             <th>coef</th>     <th>std err</th>      <th>t</th>      <th>P>|t|</th>  <th>[0.025</th>    <th>0.975]</th>  \n",
       "</tr>\n",
       "<tr>\n",
       "  <th>wool[A]:tension[H]</th> <td>    4.8564</td> <td>    0.327</td> <td>   14.868</td> <td> 0.000</td> <td>    4.200</td> <td>    5.513</td>\n",
       "</tr>\n",
       "<tr>\n",
       "  <th>wool[B]:tension[H]</th> <td>    4.3022</td> <td>    0.327</td> <td>   13.171</td> <td> 0.000</td> <td>    3.645</td> <td>    4.959</td>\n",
       "</tr>\n",
       "<tr>\n",
       "  <th>wool[A]:tension[L]</th> <td>    6.5476</td> <td>    0.327</td> <td>   20.046</td> <td> 0.000</td> <td>    5.891</td> <td>    7.204</td>\n",
       "</tr>\n",
       "<tr>\n",
       "  <th>wool[B]:tension[L]</th> <td>    5.2381</td> <td>    0.327</td> <td>   16.037</td> <td> 0.000</td> <td>    4.581</td> <td>    5.895</td>\n",
       "</tr>\n",
       "<tr>\n",
       "  <th>wool[A]:tension[M]</th> <td>    4.8259</td> <td>    0.327</td> <td>   14.775</td> <td> 0.000</td> <td>    4.169</td> <td>    5.483</td>\n",
       "</tr>\n",
       "<tr>\n",
       "  <th>wool[B]:tension[M]</th> <td>    5.2987</td> <td>    0.327</td> <td>   16.222</td> <td> 0.000</td> <td>    4.642</td> <td>    5.955</td>\n",
       "</tr>\n",
       "</table>\n",
       "<table class=\"simpletable\">\n",
       "<tr>\n",
       "  <th>Omnibus:</th>       <td> 4.119</td> <th>  Durbin-Watson:     </th> <td>   2.147</td>\n",
       "</tr>\n",
       "<tr>\n",
       "  <th>Prob(Omnibus):</th> <td> 0.127</td> <th>  Jarque-Bera (JB):  </th> <td>   1.882</td>\n",
       "</tr>\n",
       "<tr>\n",
       "  <th>Skew:</th>          <td> 0.034</td> <th>  Prob(JB):          </th> <td>   0.390</td>\n",
       "</tr>\n",
       "<tr>\n",
       "  <th>Kurtosis:</th>      <td> 2.088</td> <th>  Cond. No.          </th> <td>    1.00</td>\n",
       "</tr>\n",
       "</table><br/><br/>Warnings:<br/>[1] Standard Errors assume that the covariance matrix of the errors is correctly specified."
      ],
      "text/plain": [
       "<class 'statsmodels.iolib.summary.Summary'>\n",
       "\"\"\"\n",
       "                            OLS Regression Results                            \n",
       "==============================================================================\n",
       "Dep. Variable:        np.sqrt(breaks)   R-squared:                       0.361\n",
       "Model:                            OLS   Adj. R-squared:                  0.294\n",
       "Method:                 Least Squares   F-statistic:                     5.415\n",
       "Date:                Tue, 23 Jun 2020   Prob (F-statistic):           0.000500\n",
       "Time:                        17:12:29   Log-Likelihood:                -72.346\n",
       "No. Observations:                  54   AIC:                             156.7\n",
       "Df Residuals:                      48   BIC:                             168.6\n",
       "Df Model:                           5                                         \n",
       "Covariance Type:            nonrobust                                         \n",
       "======================================================================================\n",
       "                         coef    std err          t      P>|t|      [0.025      0.975]\n",
       "--------------------------------------------------------------------------------------\n",
       "wool[A]:tension[H]     4.8564      0.327     14.868      0.000       4.200       5.513\n",
       "wool[B]:tension[H]     4.3022      0.327     13.171      0.000       3.645       4.959\n",
       "wool[A]:tension[L]     6.5476      0.327     20.046      0.000       5.891       7.204\n",
       "wool[B]:tension[L]     5.2381      0.327     16.037      0.000       4.581       5.895\n",
       "wool[A]:tension[M]     4.8259      0.327     14.775      0.000       4.169       5.483\n",
       "wool[B]:tension[M]     5.2987      0.327     16.222      0.000       4.642       5.955\n",
       "==============================================================================\n",
       "Omnibus:                        4.119   Durbin-Watson:                   2.147\n",
       "Prob(Omnibus):                  0.127   Jarque-Bera (JB):                1.882\n",
       "Skew:                           0.034   Prob(JB):                        0.390\n",
       "Kurtosis:                       2.088   Cond. No.                         1.00\n",
       "==============================================================================\n",
       "\n",
       "Warnings:\n",
       "[1] Standard Errors assume that the covariance matrix of the errors is correctly specified.\n",
       "\"\"\""
      ]
     },
     "execution_count": 39,
     "metadata": {},
     "output_type": "execute_result"
    }
   ],
   "source": [
    "lmod = smf.ols('np.sqrt(breaks) ~ wool:tension-1', warpbreaks).fit()\n",
    "lmod.summary()"
   ]
  },
  {
   "cell_type": "markdown",
   "metadata": {},
   "source": [
    "Width of Tukey HSD bands is ( qt/sqrt(2) * se * sqrt(2))"
   ]
  },
  {
   "cell_type": "code",
   "execution_count": 40,
   "metadata": {},
   "outputs": [
    {
     "data": {
      "text/plain": [
       "1.3725048838137048"
      ]
     },
     "execution_count": 40,
     "metadata": {},
     "output_type": "execute_result"
    }
   ],
   "source": [
    "get_tukeyQcrit(6,48) * lmod.bse[0]"
   ]
  },
  {
   "cell_type": "markdown",
   "metadata": {},
   "source": [
    "Compute all the pairwise differences:"
   ]
  },
  {
   "cell_type": "code",
   "execution_count": 41,
   "metadata": {},
   "outputs": [
    {
     "data": {
      "text/html": [
       "<div>\n",
       "<style scoped>\n",
       "    .dataframe tbody tr th:only-of-type {\n",
       "        vertical-align: middle;\n",
       "    }\n",
       "\n",
       "    .dataframe tbody tr th {\n",
       "        vertical-align: top;\n",
       "    }\n",
       "\n",
       "    .dataframe thead th {\n",
       "        text-align: right;\n",
       "    }\n",
       "</style>\n",
       "<table border=\"1\" class=\"dataframe\">\n",
       "  <thead>\n",
       "    <tr style=\"text-align: right;\">\n",
       "      <th></th>\n",
       "      <th>Difference</th>\n",
       "      <th>lb</th>\n",
       "      <th>ub</th>\n",
       "    </tr>\n",
       "  </thead>\n",
       "  <tbody>\n",
       "    <tr>\n",
       "      <th>wool[A]:tension[H]-wool[B]:tension[H]</th>\n",
       "      <td>0.554178</td>\n",
       "      <td>-0.818327</td>\n",
       "      <td>1.926683</td>\n",
       "    </tr>\n",
       "    <tr>\n",
       "      <th>wool[B]:tension[H]-wool[A]:tension[L]</th>\n",
       "      <td>-2.245378</td>\n",
       "      <td>-3.617883</td>\n",
       "      <td>-0.872873</td>\n",
       "    </tr>\n",
       "    <tr>\n",
       "      <th>wool[B]:tension[H]-wool[B]:tension[L]</th>\n",
       "      <td>-0.935944</td>\n",
       "      <td>-2.308449</td>\n",
       "      <td>0.436561</td>\n",
       "    </tr>\n",
       "    <tr>\n",
       "      <th>wool[A]:tension[M]-wool[B]:tension[M]</th>\n",
       "      <td>-0.472707</td>\n",
       "      <td>-1.845212</td>\n",
       "      <td>0.899798</td>\n",
       "    </tr>\n",
       "    <tr>\n",
       "      <th>wool[B]:tension[H]-wool[A]:tension[M]</th>\n",
       "      <td>-0.523746</td>\n",
       "      <td>-1.896251</td>\n",
       "      <td>0.848759</td>\n",
       "    </tr>\n",
       "    <tr>\n",
       "      <th>wool[B]:tension[H]-wool[B]:tension[M]</th>\n",
       "      <td>-0.996453</td>\n",
       "      <td>-2.368958</td>\n",
       "      <td>0.376051</td>\n",
       "    </tr>\n",
       "    <tr>\n",
       "      <th>wool[A]:tension[L]-wool[A]:tension[M]</th>\n",
       "      <td>1.721631</td>\n",
       "      <td>0.349127</td>\n",
       "      <td>3.094136</td>\n",
       "    </tr>\n",
       "    <tr>\n",
       "      <th>wool[A]:tension[H]-wool[B]:tension[M]</th>\n",
       "      <td>-0.442276</td>\n",
       "      <td>-1.814781</td>\n",
       "      <td>0.930229</td>\n",
       "    </tr>\n",
       "    <tr>\n",
       "      <th>wool[A]:tension[L]-wool[B]:tension[L]</th>\n",
       "      <td>1.309434</td>\n",
       "      <td>-0.063071</td>\n",
       "      <td>2.681939</td>\n",
       "    </tr>\n",
       "    <tr>\n",
       "      <th>wool[A]:tension[L]-wool[B]:tension[M]</th>\n",
       "      <td>1.248924</td>\n",
       "      <td>-0.123580</td>\n",
       "      <td>2.621429</td>\n",
       "    </tr>\n",
       "    <tr>\n",
       "      <th>wool[A]:tension[H]-wool[A]:tension[M]</th>\n",
       "      <td>0.030431</td>\n",
       "      <td>-1.342073</td>\n",
       "      <td>1.402936</td>\n",
       "    </tr>\n",
       "    <tr>\n",
       "      <th>wool[A]:tension[H]-wool[B]:tension[L]</th>\n",
       "      <td>-0.381766</td>\n",
       "      <td>-1.754271</td>\n",
       "      <td>0.990739</td>\n",
       "    </tr>\n",
       "    <tr>\n",
       "      <th>wool[B]:tension[L]-wool[A]:tension[M]</th>\n",
       "      <td>0.412198</td>\n",
       "      <td>-0.960307</td>\n",
       "      <td>1.784702</td>\n",
       "    </tr>\n",
       "    <tr>\n",
       "      <th>wool[A]:tension[H]-wool[A]:tension[L]</th>\n",
       "      <td>-1.691200</td>\n",
       "      <td>-3.063705</td>\n",
       "      <td>-0.318695</td>\n",
       "    </tr>\n",
       "    <tr>\n",
       "      <th>wool[B]:tension[L]-wool[B]:tension[M]</th>\n",
       "      <td>-0.060510</td>\n",
       "      <td>-1.433014</td>\n",
       "      <td>1.311995</td>\n",
       "    </tr>\n",
       "  </tbody>\n",
       "</table>\n",
       "</div>"
      ],
      "text/plain": [
       "                                       Difference        lb        ub\n",
       "wool[A]:tension[H]-wool[B]:tension[H]    0.554178 -0.818327  1.926683\n",
       "wool[B]:tension[H]-wool[A]:tension[L]   -2.245378 -3.617883 -0.872873\n",
       "wool[B]:tension[H]-wool[B]:tension[L]   -0.935944 -2.308449  0.436561\n",
       "wool[A]:tension[M]-wool[B]:tension[M]   -0.472707 -1.845212  0.899798\n",
       "wool[B]:tension[H]-wool[A]:tension[M]   -0.523746 -1.896251  0.848759\n",
       "wool[B]:tension[H]-wool[B]:tension[M]   -0.996453 -2.368958  0.376051\n",
       "wool[A]:tension[L]-wool[A]:tension[M]    1.721631  0.349127  3.094136\n",
       "wool[A]:tension[H]-wool[B]:tension[M]   -0.442276 -1.814781  0.930229\n",
       "wool[A]:tension[L]-wool[B]:tension[L]    1.309434 -0.063071  2.681939\n",
       "wool[A]:tension[L]-wool[B]:tension[M]    1.248924 -0.123580  2.621429\n",
       "wool[A]:tension[H]-wool[A]:tension[M]    0.030431 -1.342073  1.402936\n",
       "wool[A]:tension[H]-wool[B]:tension[L]   -0.381766 -1.754271  0.990739\n",
       "wool[B]:tension[L]-wool[A]:tension[M]    0.412198 -0.960307  1.784702\n",
       "wool[A]:tension[H]-wool[A]:tension[L]   -1.691200 -3.063705 -0.318695\n",
       "wool[B]:tension[L]-wool[B]:tension[M]   -0.060510 -1.433014  1.311995"
      ]
     },
     "execution_count": 41,
     "metadata": {},
     "output_type": "execute_result"
    }
   ],
   "source": [
    "import itertools\n",
    "dp = set(itertools.combinations(range(0,6),2))\n",
    "dcoef = []\n",
    "namdiff = []\n",
    "for cp in dp:\n",
    "    dcoef.append(lmod.params[cp[0]] - lmod.params[cp[1]])\n",
    "    namdiff.append(lmod.params.index[cp[0]] + '-' + lmod.params.index[cp[1]])\n",
    "thsd = pd.DataFrame({'Difference':dcoef},index=namdiff)\n",
    "thsd[\"lb\"] = thsd.Difference - get_tukeyQcrit(6,48) * lmod.bse[0]\n",
    "thsd[\"ub\"] = thsd.Difference + get_tukeyQcrit(6,48) * lmod.bse[0]\n",
    "thsd"
   ]
  },
  {
   "cell_type": "code",
   "execution_count": 42,
   "metadata": {},
   "outputs": [
    {
     "data": {
      "text/plain": [
       "Index(['wool[A]:tension[H]', 'wool[B]:tension[H]', 'wool[A]:tension[L]',\n",
       "       'wool[B]:tension[L]', 'wool[A]:tension[M]', 'wool[B]:tension[M]'],\n",
       "      dtype='object')"
      ]
     },
     "execution_count": 42,
     "metadata": {},
     "output_type": "execute_result"
    }
   ],
   "source": [
    "lmod.params.index"
   ]
  },
  {
   "cell_type": "markdown",
   "metadata": {},
   "source": [
    "# Larger factorial experiments"
   ]
  },
  {
   "cell_type": "markdown",
   "metadata": {},
   "source": [
    "Read in the data"
   ]
  },
  {
   "cell_type": "code",
   "execution_count": 43,
   "metadata": {},
   "outputs": [
    {
     "data": {
      "text/html": [
       "<div>\n",
       "<style scoped>\n",
       "    .dataframe tbody tr th:only-of-type {\n",
       "        vertical-align: middle;\n",
       "    }\n",
       "\n",
       "    .dataframe tbody tr th {\n",
       "        vertical-align: top;\n",
       "    }\n",
       "\n",
       "    .dataframe thead th {\n",
       "        text-align: right;\n",
       "    }\n",
       "</style>\n",
       "<table border=\"1\" class=\"dataframe\">\n",
       "  <thead>\n",
       "    <tr style=\"text-align: right;\">\n",
       "      <th></th>\n",
       "      <th>h</th>\n",
       "      <th>d</th>\n",
       "      <th>l</th>\n",
       "      <th>b</th>\n",
       "      <th>j</th>\n",
       "      <th>f</th>\n",
       "      <th>n</th>\n",
       "      <th>a</th>\n",
       "      <th>i</th>\n",
       "      <th>e</th>\n",
       "      <th>m</th>\n",
       "      <th>c</th>\n",
       "      <th>k</th>\n",
       "      <th>g</th>\n",
       "      <th>o</th>\n",
       "      <th>y</th>\n",
       "    </tr>\n",
       "  </thead>\n",
       "  <tbody>\n",
       "    <tr>\n",
       "      <th>1</th>\n",
       "      <td>-</td>\n",
       "      <td>-</td>\n",
       "      <td>+</td>\n",
       "      <td>-</td>\n",
       "      <td>+</td>\n",
       "      <td>+</td>\n",
       "      <td>-</td>\n",
       "      <td>-</td>\n",
       "      <td>+</td>\n",
       "      <td>+</td>\n",
       "      <td>-</td>\n",
       "      <td>+</td>\n",
       "      <td>-</td>\n",
       "      <td>-</td>\n",
       "      <td>+</td>\n",
       "      <td>0.4850</td>\n",
       "    </tr>\n",
       "    <tr>\n",
       "      <th>2</th>\n",
       "      <td>+</td>\n",
       "      <td>-</td>\n",
       "      <td>-</td>\n",
       "      <td>-</td>\n",
       "      <td>-</td>\n",
       "      <td>+</td>\n",
       "      <td>+</td>\n",
       "      <td>-</td>\n",
       "      <td>-</td>\n",
       "      <td>+</td>\n",
       "      <td>+</td>\n",
       "      <td>+</td>\n",
       "      <td>+</td>\n",
       "      <td>-</td>\n",
       "      <td>-</td>\n",
       "      <td>0.5750</td>\n",
       "    </tr>\n",
       "    <tr>\n",
       "      <th>3</th>\n",
       "      <td>-</td>\n",
       "      <td>+</td>\n",
       "      <td>-</td>\n",
       "      <td>-</td>\n",
       "      <td>+</td>\n",
       "      <td>-</td>\n",
       "      <td>+</td>\n",
       "      <td>-</td>\n",
       "      <td>+</td>\n",
       "      <td>-</td>\n",
       "      <td>+</td>\n",
       "      <td>+</td>\n",
       "      <td>-</td>\n",
       "      <td>+</td>\n",
       "      <td>-</td>\n",
       "      <td>0.0875</td>\n",
       "    </tr>\n",
       "    <tr>\n",
       "      <th>4</th>\n",
       "      <td>+</td>\n",
       "      <td>+</td>\n",
       "      <td>+</td>\n",
       "      <td>-</td>\n",
       "      <td>-</td>\n",
       "      <td>-</td>\n",
       "      <td>-</td>\n",
       "      <td>-</td>\n",
       "      <td>-</td>\n",
       "      <td>-</td>\n",
       "      <td>-</td>\n",
       "      <td>+</td>\n",
       "      <td>+</td>\n",
       "      <td>+</td>\n",
       "      <td>+</td>\n",
       "      <td>0.1750</td>\n",
       "    </tr>\n",
       "    <tr>\n",
       "      <th>5</th>\n",
       "      <td>-</td>\n",
       "      <td>-</td>\n",
       "      <td>+</td>\n",
       "      <td>+</td>\n",
       "      <td>-</td>\n",
       "      <td>-</td>\n",
       "      <td>+</td>\n",
       "      <td>-</td>\n",
       "      <td>+</td>\n",
       "      <td>+</td>\n",
       "      <td>-</td>\n",
       "      <td>-</td>\n",
       "      <td>+</td>\n",
       "      <td>+</td>\n",
       "      <td>-</td>\n",
       "      <td>0.1950</td>\n",
       "    </tr>\n",
       "    <tr>\n",
       "      <th>6</th>\n",
       "      <td>+</td>\n",
       "      <td>-</td>\n",
       "      <td>-</td>\n",
       "      <td>+</td>\n",
       "      <td>+</td>\n",
       "      <td>-</td>\n",
       "      <td>-</td>\n",
       "      <td>-</td>\n",
       "      <td>-</td>\n",
       "      <td>+</td>\n",
       "      <td>+</td>\n",
       "      <td>-</td>\n",
       "      <td>-</td>\n",
       "      <td>+</td>\n",
       "      <td>+</td>\n",
       "      <td>0.1450</td>\n",
       "    </tr>\n",
       "    <tr>\n",
       "      <th>7</th>\n",
       "      <td>-</td>\n",
       "      <td>+</td>\n",
       "      <td>-</td>\n",
       "      <td>+</td>\n",
       "      <td>-</td>\n",
       "      <td>+</td>\n",
       "      <td>-</td>\n",
       "      <td>-</td>\n",
       "      <td>+</td>\n",
       "      <td>-</td>\n",
       "      <td>+</td>\n",
       "      <td>-</td>\n",
       "      <td>+</td>\n",
       "      <td>-</td>\n",
       "      <td>+</td>\n",
       "      <td>0.2250</td>\n",
       "    </tr>\n",
       "    <tr>\n",
       "      <th>8</th>\n",
       "      <td>+</td>\n",
       "      <td>+</td>\n",
       "      <td>+</td>\n",
       "      <td>+</td>\n",
       "      <td>+</td>\n",
       "      <td>+</td>\n",
       "      <td>+</td>\n",
       "      <td>-</td>\n",
       "      <td>-</td>\n",
       "      <td>-</td>\n",
       "      <td>-</td>\n",
       "      <td>-</td>\n",
       "      <td>-</td>\n",
       "      <td>-</td>\n",
       "      <td>-</td>\n",
       "      <td>0.1750</td>\n",
       "    </tr>\n",
       "    <tr>\n",
       "      <th>9</th>\n",
       "      <td>-</td>\n",
       "      <td>-</td>\n",
       "      <td>+</td>\n",
       "      <td>-</td>\n",
       "      <td>+</td>\n",
       "      <td>+</td>\n",
       "      <td>-</td>\n",
       "      <td>+</td>\n",
       "      <td>-</td>\n",
       "      <td>-</td>\n",
       "      <td>+</td>\n",
       "      <td>-</td>\n",
       "      <td>+</td>\n",
       "      <td>+</td>\n",
       "      <td>-</td>\n",
       "      <td>0.1250</td>\n",
       "    </tr>\n",
       "    <tr>\n",
       "      <th>10</th>\n",
       "      <td>+</td>\n",
       "      <td>-</td>\n",
       "      <td>-</td>\n",
       "      <td>-</td>\n",
       "      <td>-</td>\n",
       "      <td>+</td>\n",
       "      <td>+</td>\n",
       "      <td>+</td>\n",
       "      <td>+</td>\n",
       "      <td>-</td>\n",
       "      <td>-</td>\n",
       "      <td>-</td>\n",
       "      <td>-</td>\n",
       "      <td>+</td>\n",
       "      <td>+</td>\n",
       "      <td>0.1200</td>\n",
       "    </tr>\n",
       "    <tr>\n",
       "      <th>11</th>\n",
       "      <td>-</td>\n",
       "      <td>+</td>\n",
       "      <td>-</td>\n",
       "      <td>-</td>\n",
       "      <td>+</td>\n",
       "      <td>-</td>\n",
       "      <td>+</td>\n",
       "      <td>+</td>\n",
       "      <td>-</td>\n",
       "      <td>+</td>\n",
       "      <td>-</td>\n",
       "      <td>-</td>\n",
       "      <td>+</td>\n",
       "      <td>-</td>\n",
       "      <td>+</td>\n",
       "      <td>0.4550</td>\n",
       "    </tr>\n",
       "    <tr>\n",
       "      <th>12</th>\n",
       "      <td>+</td>\n",
       "      <td>+</td>\n",
       "      <td>+</td>\n",
       "      <td>-</td>\n",
       "      <td>-</td>\n",
       "      <td>-</td>\n",
       "      <td>-</td>\n",
       "      <td>+</td>\n",
       "      <td>+</td>\n",
       "      <td>+</td>\n",
       "      <td>+</td>\n",
       "      <td>-</td>\n",
       "      <td>-</td>\n",
       "      <td>-</td>\n",
       "      <td>-</td>\n",
       "      <td>0.5350</td>\n",
       "    </tr>\n",
       "    <tr>\n",
       "      <th>13</th>\n",
       "      <td>-</td>\n",
       "      <td>-</td>\n",
       "      <td>+</td>\n",
       "      <td>+</td>\n",
       "      <td>-</td>\n",
       "      <td>-</td>\n",
       "      <td>+</td>\n",
       "      <td>+</td>\n",
       "      <td>-</td>\n",
       "      <td>-</td>\n",
       "      <td>+</td>\n",
       "      <td>+</td>\n",
       "      <td>-</td>\n",
       "      <td>-</td>\n",
       "      <td>+</td>\n",
       "      <td>0.1700</td>\n",
       "    </tr>\n",
       "    <tr>\n",
       "      <th>14</th>\n",
       "      <td>+</td>\n",
       "      <td>-</td>\n",
       "      <td>-</td>\n",
       "      <td>+</td>\n",
       "      <td>+</td>\n",
       "      <td>-</td>\n",
       "      <td>-</td>\n",
       "      <td>+</td>\n",
       "      <td>+</td>\n",
       "      <td>-</td>\n",
       "      <td>-</td>\n",
       "      <td>+</td>\n",
       "      <td>+</td>\n",
       "      <td>-</td>\n",
       "      <td>-</td>\n",
       "      <td>0.2750</td>\n",
       "    </tr>\n",
       "    <tr>\n",
       "      <th>15</th>\n",
       "      <td>-</td>\n",
       "      <td>+</td>\n",
       "      <td>-</td>\n",
       "      <td>+</td>\n",
       "      <td>-</td>\n",
       "      <td>+</td>\n",
       "      <td>-</td>\n",
       "      <td>+</td>\n",
       "      <td>-</td>\n",
       "      <td>+</td>\n",
       "      <td>-</td>\n",
       "      <td>+</td>\n",
       "      <td>-</td>\n",
       "      <td>+</td>\n",
       "      <td>-</td>\n",
       "      <td>0.3425</td>\n",
       "    </tr>\n",
       "    <tr>\n",
       "      <th>16</th>\n",
       "      <td>+</td>\n",
       "      <td>+</td>\n",
       "      <td>+</td>\n",
       "      <td>+</td>\n",
       "      <td>+</td>\n",
       "      <td>+</td>\n",
       "      <td>+</td>\n",
       "      <td>+</td>\n",
       "      <td>+</td>\n",
       "      <td>+</td>\n",
       "      <td>+</td>\n",
       "      <td>+</td>\n",
       "      <td>+</td>\n",
       "      <td>+</td>\n",
       "      <td>+</td>\n",
       "      <td>0.5825</td>\n",
       "    </tr>\n",
       "  </tbody>\n",
       "</table>\n",
       "</div>"
      ],
      "text/plain": [
       "    h  d  l  b  j  f  n  a  i  e  m  c  k  g  o       y\n",
       "1   -  -  +  -  +  +  -  -  +  +  -  +  -  -  +  0.4850\n",
       "2   +  -  -  -  -  +  +  -  -  +  +  +  +  -  -  0.5750\n",
       "3   -  +  -  -  +  -  +  -  +  -  +  +  -  +  -  0.0875\n",
       "4   +  +  +  -  -  -  -  -  -  -  -  +  +  +  +  0.1750\n",
       "5   -  -  +  +  -  -  +  -  +  +  -  -  +  +  -  0.1950\n",
       "6   +  -  -  +  +  -  -  -  -  +  +  -  -  +  +  0.1450\n",
       "7   -  +  -  +  -  +  -  -  +  -  +  -  +  -  +  0.2250\n",
       "8   +  +  +  +  +  +  +  -  -  -  -  -  -  -  -  0.1750\n",
       "9   -  -  +  -  +  +  -  +  -  -  +  -  +  +  -  0.1250\n",
       "10  +  -  -  -  -  +  +  +  +  -  -  -  -  +  +  0.1200\n",
       "11  -  +  -  -  +  -  +  +  -  +  -  -  +  -  +  0.4550\n",
       "12  +  +  +  -  -  -  -  +  +  +  +  -  -  -  -  0.5350\n",
       "13  -  -  +  +  -  -  +  +  -  -  +  +  -  -  +  0.1700\n",
       "14  +  -  -  +  +  -  -  +  +  -  -  +  +  -  -  0.2750\n",
       "15  -  +  -  +  -  +  -  +  -  +  -  +  -  +  -  0.3425\n",
       "16  +  +  +  +  +  +  +  +  +  +  +  +  +  +  +  0.5825"
      ]
     },
     "execution_count": 43,
     "metadata": {},
     "output_type": "execute_result"
    }
   ],
   "source": [
    "speedo = pd.read_csv(\"data/speedo.csv\", index_col=0)\n",
    "speedo"
   ]
  },
  {
   "cell_type": "code",
   "execution_count": 44,
   "metadata": {},
   "outputs": [
    {
     "data": {
      "text/html": [
       "<table class=\"simpletable\">\n",
       "<caption>OLS Regression Results</caption>\n",
       "<tr>\n",
       "  <th>Dep. Variable:</th>            <td>y</td>        <th>  R-squared:         </th> <td>   1.000</td>\n",
       "</tr>\n",
       "<tr>\n",
       "  <th>Model:</th>                   <td>OLS</td>       <th>  Adj. R-squared:    </th> <td>     nan</td>\n",
       "</tr>\n",
       "<tr>\n",
       "  <th>Method:</th>             <td>Least Squares</td>  <th>  F-statistic:       </th> <td>     nan</td>\n",
       "</tr>\n",
       "<tr>\n",
       "  <th>Date:</th>             <td>Tue, 23 Jun 2020</td> <th>  Prob (F-statistic):</th>  <td>   nan</td> \n",
       "</tr>\n",
       "<tr>\n",
       "  <th>Time:</th>                 <td>17:12:29</td>     <th>  Log-Likelihood:    </th> <td>  547.43</td>\n",
       "</tr>\n",
       "<tr>\n",
       "  <th>No. Observations:</th>      <td>    16</td>      <th>  AIC:               </th> <td>  -1063.</td>\n",
       "</tr>\n",
       "<tr>\n",
       "  <th>Df Residuals:</th>          <td>     0</td>      <th>  BIC:               </th> <td>  -1051.</td>\n",
       "</tr>\n",
       "<tr>\n",
       "  <th>Df Model:</th>              <td>    15</td>      <th>                     </th>     <td> </td>   \n",
       "</tr>\n",
       "<tr>\n",
       "  <th>Covariance Type:</th>      <td>nonrobust</td>    <th>                     </th>     <td> </td>   \n",
       "</tr>\n",
       "</table>\n",
       "<table class=\"simpletable\">\n",
       "<tr>\n",
       "      <td></td>         <th>coef</th>     <th>std err</th>      <th>t</th>      <th>P>|t|</th>  <th>[0.025</th>    <th>0.975]</th>  \n",
       "</tr>\n",
       "<tr>\n",
       "  <th>Intercept</th> <td>    0.5825</td> <td>      inf</td> <td>        0</td> <td>   nan</td> <td>      nan</td> <td>      nan</td>\n",
       "</tr>\n",
       "<tr>\n",
       "  <th>h[T.-]</th>    <td>   -0.0622</td> <td>      inf</td> <td>       -0</td> <td>   nan</td> <td>      nan</td> <td>      nan</td>\n",
       "</tr>\n",
       "<tr>\n",
       "  <th>d[T.-]</th>    <td>   -0.0609</td> <td>      inf</td> <td>       -0</td> <td>   nan</td> <td>      nan</td> <td>      nan</td>\n",
       "</tr>\n",
       "<tr>\n",
       "  <th>l[T.-]</th>    <td>   -0.0272</td> <td>      inf</td> <td>       -0</td> <td>   nan</td> <td>      nan</td> <td>      nan</td>\n",
       "</tr>\n",
       "<tr>\n",
       "  <th>b[T.-]</th>    <td>    0.0559</td> <td>      inf</td> <td>        0</td> <td>   nan</td> <td>      nan</td> <td>      nan</td>\n",
       "</tr>\n",
       "<tr>\n",
       "  <th>j[T.-]</th>    <td>    0.0009</td> <td>      inf</td> <td>        0</td> <td>   nan</td> <td>      nan</td> <td>      nan</td>\n",
       "</tr>\n",
       "<tr>\n",
       "  <th>f[T.-]</th>    <td>   -0.0741</td> <td>      inf</td> <td>       -0</td> <td>   nan</td> <td>      nan</td> <td>      nan</td>\n",
       "</tr>\n",
       "<tr>\n",
       "  <th>n[T.-]</th>    <td>   -0.0066</td> <td>      inf</td> <td>       -0</td> <td>   nan</td> <td>      nan</td> <td>      nan</td>\n",
       "</tr>\n",
       "<tr>\n",
       "  <th>a[T.-]</th>    <td>   -0.0678</td> <td>      inf</td> <td>       -0</td> <td>   nan</td> <td>      nan</td> <td>      nan</td>\n",
       "</tr>\n",
       "<tr>\n",
       "  <th>i[T.-]</th>    <td>   -0.0428</td> <td>      inf</td> <td>       -0</td> <td>   nan</td> <td>      nan</td> <td>      nan</td>\n",
       "</tr>\n",
       "<tr>\n",
       "  <th>e[T.-]</th>    <td>   -0.2453</td> <td>      inf</td> <td>       -0</td> <td>   nan</td> <td>      nan</td> <td>      nan</td>\n",
       "</tr>\n",
       "<tr>\n",
       "  <th>m[T.-]</th>    <td>   -0.0278</td> <td>      inf</td> <td>       -0</td> <td>   nan</td> <td>      nan</td> <td>      nan</td>\n",
       "</tr>\n",
       "<tr>\n",
       "  <th>c[T.-]</th>    <td>   -0.0897</td> <td>      inf</td> <td>       -0</td> <td>   nan</td> <td>      nan</td> <td>      nan</td>\n",
       "</tr>\n",
       "<tr>\n",
       "  <th>k[T.-]</th>    <td>   -0.0684</td> <td>      inf</td> <td>       -0</td> <td>   nan</td> <td>      nan</td> <td>      nan</td>\n",
       "</tr>\n",
       "<tr>\n",
       "  <th>g[T.-]</th>    <td>    0.1403</td> <td>      inf</td> <td>        0</td> <td>   nan</td> <td>      nan</td> <td>      nan</td>\n",
       "</tr>\n",
       "<tr>\n",
       "  <th>o[T.-]</th>    <td>   -0.0059</td> <td>      inf</td> <td>       -0</td> <td>   nan</td> <td>      nan</td> <td>      nan</td>\n",
       "</tr>\n",
       "</table>\n",
       "<table class=\"simpletable\">\n",
       "<tr>\n",
       "  <th>Omnibus:</th>       <td>17.995</td> <th>  Durbin-Watson:     </th> <td>   0.602</td>\n",
       "</tr>\n",
       "<tr>\n",
       "  <th>Prob(Omnibus):</th> <td> 0.000</td> <th>  Jarque-Bera (JB):  </th> <td>  18.033</td>\n",
       "</tr>\n",
       "<tr>\n",
       "  <th>Skew:</th>          <td>-1.744</td> <th>  Prob(JB):          </th> <td>0.000121</td>\n",
       "</tr>\n",
       "<tr>\n",
       "  <th>Kurtosis:</th>      <td> 6.859</td> <th>  Cond. No.          </th> <td>    9.90</td>\n",
       "</tr>\n",
       "</table><br/><br/>Warnings:<br/>[1] Standard Errors assume that the covariance matrix of the errors is correctly specified."
      ],
      "text/plain": [
       "<class 'statsmodels.iolib.summary.Summary'>\n",
       "\"\"\"\n",
       "                            OLS Regression Results                            \n",
       "==============================================================================\n",
       "Dep. Variable:                      y   R-squared:                       1.000\n",
       "Model:                            OLS   Adj. R-squared:                    nan\n",
       "Method:                 Least Squares   F-statistic:                       nan\n",
       "Date:                Tue, 23 Jun 2020   Prob (F-statistic):                nan\n",
       "Time:                        17:12:29   Log-Likelihood:                 547.43\n",
       "No. Observations:                  16   AIC:                            -1063.\n",
       "Df Residuals:                       0   BIC:                            -1051.\n",
       "Df Model:                          15                                         \n",
       "Covariance Type:            nonrobust                                         \n",
       "==============================================================================\n",
       "                 coef    std err          t      P>|t|      [0.025      0.975]\n",
       "------------------------------------------------------------------------------\n",
       "Intercept      0.5825        inf          0        nan         nan         nan\n",
       "h[T.-]        -0.0622        inf         -0        nan         nan         nan\n",
       "d[T.-]        -0.0609        inf         -0        nan         nan         nan\n",
       "l[T.-]        -0.0272        inf         -0        nan         nan         nan\n",
       "b[T.-]         0.0559        inf          0        nan         nan         nan\n",
       "j[T.-]         0.0009        inf          0        nan         nan         nan\n",
       "f[T.-]        -0.0741        inf         -0        nan         nan         nan\n",
       "n[T.-]        -0.0066        inf         -0        nan         nan         nan\n",
       "a[T.-]        -0.0678        inf         -0        nan         nan         nan\n",
       "i[T.-]        -0.0428        inf         -0        nan         nan         nan\n",
       "e[T.-]        -0.2453        inf         -0        nan         nan         nan\n",
       "m[T.-]        -0.0278        inf         -0        nan         nan         nan\n",
       "c[T.-]        -0.0897        inf         -0        nan         nan         nan\n",
       "k[T.-]        -0.0684        inf         -0        nan         nan         nan\n",
       "g[T.-]         0.1403        inf          0        nan         nan         nan\n",
       "o[T.-]        -0.0059        inf         -0        nan         nan         nan\n",
       "==============================================================================\n",
       "Omnibus:                       17.995   Durbin-Watson:                   0.602\n",
       "Prob(Omnibus):                  0.000   Jarque-Bera (JB):               18.033\n",
       "Skew:                          -1.744   Prob(JB):                     0.000121\n",
       "Kurtosis:                       6.859   Cond. No.                         9.90\n",
       "==============================================================================\n",
       "\n",
       "Warnings:\n",
       "[1] Standard Errors assume that the covariance matrix of the errors is correctly specified.\n",
       "\"\"\""
      ]
     },
     "execution_count": 44,
     "metadata": {},
     "output_type": "execute_result"
    }
   ],
   "source": [
    "%%capture --no-display\n",
    "lmod = smf.ols('y ~ h+d+l+b+j+f+n+a+i+e+m+c+k+g+o', speedo).fit()\n",
    "lmod.summary()"
   ]
  },
  {
   "cell_type": "markdown",
   "metadata": {},
   "source": [
    "Look at the design matrix:"
   ]
  },
  {
   "cell_type": "code",
   "execution_count": 45,
   "metadata": {},
   "outputs": [
    {
     "data": {
      "text/plain": [
       "array([[1., 1., 1., 0., 1., 0., 0., 1., 1., 0., 0., 1., 0., 1., 1., 0.],\n",
       "       [1., 0., 1., 1., 1., 1., 0., 0., 1., 1., 0., 0., 0., 0., 1., 1.],\n",
       "       [1., 1., 0., 1., 1., 0., 1., 0., 1., 0., 1., 0., 0., 1., 0., 1.],\n",
       "       [1., 0., 0., 0., 1., 1., 1., 1., 1., 1., 1., 1., 0., 0., 0., 0.],\n",
       "       [1., 1., 1., 0., 0., 1., 1., 0., 1., 0., 0., 1., 1., 0., 0., 1.],\n",
       "       [1., 0., 1., 1., 0., 0., 1., 1., 1., 1., 0., 0., 1., 1., 0., 0.],\n",
       "       [1., 1., 0., 1., 0., 1., 0., 1., 1., 0., 1., 0., 1., 0., 1., 0.],\n",
       "       [1., 0., 0., 0., 0., 0., 0., 0., 1., 1., 1., 1., 1., 1., 1., 1.],\n",
       "       [1., 1., 1., 0., 1., 0., 0., 1., 0., 1., 1., 0., 1., 0., 0., 1.],\n",
       "       [1., 0., 1., 1., 1., 1., 0., 0., 0., 0., 1., 1., 1., 1., 0., 0.],\n",
       "       [1., 1., 0., 1., 1., 0., 1., 0., 0., 1., 0., 1., 1., 0., 1., 0.],\n",
       "       [1., 0., 0., 0., 1., 1., 1., 1., 0., 0., 0., 0., 1., 1., 1., 1.],\n",
       "       [1., 1., 1., 0., 0., 1., 1., 0., 0., 1., 1., 0., 0., 1., 1., 0.],\n",
       "       [1., 0., 1., 1., 0., 0., 1., 1., 0., 0., 1., 1., 0., 0., 1., 1.],\n",
       "       [1., 1., 0., 1., 0., 1., 0., 1., 0., 1., 0., 1., 0., 1., 0., 1.],\n",
       "       [1., 0., 0., 0., 0., 0., 0., 0., 0., 0., 0., 0., 0., 0., 0., 0.]])"
      ]
     },
     "execution_count": 45,
     "metadata": {},
     "output_type": "execute_result"
    }
   ],
   "source": [
    "dm = patsy.dmatrix('~ h+d+l+b+j+f+n+a+i+e+m+c+k+g+o', speedo)\n",
    "np.asarray(dm)"
   ]
  },
  {
   "cell_type": "markdown",
   "metadata": {},
   "source": [
    "Make a QQ plot of the coefficients:"
   ]
  },
  {
   "cell_type": "code",
   "execution_count": 46,
   "metadata": {},
   "outputs": [
    {
     "data": {
      "image/png": "[encoded data removed]",
      "text/plain": [
       "<Figure size 432x288 with 1 Axes>"
      ]
     },
     "metadata": {
      "needs_background": "light"
     },
     "output_type": "display_data"
    }
   ],
   "source": [
    "ii = np.argsort(lmod.params[1:])\n",
    "scoef = np.array(lmod.params[1:])[ii]\n",
    "lcoef = (speedo.columns[:-1])[ii]\n",
    "n = len(scoef)\n",
    "qq = stats.norm.ppf(np.arange(1,n+1)/(n+1))\n",
    "\n",
    "fig, ax = plt.subplots()\n",
    "ax.scatter(qq, scoef,s=1)\n",
    "\n",
    "for i in range(len(qq)):\n",
    "    ax.annotate(lcoef[i], (qq[i],scoef[i]))\n",
    "    \n",
    "plt.xlabel(\"Normal Quantiles\")\n",
    "plt.ylabel(\"Sorted coefficients\")\n",
    "plt.show()"
   ]
  },
  {
   "cell_type": "code",
   "execution_count": 47,
   "metadata": {},
   "outputs": [
    {
     "data": {
      "image/png": "[encoded data removed]",
      "text/plain": [
       "<Figure size 432x288 with 1 Axes>"
      ]
     },
     "metadata": {
      "needs_background": "light"
     },
     "output_type": "display_data"
    }
   ],
   "source": [
    "n = len(scoef)\n",
    "qq = stats.norm.ppf((n + np.arange(1,n+1))/(2*n+1))\n",
    "acoef = np.abs(lmod.params[1:])\n",
    "ii = np.argsort(acoef)\n",
    "acoef = acoef[ii]\n",
    "lcoef = (speedo.columns[:-1])[ii]\n",
    "                    \n",
    "fig, ax = plt.subplots()\n",
    "ax.scatter(qq, acoef,s=1)\n",
    "\n",
    "for i in range(len(qq)):\n",
    "    ax.annotate(lcoef[i], (qq[i],acoef[i]))\n",
    "    \n",
    "plt.xlabel(\"Normal Half Quantiles\")\n",
    "plt.ylabel(\"Sorted absolute coefficients\")\n",
    "plt.show()"
   ]
  }
 ],
 "metadata": {
  "kernelspec": {
   "display_name": "Python 3",
   "language": "python",
   "name": "python3"
  },
  "language_info": {
   "codemirror_mode": {
    "name": "ipython",
    "version": 3
   },
   "file_extension": ".py",
   "mimetype": "text/x-python",
   "name": "python",
   "nbconvert_exporter": "python",
   "pygments_lexer": "ipython3",
   "version": "3.7.6"
  }
 },
 "nbformat": 4,
 "nbformat_minor": 2
}
