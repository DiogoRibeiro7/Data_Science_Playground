{
 "cells": [
  {
   "cell_type": "markdown",
   "metadata": {},
   "source": [
    "# Chapter 7: Problems with the predictors\n",
    "\n",
    "Load the packages:"
   ]
  },
  {
   "cell_type": "code",
   "execution_count": 1,
   "metadata": {},
   "outputs": [
    {
     "data": {
      "text/plain": [
       "'%.7f'"
      ]
     },
     "execution_count": 1,
     "metadata": {},
     "output_type": "execute_result"
    }
   ],
   "source": [
    "import pandas as pd\n",
    "import numpy as np\n",
    "import matplotlib.pyplot as plt\n",
    "import scipy as sp\n",
    "import statsmodels.api as sm\n",
    "import statsmodels.formula.api as smf\n",
    "%precision 7\n"
   ]
  },
  {
   "cell_type": "markdown",
   "metadata": {},
   "source": [
    "## Errors in the predictors\n",
    "\n",
    "Load in the data:"
   ]
  },
  {
   "cell_type": "code",
   "execution_count": 2,
   "metadata": {},
   "outputs": [
    {
     "data": {
      "text/html": [
       "<div>\n",
       "<style scoped>\n",
       "    .dataframe tbody tr th:only-of-type {\n",
       "        vertical-align: middle;\n",
       "    }\n",
       "\n",
       "    .dataframe tbody tr th {\n",
       "        vertical-align: top;\n",
       "    }\n",
       "\n",
       "    .dataframe thead th {\n",
       "        text-align: right;\n",
       "    }\n",
       "</style>\n",
       "<table border=\"1\" class=\"dataframe\">\n",
       "  <thead>\n",
       "    <tr style=\"text-align: right;\">\n",
       "      <th></th>\n",
       "      <th>speed</th>\n",
       "      <th>dist</th>\n",
       "    </tr>\n",
       "  </thead>\n",
       "  <tbody>\n",
       "    <tr>\n",
       "      <th>0</th>\n",
       "      <td>4</td>\n",
       "      <td>2</td>\n",
       "    </tr>\n",
       "    <tr>\n",
       "      <th>1</th>\n",
       "      <td>4</td>\n",
       "      <td>10</td>\n",
       "    </tr>\n",
       "    <tr>\n",
       "      <th>2</th>\n",
       "      <td>7</td>\n",
       "      <td>4</td>\n",
       "    </tr>\n",
       "    <tr>\n",
       "      <th>3</th>\n",
       "      <td>7</td>\n",
       "      <td>22</td>\n",
       "    </tr>\n",
       "    <tr>\n",
       "      <th>4</th>\n",
       "      <td>8</td>\n",
       "      <td>16</td>\n",
       "    </tr>\n",
       "  </tbody>\n",
       "</table>\n",
       "</div>"
      ],
      "text/plain": [
       "   speed  dist\n",
       "0      4     2\n",
       "1      4    10\n",
       "2      7     4\n",
       "3      7    22\n",
       "4      8    16"
      ]
     },
     "execution_count": 2,
     "metadata": {},
     "output_type": "execute_result"
    }
   ],
   "source": [
    "cars = pd.read_csv(\"data/cars.csv\")\n",
    "cars.head()"
   ]
  },
  {
   "cell_type": "markdown",
   "metadata": {},
   "source": [
    "Set up the plot and the random seed"
   ]
  },
  {
   "cell_type": "code",
   "execution_count": 3,
   "metadata": {},
   "outputs": [
    {
     "data": {
      "image/png": "[encoded data removed]",
      "text/plain": [
       "<Figure size 432x288 with 1 Axes>"
      ]
     },
     "metadata": {
      "needs_background": "light"
     },
     "output_type": "display_data"
    }
   ],
   "source": [
    "fig, ax = plt.subplots()\n",
    "ax.scatter(cars.speed, cars.dist)\n",
    "plt.xlabel(\"Speed\")\n",
    "plt.ylabel(\"Distance\")\n",
    "xr = np.array(ax.get_xlim())\n",
    "np.random.seed(123)"
   ]
  },
  {
   "cell_type": "markdown",
   "metadata": {},
   "source": [
    "Do the four fits with increasing amounts of error. Since we only need univariate regression np.polyfit is adequate."
   ]
  },
  {
   "cell_type": "code",
   "execution_count": 4,
   "metadata": {},
   "outputs": [],
   "source": [
    "\n",
    "est = np.polyfit(cars.speed, cars.dist, 1)\n",
    "ax.plot(xr, est[1] + est[0] * xr)\n",
    "est1 = np.polyfit(cars.speed + np.random.normal(size=50), cars.dist, 1)\n",
    "ax.plot(xr, est1[1] + est1[0] * xr, c='red')\n",
    "est2 = np.polyfit(cars.speed + np.random.normal(scale=2,size=50), cars.dist, 1)\n",
    "ax.plot(xr, est2[1] + est2[0] * xr, c='green')\n",
    "est5 = np.polyfit(cars.speed + np.random.normal(scale=5,size=50), cars.dist, 1)\n",
    "ax.plot(xr, est5[1] + est5[0] * xr, c='cyan')\n",
    "plt.show()"
   ]
  },
  {
   "cell_type": "code",
   "execution_count": 5,
   "metadata": {},
   "outputs": [
    {
     "data": {
      "text/plain": [
       "(array([  3.9324088, -17.5790949]),\n",
       " array([  3.7603449, -14.9792162]),\n",
       " array([  3.47154  , -10.7660126]),\n",
       " array([2.0647813, 9.9521318]))"
      ]
     },
     "execution_count": 5,
     "metadata": {},
     "output_type": "execute_result"
    }
   ],
   "source": [
    "est, est1, est2, est5"
   ]
  },
  {
   "cell_type": "code",
   "execution_count": 6,
   "metadata": {},
   "outputs": [],
   "source": [
    "vv = np.repeat(np.array([0.1, 0.2, 0.3, 0.4, 0.5]), [1000, 1000, 1000, 1000, 1000])\n",
    "slopes = np.zeros(5000)\n",
    "for i in range(5000):\n",
    "    slopes[i] = np.polyfit(cars.speed+np.random.normal(scale=np.sqrt(vv[i]), size=50), cars.dist, 1)[0]"
   ]
  },
  {
   "cell_type": "code",
   "execution_count": 7,
   "metadata": {},
   "outputs": [
    {
     "data": {
      "text/plain": [
       "array([-0.1275732,  3.994792 ])"
      ]
     },
     "execution_count": 7,
     "metadata": {},
     "output_type": "execute_result"
    }
   ],
   "source": [
    "betas = np.reshape(slopes, (5, 1000)).mean(axis=1)\n",
    "betas = np.append(betas,est[0])\n",
    "variances = np.array([0.6, 0.7, 0.8, 0.9, 1.0, 0.5])\n",
    "gv = np.polyfit(variances, betas,1)\n",
    "gv"
   ]
  },
  {
   "cell_type": "code",
   "execution_count": 8,
   "metadata": {},
   "outputs": [
    {
     "data": {
      "image/png": "[encoded data removed]",
      "text/plain": [
       "<Figure size 432x288 with 1 Axes>"
      ]
     },
     "metadata": {
      "needs_background": "light"
     },
     "output_type": "display_data"
    }
   ],
   "source": [
    "plt.scatter(variances, betas)\n",
    "xr = np.array([0,1])\n",
    "plt.plot(xr, np.array(gv[1] + gv[0]*xr))\n",
    "plt.plot([0], [gv[1]], marker='x', markersize=6)\n",
    "plt.show()"
   ]
  },
  {
   "cell_type": "markdown",
   "metadata": {},
   "source": [
    "Do not believe there is a `simex` package for Python.\n",
    "\n",
    "## Changes of Scale\n",
    "\n",
    "Read in the data and fit the model:"
   ]
  },
  {
   "cell_type": "code",
   "execution_count": 9,
   "metadata": {},
   "outputs": [
    {
     "data": {
      "text/html": [
       "<table class=\"simpletable\">\n",
       "<caption>OLS Regression Results</caption>\n",
       "<tr>\n",
       "  <th>Dep. Variable:</th>           <td>sr</td>        <th>  R-squared:         </th> <td>   0.338</td>\n",
       "</tr>\n",
       "<tr>\n",
       "  <th>Model:</th>                   <td>OLS</td>       <th>  Adj. R-squared:    </th> <td>   0.280</td>\n",
       "</tr>\n",
       "<tr>\n",
       "  <th>Method:</th>             <td>Least Squares</td>  <th>  F-statistic:       </th> <td>   5.756</td>\n",
       "</tr>\n",
       "<tr>\n",
       "  <th>Date:</th>             <td>Tue, 23 Jun 2020</td> <th>  Prob (F-statistic):</th> <td>0.000790</td>\n",
       "</tr>\n",
       "<tr>\n",
       "  <th>Time:</th>                 <td>16:52:06</td>     <th>  Log-Likelihood:    </th> <td> -135.10</td>\n",
       "</tr>\n",
       "<tr>\n",
       "  <th>No. Observations:</th>      <td>    50</td>      <th>  AIC:               </th> <td>   280.2</td>\n",
       "</tr>\n",
       "<tr>\n",
       "  <th>Df Residuals:</th>          <td>    45</td>      <th>  BIC:               </th> <td>   289.8</td>\n",
       "</tr>\n",
       "<tr>\n",
       "  <th>Df Model:</th>              <td>     4</td>      <th>                     </th>     <td> </td>   \n",
       "</tr>\n",
       "<tr>\n",
       "  <th>Covariance Type:</th>      <td>nonrobust</td>    <th>                     </th>     <td> </td>   \n",
       "</tr>\n",
       "</table>\n",
       "<table class=\"simpletable\">\n",
       "<tr>\n",
       "      <td></td>         <th>coef</th>     <th>std err</th>      <th>t</th>      <th>P>|t|</th>  <th>[0.025</th>    <th>0.975]</th>  \n",
       "</tr>\n",
       "<tr>\n",
       "  <th>Intercept</th> <td>   28.5661</td> <td>    7.355</td> <td>    3.884</td> <td> 0.000</td> <td>   13.753</td> <td>   43.379</td>\n",
       "</tr>\n",
       "<tr>\n",
       "  <th>pop15</th>     <td>   -0.4612</td> <td>    0.145</td> <td>   -3.189</td> <td> 0.003</td> <td>   -0.753</td> <td>   -0.170</td>\n",
       "</tr>\n",
       "<tr>\n",
       "  <th>pop75</th>     <td>   -1.6915</td> <td>    1.084</td> <td>   -1.561</td> <td> 0.126</td> <td>   -3.874</td> <td>    0.491</td>\n",
       "</tr>\n",
       "<tr>\n",
       "  <th>dpi</th>       <td>   -0.0003</td> <td>    0.001</td> <td>   -0.362</td> <td> 0.719</td> <td>   -0.002</td> <td>    0.002</td>\n",
       "</tr>\n",
       "<tr>\n",
       "  <th>ddpi</th>      <td>    0.4097</td> <td>    0.196</td> <td>    2.088</td> <td> 0.042</td> <td>    0.015</td> <td>    0.805</td>\n",
       "</tr>\n",
       "</table>\n",
       "<table class=\"simpletable\">\n",
       "<tr>\n",
       "  <th>Omnibus:</th>       <td> 0.866</td> <th>  Durbin-Watson:     </th> <td>   1.934</td>\n",
       "</tr>\n",
       "<tr>\n",
       "  <th>Prob(Omnibus):</th> <td> 0.649</td> <th>  Jarque-Bera (JB):  </th> <td>   0.493</td>\n",
       "</tr>\n",
       "<tr>\n",
       "  <th>Skew:</th>          <td> 0.241</td> <th>  Prob(JB):          </th> <td>   0.782</td>\n",
       "</tr>\n",
       "<tr>\n",
       "  <th>Kurtosis:</th>      <td> 3.064</td> <th>  Cond. No.          </th> <td>2.04e+04</td>\n",
       "</tr>\n",
       "</table><br/><br/>Warnings:<br/>[1] Standard Errors assume that the covariance matrix of the errors is correctly specified.<br/>[2] The condition number is large, 2.04e+04. This might indicate that there are<br/>strong multicollinearity or other numerical problems."
      ],
      "text/plain": [
       "<class 'statsmodels.iolib.summary.Summary'>\n",
       "\"\"\"\n",
       "                            OLS Regression Results                            \n",
       "==============================================================================\n",
       "Dep. Variable:                     sr   R-squared:                       0.338\n",
       "Model:                            OLS   Adj. R-squared:                  0.280\n",
       "Method:                 Least Squares   F-statistic:                     5.756\n",
       "Date:                Tue, 23 Jun 2020   Prob (F-statistic):           0.000790\n",
       "Time:                        16:52:06   Log-Likelihood:                -135.10\n",
       "No. Observations:                  50   AIC:                             280.2\n",
       "Df Residuals:                      45   BIC:                             289.8\n",
       "Df Model:                           4                                         \n",
       "Covariance Type:            nonrobust                                         \n",
       "==============================================================================\n",
       "                 coef    std err          t      P>|t|      [0.025      0.975]\n",
       "------------------------------------------------------------------------------\n",
       "Intercept     28.5661      7.355      3.884      0.000      13.753      43.379\n",
       "pop15         -0.4612      0.145     -3.189      0.003      -0.753      -0.170\n",
       "pop75         -1.6915      1.084     -1.561      0.126      -3.874       0.491\n",
       "dpi           -0.0003      0.001     -0.362      0.719      -0.002       0.002\n",
       "ddpi           0.4097      0.196      2.088      0.042       0.015       0.805\n",
       "==============================================================================\n",
       "Omnibus:                        0.866   Durbin-Watson:                   1.934\n",
       "Prob(Omnibus):                  0.649   Jarque-Bera (JB):                0.493\n",
       "Skew:                           0.241   Prob(JB):                        0.782\n",
       "Kurtosis:                       3.064   Cond. No.                     2.04e+04\n",
       "==============================================================================\n",
       "\n",
       "Warnings:\n",
       "[1] Standard Errors assume that the covariance matrix of the errors is correctly specified.\n",
       "[2] The condition number is large, 2.04e+04. This might indicate that there are\n",
       "strong multicollinearity or other numerical problems.\n",
       "\"\"\""
      ]
     },
     "execution_count": 9,
     "metadata": {},
     "output_type": "execute_result"
    }
   ],
   "source": [
    "savings = pd.read_csv(\"data/savings.csv\",index_col=0)\n",
    "lmod = smf.ols(formula = 'sr ~ pop15 + pop75 + dpi + ddpi', data=savings).fit()\n",
    "lmod.summary()"
   ]
  },
  {
   "cell_type": "markdown",
   "metadata": {},
   "source": [
    "Rescale one of the predictors:"
   ]
  },
  {
   "cell_type": "code",
   "execution_count": 10,
   "metadata": {},
   "outputs": [
    {
     "data": {
      "text/html": [
       "<table class=\"simpletable\">\n",
       "<caption>OLS Regression Results</caption>\n",
       "<tr>\n",
       "  <th>Dep. Variable:</th>           <td>sr</td>        <th>  R-squared:         </th> <td>   0.338</td>\n",
       "</tr>\n",
       "<tr>\n",
       "  <th>Model:</th>                   <td>OLS</td>       <th>  Adj. R-squared:    </th> <td>   0.280</td>\n",
       "</tr>\n",
       "<tr>\n",
       "  <th>Method:</th>             <td>Least Squares</td>  <th>  F-statistic:       </th> <td>   5.756</td>\n",
       "</tr>\n",
       "<tr>\n",
       "  <th>Date:</th>             <td>Tue, 23 Jun 2020</td> <th>  Prob (F-statistic):</th> <td>0.000790</td>\n",
       "</tr>\n",
       "<tr>\n",
       "  <th>Time:</th>                 <td>16:52:06</td>     <th>  Log-Likelihood:    </th> <td> -135.10</td>\n",
       "</tr>\n",
       "<tr>\n",
       "  <th>No. Observations:</th>      <td>    50</td>      <th>  AIC:               </th> <td>   280.2</td>\n",
       "</tr>\n",
       "<tr>\n",
       "  <th>Df Residuals:</th>          <td>    45</td>      <th>  BIC:               </th> <td>   289.8</td>\n",
       "</tr>\n",
       "<tr>\n",
       "  <th>Df Model:</th>              <td>     4</td>      <th>                     </th>     <td> </td>   \n",
       "</tr>\n",
       "<tr>\n",
       "  <th>Covariance Type:</th>      <td>nonrobust</td>    <th>                     </th>     <td> </td>   \n",
       "</tr>\n",
       "</table>\n",
       "<table class=\"simpletable\">\n",
       "<tr>\n",
       "        <td></td>           <th>coef</th>     <th>std err</th>      <th>t</th>      <th>P>|t|</th>  <th>[0.025</th>    <th>0.975]</th>  \n",
       "</tr>\n",
       "<tr>\n",
       "  <th>Intercept</th>     <td>   28.5661</td> <td>    7.355</td> <td>    3.884</td> <td> 0.000</td> <td>   13.753</td> <td>   43.379</td>\n",
       "</tr>\n",
       "<tr>\n",
       "  <th>pop15</th>         <td>   -0.4612</td> <td>    0.145</td> <td>   -3.189</td> <td> 0.003</td> <td>   -0.753</td> <td>   -0.170</td>\n",
       "</tr>\n",
       "<tr>\n",
       "  <th>pop75</th>         <td>   -1.6915</td> <td>    1.084</td> <td>   -1.561</td> <td> 0.126</td> <td>   -3.874</td> <td>    0.491</td>\n",
       "</tr>\n",
       "<tr>\n",
       "  <th>I(dpi / 1000)</th> <td>   -0.3369</td> <td>    0.931</td> <td>   -0.362</td> <td> 0.719</td> <td>   -2.212</td> <td>    1.538</td>\n",
       "</tr>\n",
       "<tr>\n",
       "  <th>ddpi</th>          <td>    0.4097</td> <td>    0.196</td> <td>    2.088</td> <td> 0.042</td> <td>    0.015</td> <td>    0.805</td>\n",
       "</tr>\n",
       "</table>\n",
       "<table class=\"simpletable\">\n",
       "<tr>\n",
       "  <th>Omnibus:</th>       <td> 0.866</td> <th>  Durbin-Watson:     </th> <td>   1.934</td>\n",
       "</tr>\n",
       "<tr>\n",
       "  <th>Prob(Omnibus):</th> <td> 0.649</td> <th>  Jarque-Bera (JB):  </th> <td>   0.493</td>\n",
       "</tr>\n",
       "<tr>\n",
       "  <th>Skew:</th>          <td> 0.241</td> <th>  Prob(JB):          </th> <td>   0.782</td>\n",
       "</tr>\n",
       "<tr>\n",
       "  <th>Kurtosis:</th>      <td> 3.064</td> <th>  Cond. No.          </th> <td>    503.</td>\n",
       "</tr>\n",
       "</table><br/><br/>Warnings:<br/>[1] Standard Errors assume that the covariance matrix of the errors is correctly specified."
      ],
      "text/plain": [
       "<class 'statsmodels.iolib.summary.Summary'>\n",
       "\"\"\"\n",
       "                            OLS Regression Results                            \n",
       "==============================================================================\n",
       "Dep. Variable:                     sr   R-squared:                       0.338\n",
       "Model:                            OLS   Adj. R-squared:                  0.280\n",
       "Method:                 Least Squares   F-statistic:                     5.756\n",
       "Date:                Tue, 23 Jun 2020   Prob (F-statistic):           0.000790\n",
       "Time:                        16:52:06   Log-Likelihood:                -135.10\n",
       "No. Observations:                  50   AIC:                             280.2\n",
       "Df Residuals:                      45   BIC:                             289.8\n",
       "Df Model:                           4                                         \n",
       "Covariance Type:            nonrobust                                         \n",
       "=================================================================================\n",
       "                    coef    std err          t      P>|t|      [0.025      0.975]\n",
       "---------------------------------------------------------------------------------\n",
       "Intercept        28.5661      7.355      3.884      0.000      13.753      43.379\n",
       "pop15            -0.4612      0.145     -3.189      0.003      -0.753      -0.170\n",
       "pop75            -1.6915      1.084     -1.561      0.126      -3.874       0.491\n",
       "I(dpi / 1000)    -0.3369      0.931     -0.362      0.719      -2.212       1.538\n",
       "ddpi              0.4097      0.196      2.088      0.042       0.015       0.805\n",
       "==============================================================================\n",
       "Omnibus:                        0.866   Durbin-Watson:                   1.934\n",
       "Prob(Omnibus):                  0.649   Jarque-Bera (JB):                0.493\n",
       "Skew:                           0.241   Prob(JB):                        0.782\n",
       "Kurtosis:                       3.064   Cond. No.                         503.\n",
       "==============================================================================\n",
       "\n",
       "Warnings:\n",
       "[1] Standard Errors assume that the covariance matrix of the errors is correctly specified.\n",
       "\"\"\""
      ]
     },
     "execution_count": 10,
     "metadata": {},
     "output_type": "execute_result"
    }
   ],
   "source": [
    "lmod = smf.ols(formula = 'sr ~ pop15 + pop75 + I(dpi/1000) + ddpi', data=savings).fit()\n",
    "lmod.summary()"
   ]
  },
  {
   "cell_type": "markdown",
   "metadata": {},
   "source": [
    "Standardize all the variables:"
   ]
  },
  {
   "cell_type": "code",
   "execution_count": 11,
   "metadata": {},
   "outputs": [
    {
     "data": {
      "text/html": [
       "<table class=\"simpletable\">\n",
       "<caption>OLS Regression Results</caption>\n",
       "<tr>\n",
       "  <th>Dep. Variable:</th>           <td>sr</td>        <th>  R-squared:         </th> <td>   0.338</td>\n",
       "</tr>\n",
       "<tr>\n",
       "  <th>Model:</th>                   <td>OLS</td>       <th>  Adj. R-squared:    </th> <td>   0.280</td>\n",
       "</tr>\n",
       "<tr>\n",
       "  <th>Method:</th>             <td>Least Squares</td>  <th>  F-statistic:       </th> <td>   5.756</td>\n",
       "</tr>\n",
       "<tr>\n",
       "  <th>Date:</th>             <td>Tue, 23 Jun 2020</td> <th>  Prob (F-statistic):</th> <td>0.000790</td>\n",
       "</tr>\n",
       "<tr>\n",
       "  <th>Time:</th>                 <td>16:52:06</td>     <th>  Log-Likelihood:    </th> <td> -60.617</td>\n",
       "</tr>\n",
       "<tr>\n",
       "  <th>No. Observations:</th>      <td>    50</td>      <th>  AIC:               </th> <td>   131.2</td>\n",
       "</tr>\n",
       "<tr>\n",
       "  <th>Df Residuals:</th>          <td>    45</td>      <th>  BIC:               </th> <td>   140.8</td>\n",
       "</tr>\n",
       "<tr>\n",
       "  <th>Df Model:</th>              <td>     4</td>      <th>                     </th>     <td> </td>   \n",
       "</tr>\n",
       "<tr>\n",
       "  <th>Covariance Type:</th>      <td>nonrobust</td>    <th>                     </th>     <td> </td>   \n",
       "</tr>\n",
       "</table>\n",
       "<table class=\"simpletable\">\n",
       "<tr>\n",
       "      <td></td>         <th>coef</th>     <th>std err</th>      <th>t</th>      <th>P>|t|</th>  <th>[0.025</th>    <th>0.975]</th>  \n",
       "</tr>\n",
       "<tr>\n",
       "  <th>Intercept</th> <td> 1.665e-16</td> <td>    0.121</td> <td> 1.37e-15</td> <td> 1.000</td> <td>   -0.244</td> <td>    0.244</td>\n",
       "</tr>\n",
       "<tr>\n",
       "  <th>pop15</th>     <td>   -0.9420</td> <td>    0.295</td> <td>   -3.189</td> <td> 0.003</td> <td>   -1.537</td> <td>   -0.347</td>\n",
       "</tr>\n",
       "<tr>\n",
       "  <th>pop75</th>     <td>   -0.4873</td> <td>    0.312</td> <td>   -1.561</td> <td> 0.126</td> <td>   -1.116</td> <td>    0.141</td>\n",
       "</tr>\n",
       "<tr>\n",
       "  <th>dpi</th>       <td>   -0.0745</td> <td>    0.206</td> <td>   -0.362</td> <td> 0.719</td> <td>   -0.489</td> <td>    0.340</td>\n",
       "</tr>\n",
       "<tr>\n",
       "  <th>ddpi</th>      <td>    0.2624</td> <td>    0.126</td> <td>    2.088</td> <td> 0.042</td> <td>    0.009</td> <td>    0.516</td>\n",
       "</tr>\n",
       "</table>\n",
       "<table class=\"simpletable\">\n",
       "<tr>\n",
       "  <th>Omnibus:</th>       <td> 0.866</td> <th>  Durbin-Watson:     </th> <td>   1.934</td>\n",
       "</tr>\n",
       "<tr>\n",
       "  <th>Prob(Omnibus):</th> <td> 0.649</td> <th>  Jarque-Bera (JB):  </th> <td>   0.493</td>\n",
       "</tr>\n",
       "<tr>\n",
       "  <th>Skew:</th>          <td> 0.241</td> <th>  Prob(JB):          </th> <td>   0.782</td>\n",
       "</tr>\n",
       "<tr>\n",
       "  <th>Kurtosis:</th>      <td> 3.064</td> <th>  Cond. No.          </th> <td>    5.42</td>\n",
       "</tr>\n",
       "</table><br/><br/>Warnings:<br/>[1] Standard Errors assume that the covariance matrix of the errors is correctly specified."
      ],
      "text/plain": [
       "<class 'statsmodels.iolib.summary.Summary'>\n",
       "\"\"\"\n",
       "                            OLS Regression Results                            \n",
       "==============================================================================\n",
       "Dep. Variable:                     sr   R-squared:                       0.338\n",
       "Model:                            OLS   Adj. R-squared:                  0.280\n",
       "Method:                 Least Squares   F-statistic:                     5.756\n",
       "Date:                Tue, 23 Jun 2020   Prob (F-statistic):           0.000790\n",
       "Time:                        16:52:06   Log-Likelihood:                -60.617\n",
       "No. Observations:                  50   AIC:                             131.2\n",
       "Df Residuals:                      45   BIC:                             140.8\n",
       "Df Model:                           4                                         \n",
       "Covariance Type:            nonrobust                                         \n",
       "==============================================================================\n",
       "                 coef    std err          t      P>|t|      [0.025      0.975]\n",
       "------------------------------------------------------------------------------\n",
       "Intercept   1.665e-16      0.121   1.37e-15      1.000      -0.244       0.244\n",
       "pop15         -0.9420      0.295     -3.189      0.003      -1.537      -0.347\n",
       "pop75         -0.4873      0.312     -1.561      0.126      -1.116       0.141\n",
       "dpi           -0.0745      0.206     -0.362      0.719      -0.489       0.340\n",
       "ddpi           0.2624      0.126      2.088      0.042       0.009       0.516\n",
       "==============================================================================\n",
       "Omnibus:                        0.866   Durbin-Watson:                   1.934\n",
       "Prob(Omnibus):                  0.649   Jarque-Bera (JB):                0.493\n",
       "Skew:                           0.241   Prob(JB):                        0.782\n",
       "Kurtosis:                       3.064   Cond. No.                         5.42\n",
       "==============================================================================\n",
       "\n",
       "Warnings:\n",
       "[1] Standard Errors assume that the covariance matrix of the errors is correctly specified.\n",
       "\"\"\""
      ]
     },
     "execution_count": 11,
     "metadata": {},
     "output_type": "execute_result"
    }
   ],
   "source": [
    "scsav = savings.apply(sp.stats.zscore)\n",
    "lmod = smf.ols(formula = 'sr ~ pop15 + pop75 + dpi + ddpi', data=scsav).fit()\n",
    "lmod.summary()"
   ]
  },
  {
   "cell_type": "markdown",
   "metadata": {},
   "source": [
    "Set up data frame and make a plot of the estimates and confidence intervals:"
   ]
  },
  {
   "cell_type": "code",
   "execution_count": 12,
   "metadata": {},
   "outputs": [
    {
     "data": {
      "image/png": "[encoded data removed]",
      "text/plain": [
       "<Figure size 432x288 with 1 Axes>"
      ]
     },
     "metadata": {
      "needs_background": "light"
     },
     "output_type": "display_data"
    }
   ],
   "source": [
    "edf = pd.concat([lmod.params, lmod.conf_int()],axis=1).iloc[1:,]\n",
    "edf.columns = ['estimate','lb','ub']\n",
    "npreds = edf.shape[0]\n",
    "fig, ax = plt.subplots()\n",
    "ax.scatter(edf.estimate,np.arange(npreds))\n",
    "for i in range(npreds):\n",
    "    ax.plot([edf.lb[i], edf.ub[i]], [i, i])\n",
    "ax.set_yticks(np.arange(npreds))\n",
    "ax.set_yticklabels(edf.index)\n",
    "ax.axvline(0)\n",
    "plt.show()"
   ]
  },
  {
   "cell_type": "markdown",
   "metadata": {},
   "source": [
    "Do Gelman's rescaling:"
   ]
  },
  {
   "cell_type": "code",
   "execution_count": 13,
   "metadata": {},
   "outputs": [
    {
     "data": {
      "text/html": [
       "<table class=\"simpletable\">\n",
       "<caption>OLS Regression Results</caption>\n",
       "<tr>\n",
       "  <th>Dep. Variable:</th>           <td>sr</td>        <th>  R-squared:         </th> <td>   0.325</td>\n",
       "</tr>\n",
       "<tr>\n",
       "  <th>Model:</th>                   <td>OLS</td>       <th>  Adj. R-squared:    </th> <td>   0.281</td>\n",
       "</tr>\n",
       "<tr>\n",
       "  <th>Method:</th>             <td>Least Squares</td>  <th>  F-statistic:       </th> <td>   7.374</td>\n",
       "</tr>\n",
       "<tr>\n",
       "  <th>Date:</th>             <td>Tue, 23 Jun 2020</td> <th>  Prob (F-statistic):</th> <td>0.000391</td>\n",
       "</tr>\n",
       "<tr>\n",
       "  <th>Time:</th>                 <td>16:52:06</td>     <th>  Log-Likelihood:    </th> <td> -135.61</td>\n",
       "</tr>\n",
       "<tr>\n",
       "  <th>No. Observations:</th>      <td>    50</td>      <th>  AIC:               </th> <td>   279.2</td>\n",
       "</tr>\n",
       "<tr>\n",
       "  <th>Df Residuals:</th>          <td>    46</td>      <th>  BIC:               </th> <td>   286.9</td>\n",
       "</tr>\n",
       "<tr>\n",
       "  <th>Df Model:</th>              <td>     3</td>      <th>                     </th>     <td> </td>   \n",
       "</tr>\n",
       "<tr>\n",
       "  <th>Covariance Type:</th>      <td>nonrobust</td>    <th>                     </th>     <td> </td>   \n",
       "</tr>\n",
       "</table>\n",
       "<table class=\"simpletable\">\n",
       "<tr>\n",
       "      <td></td>         <th>coef</th>     <th>std err</th>      <th>t</th>      <th>P>|t|</th>  <th>[0.025</th>    <th>0.975]</th>  \n",
       "</tr>\n",
       "<tr>\n",
       "  <th>Intercept</th> <td>    6.8176</td> <td>    1.011</td> <td>    6.746</td> <td> 0.000</td> <td>    4.783</td> <td>    8.852</td>\n",
       "</tr>\n",
       "<tr>\n",
       "  <th>age</th>       <td>    5.2841</td> <td>    1.585</td> <td>    3.334</td> <td> 0.002</td> <td>    2.094</td> <td>    8.474</td>\n",
       "</tr>\n",
       "<tr>\n",
       "  <th>dpis</th>      <td>   -1.5485</td> <td>    1.593</td> <td>   -0.972</td> <td> 0.336</td> <td>   -4.755</td> <td>    1.658</td>\n",
       "</tr>\n",
       "<tr>\n",
       "  <th>ddpis</th>     <td>    2.4433</td> <td>    1.097</td> <td>    2.227</td> <td> 0.031</td> <td>    0.235</td> <td>    4.651</td>\n",
       "</tr>\n",
       "</table>\n",
       "<table class=\"simpletable\">\n",
       "<tr>\n",
       "  <th>Omnibus:</th>       <td> 2.962</td> <th>  Durbin-Watson:     </th> <td>   2.035</td>\n",
       "</tr>\n",
       "<tr>\n",
       "  <th>Prob(Omnibus):</th> <td> 0.227</td> <th>  Jarque-Bera (JB):  </th> <td>   1.987</td>\n",
       "</tr>\n",
       "<tr>\n",
       "  <th>Skew:</th>          <td> 0.433</td> <th>  Prob(JB):          </th> <td>   0.370</td>\n",
       "</tr>\n",
       "<tr>\n",
       "  <th>Kurtosis:</th>      <td> 3.451</td> <th>  Cond. No.          </th> <td>    4.92</td>\n",
       "</tr>\n",
       "</table><br/><br/>Warnings:<br/>[1] Standard Errors assume that the covariance matrix of the errors is correctly specified."
      ],
      "text/plain": [
       "<class 'statsmodels.iolib.summary.Summary'>\n",
       "\"\"\"\n",
       "                            OLS Regression Results                            \n",
       "==============================================================================\n",
       "Dep. Variable:                     sr   R-squared:                       0.325\n",
       "Model:                            OLS   Adj. R-squared:                  0.281\n",
       "Method:                 Least Squares   F-statistic:                     7.374\n",
       "Date:                Tue, 23 Jun 2020   Prob (F-statistic):           0.000391\n",
       "Time:                        16:52:06   Log-Likelihood:                -135.61\n",
       "No. Observations:                  50   AIC:                             279.2\n",
       "Df Residuals:                      46   BIC:                             286.9\n",
       "Df Model:                           3                                         \n",
       "Covariance Type:            nonrobust                                         \n",
       "==============================================================================\n",
       "                 coef    std err          t      P>|t|      [0.025      0.975]\n",
       "------------------------------------------------------------------------------\n",
       "Intercept      6.8176      1.011      6.746      0.000       4.783       8.852\n",
       "age            5.2841      1.585      3.334      0.002       2.094       8.474\n",
       "dpis          -1.5485      1.593     -0.972      0.336      -4.755       1.658\n",
       "ddpis          2.4433      1.097      2.227      0.031       0.235       4.651\n",
       "==============================================================================\n",
       "Omnibus:                        2.962   Durbin-Watson:                   2.035\n",
       "Prob(Omnibus):                  0.227   Jarque-Bera (JB):                1.987\n",
       "Skew:                           0.433   Prob(JB):                        0.370\n",
       "Kurtosis:                       3.451   Cond. No.                         4.92\n",
       "==============================================================================\n",
       "\n",
       "Warnings:\n",
       "[1] Standard Errors assume that the covariance matrix of the errors is correctly specified.\n",
       "\"\"\""
      ]
     },
     "execution_count": 13,
     "metadata": {},
     "output_type": "execute_result"
    }
   ],
   "source": [
    "savings['age'] = np.where(savings.pop15 > 35, 0, 1)\n",
    "savings['dpis'] = sp.stats.zscore(savings.dpi)/2\n",
    "savings['ddpis'] = sp.stats.zscore(savings.ddpi)/2\n",
    "smf.ols(formula='sr ~ age + dpis + ddpis', data=savings).fit().summary()"
   ]
  },
  {
   "cell_type": "markdown",
   "metadata": {},
   "source": [
    "## Collinearity\n",
    "\n",
    "Read in the data:"
   ]
  },
  {
   "cell_type": "code",
   "execution_count": 14,
   "metadata": {},
   "outputs": [
    {
     "data": {
      "text/html": [
       "<div>\n",
       "<style scoped>\n",
       "    .dataframe tbody tr th:only-of-type {\n",
       "        vertical-align: middle;\n",
       "    }\n",
       "\n",
       "    .dataframe tbody tr th {\n",
       "        vertical-align: top;\n",
       "    }\n",
       "\n",
       "    .dataframe thead th {\n",
       "        text-align: right;\n",
       "    }\n",
       "</style>\n",
       "<table border=\"1\" class=\"dataframe\">\n",
       "  <thead>\n",
       "    <tr style=\"text-align: right;\">\n",
       "      <th></th>\n",
       "      <th>Age</th>\n",
       "      <th>Weight</th>\n",
       "      <th>HtShoes</th>\n",
       "      <th>Ht</th>\n",
       "      <th>Seated</th>\n",
       "      <th>Arm</th>\n",
       "      <th>Thigh</th>\n",
       "      <th>Leg</th>\n",
       "      <th>hipcenter</th>\n",
       "    </tr>\n",
       "  </thead>\n",
       "  <tbody>\n",
       "    <tr>\n",
       "      <th>0</th>\n",
       "      <td>46</td>\n",
       "      <td>180</td>\n",
       "      <td>187.2</td>\n",
       "      <td>184.9</td>\n",
       "      <td>95.2</td>\n",
       "      <td>36.1</td>\n",
       "      <td>45.3</td>\n",
       "      <td>41.3</td>\n",
       "      <td>-206.300</td>\n",
       "    </tr>\n",
       "    <tr>\n",
       "      <th>1</th>\n",
       "      <td>31</td>\n",
       "      <td>175</td>\n",
       "      <td>167.5</td>\n",
       "      <td>165.5</td>\n",
       "      <td>83.8</td>\n",
       "      <td>32.9</td>\n",
       "      <td>36.5</td>\n",
       "      <td>35.9</td>\n",
       "      <td>-178.210</td>\n",
       "    </tr>\n",
       "    <tr>\n",
       "      <th>2</th>\n",
       "      <td>23</td>\n",
       "      <td>100</td>\n",
       "      <td>153.6</td>\n",
       "      <td>152.2</td>\n",
       "      <td>82.9</td>\n",
       "      <td>26.0</td>\n",
       "      <td>36.6</td>\n",
       "      <td>31.0</td>\n",
       "      <td>-71.673</td>\n",
       "    </tr>\n",
       "    <tr>\n",
       "      <th>3</th>\n",
       "      <td>19</td>\n",
       "      <td>185</td>\n",
       "      <td>190.3</td>\n",
       "      <td>187.4</td>\n",
       "      <td>97.3</td>\n",
       "      <td>37.4</td>\n",
       "      <td>44.1</td>\n",
       "      <td>41.0</td>\n",
       "      <td>-257.720</td>\n",
       "    </tr>\n",
       "    <tr>\n",
       "      <th>4</th>\n",
       "      <td>23</td>\n",
       "      <td>159</td>\n",
       "      <td>178.0</td>\n",
       "      <td>174.1</td>\n",
       "      <td>93.9</td>\n",
       "      <td>29.5</td>\n",
       "      <td>40.1</td>\n",
       "      <td>36.9</td>\n",
       "      <td>-173.230</td>\n",
       "    </tr>\n",
       "  </tbody>\n",
       "</table>\n",
       "</div>"
      ],
      "text/plain": [
       "   Age  Weight  HtShoes     Ht  Seated   Arm  Thigh   Leg  hipcenter\n",
       "0   46     180    187.2  184.9    95.2  36.1   45.3  41.3   -206.300\n",
       "1   31     175    167.5  165.5    83.8  32.9   36.5  35.9   -178.210\n",
       "2   23     100    153.6  152.2    82.9  26.0   36.6  31.0    -71.673\n",
       "3   19     185    190.3  187.4    97.3  37.4   44.1  41.0   -257.720\n",
       "4   23     159    178.0  174.1    93.9  29.5   40.1  36.9   -173.230"
      ]
     },
     "execution_count": 14,
     "metadata": {},
     "output_type": "execute_result"
    }
   ],
   "source": [
    "seatpos = pd.read_csv(\"data/seatpos.csv\")\n",
    "seatpos.head()"
   ]
  },
  {
   "cell_type": "markdown",
   "metadata": {},
   "source": [
    "Fit a model with all the predictors:"
   ]
  },
  {
   "cell_type": "code",
   "execution_count": 15,
   "metadata": {},
   "outputs": [
    {
     "data": {
      "text/html": [
       "<table class=\"simpletable\">\n",
       "<caption>OLS Regression Results</caption>\n",
       "<tr>\n",
       "  <th>Dep. Variable:</th>        <td>hipcenter</td>    <th>  R-squared:         </th> <td>   0.687</td>\n",
       "</tr>\n",
       "<tr>\n",
       "  <th>Model:</th>                   <td>OLS</td>       <th>  Adj. R-squared:    </th> <td>   0.600</td>\n",
       "</tr>\n",
       "<tr>\n",
       "  <th>Method:</th>             <td>Least Squares</td>  <th>  F-statistic:       </th> <td>   7.940</td>\n",
       "</tr>\n",
       "<tr>\n",
       "  <th>Date:</th>             <td>Tue, 23 Jun 2020</td> <th>  Prob (F-statistic):</th> <td>1.31e-05</td>\n",
       "</tr>\n",
       "<tr>\n",
       "  <th>Time:</th>                 <td>16:52:06</td>     <th>  Log-Likelihood:    </th> <td> -186.73</td>\n",
       "</tr>\n",
       "<tr>\n",
       "  <th>No. Observations:</th>      <td>    38</td>      <th>  AIC:               </th> <td>   391.5</td>\n",
       "</tr>\n",
       "<tr>\n",
       "  <th>Df Residuals:</th>          <td>    29</td>      <th>  BIC:               </th> <td>   406.2</td>\n",
       "</tr>\n",
       "<tr>\n",
       "  <th>Df Model:</th>              <td>     8</td>      <th>                     </th>     <td> </td>   \n",
       "</tr>\n",
       "<tr>\n",
       "  <th>Covariance Type:</th>      <td>nonrobust</td>    <th>                     </th>     <td> </td>   \n",
       "</tr>\n",
       "</table>\n",
       "<table class=\"simpletable\">\n",
       "<tr>\n",
       "      <td></td>         <th>coef</th>     <th>std err</th>      <th>t</th>      <th>P>|t|</th>  <th>[0.025</th>    <th>0.975]</th>  \n",
       "</tr>\n",
       "<tr>\n",
       "  <th>Intercept</th> <td>  436.4321</td> <td>  166.572</td> <td>    2.620</td> <td> 0.014</td> <td>   95.755</td> <td>  777.109</td>\n",
       "</tr>\n",
       "<tr>\n",
       "  <th>Age</th>       <td>    0.7757</td> <td>    0.570</td> <td>    1.360</td> <td> 0.184</td> <td>   -0.391</td> <td>    1.942</td>\n",
       "</tr>\n",
       "<tr>\n",
       "  <th>Weight</th>    <td>    0.0263</td> <td>    0.331</td> <td>    0.080</td> <td> 0.937</td> <td>   -0.651</td> <td>    0.703</td>\n",
       "</tr>\n",
       "<tr>\n",
       "  <th>HtShoes</th>   <td>   -2.6924</td> <td>    9.753</td> <td>   -0.276</td> <td> 0.784</td> <td>  -22.640</td> <td>   17.255</td>\n",
       "</tr>\n",
       "<tr>\n",
       "  <th>Ht</th>        <td>    0.6013</td> <td>   10.130</td> <td>    0.059</td> <td> 0.953</td> <td>  -20.117</td> <td>   21.319</td>\n",
       "</tr>\n",
       "<tr>\n",
       "  <th>Seated</th>    <td>    0.5338</td> <td>    3.762</td> <td>    0.142</td> <td> 0.888</td> <td>   -7.160</td> <td>    8.228</td>\n",
       "</tr>\n",
       "<tr>\n",
       "  <th>Arm</th>       <td>   -1.3281</td> <td>    3.900</td> <td>   -0.341</td> <td> 0.736</td> <td>   -9.305</td> <td>    6.649</td>\n",
       "</tr>\n",
       "<tr>\n",
       "  <th>Thigh</th>     <td>   -1.1431</td> <td>    2.660</td> <td>   -0.430</td> <td> 0.671</td> <td>   -6.583</td> <td>    4.297</td>\n",
       "</tr>\n",
       "<tr>\n",
       "  <th>Leg</th>       <td>   -6.4390</td> <td>    4.714</td> <td>   -1.366</td> <td> 0.182</td> <td>  -16.080</td> <td>    3.202</td>\n",
       "</tr>\n",
       "</table>\n",
       "<table class=\"simpletable\">\n",
       "<tr>\n",
       "  <th>Omnibus:</th>       <td> 0.543</td> <th>  Durbin-Watson:     </th> <td>   1.769</td>\n",
       "</tr>\n",
       "<tr>\n",
       "  <th>Prob(Omnibus):</th> <td> 0.762</td> <th>  Jarque-Bera (JB):  </th> <td>   0.664</td>\n",
       "</tr>\n",
       "<tr>\n",
       "  <th>Skew:</th>          <td> 0.157</td> <th>  Prob(JB):          </th> <td>   0.717</td>\n",
       "</tr>\n",
       "<tr>\n",
       "  <th>Kurtosis:</th>      <td> 2.434</td> <th>  Cond. No.          </th> <td>8.44e+03</td>\n",
       "</tr>\n",
       "</table><br/><br/>Warnings:<br/>[1] Standard Errors assume that the covariance matrix of the errors is correctly specified.<br/>[2] The condition number is large, 8.44e+03. This might indicate that there are<br/>strong multicollinearity or other numerical problems."
      ],
      "text/plain": [
       "<class 'statsmodels.iolib.summary.Summary'>\n",
       "\"\"\"\n",
       "                            OLS Regression Results                            \n",
       "==============================================================================\n",
       "Dep. Variable:              hipcenter   R-squared:                       0.687\n",
       "Model:                            OLS   Adj. R-squared:                  0.600\n",
       "Method:                 Least Squares   F-statistic:                     7.940\n",
       "Date:                Tue, 23 Jun 2020   Prob (F-statistic):           1.31e-05\n",
       "Time:                        16:52:06   Log-Likelihood:                -186.73\n",
       "No. Observations:                  38   AIC:                             391.5\n",
       "Df Residuals:                      29   BIC:                             406.2\n",
       "Df Model:                           8                                         \n",
       "Covariance Type:            nonrobust                                         \n",
       "==============================================================================\n",
       "                 coef    std err          t      P>|t|      [0.025      0.975]\n",
       "------------------------------------------------------------------------------\n",
       "Intercept    436.4321    166.572      2.620      0.014      95.755     777.109\n",
       "Age            0.7757      0.570      1.360      0.184      -0.391       1.942\n",
       "Weight         0.0263      0.331      0.080      0.937      -0.651       0.703\n",
       "HtShoes       -2.6924      9.753     -0.276      0.784     -22.640      17.255\n",
       "Ht             0.6013     10.130      0.059      0.953     -20.117      21.319\n",
       "Seated         0.5338      3.762      0.142      0.888      -7.160       8.228\n",
       "Arm           -1.3281      3.900     -0.341      0.736      -9.305       6.649\n",
       "Thigh         -1.1431      2.660     -0.430      0.671      -6.583       4.297\n",
       "Leg           -6.4390      4.714     -1.366      0.182     -16.080       3.202\n",
       "==============================================================================\n",
       "Omnibus:                        0.543   Durbin-Watson:                   1.769\n",
       "Prob(Omnibus):                  0.762   Jarque-Bera (JB):                0.664\n",
       "Skew:                           0.157   Prob(JB):                        0.717\n",
       "Kurtosis:                       2.434   Cond. No.                     8.44e+03\n",
       "==============================================================================\n",
       "\n",
       "Warnings:\n",
       "[1] Standard Errors assume that the covariance matrix of the errors is correctly specified.\n",
       "[2] The condition number is large, 8.44e+03. This might indicate that there are\n",
       "strong multicollinearity or other numerical problems.\n",
       "\"\"\""
      ]
     },
     "execution_count": 15,
     "metadata": {},
     "output_type": "execute_result"
    }
   ],
   "source": [
    "lmod = smf.ols(formula = 'hipcenter ~ Age+Weight+HtShoes+Ht+Seated+Arm+Thigh+Leg', data=seatpos).fit()\n",
    "lmod.summary()"
   ]
  },
  {
   "cell_type": "markdown",
   "metadata": {},
   "source": [
    "Look at the correlations of the predictors:"
   ]
  },
  {
   "cell_type": "code",
   "execution_count": 16,
   "metadata": {},
   "outputs": [
    {
     "data": {
      "text/html": [
       "<div>\n",
       "<style scoped>\n",
       "    .dataframe tbody tr th:only-of-type {\n",
       "        vertical-align: middle;\n",
       "    }\n",
       "\n",
       "    .dataframe tbody tr th {\n",
       "        vertical-align: top;\n",
       "    }\n",
       "\n",
       "    .dataframe thead th {\n",
       "        text-align: right;\n",
       "    }\n",
       "</style>\n",
       "<table border=\"1\" class=\"dataframe\">\n",
       "  <thead>\n",
       "    <tr style=\"text-align: right;\">\n",
       "      <th></th>\n",
       "      <th>Age</th>\n",
       "      <th>Weight</th>\n",
       "      <th>HtShoes</th>\n",
       "      <th>Ht</th>\n",
       "      <th>Seated</th>\n",
       "      <th>Arm</th>\n",
       "      <th>Thigh</th>\n",
       "      <th>Leg</th>\n",
       "    </tr>\n",
       "  </thead>\n",
       "  <tbody>\n",
       "    <tr>\n",
       "      <th>Age</th>\n",
       "      <td>1.000</td>\n",
       "      <td>0.081</td>\n",
       "      <td>-0.079</td>\n",
       "      <td>-0.090</td>\n",
       "      <td>-0.170</td>\n",
       "      <td>0.360</td>\n",
       "      <td>0.091</td>\n",
       "      <td>-0.042</td>\n",
       "    </tr>\n",
       "    <tr>\n",
       "      <th>Weight</th>\n",
       "      <td>0.081</td>\n",
       "      <td>1.000</td>\n",
       "      <td>0.828</td>\n",
       "      <td>0.829</td>\n",
       "      <td>0.776</td>\n",
       "      <td>0.698</td>\n",
       "      <td>0.573</td>\n",
       "      <td>0.784</td>\n",
       "    </tr>\n",
       "    <tr>\n",
       "      <th>HtShoes</th>\n",
       "      <td>-0.079</td>\n",
       "      <td>0.828</td>\n",
       "      <td>1.000</td>\n",
       "      <td>0.998</td>\n",
       "      <td>0.930</td>\n",
       "      <td>0.752</td>\n",
       "      <td>0.725</td>\n",
       "      <td>0.908</td>\n",
       "    </tr>\n",
       "    <tr>\n",
       "      <th>Ht</th>\n",
       "      <td>-0.090</td>\n",
       "      <td>0.829</td>\n",
       "      <td>0.998</td>\n",
       "      <td>1.000</td>\n",
       "      <td>0.928</td>\n",
       "      <td>0.752</td>\n",
       "      <td>0.735</td>\n",
       "      <td>0.910</td>\n",
       "    </tr>\n",
       "    <tr>\n",
       "      <th>Seated</th>\n",
       "      <td>-0.170</td>\n",
       "      <td>0.776</td>\n",
       "      <td>0.930</td>\n",
       "      <td>0.928</td>\n",
       "      <td>1.000</td>\n",
       "      <td>0.625</td>\n",
       "      <td>0.607</td>\n",
       "      <td>0.812</td>\n",
       "    </tr>\n",
       "    <tr>\n",
       "      <th>Arm</th>\n",
       "      <td>0.360</td>\n",
       "      <td>0.698</td>\n",
       "      <td>0.752</td>\n",
       "      <td>0.752</td>\n",
       "      <td>0.625</td>\n",
       "      <td>1.000</td>\n",
       "      <td>0.671</td>\n",
       "      <td>0.754</td>\n",
       "    </tr>\n",
       "    <tr>\n",
       "      <th>Thigh</th>\n",
       "      <td>0.091</td>\n",
       "      <td>0.573</td>\n",
       "      <td>0.725</td>\n",
       "      <td>0.735</td>\n",
       "      <td>0.607</td>\n",
       "      <td>0.671</td>\n",
       "      <td>1.000</td>\n",
       "      <td>0.650</td>\n",
       "    </tr>\n",
       "    <tr>\n",
       "      <th>Leg</th>\n",
       "      <td>-0.042</td>\n",
       "      <td>0.784</td>\n",
       "      <td>0.908</td>\n",
       "      <td>0.910</td>\n",
       "      <td>0.812</td>\n",
       "      <td>0.754</td>\n",
       "      <td>0.650</td>\n",
       "      <td>1.000</td>\n",
       "    </tr>\n",
       "  </tbody>\n",
       "</table>\n",
       "</div>"
      ],
      "text/plain": [
       "           Age  Weight  HtShoes     Ht  Seated    Arm  Thigh    Leg\n",
       "Age      1.000   0.081   -0.079 -0.090  -0.170  0.360  0.091 -0.042\n",
       "Weight   0.081   1.000    0.828  0.829   0.776  0.698  0.573  0.784\n",
       "HtShoes -0.079   0.828    1.000  0.998   0.930  0.752  0.725  0.908\n",
       "Ht      -0.090   0.829    0.998  1.000   0.928  0.752  0.735  0.910\n",
       "Seated  -0.170   0.776    0.930  0.928   1.000  0.625  0.607  0.812\n",
       "Arm      0.360   0.698    0.752  0.752   0.625  1.000  0.671  0.754\n",
       "Thigh    0.091   0.573    0.725  0.735   0.607  0.671  1.000  0.650\n",
       "Leg     -0.042   0.784    0.908  0.910   0.812  0.754  0.650  1.000"
      ]
     },
     "execution_count": 16,
     "metadata": {},
     "output_type": "execute_result"
    }
   ],
   "source": [
    "seatpos.iloc[:,:-1].corr().round(3)"
   ]
  },
  {
   "cell_type": "markdown",
   "metadata": {},
   "source": [
    "Do the eigendecomposition. Gives similar but not identical results to R calculation."
   ]
  },
  {
   "cell_type": "code",
   "execution_count": 17,
   "metadata": {},
   "outputs": [
    {
     "data": {
      "text/plain": [
       "array([3.6536714e+06, 2.1479480e+04, 9.0432253e+03, 2.9895260e+02,\n",
       "       1.4839482e+02, 7.2982092e+00, 8.1173974e+01, 5.3361943e+01])"
      ]
     },
     "execution_count": 17,
     "metadata": {},
     "output_type": "execute_result"
    }
   ],
   "source": [
    "X = seatpos.iloc[:,:-1]\n",
    "XTX = np.dot(X.T,X)\n",
    "evals, evecs = np.linalg.eig(XTX)\n",
    "evals"
   ]
  },
  {
   "cell_type": "markdown",
   "metadata": {},
   "source": [
    "Calculate the condition numbers;"
   ]
  },
  {
   "cell_type": "code",
   "execution_count": 18,
   "metadata": {},
   "outputs": [
    {
     "data": {
      "text/plain": [
       "array([1.0000000e+00, 1.7010055e+02, 4.0402304e+02, 1.2221574e+04,\n",
       "       2.4621286e+04, 5.0062574e+05, 4.5010379e+04, 6.8469608e+04])"
      ]
     },
     "execution_count": 18,
     "metadata": {},
     "output_type": "execute_result"
    }
   ],
   "source": [
    "evals[0]/evals"
   ]
  },
  {
   "cell_type": "markdown",
   "metadata": {},
   "source": [
    "Compute the variance inflation factors:"
   ]
  },
  {
   "cell_type": "code",
   "execution_count": 19,
   "metadata": {},
   "outputs": [
    {
     "data": {
      "text/plain": [
       "0.49948233386392404"
      ]
     },
     "execution_count": 19,
     "metadata": {},
     "output_type": "execute_result"
    }
   ],
   "source": [
    "from patsy import dmatrix\n",
    "X = dmatrix(\"Age+Weight+HtShoes+Ht+Seated+Arm+Thigh+Leg\", data=seatpos, return_type='dataframe')\n",
    "lmod = sm.OLS(X['Age'],X.drop('Age',axis=1)).fit()\n",
    "lmod.rsquared"
   ]
  },
  {
   "cell_type": "code",
   "execution_count": 20,
   "metadata": {},
   "outputs": [
    {
     "data": {
      "text/plain": [
       "1.9979314770642473"
      ]
     },
     "execution_count": 20,
     "metadata": {},
     "output_type": "execute_result"
    }
   ],
   "source": [
    "1/(1-lmod.rsquared)"
   ]
  },
  {
   "cell_type": "markdown",
   "metadata": {},
   "source": [
    "Get them all:"
   ]
  },
  {
   "cell_type": "code",
   "execution_count": 21,
   "metadata": {},
   "outputs": [
    {
     "data": {
      "text/plain": [
       "Intercept    741.029693\n",
       "Age            1.997931\n",
       "Weight         3.647030\n",
       "HtShoes      307.429378\n",
       "Ht           333.137832\n",
       "Seated         8.951054\n",
       "Arm            4.496368\n",
       "Thigh          2.762886\n",
       "Leg            6.694291\n",
       "dtype: float64"
      ]
     },
     "execution_count": 21,
     "metadata": {},
     "output_type": "execute_result"
    }
   ],
   "source": [
    "from statsmodels.stats.outliers_influence import variance_inflation_factor\n",
    "vif = [variance_inflation_factor(X.values, i) for i in range(X.shape[1])]\n",
    "pd.Series(vif, X.columns)"
   ]
  },
  {
   "cell_type": "markdown",
   "metadata": {},
   "source": [
    "Change in coefficients due to perturbing the response"
   ]
  },
  {
   "cell_type": "code",
   "execution_count": 22,
   "metadata": {},
   "outputs": [
    {
     "data": {
      "text/html": [
       "<div>\n",
       "<style scoped>\n",
       "    .dataframe tbody tr th:only-of-type {\n",
       "        vertical-align: middle;\n",
       "    }\n",
       "\n",
       "    .dataframe tbody tr th {\n",
       "        vertical-align: top;\n",
       "    }\n",
       "\n",
       "    .dataframe thead th {\n",
       "        text-align: right;\n",
       "    }\n",
       "</style>\n",
       "<table border=\"1\" class=\"dataframe\">\n",
       "  <thead>\n",
       "    <tr style=\"text-align: right;\">\n",
       "      <th></th>\n",
       "      <th>Intercept</th>\n",
       "      <th>Age</th>\n",
       "      <th>Weight</th>\n",
       "      <th>HtShoes</th>\n",
       "      <th>Ht</th>\n",
       "      <th>Seated</th>\n",
       "      <th>Arm</th>\n",
       "      <th>Thigh</th>\n",
       "      <th>Leg</th>\n",
       "    </tr>\n",
       "  </thead>\n",
       "  <tbody>\n",
       "    <tr>\n",
       "      <th>0</th>\n",
       "      <td>436.432128</td>\n",
       "      <td>0.775716</td>\n",
       "      <td>0.026313</td>\n",
       "      <td>-2.692408</td>\n",
       "      <td>0.601345</td>\n",
       "      <td>0.533752</td>\n",
       "      <td>-1.328069</td>\n",
       "      <td>-1.143119</td>\n",
       "      <td>-6.439046</td>\n",
       "    </tr>\n",
       "    <tr>\n",
       "      <th>1</th>\n",
       "      <td>389.146330</td>\n",
       "      <td>0.751927</td>\n",
       "      <td>-0.001767</td>\n",
       "      <td>-2.779268</td>\n",
       "      <td>1.629064</td>\n",
       "      <td>-0.167238</td>\n",
       "      <td>-0.757036</td>\n",
       "      <td>-1.740402</td>\n",
       "      <td>-7.524041</td>\n",
       "    </tr>\n",
       "  </tbody>\n",
       "</table>\n",
       "</div>"
      ],
      "text/plain": [
       "    Intercept       Age    Weight   HtShoes        Ht    Seated       Arm  \\\n",
       "0  436.432128  0.775716  0.026313 -2.692408  0.601345  0.533752 -1.328069   \n",
       "1  389.146330  0.751927 -0.001767 -2.779268  1.629064 -0.167238 -0.757036   \n",
       "\n",
       "      Thigh       Leg  \n",
       "0 -1.143119 -6.439046  \n",
       "1 -1.740402 -7.524041  "
      ]
     },
     "execution_count": 22,
     "metadata": {},
     "output_type": "execute_result"
    }
   ],
   "source": [
    "seatpos['hiperb'] = seatpos.hipcenter+np.random.normal(scale=10,size=38)\n",
    "lmod = smf.ols(formula = 'hipcenter ~ Age+Weight+HtShoes+Ht+Seated+Arm+Thigh+Leg', data=seatpos).fit()\n",
    "lmodp = smf.ols(formula = 'hiperb ~ Age+Weight+HtShoes+Ht+Seated+Arm+Thigh+Leg', data=seatpos).fit()\n",
    "pd.DataFrame([lmod.params, lmodp.params])"
   ]
  },
  {
   "cell_type": "markdown",
   "metadata": {},
   "source": [
    "Change in R-squared"
   ]
  },
  {
   "cell_type": "code",
   "execution_count": 23,
   "metadata": {},
   "outputs": [
    {
     "data": {
      "text/plain": [
       "(0.6865534760253379, 0.6520350104273814)"
      ]
     },
     "execution_count": 23,
     "metadata": {},
     "output_type": "execute_result"
    }
   ],
   "source": [
    "lmod.rsquared, lmodp.rsquared"
   ]
  },
  {
   "cell_type": "markdown",
   "metadata": {},
   "source": [
    "Correlations of the length variables"
   ]
  },
  {
   "cell_type": "code",
   "execution_count": 24,
   "metadata": {},
   "outputs": [
    {
     "data": {
      "text/html": [
       "<div>\n",
       "<style scoped>\n",
       "    .dataframe tbody tr th:only-of-type {\n",
       "        vertical-align: middle;\n",
       "    }\n",
       "\n",
       "    .dataframe tbody tr th {\n",
       "        vertical-align: top;\n",
       "    }\n",
       "\n",
       "    .dataframe thead th {\n",
       "        text-align: right;\n",
       "    }\n",
       "</style>\n",
       "<table border=\"1\" class=\"dataframe\">\n",
       "  <thead>\n",
       "    <tr style=\"text-align: right;\">\n",
       "      <th></th>\n",
       "      <th>HtShoes</th>\n",
       "      <th>Ht</th>\n",
       "      <th>Seated</th>\n",
       "      <th>Arm</th>\n",
       "      <th>Thigh</th>\n",
       "      <th>Leg</th>\n",
       "    </tr>\n",
       "  </thead>\n",
       "  <tbody>\n",
       "    <tr>\n",
       "      <th>HtShoes</th>\n",
       "      <td>1.000</td>\n",
       "      <td>0.998</td>\n",
       "      <td>0.930</td>\n",
       "      <td>0.722</td>\n",
       "      <td>0.710</td>\n",
       "      <td>0.896</td>\n",
       "    </tr>\n",
       "    <tr>\n",
       "      <th>Ht</th>\n",
       "      <td>0.998</td>\n",
       "      <td>1.000</td>\n",
       "      <td>0.929</td>\n",
       "      <td>0.724</td>\n",
       "      <td>0.720</td>\n",
       "      <td>0.898</td>\n",
       "    </tr>\n",
       "    <tr>\n",
       "      <th>Seated</th>\n",
       "      <td>0.930</td>\n",
       "      <td>0.929</td>\n",
       "      <td>1.000</td>\n",
       "      <td>0.603</td>\n",
       "      <td>0.576</td>\n",
       "      <td>0.803</td>\n",
       "    </tr>\n",
       "    <tr>\n",
       "      <th>Arm</th>\n",
       "      <td>0.722</td>\n",
       "      <td>0.724</td>\n",
       "      <td>0.603</td>\n",
       "      <td>1.000</td>\n",
       "      <td>0.670</td>\n",
       "      <td>0.723</td>\n",
       "    </tr>\n",
       "    <tr>\n",
       "      <th>Thigh</th>\n",
       "      <td>0.710</td>\n",
       "      <td>0.720</td>\n",
       "      <td>0.576</td>\n",
       "      <td>0.670</td>\n",
       "      <td>1.000</td>\n",
       "      <td>0.626</td>\n",
       "    </tr>\n",
       "    <tr>\n",
       "      <th>Leg</th>\n",
       "      <td>0.896</td>\n",
       "      <td>0.898</td>\n",
       "      <td>0.803</td>\n",
       "      <td>0.723</td>\n",
       "      <td>0.626</td>\n",
       "      <td>1.000</td>\n",
       "    </tr>\n",
       "  </tbody>\n",
       "</table>\n",
       "</div>"
      ],
      "text/plain": [
       "         HtShoes     Ht  Seated    Arm  Thigh    Leg\n",
       "HtShoes    1.000  0.998   0.930  0.722  0.710  0.896\n",
       "Ht         0.998  1.000   0.929  0.724  0.720  0.898\n",
       "Seated     0.930  0.929   1.000  0.603  0.576  0.803\n",
       "Arm        0.722  0.724   0.603  1.000  0.670  0.723\n",
       "Thigh      0.710  0.720   0.576  0.670  1.000  0.626\n",
       "Leg        0.896  0.898   0.803  0.723  0.626  1.000"
      ]
     },
     "execution_count": 24,
     "metadata": {},
     "output_type": "execute_result"
    }
   ],
   "source": [
    "pd.DataFrame.corr(X.iloc[3:,3:]).round(3)"
   ]
  },
  {
   "cell_type": "markdown",
   "metadata": {},
   "source": [
    "Recommended smaller model:"
   ]
  },
  {
   "cell_type": "code",
   "execution_count": 25,
   "metadata": {},
   "outputs": [
    {
     "data": {
      "text/html": [
       "<table class=\"simpletable\">\n",
       "<caption>OLS Regression Results</caption>\n",
       "<tr>\n",
       "  <th>Dep. Variable:</th>        <td>hipcenter</td>    <th>  R-squared:         </th> <td>   0.656</td>\n",
       "</tr>\n",
       "<tr>\n",
       "  <th>Model:</th>                   <td>OLS</td>       <th>  Adj. R-squared:    </th> <td>   0.626</td>\n",
       "</tr>\n",
       "<tr>\n",
       "  <th>Method:</th>             <td>Least Squares</td>  <th>  F-statistic:       </th> <td>   21.63</td>\n",
       "</tr>\n",
       "<tr>\n",
       "  <th>Date:</th>             <td>Tue, 23 Jun 2020</td> <th>  Prob (F-statistic):</th> <td>5.13e-08</td>\n",
       "</tr>\n",
       "<tr>\n",
       "  <th>Time:</th>                 <td>16:52:07</td>     <th>  Log-Likelihood:    </th> <td> -188.49</td>\n",
       "</tr>\n",
       "<tr>\n",
       "  <th>No. Observations:</th>      <td>    38</td>      <th>  AIC:               </th> <td>   385.0</td>\n",
       "</tr>\n",
       "<tr>\n",
       "  <th>Df Residuals:</th>          <td>    34</td>      <th>  BIC:               </th> <td>   391.5</td>\n",
       "</tr>\n",
       "<tr>\n",
       "  <th>Df Model:</th>              <td>     3</td>      <th>                     </th>     <td> </td>   \n",
       "</tr>\n",
       "<tr>\n",
       "  <th>Covariance Type:</th>      <td>nonrobust</td>    <th>                     </th>     <td> </td>   \n",
       "</tr>\n",
       "</table>\n",
       "<table class=\"simpletable\">\n",
       "<tr>\n",
       "      <td></td>         <th>coef</th>     <th>std err</th>      <th>t</th>      <th>P>|t|</th>  <th>[0.025</th>    <th>0.975]</th>  \n",
       "</tr>\n",
       "<tr>\n",
       "  <th>Intercept</th> <td>  528.2977</td> <td>  135.313</td> <td>    3.904</td> <td> 0.000</td> <td>  253.309</td> <td>  803.287</td>\n",
       "</tr>\n",
       "<tr>\n",
       "  <th>Age</th>       <td>    0.5195</td> <td>    0.408</td> <td>    1.273</td> <td> 0.212</td> <td>   -0.310</td> <td>    1.349</td>\n",
       "</tr>\n",
       "<tr>\n",
       "  <th>Weight</th>    <td>    0.0043</td> <td>    0.312</td> <td>    0.014</td> <td> 0.989</td> <td>   -0.629</td> <td>    0.638</td>\n",
       "</tr>\n",
       "<tr>\n",
       "  <th>Ht</th>        <td>   -4.2119</td> <td>    0.999</td> <td>   -4.216</td> <td> 0.000</td> <td>   -6.242</td> <td>   -2.182</td>\n",
       "</tr>\n",
       "</table>\n",
       "<table class=\"simpletable\">\n",
       "<tr>\n",
       "  <th>Omnibus:</th>       <td> 0.932</td> <th>  Durbin-Watson:     </th> <td>   1.742</td>\n",
       "</tr>\n",
       "<tr>\n",
       "  <th>Prob(Omnibus):</th> <td> 0.628</td> <th>  Jarque-Bera (JB):  </th> <td>   0.868</td>\n",
       "</tr>\n",
       "<tr>\n",
       "  <th>Skew:</th>          <td>-0.341</td> <th>  Prob(JB):          </th> <td>   0.648</td>\n",
       "</tr>\n",
       "<tr>\n",
       "  <th>Kurtosis:</th>      <td> 2.713</td> <th>  Cond. No.          </th> <td>5.36e+03</td>\n",
       "</tr>\n",
       "</table><br/><br/>Warnings:<br/>[1] Standard Errors assume that the covariance matrix of the errors is correctly specified.<br/>[2] The condition number is large, 5.36e+03. This might indicate that there are<br/>strong multicollinearity or other numerical problems."
      ],
      "text/plain": [
       "<class 'statsmodels.iolib.summary.Summary'>\n",
       "\"\"\"\n",
       "                            OLS Regression Results                            \n",
       "==============================================================================\n",
       "Dep. Variable:              hipcenter   R-squared:                       0.656\n",
       "Model:                            OLS   Adj. R-squared:                  0.626\n",
       "Method:                 Least Squares   F-statistic:                     21.63\n",
       "Date:                Tue, 23 Jun 2020   Prob (F-statistic):           5.13e-08\n",
       "Time:                        16:52:07   Log-Likelihood:                -188.49\n",
       "No. Observations:                  38   AIC:                             385.0\n",
       "Df Residuals:                      34   BIC:                             391.5\n",
       "Df Model:                           3                                         \n",
       "Covariance Type:            nonrobust                                         \n",
       "==============================================================================\n",
       "                 coef    std err          t      P>|t|      [0.025      0.975]\n",
       "------------------------------------------------------------------------------\n",
       "Intercept    528.2977    135.313      3.904      0.000     253.309     803.287\n",
       "Age            0.5195      0.408      1.273      0.212      -0.310       1.349\n",
       "Weight         0.0043      0.312      0.014      0.989      -0.629       0.638\n",
       "Ht            -4.2119      0.999     -4.216      0.000      -6.242      -2.182\n",
       "==============================================================================\n",
       "Omnibus:                        0.932   Durbin-Watson:                   1.742\n",
       "Prob(Omnibus):                  0.628   Jarque-Bera (JB):                0.868\n",
       "Skew:                          -0.341   Prob(JB):                        0.648\n",
       "Kurtosis:                       2.713   Cond. No.                     5.36e+03\n",
       "==============================================================================\n",
       "\n",
       "Warnings:\n",
       "[1] Standard Errors assume that the covariance matrix of the errors is correctly specified.\n",
       "[2] The condition number is large, 5.36e+03. This might indicate that there are\n",
       "strong multicollinearity or other numerical problems.\n",
       "\"\"\""
      ]
     },
     "execution_count": 25,
     "metadata": {},
     "output_type": "execute_result"
    }
   ],
   "source": [
    "smf.ols(formula = 'hipcenter ~ Age+Weight+Ht', data=seatpos).fit().summary()"
   ]
  },
  {
   "cell_type": "code",
   "execution_count": 26,
   "metadata": {},
   "outputs": [
    {
     "ename": "ModuleNotFoundError",
     "evalue": "No module named 'version_information'",
     "output_type": "error",
     "traceback": [
      "\u001b[1;31m---------------------------------------------------------------------------\u001b[0m",
      "\u001b[1;31mModuleNotFoundError\u001b[0m                       Traceback (most recent call last)",
      "\u001b[1;32m<ipython-input-26-91613e4728f5>\u001b[0m in \u001b[0;36m<module>\u001b[1;34m\u001b[0m\n\u001b[1;32m----> 1\u001b[1;33m \u001b[0mget_ipython\u001b[0m\u001b[1;33m(\u001b[0m\u001b[1;33m)\u001b[0m\u001b[1;33m.\u001b[0m\u001b[0mrun_line_magic\u001b[0m\u001b[1;33m(\u001b[0m\u001b[1;34m'load_ext'\u001b[0m\u001b[1;33m,\u001b[0m \u001b[1;34m'version_information'\u001b[0m\u001b[1;33m)\u001b[0m\u001b[1;33m\u001b[0m\u001b[1;33m\u001b[0m\u001b[0m\n\u001b[0m\u001b[0;32m      2\u001b[0m \u001b[0mget_ipython\u001b[0m\u001b[1;33m(\u001b[0m\u001b[1;33m)\u001b[0m\u001b[1;33m.\u001b[0m\u001b[0mrun_line_magic\u001b[0m\u001b[1;33m(\u001b[0m\u001b[1;34m'version_information'\u001b[0m\u001b[1;33m,\u001b[0m \u001b[1;34m'pandas, numpy, matplotlib, seaborn, scipy, patsy, statsmodels'\u001b[0m\u001b[1;33m)\u001b[0m\u001b[1;33m\u001b[0m\u001b[1;33m\u001b[0m\u001b[0m\n",
      "\u001b[1;32m~\\Anaconda3\\lib\\site-packages\\IPython\\core\\interactiveshell.py\u001b[0m in \u001b[0;36mrun_line_magic\u001b[1;34m(self, magic_name, line, _stack_depth)\u001b[0m\n\u001b[0;32m   2315\u001b[0m                 \u001b[0mkwargs\u001b[0m\u001b[1;33m[\u001b[0m\u001b[1;34m'local_ns'\u001b[0m\u001b[1;33m]\u001b[0m \u001b[1;33m=\u001b[0m \u001b[0msys\u001b[0m\u001b[1;33m.\u001b[0m\u001b[0m_getframe\u001b[0m\u001b[1;33m(\u001b[0m\u001b[0mstack_depth\u001b[0m\u001b[1;33m)\u001b[0m\u001b[1;33m.\u001b[0m\u001b[0mf_locals\u001b[0m\u001b[1;33m\u001b[0m\u001b[1;33m\u001b[0m\u001b[0m\n\u001b[0;32m   2316\u001b[0m             \u001b[1;32mwith\u001b[0m \u001b[0mself\u001b[0m\u001b[1;33m.\u001b[0m\u001b[0mbuiltin_trap\u001b[0m\u001b[1;33m:\u001b[0m\u001b[1;33m\u001b[0m\u001b[1;33m\u001b[0m\u001b[0m\n\u001b[1;32m-> 2317\u001b[1;33m                 \u001b[0mresult\u001b[0m \u001b[1;33m=\u001b[0m \u001b[0mfn\u001b[0m\u001b[1;33m(\u001b[0m\u001b[1;33m*\u001b[0m\u001b[0margs\u001b[0m\u001b[1;33m,\u001b[0m \u001b[1;33m**\u001b[0m\u001b[0mkwargs\u001b[0m\u001b[1;33m)\u001b[0m\u001b[1;33m\u001b[0m\u001b[1;33m\u001b[0m\u001b[0m\n\u001b[0m\u001b[0;32m   2318\u001b[0m             \u001b[1;32mreturn\u001b[0m \u001b[0mresult\u001b[0m\u001b[1;33m\u001b[0m\u001b[1;33m\u001b[0m\u001b[0m\n\u001b[0;32m   2319\u001b[0m \u001b[1;33m\u001b[0m\u001b[0m\n",
      "\u001b[1;32m<decorator-gen-65>\u001b[0m in \u001b[0;36mload_ext\u001b[1;34m(self, module_str)\u001b[0m\n",
      "\u001b[1;32m~\\Anaconda3\\lib\\site-packages\\IPython\\core\\magic.py\u001b[0m in \u001b[0;36m<lambda>\u001b[1;34m(f, *a, **k)\u001b[0m\n\u001b[0;32m    185\u001b[0m     \u001b[1;31m# but it's overkill for just that one bit of state.\u001b[0m\u001b[1;33m\u001b[0m\u001b[1;33m\u001b[0m\u001b[1;33m\u001b[0m\u001b[0m\n\u001b[0;32m    186\u001b[0m     \u001b[1;32mdef\u001b[0m \u001b[0mmagic_deco\u001b[0m\u001b[1;33m(\u001b[0m\u001b[0marg\u001b[0m\u001b[1;33m)\u001b[0m\u001b[1;33m:\u001b[0m\u001b[1;33m\u001b[0m\u001b[1;33m\u001b[0m\u001b[0m\n\u001b[1;32m--> 187\u001b[1;33m         \u001b[0mcall\u001b[0m \u001b[1;33m=\u001b[0m \u001b[1;32mlambda\u001b[0m \u001b[0mf\u001b[0m\u001b[1;33m,\u001b[0m \u001b[1;33m*\u001b[0m\u001b[0ma\u001b[0m\u001b[1;33m,\u001b[0m \u001b[1;33m**\u001b[0m\u001b[0mk\u001b[0m\u001b[1;33m:\u001b[0m \u001b[0mf\u001b[0m\u001b[1;33m(\u001b[0m\u001b[1;33m*\u001b[0m\u001b[0ma\u001b[0m\u001b[1;33m,\u001b[0m \u001b[1;33m**\u001b[0m\u001b[0mk\u001b[0m\u001b[1;33m)\u001b[0m\u001b[1;33m\u001b[0m\u001b[1;33m\u001b[0m\u001b[0m\n\u001b[0m\u001b[0;32m    188\u001b[0m \u001b[1;33m\u001b[0m\u001b[0m\n\u001b[0;32m    189\u001b[0m         \u001b[1;32mif\u001b[0m \u001b[0mcallable\u001b[0m\u001b[1;33m(\u001b[0m\u001b[0marg\u001b[0m\u001b[1;33m)\u001b[0m\u001b[1;33m:\u001b[0m\u001b[1;33m\u001b[0m\u001b[1;33m\u001b[0m\u001b[0m\n",
      "\u001b[1;32m~\\Anaconda3\\lib\\site-packages\\IPython\\core\\magics\\extension.py\u001b[0m in \u001b[0;36mload_ext\u001b[1;34m(self, module_str)\u001b[0m\n\u001b[0;32m     31\u001b[0m         \u001b[1;32mif\u001b[0m \u001b[1;32mnot\u001b[0m \u001b[0mmodule_str\u001b[0m\u001b[1;33m:\u001b[0m\u001b[1;33m\u001b[0m\u001b[1;33m\u001b[0m\u001b[0m\n\u001b[0;32m     32\u001b[0m             \u001b[1;32mraise\u001b[0m \u001b[0mUsageError\u001b[0m\u001b[1;33m(\u001b[0m\u001b[1;34m'Missing module name.'\u001b[0m\u001b[1;33m)\u001b[0m\u001b[1;33m\u001b[0m\u001b[1;33m\u001b[0m\u001b[0m\n\u001b[1;32m---> 33\u001b[1;33m         \u001b[0mres\u001b[0m \u001b[1;33m=\u001b[0m \u001b[0mself\u001b[0m\u001b[1;33m.\u001b[0m\u001b[0mshell\u001b[0m\u001b[1;33m.\u001b[0m\u001b[0mextension_manager\u001b[0m\u001b[1;33m.\u001b[0m\u001b[0mload_extension\u001b[0m\u001b[1;33m(\u001b[0m\u001b[0mmodule_str\u001b[0m\u001b[1;33m)\u001b[0m\u001b[1;33m\u001b[0m\u001b[1;33m\u001b[0m\u001b[0m\n\u001b[0m\u001b[0;32m     34\u001b[0m \u001b[1;33m\u001b[0m\u001b[0m\n\u001b[0;32m     35\u001b[0m         \u001b[1;32mif\u001b[0m \u001b[0mres\u001b[0m \u001b[1;33m==\u001b[0m \u001b[1;34m'already loaded'\u001b[0m\u001b[1;33m:\u001b[0m\u001b[1;33m\u001b[0m\u001b[1;33m\u001b[0m\u001b[0m\n",
      "\u001b[1;32m~\\Anaconda3\\lib\\site-packages\\IPython\\core\\extensions.py\u001b[0m in \u001b[0;36mload_extension\u001b[1;34m(self, module_str)\u001b[0m\n\u001b[0;32m     78\u001b[0m             \u001b[1;32mif\u001b[0m \u001b[0mmodule_str\u001b[0m \u001b[1;32mnot\u001b[0m \u001b[1;32min\u001b[0m \u001b[0msys\u001b[0m\u001b[1;33m.\u001b[0m\u001b[0mmodules\u001b[0m\u001b[1;33m:\u001b[0m\u001b[1;33m\u001b[0m\u001b[1;33m\u001b[0m\u001b[0m\n\u001b[0;32m     79\u001b[0m                 \u001b[1;32mwith\u001b[0m \u001b[0mprepended_to_syspath\u001b[0m\u001b[1;33m(\u001b[0m\u001b[0mself\u001b[0m\u001b[1;33m.\u001b[0m\u001b[0mipython_extension_dir\u001b[0m\u001b[1;33m)\u001b[0m\u001b[1;33m:\u001b[0m\u001b[1;33m\u001b[0m\u001b[1;33m\u001b[0m\u001b[0m\n\u001b[1;32m---> 80\u001b[1;33m                     \u001b[0mmod\u001b[0m \u001b[1;33m=\u001b[0m \u001b[0mimport_module\u001b[0m\u001b[1;33m(\u001b[0m\u001b[0mmodule_str\u001b[0m\u001b[1;33m)\u001b[0m\u001b[1;33m\u001b[0m\u001b[1;33m\u001b[0m\u001b[0m\n\u001b[0m\u001b[0;32m     81\u001b[0m                     \u001b[1;32mif\u001b[0m \u001b[0mmod\u001b[0m\u001b[1;33m.\u001b[0m\u001b[0m__file__\u001b[0m\u001b[1;33m.\u001b[0m\u001b[0mstartswith\u001b[0m\u001b[1;33m(\u001b[0m\u001b[0mself\u001b[0m\u001b[1;33m.\u001b[0m\u001b[0mipython_extension_dir\u001b[0m\u001b[1;33m)\u001b[0m\u001b[1;33m:\u001b[0m\u001b[1;33m\u001b[0m\u001b[1;33m\u001b[0m\u001b[0m\n\u001b[0;32m     82\u001b[0m                         print((\"Loading extensions from {dir} is deprecated. \"\n",
      "\u001b[1;32m~\\Anaconda3\\lib\\importlib\\__init__.py\u001b[0m in \u001b[0;36mimport_module\u001b[1;34m(name, package)\u001b[0m\n\u001b[0;32m    125\u001b[0m                 \u001b[1;32mbreak\u001b[0m\u001b[1;33m\u001b[0m\u001b[1;33m\u001b[0m\u001b[0m\n\u001b[0;32m    126\u001b[0m             \u001b[0mlevel\u001b[0m \u001b[1;33m+=\u001b[0m \u001b[1;36m1\u001b[0m\u001b[1;33m\u001b[0m\u001b[1;33m\u001b[0m\u001b[0m\n\u001b[1;32m--> 127\u001b[1;33m     \u001b[1;32mreturn\u001b[0m \u001b[0m_bootstrap\u001b[0m\u001b[1;33m.\u001b[0m\u001b[0m_gcd_import\u001b[0m\u001b[1;33m(\u001b[0m\u001b[0mname\u001b[0m\u001b[1;33m[\u001b[0m\u001b[0mlevel\u001b[0m\u001b[1;33m:\u001b[0m\u001b[1;33m]\u001b[0m\u001b[1;33m,\u001b[0m \u001b[0mpackage\u001b[0m\u001b[1;33m,\u001b[0m \u001b[0mlevel\u001b[0m\u001b[1;33m)\u001b[0m\u001b[1;33m\u001b[0m\u001b[1;33m\u001b[0m\u001b[0m\n\u001b[0m\u001b[0;32m    128\u001b[0m \u001b[1;33m\u001b[0m\u001b[0m\n\u001b[0;32m    129\u001b[0m \u001b[1;33m\u001b[0m\u001b[0m\n",
      "\u001b[1;32m~\\Anaconda3\\lib\\importlib\\_bootstrap.py\u001b[0m in \u001b[0;36m_gcd_import\u001b[1;34m(name, package, level)\u001b[0m\n",
      "\u001b[1;32m~\\Anaconda3\\lib\\importlib\\_bootstrap.py\u001b[0m in \u001b[0;36m_find_and_load\u001b[1;34m(name, import_)\u001b[0m\n",
      "\u001b[1;32m~\\Anaconda3\\lib\\importlib\\_bootstrap.py\u001b[0m in \u001b[0;36m_find_and_load_unlocked\u001b[1;34m(name, import_)\u001b[0m\n",
      "\u001b[1;31mModuleNotFoundError\u001b[0m: No module named 'version_information'"
     ]
    }
   ],
   "source": [
    "%load_ext version_information\n",
    "%version_information pandas, numpy, matplotlib, seaborn, scipy, patsy, statsmodels"
   ]
  }
 ],
 "metadata": {
  "kernelspec": {
   "display_name": "Python 3",
   "language": "python",
   "name": "python3"
  },
  "language_info": {
   "codemirror_mode": {
    "name": "ipython",
    "version": 3
   },
   "file_extension": ".py",
   "mimetype": "text/x-python",
   "name": "python",
   "nbconvert_exporter": "python",
   "pygments_lexer": "ipython3",
   "version": "3.7.6"
  }
 },
 "nbformat": 4,
 "nbformat_minor": 2
}
