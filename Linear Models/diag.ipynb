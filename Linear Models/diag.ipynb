{
 "cells": [
  {
   "cell_type": "markdown",
   "metadata": {},
   "source": [
    "# Chapter 6: Diagnostics"
   ]
  },
  {
   "cell_type": "code",
   "execution_count": 1,
   "metadata": {},
   "outputs": [
    {
     "data": {
      "text/plain": [
       "'%.5f'"
      ]
     },
     "execution_count": 1,
     "metadata": {},
     "output_type": "execute_result"
    }
   ],
   "source": [
    "import pandas as pd\n",
    "import numpy as np\n",
    "import matplotlib.pyplot as plt\n",
    "import scipy as sp\n",
    "import statsmodels.api as sm\n",
    "import statsmodels.formula.api as smf\n",
    "import seaborn as sns\n",
    "%matplotlib inline\n",
    "%precision 5"
   ]
  },
  {
   "cell_type": "markdown",
   "metadata": {},
   "source": [
    "## Check Error Assumptions"
   ]
  },
  {
   "cell_type": "markdown",
   "metadata": {},
   "source": [
    "Read in the data for the example:"
   ]
  },
  {
   "cell_type": "code",
   "execution_count": 2,
   "metadata": {},
   "outputs": [
    {
     "data": {
      "text/html": [
       "<div>\n",
       "<style scoped>\n",
       "    .dataframe tbody tr th:only-of-type {\n",
       "        vertical-align: middle;\n",
       "    }\n",
       "\n",
       "    .dataframe tbody tr th {\n",
       "        vertical-align: top;\n",
       "    }\n",
       "\n",
       "    .dataframe thead th {\n",
       "        text-align: right;\n",
       "    }\n",
       "</style>\n",
       "<table border=\"1\" class=\"dataframe\">\n",
       "  <thead>\n",
       "    <tr style=\"text-align: right;\">\n",
       "      <th></th>\n",
       "      <th>sr</th>\n",
       "      <th>pop15</th>\n",
       "      <th>pop75</th>\n",
       "      <th>dpi</th>\n",
       "      <th>ddpi</th>\n",
       "    </tr>\n",
       "  </thead>\n",
       "  <tbody>\n",
       "    <tr>\n",
       "      <th>Australia</th>\n",
       "      <td>11.43</td>\n",
       "      <td>29.35</td>\n",
       "      <td>2.87</td>\n",
       "      <td>2329.68</td>\n",
       "      <td>2.87</td>\n",
       "    </tr>\n",
       "    <tr>\n",
       "      <th>Austria</th>\n",
       "      <td>12.07</td>\n",
       "      <td>23.32</td>\n",
       "      <td>4.41</td>\n",
       "      <td>1507.99</td>\n",
       "      <td>3.93</td>\n",
       "    </tr>\n",
       "    <tr>\n",
       "      <th>Belgium</th>\n",
       "      <td>13.17</td>\n",
       "      <td>23.80</td>\n",
       "      <td>4.43</td>\n",
       "      <td>2108.47</td>\n",
       "      <td>3.82</td>\n",
       "    </tr>\n",
       "    <tr>\n",
       "      <th>Bolivia</th>\n",
       "      <td>5.75</td>\n",
       "      <td>41.89</td>\n",
       "      <td>1.67</td>\n",
       "      <td>189.13</td>\n",
       "      <td>0.22</td>\n",
       "    </tr>\n",
       "    <tr>\n",
       "      <th>Brazil</th>\n",
       "      <td>12.88</td>\n",
       "      <td>42.19</td>\n",
       "      <td>0.83</td>\n",
       "      <td>728.47</td>\n",
       "      <td>4.56</td>\n",
       "    </tr>\n",
       "  </tbody>\n",
       "</table>\n",
       "</div>"
      ],
      "text/plain": [
       "              sr  pop15  pop75      dpi  ddpi\n",
       "Australia  11.43  29.35   2.87  2329.68  2.87\n",
       "Austria    12.07  23.32   4.41  1507.99  3.93\n",
       "Belgium    13.17  23.80   4.43  2108.47  3.82\n",
       "Bolivia     5.75  41.89   1.67   189.13  0.22\n",
       "Brazil     12.88  42.19   0.83   728.47  4.56"
      ]
     },
     "execution_count": 2,
     "metadata": {},
     "output_type": "execute_result"
    }
   ],
   "source": [
    "savings = pd.read_csv(\"data/savings.csv\",index_col=0)\n",
    "savings.head()"
   ]
  },
  {
   "cell_type": "code",
   "execution_count": 3,
   "metadata": {},
   "outputs": [
    {
     "data": {
      "text/html": [
       "<table class=\"simpletable\">\n",
       "<caption>OLS Regression Results</caption>\n",
       "<tr>\n",
       "  <th>Dep. Variable:</th>           <td>sr</td>        <th>  R-squared:         </th> <td>   0.338</td>\n",
       "</tr>\n",
       "<tr>\n",
       "  <th>Model:</th>                   <td>OLS</td>       <th>  Adj. R-squared:    </th> <td>   0.280</td>\n",
       "</tr>\n",
       "<tr>\n",
       "  <th>Method:</th>             <td>Least Squares</td>  <th>  F-statistic:       </th> <td>   5.756</td>\n",
       "</tr>\n",
       "<tr>\n",
       "  <th>Date:</th>             <td>Tue, 23 Jun 2020</td> <th>  Prob (F-statistic):</th> <td>0.000790</td>\n",
       "</tr>\n",
       "<tr>\n",
       "  <th>Time:</th>                 <td>16:37:19</td>     <th>  Log-Likelihood:    </th> <td> -135.10</td>\n",
       "</tr>\n",
       "<tr>\n",
       "  <th>No. Observations:</th>      <td>    50</td>      <th>  AIC:               </th> <td>   280.2</td>\n",
       "</tr>\n",
       "<tr>\n",
       "  <th>Df Residuals:</th>          <td>    45</td>      <th>  BIC:               </th> <td>   289.8</td>\n",
       "</tr>\n",
       "<tr>\n",
       "  <th>Df Model:</th>              <td>     4</td>      <th>                     </th>     <td> </td>   \n",
       "</tr>\n",
       "<tr>\n",
       "  <th>Covariance Type:</th>      <td>nonrobust</td>    <th>                     </th>     <td> </td>   \n",
       "</tr>\n",
       "</table>\n",
       "<table class=\"simpletable\">\n",
       "<tr>\n",
       "      <td></td>         <th>coef</th>     <th>std err</th>      <th>t</th>      <th>P>|t|</th>  <th>[0.025</th>    <th>0.975]</th>  \n",
       "</tr>\n",
       "<tr>\n",
       "  <th>Intercept</th> <td>   28.5661</td> <td>    7.355</td> <td>    3.884</td> <td> 0.000</td> <td>   13.753</td> <td>   43.379</td>\n",
       "</tr>\n",
       "<tr>\n",
       "  <th>pop15</th>     <td>   -0.4612</td> <td>    0.145</td> <td>   -3.189</td> <td> 0.003</td> <td>   -0.753</td> <td>   -0.170</td>\n",
       "</tr>\n",
       "<tr>\n",
       "  <th>pop75</th>     <td>   -1.6915</td> <td>    1.084</td> <td>   -1.561</td> <td> 0.126</td> <td>   -3.874</td> <td>    0.491</td>\n",
       "</tr>\n",
       "<tr>\n",
       "  <th>dpi</th>       <td>   -0.0003</td> <td>    0.001</td> <td>   -0.362</td> <td> 0.719</td> <td>   -0.002</td> <td>    0.002</td>\n",
       "</tr>\n",
       "<tr>\n",
       "  <th>ddpi</th>      <td>    0.4097</td> <td>    0.196</td> <td>    2.088</td> <td> 0.042</td> <td>    0.015</td> <td>    0.805</td>\n",
       "</tr>\n",
       "</table>\n",
       "<table class=\"simpletable\">\n",
       "<tr>\n",
       "  <th>Omnibus:</th>       <td> 0.866</td> <th>  Durbin-Watson:     </th> <td>   1.934</td>\n",
       "</tr>\n",
       "<tr>\n",
       "  <th>Prob(Omnibus):</th> <td> 0.649</td> <th>  Jarque-Bera (JB):  </th> <td>   0.493</td>\n",
       "</tr>\n",
       "<tr>\n",
       "  <th>Skew:</th>          <td> 0.241</td> <th>  Prob(JB):          </th> <td>   0.782</td>\n",
       "</tr>\n",
       "<tr>\n",
       "  <th>Kurtosis:</th>      <td> 3.064</td> <th>  Cond. No.          </th> <td>2.04e+04</td>\n",
       "</tr>\n",
       "</table><br/><br/>Warnings:<br/>[1] Standard Errors assume that the covariance matrix of the errors is correctly specified.<br/>[2] The condition number is large, 2.04e+04. This might indicate that there are<br/>strong multicollinearity or other numerical problems."
      ],
      "text/plain": [
       "<class 'statsmodels.iolib.summary.Summary'>\n",
       "\"\"\"\n",
       "                            OLS Regression Results                            \n",
       "==============================================================================\n",
       "Dep. Variable:                     sr   R-squared:                       0.338\n",
       "Model:                            OLS   Adj. R-squared:                  0.280\n",
       "Method:                 Least Squares   F-statistic:                     5.756\n",
       "Date:                Tue, 23 Jun 2020   Prob (F-statistic):           0.000790\n",
       "Time:                        16:37:19   Log-Likelihood:                -135.10\n",
       "No. Observations:                  50   AIC:                             280.2\n",
       "Df Residuals:                      45   BIC:                             289.8\n",
       "Df Model:                           4                                         \n",
       "Covariance Type:            nonrobust                                         \n",
       "==============================================================================\n",
       "                 coef    std err          t      P>|t|      [0.025      0.975]\n",
       "------------------------------------------------------------------------------\n",
       "Intercept     28.5661      7.355      3.884      0.000      13.753      43.379\n",
       "pop15         -0.4612      0.145     -3.189      0.003      -0.753      -0.170\n",
       "pop75         -1.6915      1.084     -1.561      0.126      -3.874       0.491\n",
       "dpi           -0.0003      0.001     -0.362      0.719      -0.002       0.002\n",
       "ddpi           0.4097      0.196      2.088      0.042       0.015       0.805\n",
       "==============================================================================\n",
       "Omnibus:                        0.866   Durbin-Watson:                   1.934\n",
       "Prob(Omnibus):                  0.649   Jarque-Bera (JB):                0.493\n",
       "Skew:                           0.241   Prob(JB):                        0.782\n",
       "Kurtosis:                       3.064   Cond. No.                     2.04e+04\n",
       "==============================================================================\n",
       "\n",
       "Warnings:\n",
       "[1] Standard Errors assume that the covariance matrix of the errors is correctly specified.\n",
       "[2] The condition number is large, 2.04e+04. This might indicate that there are\n",
       "strong multicollinearity or other numerical problems.\n",
       "\"\"\""
      ]
     },
     "execution_count": 3,
     "metadata": {},
     "output_type": "execute_result"
    }
   ],
   "source": [
    "lmod = smf.ols(formula='sr ~ pop15 + pop75 + dpi + ddpi', data=savings).fit()\n",
    "lmod.summary()"
   ]
  },
  {
   "cell_type": "markdown",
   "metadata": {},
   "source": [
    "The simple residual-fitted plot:"
   ]
  },
  {
   "cell_type": "code",
   "execution_count": 4,
   "metadata": {},
   "outputs": [
    {
     "data": {
      "text/plain": [
       "<matplotlib.lines.Line2D at 0x182ef367e88>"
      ]
     },
     "execution_count": 4,
     "metadata": {},
     "output_type": "execute_result"
    },
    {
     "data": {
      "image/png": "[encoded data removed]",
      "text/plain": [
       "<Figure size 432x288 with 1 Axes>"
      ]
     },
     "metadata": {
      "needs_background": "light"
     },
     "output_type": "display_data"
    }
   ],
   "source": [
    "plt.scatter(lmod.fittedvalues, lmod.resid)\n",
    "plt.ylabel(\"Residuals\")\n",
    "plt.xlabel(\"Fitted values\")\n",
    "plt.axhline(0)"
   ]
  },
  {
   "cell_type": "markdown",
   "metadata": {},
   "source": [
    "This plot is slightly better for checking for constant variance:"
   ]
  },
  {
   "cell_type": "code",
   "execution_count": 5,
   "metadata": {},
   "outputs": [
    {
     "data": {
      "text/plain": [
       "Text(0.5, 0, 'Fitted values')"
      ]
     },
     "execution_count": 5,
     "metadata": {},
     "output_type": "execute_result"
    },
    {
     "data": {
      "image/png": "[encoded data removed]",
      "text/plain": [
       "<Figure size 432x288 with 1 Axes>"
      ]
     },
     "metadata": {
      "needs_background": "light"
     },
     "output_type": "display_data"
    }
   ],
   "source": [
    "plt.scatter(lmod.fittedvalues, np.sqrt(abs(lmod.resid)))\n",
    "plt.ylabel(\"sqrt |Residuals|\")\n",
    "plt.xlabel(\"Fitted values\")"
   ]
  },
  {
   "cell_type": "markdown",
   "metadata": {},
   "source": [
    "Check that there is no significant relationship:"
   ]
  },
  {
   "cell_type": "code",
   "execution_count": 6,
   "metadata": {},
   "outputs": [
    {
     "data": {
      "text/html": [
       "<table class=\"simpletable\">\n",
       "<caption>OLS Regression Results</caption>\n",
       "<tr>\n",
       "  <th>Dep. Variable:</th>            <td>y</td>        <th>  R-squared:         </th> <td>   0.061</td>\n",
       "</tr>\n",
       "<tr>\n",
       "  <th>Model:</th>                   <td>OLS</td>       <th>  Adj. R-squared:    </th> <td>   0.041</td>\n",
       "</tr>\n",
       "<tr>\n",
       "  <th>Method:</th>             <td>Least Squares</td>  <th>  F-statistic:       </th> <td>   3.117</td>\n",
       "</tr>\n",
       "<tr>\n",
       "  <th>Date:</th>             <td>Tue, 23 Jun 2020</td> <th>  Prob (F-statistic):</th>  <td>0.0838</td> \n",
       "</tr>\n",
       "<tr>\n",
       "  <th>Time:</th>                 <td>16:37:20</td>     <th>  Log-Likelihood:    </th> <td> -47.153</td>\n",
       "</tr>\n",
       "<tr>\n",
       "  <th>No. Observations:</th>      <td>    50</td>      <th>  AIC:               </th> <td>   98.31</td>\n",
       "</tr>\n",
       "<tr>\n",
       "  <th>Df Residuals:</th>          <td>    48</td>      <th>  BIC:               </th> <td>   102.1</td>\n",
       "</tr>\n",
       "<tr>\n",
       "  <th>Df Model:</th>              <td>     1</td>      <th>                     </th>     <td> </td>   \n",
       "</tr>\n",
       "<tr>\n",
       "  <th>Covariance Type:</th>      <td>nonrobust</td>    <th>                     </th>     <td> </td>   \n",
       "</tr>\n",
       "</table>\n",
       "<table class=\"simpletable\">\n",
       "<tr>\n",
       "      <td></td>         <th>coef</th>     <th>std err</th>      <th>t</th>      <th>P>|t|</th>  <th>[0.025</th>    <th>0.975]</th>  \n",
       "</tr>\n",
       "<tr>\n",
       "  <th>Intercept</th> <td>    2.1622</td> <td>    0.348</td> <td>    6.215</td> <td> 0.000</td> <td>    1.463</td> <td>    2.862</td>\n",
       "</tr>\n",
       "<tr>\n",
       "  <th>x</th>         <td>   -0.0614</td> <td>    0.035</td> <td>   -1.766</td> <td> 0.084</td> <td>   -0.131</td> <td>    0.009</td>\n",
       "</tr>\n",
       "</table>\n",
       "<table class=\"simpletable\">\n",
       "<tr>\n",
       "  <th>Omnibus:</th>       <td> 1.170</td> <th>  Durbin-Watson:     </th> <td>   2.050</td>\n",
       "</tr>\n",
       "<tr>\n",
       "  <th>Prob(Omnibus):</th> <td> 0.557</td> <th>  Jarque-Bera (JB):  </th> <td>   1.184</td>\n",
       "</tr>\n",
       "<tr>\n",
       "  <th>Skew:</th>          <td> 0.273</td> <th>  Prob(JB):          </th> <td>   0.553</td>\n",
       "</tr>\n",
       "<tr>\n",
       "  <th>Kurtosis:</th>      <td> 2.479</td> <th>  Cond. No.          </th> <td>    39.2</td>\n",
       "</tr>\n",
       "</table><br/><br/>Warnings:<br/>[1] Standard Errors assume that the covariance matrix of the errors is correctly specified."
      ],
      "text/plain": [
       "<class 'statsmodels.iolib.summary.Summary'>\n",
       "\"\"\"\n",
       "                            OLS Regression Results                            \n",
       "==============================================================================\n",
       "Dep. Variable:                      y   R-squared:                       0.061\n",
       "Model:                            OLS   Adj. R-squared:                  0.041\n",
       "Method:                 Least Squares   F-statistic:                     3.117\n",
       "Date:                Tue, 23 Jun 2020   Prob (F-statistic):             0.0838\n",
       "Time:                        16:37:20   Log-Likelihood:                -47.153\n",
       "No. Observations:                  50   AIC:                             98.31\n",
       "Df Residuals:                      48   BIC:                             102.1\n",
       "Df Model:                           1                                         \n",
       "Covariance Type:            nonrobust                                         \n",
       "==============================================================================\n",
       "                 coef    std err          t      P>|t|      [0.025      0.975]\n",
       "------------------------------------------------------------------------------\n",
       "Intercept      2.1622      0.348      6.215      0.000       1.463       2.862\n",
       "x             -0.0614      0.035     -1.766      0.084      -0.131       0.009\n",
       "==============================================================================\n",
       "Omnibus:                        1.170   Durbin-Watson:                   2.050\n",
       "Prob(Omnibus):                  0.557   Jarque-Bera (JB):                1.184\n",
       "Skew:                           0.273   Prob(JB):                        0.553\n",
       "Kurtosis:                       2.479   Cond. No.                         39.2\n",
       "==============================================================================\n",
       "\n",
       "Warnings:\n",
       "[1] Standard Errors assume that the covariance matrix of the errors is correctly specified.\n",
       "\"\"\""
      ]
     },
     "execution_count": 6,
     "metadata": {},
     "output_type": "execute_result"
    }
   ],
   "source": [
    "ddf = pd.DataFrame({'x':lmod.fittedvalues,'y':np.sqrt(abs(lmod.resid))})\n",
    "dmod = smf.ols('y ~ x',data=ddf).fit()\n",
    "dmod.summary()"
   ]
  },
  {
   "cell_type": "markdown",
   "metadata": {},
   "source": [
    "Simulate some residual-fitted plots:"
   ]
  },
  {
   "cell_type": "code",
   "execution_count": 7,
   "metadata": {},
   "outputs": [
    {
     "data": {
      "text/plain": [
       "<matplotlib.lines.Line2D at 0x182ef501448>"
      ]
     },
     "execution_count": 7,
     "metadata": {},
     "output_type": "execute_result"
    },
    {
     "data": {
      "image/png": "[encoded data removed]",
      "text/plain": [
       "<Figure size 432x288 with 1 Axes>"
      ]
     },
     "metadata": {
      "needs_background": "light"
     },
     "output_type": "display_data"
    }
   ],
   "source": [
    "n = 50\n",
    "x = np.random.sample(n)\n",
    "y = np.random.normal(size=n)\n",
    "plt.scatter(x,y)\n",
    "plt.title(\"No problem plot\")\n",
    "plt.axhline(0)"
   ]
  },
  {
   "cell_type": "code",
   "execution_count": 8,
   "metadata": {},
   "outputs": [
    {
     "data": {
      "text/plain": [
       "<matplotlib.lines.Line2D at 0x182ef570408>"
      ]
     },
     "execution_count": 8,
     "metadata": {},
     "output_type": "execute_result"
    },
    {
     "data": {
      "image/png": "[encoded data removed]",
      "text/plain": [
       "<Figure size 432x288 with 1 Axes>"
      ]
     },
     "metadata": {
      "needs_background": "light"
     },
     "output_type": "display_data"
    }
   ],
   "source": [
    "plt.scatter(x,y*x)\n",
    "plt.title(\"Increasing variance\")\n",
    "plt.axhline(0)"
   ]
  },
  {
   "cell_type": "code",
   "execution_count": 9,
   "metadata": {},
   "outputs": [
    {
     "data": {
      "text/plain": [
       "<matplotlib.lines.Line2D at 0x182ef592288>"
      ]
     },
     "execution_count": 9,
     "metadata": {},
     "output_type": "execute_result"
    },
    {
     "data": {
      "image/png": "[encoded data removed]",
      "text/plain": [
       "<Figure size 432x288 with 1 Axes>"
      ]
     },
     "metadata": {
      "needs_background": "light"
     },
     "output_type": "display_data"
    }
   ],
   "source": [
    "plt.scatter(x,y*np.sqrt(x))\n",
    "plt.title(\"Mildly increasing variance\")\n",
    "plt.axhline(0)"
   ]
  },
  {
   "cell_type": "code",
   "execution_count": 10,
   "metadata": {},
   "outputs": [
    {
     "data": {
      "text/plain": [
       "<matplotlib.lines.Line2D at 0x182ef66eec8>"
      ]
     },
     "execution_count": 10,
     "metadata": {},
     "output_type": "execute_result"
    },
    {
     "data": {
      "image/png": "[encoded data removed]",
      "text/plain": [
       "<Figure size 432x288 with 1 Axes>"
      ]
     },
     "metadata": {
      "needs_background": "light"
     },
     "output_type": "display_data"
    }
   ],
   "source": [
    "y = np.cos(2*x*np.pi) + np.random.normal(size=n)\n",
    "plt.scatter(x,y)\n",
    "plt.title(\"Lack of fit plot\")\n",
    "sx = np.sort(x)\n",
    "plt.plot(sx,np.cos(2*sx*np.pi),c='red')\n",
    "plt.axhline(0)"
   ]
  },
  {
   "cell_type": "markdown",
   "metadata": {},
   "source": [
    "Plots of residuals against predictors:"
   ]
  },
  {
   "cell_type": "code",
   "execution_count": 11,
   "metadata": {},
   "outputs": [
    {
     "data": {
      "text/plain": [
       "<matplotlib.lines.Line2D at 0x182ef62a948>"
      ]
     },
     "execution_count": 11,
     "metadata": {},
     "output_type": "execute_result"
    },
    {
     "data": {
      "image/png": "[encoded data removed]",
      "text/plain": [
       "<Figure size 432x288 with 1 Axes>"
      ]
     },
     "metadata": {
      "needs_background": "light"
     },
     "output_type": "display_data"
    }
   ],
   "source": [
    "plt.scatter(savings.pop15, lmod.resid)\n",
    "plt.xlabel(\"%pop under 15\")\n",
    "plt.ylabel(\"Residuals\")\n",
    "plt.axhline(0)"
   ]
  },
  {
   "cell_type": "code",
   "execution_count": 12,
   "metadata": {},
   "outputs": [
    {
     "data": {
      "text/plain": [
       "<matplotlib.lines.Line2D at 0x182ef708108>"
      ]
     },
     "execution_count": 12,
     "metadata": {},
     "output_type": "execute_result"
    },
    {
     "data": {
      "image/png": "[encoded data removed]",
      "text/plain": [
       "<Figure size 432x288 with 1 Axes>"
      ]
     },
     "metadata": {
      "needs_background": "light"
     },
     "output_type": "display_data"
    }
   ],
   "source": [
    "plt.scatter(savings.pop75, lmod.resid)\n",
    "plt.xlabel(\"%pop over 75\")\n",
    "plt.ylabel(\"Residuals\")\n",
    "plt.axhline(0)"
   ]
  },
  {
   "cell_type": "markdown",
   "metadata": {},
   "source": [
    "Check for equality of the variances in the two groups seen in pop15"
   ]
  },
  {
   "cell_type": "code",
   "execution_count": 13,
   "metadata": {},
   "outputs": [
    {
     "data": {
      "text/plain": [
       "0.013575950424159933"
      ]
     },
     "execution_count": 13,
     "metadata": {},
     "output_type": "execute_result"
    }
   ],
   "source": [
    "numres = lmod.resid[savings.pop15 > 35]\n",
    "denres = lmod.resid[savings.pop15 < 35]\n",
    "fstat = np.var(numres,ddof=1)/np.var(denres,ddof=1)\n",
    "2*(1-sp.stats.f.cdf(fstat,len(numres)-1,len(denres)-1))"
   ]
  },
  {
   "cell_type": "markdown",
   "metadata": {},
   "source": [
    "Do the residual fitted plot for the Galapagos data:"
   ]
  },
  {
   "cell_type": "code",
   "execution_count": 14,
   "metadata": {},
   "outputs": [
    {
     "data": {
      "text/plain": [
       "<matplotlib.lines.Line2D at 0x182ef78b148>"
      ]
     },
     "execution_count": 14,
     "metadata": {},
     "output_type": "execute_result"
    },
    {
     "data": {
      "image/png": "[encoded data removed]",
      "text/plain": [
       "<Figure size 432x288 with 1 Axes>"
      ]
     },
     "metadata": {
      "needs_background": "light"
     },
     "output_type": "display_data"
    }
   ],
   "source": [
    "gala = pd.read_csv(\"data/gala.csv\")\n",
    "gmod = smf.ols(formula='Species ~ Area + Elevation + Nearest + Scruz  + Adjacent', data=gala).fit()\n",
    "plt.scatter(gmod.fittedvalues, gmod.resid)\n",
    "plt.ylabel(\"Residuals\")\n",
    "plt.xlabel(\"Fitted values\")\n",
    "plt.axhline(0)"
   ]
  },
  {
   "cell_type": "markdown",
   "metadata": {},
   "source": [
    "See how transformation improves the plot:"
   ]
  },
  {
   "cell_type": "code",
   "execution_count": 15,
   "metadata": {},
   "outputs": [
    {
     "data": {
      "text/plain": [
       "<matplotlib.lines.Line2D at 0x182ef6e4148>"
      ]
     },
     "execution_count": 15,
     "metadata": {},
     "output_type": "execute_result"
    },
    {
     "data": {
      "image/png": "[encoded data removed]",
      "text/plain": [
       "<Figure size 432x288 with 1 Axes>"
      ]
     },
     "metadata": {
      "needs_background": "light"
     },
     "output_type": "display_data"
    }
   ],
   "source": [
    "gmod = smf.ols(formula='np.sqrt(Species) ~ Area + Elevation + Nearest + Scruz  + Adjacent', data=gala).fit()\n",
    "plt.scatter(gmod.fittedvalues, gmod.resid)\n",
    "plt.ylabel(\"Residuals\")\n",
    "plt.xlabel(\"Fitted values\")\n",
    "plt.axhline(0)"
   ]
  },
  {
   "cell_type": "markdown",
   "metadata": {},
   "source": [
    "Check the QQ plot of the residuals. Plot is assigned to foo so it doesn't print twice."
   ]
  },
  {
   "cell_type": "code",
   "execution_count": 16,
   "metadata": {},
   "outputs": [
    {
     "data": {
      "image/png": "[encoded data removed]",
      "text/plain": [
       "<Figure size 432x288 with 1 Axes>"
      ]
     },
     "metadata": {
      "needs_background": "light"
     },
     "output_type": "display_data"
    }
   ],
   "source": [
    "foo = sm.qqplot(lmod.resid, line=\"q\")"
   ]
  },
  {
   "cell_type": "markdown",
   "metadata": {},
   "source": [
    "Histogram is not a good way to check:"
   ]
  },
  {
   "cell_type": "code",
   "execution_count": 17,
   "metadata": {},
   "outputs": [
    {
     "data": {
      "text/plain": [
       "Text(0.5, 0, 'Residuals')"
      ]
     },
     "execution_count": 17,
     "metadata": {},
     "output_type": "execute_result"
    },
    {
     "data": {
      "image/png": "[encoded data removed]",
      "text/plain": [
       "<Figure size 432x288 with 1 Axes>"
      ]
     },
     "metadata": {
      "needs_background": "light"
     },
     "output_type": "display_data"
    }
   ],
   "source": [
    "plt.hist(lmod.resid)\n",
    "plt.xlabel(\"Residuals\")"
   ]
  },
  {
   "cell_type": "markdown",
   "metadata": {},
   "source": [
    "Generate some random QQ plots from known distributions:"
   ]
  },
  {
   "cell_type": "code",
   "execution_count": 18,
   "metadata": {},
   "outputs": [
    {
     "data": {
      "image/png": "[encoded data removed]",
      "text/plain": [
       "<Figure size 432x288 with 1 Axes>"
      ]
     },
     "metadata": {
      "needs_background": "light"
     },
     "output_type": "display_data"
    }
   ],
   "source": [
    "foo = sm.qqplot(np.random.normal(size=50),line=\"q\")"
   ]
  },
  {
   "cell_type": "code",
   "execution_count": 19,
   "metadata": {},
   "outputs": [
    {
     "data": {
      "image/png": "[encoded data removed]",
      "text/plain": [
       "<Figure size 432x288 with 1 Axes>"
      ]
     },
     "metadata": {
      "needs_background": "light"
     },
     "output_type": "display_data"
    }
   ],
   "source": [
    "foo = sm.qqplot(np.exp(np.random.normal(size=50)),line=\"q\")"
   ]
  },
  {
   "cell_type": "code",
   "execution_count": 20,
   "metadata": {},
   "outputs": [
    {
     "data": {
      "image/png": "[encoded data removed]",
      "text/plain": [
       "<Figure size 432x288 with 1 Axes>"
      ]
     },
     "metadata": {
      "needs_background": "light"
     },
     "output_type": "display_data"
    }
   ],
   "source": [
    "foo = sm.qqplot(np.random.standard_t(1,size=50),line=\"q\")"
   ]
  },
  {
   "cell_type": "code",
   "execution_count": 21,
   "metadata": {},
   "outputs": [
    {
     "data": {
      "image/png": "[encoded data removed]",
      "text/plain": [
       "<Figure size 432x288 with 1 Axes>"
      ]
     },
     "metadata": {
      "needs_background": "light"
     },
     "output_type": "display_data"
    }
   ],
   "source": [
    "foo = sm.qqplot(np.random.sample(size=50),line=\"q\")"
   ]
  },
  {
   "cell_type": "markdown",
   "metadata": {},
   "source": [
    "Do the Shapiro test - second value is the p-value"
   ]
  },
  {
   "cell_type": "code",
   "execution_count": 22,
   "metadata": {},
   "outputs": [
    {
     "data": {
      "text/plain": [
       "(0.98698, 0.85240)"
      ]
     },
     "execution_count": 22,
     "metadata": {},
     "output_type": "execute_result"
    }
   ],
   "source": [
    "sp.stats.shapiro(lmod.resid)"
   ]
  },
  {
   "cell_type": "markdown",
   "metadata": {},
   "source": [
    "## Correlated Errors"
   ]
  },
  {
   "cell_type": "code",
   "execution_count": 23,
   "metadata": {},
   "outputs": [
    {
     "data": {
      "text/html": [
       "<div>\n",
       "<style scoped>\n",
       "    .dataframe tbody tr th:only-of-type {\n",
       "        vertical-align: middle;\n",
       "    }\n",
       "\n",
       "    .dataframe tbody tr th {\n",
       "        vertical-align: top;\n",
       "    }\n",
       "\n",
       "    .dataframe thead th {\n",
       "        text-align: right;\n",
       "    }\n",
       "</style>\n",
       "<table border=\"1\" class=\"dataframe\">\n",
       "  <thead>\n",
       "    <tr style=\"text-align: right;\">\n",
       "      <th></th>\n",
       "      <th>nhtemp</th>\n",
       "      <th>wusa</th>\n",
       "      <th>jasper</th>\n",
       "      <th>westgreen</th>\n",
       "      <th>chesapeake</th>\n",
       "      <th>tornetrask</th>\n",
       "      <th>urals</th>\n",
       "      <th>mongolia</th>\n",
       "      <th>tasman</th>\n",
       "      <th>year</th>\n",
       "    </tr>\n",
       "  </thead>\n",
       "  <tbody>\n",
       "    <tr>\n",
       "      <th>0</th>\n",
       "      <td>NaN</td>\n",
       "      <td>-0.66</td>\n",
       "      <td>-0.03</td>\n",
       "      <td>0.03</td>\n",
       "      <td>-0.66</td>\n",
       "      <td>0.33</td>\n",
       "      <td>-1.49</td>\n",
       "      <td>0.83</td>\n",
       "      <td>-0.12</td>\n",
       "      <td>1000</td>\n",
       "    </tr>\n",
       "    <tr>\n",
       "      <th>1</th>\n",
       "      <td>NaN</td>\n",
       "      <td>-0.63</td>\n",
       "      <td>-0.07</td>\n",
       "      <td>0.09</td>\n",
       "      <td>-0.67</td>\n",
       "      <td>0.21</td>\n",
       "      <td>-1.44</td>\n",
       "      <td>0.96</td>\n",
       "      <td>-0.17</td>\n",
       "      <td>1001</td>\n",
       "    </tr>\n",
       "    <tr>\n",
       "      <th>2</th>\n",
       "      <td>NaN</td>\n",
       "      <td>-0.60</td>\n",
       "      <td>-0.11</td>\n",
       "      <td>0.18</td>\n",
       "      <td>-0.67</td>\n",
       "      <td>0.13</td>\n",
       "      <td>-1.39</td>\n",
       "      <td>0.99</td>\n",
       "      <td>-0.22</td>\n",
       "      <td>1002</td>\n",
       "    </tr>\n",
       "    <tr>\n",
       "      <th>3</th>\n",
       "      <td>NaN</td>\n",
       "      <td>-0.55</td>\n",
       "      <td>-0.14</td>\n",
       "      <td>0.30</td>\n",
       "      <td>-0.68</td>\n",
       "      <td>0.08</td>\n",
       "      <td>-1.34</td>\n",
       "      <td>0.95</td>\n",
       "      <td>-0.26</td>\n",
       "      <td>1003</td>\n",
       "    </tr>\n",
       "    <tr>\n",
       "      <th>4</th>\n",
       "      <td>NaN</td>\n",
       "      <td>-0.51</td>\n",
       "      <td>-0.15</td>\n",
       "      <td>0.41</td>\n",
       "      <td>-0.68</td>\n",
       "      <td>0.06</td>\n",
       "      <td>-1.30</td>\n",
       "      <td>0.87</td>\n",
       "      <td>-0.31</td>\n",
       "      <td>1004</td>\n",
       "    </tr>\n",
       "  </tbody>\n",
       "</table>\n",
       "</div>"
      ],
      "text/plain": [
       "   nhtemp  wusa  jasper  westgreen  chesapeake  tornetrask  urals  mongolia  \\\n",
       "0     NaN -0.66   -0.03       0.03       -0.66        0.33  -1.49      0.83   \n",
       "1     NaN -0.63   -0.07       0.09       -0.67        0.21  -1.44      0.96   \n",
       "2     NaN -0.60   -0.11       0.18       -0.67        0.13  -1.39      0.99   \n",
       "3     NaN -0.55   -0.14       0.30       -0.68        0.08  -1.34      0.95   \n",
       "4     NaN -0.51   -0.15       0.41       -0.68        0.06  -1.30      0.87   \n",
       "\n",
       "   tasman  year  \n",
       "0   -0.12  1000  \n",
       "1   -0.17  1001  \n",
       "2   -0.22  1002  \n",
       "3   -0.26  1003  \n",
       "4   -0.31  1004  "
      ]
     },
     "execution_count": 23,
     "metadata": {},
     "output_type": "execute_result"
    }
   ],
   "source": [
    "globwarm = pd.read_csv(\"data/globwarm.csv\")\n",
    "globwarm.head()"
   ]
  },
  {
   "cell_type": "code",
   "execution_count": 24,
   "metadata": {},
   "outputs": [
    {
     "data": {
      "text/html": [
       "<table class=\"simpletable\">\n",
       "<caption>OLS Regression Results</caption>\n",
       "<tr>\n",
       "  <th>Dep. Variable:</th>         <td>nhtemp</td>      <th>  R-squared:         </th> <td>   0.476</td>\n",
       "</tr>\n",
       "<tr>\n",
       "  <th>Model:</th>                   <td>OLS</td>       <th>  Adj. R-squared:    </th> <td>   0.446</td>\n",
       "</tr>\n",
       "<tr>\n",
       "  <th>Method:</th>             <td>Least Squares</td>  <th>  F-statistic:       </th> <td>   15.47</td>\n",
       "</tr>\n",
       "<tr>\n",
       "  <th>Date:</th>             <td>Tue, 23 Jun 2020</td> <th>  Prob (F-statistic):</th> <td>5.03e-16</td>\n",
       "</tr>\n",
       "<tr>\n",
       "  <th>Time:</th>                 <td>16:37:23</td>     <th>  Log-Likelihood:    </th> <td>  50.995</td>\n",
       "</tr>\n",
       "<tr>\n",
       "  <th>No. Observations:</th>      <td>   145</td>      <th>  AIC:               </th> <td>  -83.99</td>\n",
       "</tr>\n",
       "<tr>\n",
       "  <th>Df Residuals:</th>          <td>   136</td>      <th>  BIC:               </th> <td>  -57.20</td>\n",
       "</tr>\n",
       "<tr>\n",
       "  <th>Df Model:</th>              <td>     8</td>      <th>                     </th>     <td> </td>   \n",
       "</tr>\n",
       "<tr>\n",
       "  <th>Covariance Type:</th>      <td>nonrobust</td>    <th>                     </th>     <td> </td>   \n",
       "</tr>\n",
       "</table>\n",
       "<table class=\"simpletable\">\n",
       "<tr>\n",
       "       <td></td>         <th>coef</th>     <th>std err</th>      <th>t</th>      <th>P>|t|</th>  <th>[0.025</th>    <th>0.975]</th>  \n",
       "</tr>\n",
       "<tr>\n",
       "  <th>Intercept</th>  <td>   -0.2426</td> <td>    0.027</td> <td>   -8.980</td> <td> 0.000</td> <td>   -0.296</td> <td>   -0.189</td>\n",
       "</tr>\n",
       "<tr>\n",
       "  <th>wusa</th>       <td>    0.0774</td> <td>    0.043</td> <td>    1.803</td> <td> 0.074</td> <td>   -0.008</td> <td>    0.162</td>\n",
       "</tr>\n",
       "<tr>\n",
       "  <th>jasper</th>     <td>   -0.2288</td> <td>    0.078</td> <td>   -2.929</td> <td> 0.004</td> <td>   -0.383</td> <td>   -0.074</td>\n",
       "</tr>\n",
       "<tr>\n",
       "  <th>westgreen</th>  <td>    0.0096</td> <td>    0.042</td> <td>    0.229</td> <td> 0.819</td> <td>   -0.073</td> <td>    0.092</td>\n",
       "</tr>\n",
       "<tr>\n",
       "  <th>chesapeake</th> <td>   -0.0321</td> <td>    0.034</td> <td>   -0.943</td> <td> 0.347</td> <td>   -0.099</td> <td>    0.035</td>\n",
       "</tr>\n",
       "<tr>\n",
       "  <th>tornetrask</th> <td>    0.0927</td> <td>    0.045</td> <td>    2.057</td> <td> 0.042</td> <td>    0.004</td> <td>    0.182</td>\n",
       "</tr>\n",
       "<tr>\n",
       "  <th>urals</th>      <td>    0.1854</td> <td>    0.091</td> <td>    2.027</td> <td> 0.045</td> <td>    0.005</td> <td>    0.366</td>\n",
       "</tr>\n",
       "<tr>\n",
       "  <th>mongolia</th>   <td>    0.0420</td> <td>    0.046</td> <td>    0.917</td> <td> 0.361</td> <td>   -0.049</td> <td>    0.133</td>\n",
       "</tr>\n",
       "<tr>\n",
       "  <th>tasman</th>     <td>    0.1155</td> <td>    0.030</td> <td>    3.834</td> <td> 0.000</td> <td>    0.056</td> <td>    0.175</td>\n",
       "</tr>\n",
       "</table>\n",
       "<table class=\"simpletable\">\n",
       "<tr>\n",
       "  <th>Omnibus:</th>       <td>12.501</td> <th>  Durbin-Watson:     </th> <td>   0.817</td>\n",
       "</tr>\n",
       "<tr>\n",
       "  <th>Prob(Omnibus):</th> <td> 0.002</td> <th>  Jarque-Bera (JB):  </th> <td>  17.388</td>\n",
       "</tr>\n",
       "<tr>\n",
       "  <th>Skew:</th>          <td> 0.490</td> <th>  Prob(JB):          </th> <td>0.000168</td>\n",
       "</tr>\n",
       "<tr>\n",
       "  <th>Kurtosis:</th>      <td> 4.384</td> <th>  Cond. No.          </th> <td>    12.9</td>\n",
       "</tr>\n",
       "</table><br/><br/>Warnings:<br/>[1] Standard Errors assume that the covariance matrix of the errors is correctly specified."
      ],
      "text/plain": [
       "<class 'statsmodels.iolib.summary.Summary'>\n",
       "\"\"\"\n",
       "                            OLS Regression Results                            \n",
       "==============================================================================\n",
       "Dep. Variable:                 nhtemp   R-squared:                       0.476\n",
       "Model:                            OLS   Adj. R-squared:                  0.446\n",
       "Method:                 Least Squares   F-statistic:                     15.47\n",
       "Date:                Tue, 23 Jun 2020   Prob (F-statistic):           5.03e-16\n",
       "Time:                        16:37:23   Log-Likelihood:                 50.995\n",
       "No. Observations:                 145   AIC:                            -83.99\n",
       "Df Residuals:                     136   BIC:                            -57.20\n",
       "Df Model:                           8                                         \n",
       "Covariance Type:            nonrobust                                         \n",
       "==============================================================================\n",
       "                 coef    std err          t      P>|t|      [0.025      0.975]\n",
       "------------------------------------------------------------------------------\n",
       "Intercept     -0.2426      0.027     -8.980      0.000      -0.296      -0.189\n",
       "wusa           0.0774      0.043      1.803      0.074      -0.008       0.162\n",
       "jasper        -0.2288      0.078     -2.929      0.004      -0.383      -0.074\n",
       "westgreen      0.0096      0.042      0.229      0.819      -0.073       0.092\n",
       "chesapeake    -0.0321      0.034     -0.943      0.347      -0.099       0.035\n",
       "tornetrask     0.0927      0.045      2.057      0.042       0.004       0.182\n",
       "urals          0.1854      0.091      2.027      0.045       0.005       0.366\n",
       "mongolia       0.0420      0.046      0.917      0.361      -0.049       0.133\n",
       "tasman         0.1155      0.030      3.834      0.000       0.056       0.175\n",
       "==============================================================================\n",
       "Omnibus:                       12.501   Durbin-Watson:                   0.817\n",
       "Prob(Omnibus):                  0.002   Jarque-Bera (JB):               17.388\n",
       "Skew:                           0.490   Prob(JB):                     0.000168\n",
       "Kurtosis:                       4.384   Cond. No.                         12.9\n",
       "==============================================================================\n",
       "\n",
       "Warnings:\n",
       "[1] Standard Errors assume that the covariance matrix of the errors is correctly specified.\n",
       "\"\"\""
      ]
     },
     "execution_count": 24,
     "metadata": {},
     "output_type": "execute_result"
    }
   ],
   "source": [
    "lmod = smf.ols(formula='nhtemp ~ wusa + jasper + westgreen + chesapeake + tornetrask + urals + mongolia + tasman',\n",
    "               data=globwarm).fit()\n",
    "lmod.summary()"
   ]
  },
  {
   "cell_type": "code",
   "execution_count": 25,
   "metadata": {},
   "outputs": [
    {
     "data": {
      "text/plain": [
       "<matplotlib.lines.Line2D at 0x182f0b09288>"
      ]
     },
     "execution_count": 25,
     "metadata": {},
     "output_type": "execute_result"
    },
    {
     "data": {
      "image/png": "[encoded data removed]",
      "text/plain": [
       "<Figure size 432x288 with 1 Axes>"
      ]
     },
     "metadata": {
      "needs_background": "light"
     },
     "output_type": "display_data"
    }
   ],
   "source": [
    "plt.scatter(globwarm.year[lmod.resid.keys()], lmod.resid)\n",
    "plt.axhline(0)"
   ]
  },
  {
   "cell_type": "code",
   "execution_count": 26,
   "metadata": {},
   "outputs": [
    {
     "data": {
      "text/plain": [
       "<matplotlib.lines.Line2D at 0x182f13cf388>"
      ]
     },
     "execution_count": 26,
     "metadata": {},
     "output_type": "execute_result"
    },
    {
     "data": {
      "image/png": "[encoded data removed]",
      "text/plain": [
       "<Figure size 432x288 with 1 Axes>"
      ]
     },
     "metadata": {
      "needs_background": "light"
     },
     "output_type": "display_data"
    }
   ],
   "source": [
    "plt.scatter(lmod.resid.iloc[:-1],lmod.resid.iloc[1:])\n",
    "plt.axhline(0,alpha=0.5)\n",
    "plt.axvline(0,alpha=0.5)"
   ]
  },
  {
   "cell_type": "markdown",
   "metadata": {},
   "source": [
    "This is the statistic. P-values do not seem to be available. 2 is considered null but less than 1 is a sign of a problem."
   ]
  },
  {
   "cell_type": "code",
   "execution_count": 27,
   "metadata": {},
   "outputs": [
    {
     "data": {
      "text/plain": [
       "0.8166063726402724"
      ]
     },
     "execution_count": 27,
     "metadata": {},
     "output_type": "execute_result"
    }
   ],
   "source": [
    "sm.stats.stattools.durbin_watson(lmod.resid)"
   ]
  },
  {
   "cell_type": "markdown",
   "metadata": {},
   "source": [
    "## Finding Unusual Observations"
   ]
  },
  {
   "cell_type": "code",
   "execution_count": 28,
   "metadata": {},
   "outputs": [
    {
     "data": {
      "text/plain": [
       "Australia    0.067713\n",
       "Austria      0.120384\n",
       "Belgium      0.087482\n",
       "Bolivia      0.089471\n",
       "Brazil       0.069559\n",
       "dtype: float64"
      ]
     },
     "execution_count": 28,
     "metadata": {},
     "output_type": "execute_result"
    }
   ],
   "source": [
    "lmod = smf.ols(formula='sr ~ pop15 + pop75 + dpi + ddpi', data=savings).fit()\n",
    "diagv = lmod.get_influence()\n",
    "hatv = pd.Series(diagv.hat_matrix_diag, savings.index)\n",
    "hatv.head()"
   ]
  },
  {
   "cell_type": "markdown",
   "metadata": {},
   "source": [
    "Make the half-normal plot:"
   ]
  },
  {
   "cell_type": "code",
   "execution_count": 29,
   "metadata": {},
   "outputs": [
    {
     "data": {
      "text/plain": [
       "<matplotlib.collections.PathCollection at 0x182f14a2148>"
      ]
     },
     "execution_count": 29,
     "metadata": {},
     "output_type": "execute_result"
    },
    {
     "data": {
      "image/png": "[encoded data removed]",
      "text/plain": [
       "<Figure size 432x288 with 1 Axes>"
      ]
     },
     "metadata": {
      "needs_background": "light"
     },
     "output_type": "display_data"
    }
   ],
   "source": [
    "n=50\n",
    "ix = np.arange(1,n+1)\n",
    "halfq = sp.stats.norm.ppf((n+ix)/(2*n+1)),\n",
    "plt.scatter(halfq, np.sort(hatv))"
   ]
  },
  {
   "cell_type": "markdown",
   "metadata": {},
   "source": [
    "Should tag these on the plot"
   ]
  },
  {
   "cell_type": "code",
   "execution_count": 30,
   "metadata": {},
   "outputs": [
    {
     "data": {
      "text/plain": [
       "South Rhodesia    0.160809\n",
       "Ireland           0.212236\n",
       "Japan             0.223310\n",
       "United States     0.333688\n",
       "Libya             0.531457\n",
       "dtype: float64"
      ]
     },
     "execution_count": 30,
     "metadata": {},
     "output_type": "execute_result"
    }
   ],
   "source": [
    "hatv.sort_values().iloc[-5:]"
   ]
  },
  {
   "cell_type": "markdown",
   "metadata": {},
   "source": [
    "One of the built-in plots. Not sure about residuals^2 as a diagnostic."
   ]
  },
  {
   "cell_type": "code",
   "execution_count": 31,
   "metadata": {},
   "outputs": [
    {
     "data": {
      "image/png": "[encoded data removed]",
      "text/plain": [
       "<Figure size 432x288 with 1 Axes>"
      ]
     },
     "metadata": {
      "needs_background": "light"
     },
     "output_type": "display_data"
    }
   ],
   "source": [
    "foo = sm.graphics.plot_leverage_resid2(lmod)"
   ]
  },
  {
   "cell_type": "markdown",
   "metadata": {},
   "source": [
    "Would prefer R style plot here."
   ]
  },
  {
   "cell_type": "code",
   "execution_count": 32,
   "metadata": {
    "scrolled": true
   },
   "outputs": [
    {
     "data": {
      "image/png": "[encoded data removed]",
      "text/plain": [
       "<Figure size 432x288 with 1 Axes>"
      ]
     },
     "metadata": {
      "needs_background": "light"
     },
     "output_type": "display_data"
    }
   ],
   "source": [
    "foo = sm.graphics.influence_plot(lmod)"
   ]
  },
  {
   "cell_type": "markdown",
   "metadata": {},
   "source": [
    "Make a QQ plot of the Pearson residuals. These are not the same as the standardised residuals in R."
   ]
  },
  {
   "cell_type": "code",
   "execution_count": 33,
   "metadata": {},
   "outputs": [
    {
     "data": {
      "image/png": "[encoded data removed]",
      "text/plain": [
       "<Figure size 432x288 with 1 Axes>"
      ]
     },
     "metadata": {
      "needs_background": "light"
     },
     "output_type": "display_data"
    }
   ],
   "source": [
    "foo = sm.qqplot(lmod.resid_pearson)"
   ]
  },
  {
   "cell_type": "markdown",
   "metadata": {},
   "source": [
    "Make the example plots with outliers. (Seems like this could be done more neatly)"
   ]
  },
  {
   "cell_type": "code",
   "execution_count": 34,
   "metadata": {},
   "outputs": [],
   "source": [
    "np.random.seed(123)\n",
    "testdata = pd.DataFrame({'x' : np.arange(1,11), 'y' : np.arange(1,11) + np.random.normal(size=10)})\n",
    "p1 = pd.DataFrame({'x': [5.5], 'y':[12]})\n",
    "alldata = testdata.append(p1,ignore_index=True)"
   ]
  },
  {
   "cell_type": "code",
   "execution_count": 35,
   "metadata": {},
   "outputs": [
    {
     "data": {
      "text/plain": [
       "[<matplotlib.lines.Line2D at 0x182f162f408>]"
      ]
     },
     "execution_count": 35,
     "metadata": {},
     "output_type": "execute_result"
    },
    {
     "data": {
      "image/png": "[encoded data removed]",
      "text/plain": [
       "<Figure size 432x288 with 1 Axes>"
      ]
     },
     "metadata": {
      "needs_background": "light"
     },
     "output_type": "display_data"
    }
   ],
   "source": [
    "marksize = np.ones(11)\n",
    "marksize[10] = 3\n",
    "plt.scatter(alldata.x, alldata.y, s= marksize*5)\n",
    "slope, intercept = np.polyfit(testdata.x, testdata.y,1)\n",
    "plt.plot(testdata.x, intercept + slope * testdata.x)\n",
    "slope, intercept = np.polyfit(alldata.x, alldata.y,1)\n",
    "plt.plot(alldata.x, intercept + slope * alldata.x, color='red')"
   ]
  },
  {
   "cell_type": "code",
   "execution_count": 36,
   "metadata": {},
   "outputs": [
    {
     "data": {
      "text/plain": [
       "[<matplotlib.lines.Line2D at 0x182f16bde48>]"
      ]
     },
     "execution_count": 36,
     "metadata": {},
     "output_type": "execute_result"
    },
    {
     "data": {
      "image/png": "[encoded data removed]",
      "text/plain": [
       "<Figure size 432x288 with 1 Axes>"
      ]
     },
     "metadata": {
      "needs_background": "light"
     },
     "output_type": "display_data"
    }
   ],
   "source": [
    "p1 = pd.DataFrame({'x': [15], 'y':[15.1]})\n",
    "alldata = testdata.append(p1,ignore_index=True)\n",
    "plt.scatter(alldata.x, alldata.y, s= marksize*5)\n",
    "slope, intercept = np.polyfit(testdata.x, testdata.y,1)\n",
    "plt.plot(testdata.x, intercept + slope * testdata.x)\n",
    "slope, intercept = np.polyfit(alldata.x, alldata.y,1)\n",
    "plt.plot(alldata.x, intercept + slope * alldata.x, color='red')"
   ]
  },
  {
   "cell_type": "code",
   "execution_count": 37,
   "metadata": {},
   "outputs": [
    {
     "data": {
      "text/plain": [
       "[<matplotlib.lines.Line2D at 0x182f173c408>]"
      ]
     },
     "execution_count": 37,
     "metadata": {},
     "output_type": "execute_result"
    },
    {
     "data": {
      "image/png": "[encoded data removed]",
      "text/plain": [
       "<Figure size 432x288 with 1 Axes>"
      ]
     },
     "metadata": {
      "needs_background": "light"
     },
     "output_type": "display_data"
    }
   ],
   "source": [
    "p1 = pd.DataFrame({'x': [15], 'y':[5.1]})\n",
    "alldata = testdata.append(p1,ignore_index=True)\n",
    "plt.scatter(alldata.x, alldata.y, s= marksize*5)\n",
    "slope, intercept = np.polyfit(testdata.x, testdata.y,1)\n",
    "plt.plot(testdata.x, intercept + slope * testdata.x)\n",
    "slope, intercept = np.polyfit(alldata.x, alldata.y,1)\n",
    "plt.plot(alldata.x, intercept + slope * alldata.x, color='red')"
   ]
  },
  {
   "cell_type": "markdown",
   "metadata": {},
   "source": [
    "Create the studentized residuals"
   ]
  },
  {
   "cell_type": "code",
   "execution_count": 38,
   "metadata": {},
   "outputs": [
    {
     "data": {
      "text/plain": [
       "('Zambia', 2.8535583382284377)"
      ]
     },
     "execution_count": 38,
     "metadata": {},
     "output_type": "execute_result"
    }
   ],
   "source": [
    "stud = pd.Series(diagv.resid_studentized_external, savings.index)\n",
    "(pd.Series.idxmax(abs(stud)), np.max(abs(stud)))"
   ]
  },
  {
   "cell_type": "markdown",
   "metadata": {},
   "source": [
    "Find the Bonferroni-adjusted critical value:"
   ]
  },
  {
   "cell_type": "code",
   "execution_count": 39,
   "metadata": {},
   "outputs": [
    {
     "data": {
      "text/plain": [
       "-3.525801306486005"
      ]
     },
     "execution_count": 39,
     "metadata": {},
     "output_type": "execute_result"
    }
   ],
   "source": [
    "sp.stats.t.ppf(0.05/(2*50),44)"
   ]
  },
  {
   "cell_type": "markdown",
   "metadata": {},
   "source": [
    "Star example that has multiple outliers:"
   ]
  },
  {
   "cell_type": "code",
   "execution_count": 40,
   "metadata": {},
   "outputs": [
    {
     "data": {
      "text/html": [
       "<div>\n",
       "<style scoped>\n",
       "    .dataframe tbody tr th:only-of-type {\n",
       "        vertical-align: middle;\n",
       "    }\n",
       "\n",
       "    .dataframe tbody tr th {\n",
       "        vertical-align: top;\n",
       "    }\n",
       "\n",
       "    .dataframe thead th {\n",
       "        text-align: right;\n",
       "    }\n",
       "</style>\n",
       "<table border=\"1\" class=\"dataframe\">\n",
       "  <thead>\n",
       "    <tr style=\"text-align: right;\">\n",
       "      <th></th>\n",
       "      <th>temp</th>\n",
       "      <th>light</th>\n",
       "    </tr>\n",
       "  </thead>\n",
       "  <tbody>\n",
       "    <tr>\n",
       "      <th>0</th>\n",
       "      <td>4.37</td>\n",
       "      <td>5.23</td>\n",
       "    </tr>\n",
       "    <tr>\n",
       "      <th>1</th>\n",
       "      <td>4.56</td>\n",
       "      <td>5.74</td>\n",
       "    </tr>\n",
       "    <tr>\n",
       "      <th>2</th>\n",
       "      <td>4.26</td>\n",
       "      <td>4.93</td>\n",
       "    </tr>\n",
       "    <tr>\n",
       "      <th>3</th>\n",
       "      <td>4.56</td>\n",
       "      <td>5.74</td>\n",
       "    </tr>\n",
       "    <tr>\n",
       "      <th>4</th>\n",
       "      <td>4.30</td>\n",
       "      <td>5.19</td>\n",
       "    </tr>\n",
       "  </tbody>\n",
       "</table>\n",
       "</div>"
      ],
      "text/plain": [
       "   temp  light\n",
       "0  4.37   5.23\n",
       "1  4.56   5.74\n",
       "2  4.26   4.93\n",
       "3  4.56   5.74\n",
       "4  4.30   5.19"
      ]
     },
     "execution_count": 40,
     "metadata": {},
     "output_type": "execute_result"
    }
   ],
   "source": [
    "star = pd.read_csv(\"data/star.csv\")\n",
    "star.head()"
   ]
  },
  {
   "cell_type": "markdown",
   "metadata": {},
   "source": [
    "Put the line on the plot:"
   ]
  },
  {
   "cell_type": "code",
   "execution_count": 41,
   "metadata": {},
   "outputs": [
    {
     "data": {
      "text/plain": [
       "[<matplotlib.lines.Line2D at 0x182f1789c08>]"
      ]
     },
     "execution_count": 41,
     "metadata": {},
     "output_type": "execute_result"
    },
    {
     "data": {
      "image/png": "[encoded data removed]",
      "text/plain": [
       "<Figure size 432x288 with 1 Axes>"
      ]
     },
     "metadata": {
      "needs_background": "light"
     },
     "output_type": "display_data"
    }
   ],
   "source": [
    "lmod = smf.ols(formula='light ~ temp',data=star).fit()\n",
    "plt.scatter(star.temp, star.light)\n",
    "plt.plot([3.4, 4.7], [lmod.params[0] + lmod.params[1]*3.4, lmod.params[0] + lmod.params[1]*4.7])"
   ]
  },
  {
   "cell_type": "markdown",
   "metadata": {},
   "source": [
    "Look for outliers:"
   ]
  },
  {
   "cell_type": "code",
   "execution_count": 42,
   "metadata": {},
   "outputs": [
    {
     "data": {
      "text/plain": [
       "(-2.049392729378057, 1.905847201766315)"
      ]
     },
     "execution_count": 42,
     "metadata": {},
     "output_type": "execute_result"
    }
   ],
   "source": [
    "stud = lmod.get_influence().resid_studentized_external\n",
    "np.min(stud), np.max(stud)"
   ]
  },
  {
   "cell_type": "markdown",
   "metadata": {},
   "source": [
    "Fit the line without the four points:"
   ]
  },
  {
   "cell_type": "code",
   "execution_count": 43,
   "metadata": {},
   "outputs": [
    {
     "data": {
      "text/plain": [
       "[<matplotlib.lines.Line2D at 0x182f182e188>]"
      ]
     },
     "execution_count": 43,
     "metadata": {},
     "output_type": "execute_result"
    },
    {
     "data": {
      "image/png": "[encoded data removed]",
      "text/plain": [
       "<Figure size 432x288 with 1 Axes>"
      ]
     },
     "metadata": {
      "needs_background": "light"
     },
     "output_type": "display_data"
    }
   ],
   "source": [
    "lmodr = smf.ols(formula='light ~ temp',data=star[star.temp > 3.6]).fit()\n",
    "plt.scatter(star.temp, star.light)\n",
    "plt.plot([3.4, 4.7], [lmod.params[0] + lmod.params[1]*3.4, lmod.params[0] + lmod.params[1]*4.7])\n",
    "plt.plot([3.4, 4.7], [lmodr.params[0] + lmodr.params[1]*3.4, lmodr.params[0] + lmodr.params[1]*4.7],color='red')"
   ]
  },
  {
   "cell_type": "markdown",
   "metadata": {},
   "source": [
    "## Influential observations"
   ]
  },
  {
   "cell_type": "code",
   "execution_count": 44,
   "metadata": {},
   "outputs": [
    {
     "data": {
      "text/plain": [
       "<matplotlib.collections.PathCollection at 0x182f18942c8>"
      ]
     },
     "execution_count": 44,
     "metadata": {},
     "output_type": "execute_result"
    },
    {
     "data": {
      "image/png": "[encoded data removed]",
      "text/plain": [
       "<Figure size 432x288 with 1 Axes>"
      ]
     },
     "metadata": {
      "needs_background": "light"
     },
     "output_type": "display_data"
    }
   ],
   "source": [
    "lmod = smf.ols(formula='sr ~ pop15 + pop75 + dpi + ddpi', data=savings).fit()\n",
    "diagv = lmod.get_influence()\n",
    "cooks = pd.Series(diagv.cooks_distance[0], savings.index)\n",
    "n=50\n",
    "ix = np.arange(1,n+1)\n",
    "halfq = sp.stats.norm.ppf((n+ix)/(2*n+1)),\n",
    "plt.scatter(halfq, np.sort(cooks))"
   ]
  },
  {
   "cell_type": "markdown",
   "metadata": {},
   "source": [
    "Would be best placed on the plot."
   ]
  },
  {
   "cell_type": "code",
   "execution_count": 45,
   "metadata": {},
   "outputs": [
    {
     "data": {
      "text/plain": [
       "Philippines    0.045221\n",
       "Ireland        0.054396\n",
       "Zambia         0.096633\n",
       "Japan          0.142816\n",
       "Libya          0.268070\n",
       "dtype: float64"
      ]
     },
     "execution_count": 45,
     "metadata": {},
     "output_type": "execute_result"
    }
   ],
   "source": [
    "cooks.sort_values().iloc[-5:]"
   ]
  },
  {
   "cell_type": "markdown",
   "metadata": {},
   "source": [
    "First column is the all data estimates and second is one without largest cook stat."
   ]
  },
  {
   "cell_type": "code",
   "execution_count": 46,
   "metadata": {},
   "outputs": [
    {
     "data": {
      "text/html": [
       "<div>\n",
       "<style scoped>\n",
       "    .dataframe tbody tr th:only-of-type {\n",
       "        vertical-align: middle;\n",
       "    }\n",
       "\n",
       "    .dataframe tbody tr th {\n",
       "        vertical-align: top;\n",
       "    }\n",
       "\n",
       "    .dataframe thead th {\n",
       "        text-align: right;\n",
       "    }\n",
       "</style>\n",
       "<table border=\"1\" class=\"dataframe\">\n",
       "  <thead>\n",
       "    <tr style=\"text-align: right;\">\n",
       "      <th></th>\n",
       "      <th>with</th>\n",
       "      <th>without</th>\n",
       "    </tr>\n",
       "  </thead>\n",
       "  <tbody>\n",
       "    <tr>\n",
       "      <th>Intercept</th>\n",
       "      <td>28.566087</td>\n",
       "      <td>24.524046</td>\n",
       "    </tr>\n",
       "    <tr>\n",
       "      <th>pop15</th>\n",
       "      <td>-0.461193</td>\n",
       "      <td>-0.391440</td>\n",
       "    </tr>\n",
       "    <tr>\n",
       "      <th>pop75</th>\n",
       "      <td>-1.691498</td>\n",
       "      <td>-1.280867</td>\n",
       "    </tr>\n",
       "    <tr>\n",
       "      <th>dpi</th>\n",
       "      <td>-0.000337</td>\n",
       "      <td>-0.000319</td>\n",
       "    </tr>\n",
       "    <tr>\n",
       "      <th>ddpi</th>\n",
       "      <td>0.409695</td>\n",
       "      <td>0.610279</td>\n",
       "    </tr>\n",
       "  </tbody>\n",
       "</table>\n",
       "</div>"
      ],
      "text/plain": [
       "                with    without\n",
       "Intercept  28.566087  24.524046\n",
       "pop15      -0.461193  -0.391440\n",
       "pop75      -1.691498  -1.280867\n",
       "dpi        -0.000337  -0.000319\n",
       "ddpi        0.409695   0.610279"
      ]
     },
     "execution_count": 46,
     "metadata": {},
     "output_type": "execute_result"
    }
   ],
   "source": [
    "lmodi = smf.ols(formula='sr ~ pop15 + pop75 + dpi + ddpi', data=savings[cooks < 0.2]).fit()\n",
    "pd.DataFrame({'with':lmod.params,'without':lmodi.params})"
   ]
  },
  {
   "cell_type": "markdown",
   "metadata": {},
   "source": [
    "Would be better to autodetect extreme cases and label them. Note that dfbetas is the change in standard errors and not the change in coefficient as in R."
   ]
  },
  {
   "cell_type": "code",
   "execution_count": 47,
   "metadata": {},
   "outputs": [
    {
     "data": {
      "text/plain": [
       "Text(48, -0.48324393377926284, 'Libya')"
      ]
     },
     "execution_count": 47,
     "metadata": {},
     "output_type": "execute_result"
    },
    {
     "data": {
      "image/png": "[encoded data removed]",
      "text/plain": [
       "<Figure size 432x288 with 1 Axes>"
      ]
     },
     "metadata": {
      "needs_background": "light"
     },
     "output_type": "display_data"
    }
   ],
   "source": [
    "p15d = diagv.dfbetas[:,1]\n",
    "plt.scatter(np.arange(1,51),p15d)\n",
    "plt.axhline(0)\n",
    "ix = 22\n",
    "plt.annotate(savings.index[ix],(ix, p15d[ix]))\n",
    "ix = 48\n",
    "plt.annotate(savings.index[ix],(ix, p15d[ix]))"
   ]
  },
  {
   "cell_type": "markdown",
   "metadata": {},
   "source": [
    "# Checking the structure of the model\n",
    "Partial regression plot"
   ]
  },
  {
   "cell_type": "code",
   "execution_count": 48,
   "metadata": {},
   "outputs": [
    {
     "data": {
      "text/plain": [
       "[<matplotlib.lines.Line2D at 0x182f15ab108>]"
      ]
     },
     "execution_count": 48,
     "metadata": {},
     "output_type": "execute_result"
    },
    {
     "data": {
      "image/png": "[encoded data removed]",
      "text/plain": [
       "<Figure size 432x288 with 1 Axes>"
      ]
     },
     "metadata": {
      "needs_background": "light"
     },
     "output_type": "display_data"
    }
   ],
   "source": [
    "d = smf.ols(formula='sr ~ pop75 + dpi + ddpi', data=savings).fit().resid\n",
    "m = smf.ols(formula='pop15 ~ pop75 + dpi + ddpi', data=savings).fit().resid\n",
    "plt.scatter(m,d)\n",
    "plt.xlabel(\"pop15 residuals\")\n",
    "plt.ylabel(\"sr residuals\")\n",
    "plt.plot([-10,8], [-10*lmod.params[1], 8*lmod.params[1]])"
   ]
  },
  {
   "cell_type": "markdown",
   "metadata": {},
   "source": [
    "Partial residual plot"
   ]
  },
  {
   "cell_type": "code",
   "execution_count": 49,
   "metadata": {},
   "outputs": [
    {
     "data": {
      "text/plain": [
       "[<matplotlib.lines.Line2D at 0x182f15197c8>]"
      ]
     },
     "execution_count": 49,
     "metadata": {},
     "output_type": "execute_result"
    },
    {
     "data": {
      "image/png": "[encoded data removed]",
      "text/plain": [
       "<Figure size 432x288 with 1 Axes>"
      ]
     },
     "metadata": {
      "needs_background": "light"
     },
     "output_type": "display_data"
    }
   ],
   "source": [
    "pr = lmod.resid + savings.pop15*lmod.params[1]\n",
    "plt.scatter(savings.pop15, pr)\n",
    "plt.xlabel(\"pop15\")\n",
    "plt.ylabel(\"partial residuals\")\n",
    "plt.plot([20,50], [20*lmod.params[1], 50*lmod.params[1]])"
   ]
  },
  {
   "cell_type": "code",
   "execution_count": 50,
   "metadata": {},
   "outputs": [
    {
     "data": {
      "text/html": [
       "<table class=\"simpletable\">\n",
       "<caption>OLS Regression Results</caption>\n",
       "<tr>\n",
       "  <th>Dep. Variable:</th>           <td>sr</td>        <th>  R-squared:         </th> <td>   0.156</td>\n",
       "</tr>\n",
       "<tr>\n",
       "  <th>Model:</th>                   <td>OLS</td>       <th>  Adj. R-squared:    </th> <td>  -0.032</td>\n",
       "</tr>\n",
       "<tr>\n",
       "  <th>Method:</th>             <td>Least Squares</td>  <th>  F-statistic:       </th> <td>  0.8302</td>\n",
       "</tr>\n",
       "<tr>\n",
       "  <th>Date:</th>             <td>Tue, 23 Jun 2020</td> <th>  Prob (F-statistic):</th>  <td> 0.523</td> \n",
       "</tr>\n",
       "<tr>\n",
       "  <th>Time:</th>                 <td>16:37:26</td>     <th>  Log-Likelihood:    </th> <td> -64.176</td>\n",
       "</tr>\n",
       "<tr>\n",
       "  <th>No. Observations:</th>      <td>    23</td>      <th>  AIC:               </th> <td>   138.4</td>\n",
       "</tr>\n",
       "<tr>\n",
       "  <th>Df Residuals:</th>          <td>    18</td>      <th>  BIC:               </th> <td>   144.0</td>\n",
       "</tr>\n",
       "<tr>\n",
       "  <th>Df Model:</th>              <td>     4</td>      <th>                     </th>     <td> </td>   \n",
       "</tr>\n",
       "<tr>\n",
       "  <th>Covariance Type:</th>      <td>nonrobust</td>    <th>                     </th>     <td> </td>   \n",
       "</tr>\n",
       "</table>\n",
       "<table class=\"simpletable\">\n",
       "<tr>\n",
       "      <td></td>         <th>coef</th>     <th>std err</th>      <th>t</th>      <th>P>|t|</th>  <th>[0.025</th>    <th>0.975]</th>  \n",
       "</tr>\n",
       "<tr>\n",
       "  <th>Intercept</th> <td>   -2.4340</td> <td>   21.155</td> <td>   -0.115</td> <td> 0.910</td> <td>  -46.879</td> <td>   42.011</td>\n",
       "</tr>\n",
       "<tr>\n",
       "  <th>pop15</th>     <td>    0.2739</td> <td>    0.439</td> <td>    0.624</td> <td> 0.541</td> <td>   -0.649</td> <td>    1.197</td>\n",
       "</tr>\n",
       "<tr>\n",
       "  <th>pop75</th>     <td>   -3.5485</td> <td>    3.033</td> <td>   -1.170</td> <td> 0.257</td> <td>   -9.921</td> <td>    2.824</td>\n",
       "</tr>\n",
       "<tr>\n",
       "  <th>dpi</th>       <td>    0.0004</td> <td>    0.005</td> <td>    0.084</td> <td> 0.934</td> <td>   -0.010</td> <td>    0.011</td>\n",
       "</tr>\n",
       "<tr>\n",
       "  <th>ddpi</th>      <td>    0.3955</td> <td>    0.290</td> <td>    1.363</td> <td> 0.190</td> <td>   -0.214</td> <td>    1.005</td>\n",
       "</tr>\n",
       "</table>\n",
       "<table class=\"simpletable\">\n",
       "<tr>\n",
       "  <th>Omnibus:</th>       <td> 1.851</td> <th>  Durbin-Watson:     </th> <td>   1.904</td>\n",
       "</tr>\n",
       "<tr>\n",
       "  <th>Prob(Omnibus):</th> <td> 0.396</td> <th>  Jarque-Bera (JB):  </th> <td>   1.540</td>\n",
       "</tr>\n",
       "<tr>\n",
       "  <th>Skew:</th>          <td> 0.497</td> <th>  Prob(JB):          </th> <td>   0.463</td>\n",
       "</tr>\n",
       "<tr>\n",
       "  <th>Kurtosis:</th>      <td> 2.213</td> <th>  Cond. No.          </th> <td>8.87e+03</td>\n",
       "</tr>\n",
       "</table><br/><br/>Warnings:<br/>[1] Standard Errors assume that the covariance matrix of the errors is correctly specified.<br/>[2] The condition number is large, 8.87e+03. This might indicate that there are<br/>strong multicollinearity or other numerical problems."
      ],
      "text/plain": [
       "<class 'statsmodels.iolib.summary.Summary'>\n",
       "\"\"\"\n",
       "                            OLS Regression Results                            \n",
       "==============================================================================\n",
       "Dep. Variable:                     sr   R-squared:                       0.156\n",
       "Model:                            OLS   Adj. R-squared:                 -0.032\n",
       "Method:                 Least Squares   F-statistic:                    0.8302\n",
       "Date:                Tue, 23 Jun 2020   Prob (F-statistic):              0.523\n",
       "Time:                        16:37:26   Log-Likelihood:                -64.176\n",
       "No. Observations:                  23   AIC:                             138.4\n",
       "Df Residuals:                      18   BIC:                             144.0\n",
       "Df Model:                           4                                         \n",
       "Covariance Type:            nonrobust                                         \n",
       "==============================================================================\n",
       "                 coef    std err          t      P>|t|      [0.025      0.975]\n",
       "------------------------------------------------------------------------------\n",
       "Intercept     -2.4340     21.155     -0.115      0.910     -46.879      42.011\n",
       "pop15          0.2739      0.439      0.624      0.541      -0.649       1.197\n",
       "pop75         -3.5485      3.033     -1.170      0.257      -9.921       2.824\n",
       "dpi            0.0004      0.005      0.084      0.934      -0.010       0.011\n",
       "ddpi           0.3955      0.290      1.363      0.190      -0.214       1.005\n",
       "==============================================================================\n",
       "Omnibus:                        1.851   Durbin-Watson:                   1.904\n",
       "Prob(Omnibus):                  0.396   Jarque-Bera (JB):                1.540\n",
       "Skew:                           0.497   Prob(JB):                        0.463\n",
       "Kurtosis:                       2.213   Cond. No.                     8.87e+03\n",
       "==============================================================================\n",
       "\n",
       "Warnings:\n",
       "[1] Standard Errors assume that the covariance matrix of the errors is correctly specified.\n",
       "[2] The condition number is large, 8.87e+03. This might indicate that there are\n",
       "strong multicollinearity or other numerical problems.\n",
       "\"\"\""
      ]
     },
     "execution_count": 50,
     "metadata": {},
     "output_type": "execute_result"
    }
   ],
   "source": [
    "smf.ols(formula='sr ~ pop15 + pop75 + dpi + ddpi', data=savings[savings.pop15 > 35]).fit().summary()"
   ]
  },
  {
   "cell_type": "code",
   "execution_count": 51,
   "metadata": {},
   "outputs": [
    {
     "data": {
      "text/html": [
       "<table class=\"simpletable\">\n",
       "<caption>OLS Regression Results</caption>\n",
       "<tr>\n",
       "  <th>Dep. Variable:</th>           <td>sr</td>        <th>  R-squared:         </th> <td>   0.507</td>\n",
       "</tr>\n",
       "<tr>\n",
       "  <th>Model:</th>                   <td>OLS</td>       <th>  Adj. R-squared:    </th> <td>   0.418</td>\n",
       "</tr>\n",
       "<tr>\n",
       "  <th>Method:</th>             <td>Least Squares</td>  <th>  F-statistic:       </th> <td>   5.663</td>\n",
       "</tr>\n",
       "<tr>\n",
       "  <th>Date:</th>             <td>Tue, 23 Jun 2020</td> <th>  Prob (F-statistic):</th>  <td>0.00273</td>\n",
       "</tr>\n",
       "<tr>\n",
       "  <th>Time:</th>                 <td>16:37:26</td>     <th>  Log-Likelihood:    </th> <td> -63.072</td>\n",
       "</tr>\n",
       "<tr>\n",
       "  <th>No. Observations:</th>      <td>    27</td>      <th>  AIC:               </th> <td>   136.1</td>\n",
       "</tr>\n",
       "<tr>\n",
       "  <th>Df Residuals:</th>          <td>    22</td>      <th>  BIC:               </th> <td>   142.6</td>\n",
       "</tr>\n",
       "<tr>\n",
       "  <th>Df Model:</th>              <td>     4</td>      <th>                     </th>     <td> </td>   \n",
       "</tr>\n",
       "<tr>\n",
       "  <th>Covariance Type:</th>      <td>nonrobust</td>    <th>                     </th>     <td> </td>   \n",
       "</tr>\n",
       "</table>\n",
       "<table class=\"simpletable\">\n",
       "<tr>\n",
       "      <td></td>         <th>coef</th>     <th>std err</th>      <th>t</th>      <th>P>|t|</th>  <th>[0.025</th>    <th>0.975]</th>  \n",
       "</tr>\n",
       "<tr>\n",
       "  <th>Intercept</th> <td>   23.9618</td> <td>    8.084</td> <td>    2.964</td> <td> 0.007</td> <td>    7.197</td> <td>   40.726</td>\n",
       "</tr>\n",
       "<tr>\n",
       "  <th>pop15</th>     <td>   -0.3859</td> <td>    0.195</td> <td>   -1.975</td> <td> 0.061</td> <td>   -0.791</td> <td>    0.019</td>\n",
       "</tr>\n",
       "<tr>\n",
       "  <th>pop75</th>     <td>   -1.3277</td> <td>    0.926</td> <td>   -1.434</td> <td> 0.166</td> <td>   -3.248</td> <td>    0.593</td>\n",
       "</tr>\n",
       "<tr>\n",
       "  <th>dpi</th>       <td>   -0.0005</td> <td>    0.001</td> <td>   -0.634</td> <td> 0.533</td> <td>   -0.002</td> <td>    0.001</td>\n",
       "</tr>\n",
       "<tr>\n",
       "  <th>ddpi</th>      <td>    0.8844</td> <td>    0.295</td> <td>    2.994</td> <td> 0.007</td> <td>    0.272</td> <td>    1.497</td>\n",
       "</tr>\n",
       "</table>\n",
       "<table class=\"simpletable\">\n",
       "<tr>\n",
       "  <th>Omnibus:</th>       <td> 0.363</td> <th>  Durbin-Watson:     </th> <td>   2.189</td>\n",
       "</tr>\n",
       "<tr>\n",
       "  <th>Prob(Omnibus):</th> <td> 0.834</td> <th>  Jarque-Bera (JB):  </th> <td>   0.396</td>\n",
       "</tr>\n",
       "<tr>\n",
       "  <th>Skew:</th>          <td>-0.241</td> <th>  Prob(JB):          </th> <td>   0.820</td>\n",
       "</tr>\n",
       "<tr>\n",
       "  <th>Kurtosis:</th>      <td> 2.654</td> <th>  Cond. No.          </th> <td>3.01e+04</td>\n",
       "</tr>\n",
       "</table><br/><br/>Warnings:<br/>[1] Standard Errors assume that the covariance matrix of the errors is correctly specified.<br/>[2] The condition number is large, 3.01e+04. This might indicate that there are<br/>strong multicollinearity or other numerical problems."
      ],
      "text/plain": [
       "<class 'statsmodels.iolib.summary.Summary'>\n",
       "\"\"\"\n",
       "                            OLS Regression Results                            \n",
       "==============================================================================\n",
       "Dep. Variable:                     sr   R-squared:                       0.507\n",
       "Model:                            OLS   Adj. R-squared:                  0.418\n",
       "Method:                 Least Squares   F-statistic:                     5.663\n",
       "Date:                Tue, 23 Jun 2020   Prob (F-statistic):            0.00273\n",
       "Time:                        16:37:26   Log-Likelihood:                -63.072\n",
       "No. Observations:                  27   AIC:                             136.1\n",
       "Df Residuals:                      22   BIC:                             142.6\n",
       "Df Model:                           4                                         \n",
       "Covariance Type:            nonrobust                                         \n",
       "==============================================================================\n",
       "                 coef    std err          t      P>|t|      [0.025      0.975]\n",
       "------------------------------------------------------------------------------\n",
       "Intercept     23.9618      8.084      2.964      0.007       7.197      40.726\n",
       "pop15         -0.3859      0.195     -1.975      0.061      -0.791       0.019\n",
       "pop75         -1.3277      0.926     -1.434      0.166      -3.248       0.593\n",
       "dpi           -0.0005      0.001     -0.634      0.533      -0.002       0.001\n",
       "ddpi           0.8844      0.295      2.994      0.007       0.272       1.497\n",
       "==============================================================================\n",
       "Omnibus:                        0.363   Durbin-Watson:                   2.189\n",
       "Prob(Omnibus):                  0.834   Jarque-Bera (JB):                0.396\n",
       "Skew:                          -0.241   Prob(JB):                        0.820\n",
       "Kurtosis:                       2.654   Cond. No.                     3.01e+04\n",
       "==============================================================================\n",
       "\n",
       "Warnings:\n",
       "[1] Standard Errors assume that the covariance matrix of the errors is correctly specified.\n",
       "[2] The condition number is large, 3.01e+04. This might indicate that there are\n",
       "strong multicollinearity or other numerical problems.\n",
       "\"\"\""
      ]
     },
     "execution_count": 51,
     "metadata": {},
     "output_type": "execute_result"
    }
   ],
   "source": [
    "smf.ols(formula='sr ~ pop15 + pop75 + dpi + ddpi', data=savings[savings.pop15 < 35]).fit().summary()"
   ]
  },
  {
   "cell_type": "markdown",
   "metadata": {},
   "source": [
    "Plot the young and old groups with different colors:"
   ]
  },
  {
   "cell_type": "code",
   "execution_count": 52,
   "metadata": {},
   "outputs": [
    {
     "data": {
      "text/plain": [
       "Text(0, 0.5, 'sr')"
      ]
     },
     "execution_count": 52,
     "metadata": {},
     "output_type": "execute_result"
    },
    {
     "data": {
      "image/png": "[encoded data removed]",
      "text/plain": [
       "<Figure size 432x288 with 1 Axes>"
      ]
     },
     "metadata": {
      "needs_background": "light"
     },
     "output_type": "display_data"
    }
   ],
   "source": [
    "savings['age'] = np.where(savings.pop15 > 35, 'red', 'blue')\n",
    "plt.scatter(savings.ddpi, savings.sr, color=savings.age)\n",
    "plt.xlabel(\"ddpi\")\n",
    "plt.ylabel(\"sr\")"
   ]
  },
  {
   "cell_type": "markdown",
   "metadata": {},
   "source": [
    "Would be nice to have a legend but `matplotlib` does not make this easy. Fortunately, `seaborn` makes this more convenient:"
   ]
  },
  {
   "cell_type": "code",
   "execution_count": 53,
   "metadata": {},
   "outputs": [
    {
     "data": {
      "text/plain": [
       "<seaborn.axisgrid.FacetGrid at 0x182f09f6f08>"
      ]
     },
     "execution_count": 53,
     "metadata": {},
     "output_type": "execute_result"
    },
    {
     "data": {
      "image/png": "[encoded data removed]",
      "text/plain": [
       "<Figure size 427x360 with 1 Axes>"
      ]
     },
     "metadata": {
      "needs_background": "light"
     },
     "output_type": "display_data"
    }
   ],
   "source": [
    "savings['age'] = np.where(savings.pop15 > 35, 'young', 'old')\n",
    "sns.lmplot('ddpi','sr',data=savings, hue='age')"
   ]
  },
  {
   "cell_type": "markdown",
   "metadata": {},
   "source": [
    "Can facet this also:"
   ]
  },
  {
   "cell_type": "code",
   "execution_count": 54,
   "metadata": {},
   "outputs": [
    {
     "data": {
      "text/plain": [
       "<seaborn.axisgrid.FacetGrid at 0x182f14de448>"
      ]
     },
     "execution_count": 54,
     "metadata": {},
     "output_type": "execute_result"
    },
    {
     "data": {
      "image/png": "[encoded data removed]",
      "text/plain": [
       "<Figure size 720x360 with 2 Axes>"
      ]
     },
     "metadata": {
      "needs_background": "light"
     },
     "output_type": "display_data"
    }
   ],
   "source": [
    "sns.lmplot('ddpi','sr',data=savings, col='age')"
   ]
  }
 ],
 "metadata": {
  "kernelspec": {
   "display_name": "Python 3",
   "language": "python",
   "name": "python3"
  },
  "language_info": {
   "codemirror_mode": {
    "name": "ipython",
    "version": 3
   },
   "file_extension": ".py",
   "mimetype": "text/x-python",
   "name": "python",
   "nbconvert_exporter": "python",
   "pygments_lexer": "ipython3",
   "version": "3.7.6"
  }
 },
 "nbformat": 4,
 "nbformat_minor": 2
}
