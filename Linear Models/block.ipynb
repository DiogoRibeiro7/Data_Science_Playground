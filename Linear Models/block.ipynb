{
 "cells": [
  {
   "cell_type": "markdown",
   "metadata": {},
   "source": [
    "# Chapter 17: Experiments with Blocks"
   ]
  },
  {
   "cell_type": "code",
   "execution_count": 1,
   "metadata": {},
   "outputs": [],
   "source": [
    "import pandas as pd\n",
    "import numpy as np\n",
    "import matplotlib.pyplot as plt\n",
    "import statsmodels.api as sm\n",
    "import statsmodels.formula.api as smf\n",
    "import seaborn as sns\n",
    "from scipy import stats"
   ]
  },
  {
   "cell_type": "markdown",
   "metadata": {},
   "source": [
    "## Randomised block design"
   ]
  },
  {
   "cell_type": "code",
   "execution_count": 2,
   "metadata": {},
   "outputs": [
    {
     "data": {
      "text/html": [
       "<div>\n",
       "<style scoped>\n",
       "    .dataframe tbody tr th:only-of-type {\n",
       "        vertical-align: middle;\n",
       "    }\n",
       "\n",
       "    .dataframe tbody tr th {\n",
       "        vertical-align: top;\n",
       "    }\n",
       "\n",
       "    .dataframe thead th {\n",
       "        text-align: right;\n",
       "    }\n",
       "</style>\n",
       "<table border=\"1\" class=\"dataframe\">\n",
       "  <thead>\n",
       "    <tr style=\"text-align: right;\">\n",
       "      <th></th>\n",
       "      <th>yield</th>\n",
       "      <th>block</th>\n",
       "      <th>variety</th>\n",
       "    </tr>\n",
       "  </thead>\n",
       "  <tbody>\n",
       "    <tr>\n",
       "      <th>1</th>\n",
       "      <td>296</td>\n",
       "      <td>I</td>\n",
       "      <td>1</td>\n",
       "    </tr>\n",
       "    <tr>\n",
       "      <th>2</th>\n",
       "      <td>357</td>\n",
       "      <td>II</td>\n",
       "      <td>1</td>\n",
       "    </tr>\n",
       "    <tr>\n",
       "      <th>3</th>\n",
       "      <td>340</td>\n",
       "      <td>III</td>\n",
       "      <td>1</td>\n",
       "    </tr>\n",
       "    <tr>\n",
       "      <th>4</th>\n",
       "      <td>331</td>\n",
       "      <td>IV</td>\n",
       "      <td>1</td>\n",
       "    </tr>\n",
       "    <tr>\n",
       "      <th>5</th>\n",
       "      <td>348</td>\n",
       "      <td>V</td>\n",
       "      <td>1</td>\n",
       "    </tr>\n",
       "  </tbody>\n",
       "</table>\n",
       "</div>"
      ],
      "text/plain": [
       "   yield block variety\n",
       "1    296     I       1\n",
       "2    357    II       1\n",
       "3    340   III       1\n",
       "4    331    IV       1\n",
       "5    348     V       1"
      ]
     },
     "execution_count": 2,
     "metadata": {},
     "output_type": "execute_result"
    }
   ],
   "source": [
    "oatvar = pd.read_csv(\"data/oatvar.csv\", index_col=0, dtype={'yield':'int','block':'category','variety':'category'})\n",
    "oatvar.head()"
   ]
  },
  {
   "cell_type": "markdown",
   "metadata": {},
   "source": [
    "Display the data as a table:"
   ]
  },
  {
   "cell_type": "code",
   "execution_count": 3,
   "metadata": {},
   "outputs": [
    {
     "data": {
      "text/html": [
       "<div>\n",
       "<style scoped>\n",
       "    .dataframe tbody tr th:only-of-type {\n",
       "        vertical-align: middle;\n",
       "    }\n",
       "\n",
       "    .dataframe tbody tr th {\n",
       "        vertical-align: top;\n",
       "    }\n",
       "\n",
       "    .dataframe thead th {\n",
       "        text-align: right;\n",
       "    }\n",
       "</style>\n",
       "<table border=\"1\" class=\"dataframe\">\n",
       "  <thead>\n",
       "    <tr style=\"text-align: right;\">\n",
       "      <th>block</th>\n",
       "      <th>I</th>\n",
       "      <th>II</th>\n",
       "      <th>III</th>\n",
       "      <th>IV</th>\n",
       "      <th>V</th>\n",
       "    </tr>\n",
       "    <tr>\n",
       "      <th>variety</th>\n",
       "      <th></th>\n",
       "      <th></th>\n",
       "      <th></th>\n",
       "      <th></th>\n",
       "      <th></th>\n",
       "    </tr>\n",
       "  </thead>\n",
       "  <tbody>\n",
       "    <tr>\n",
       "      <th>1</th>\n",
       "      <td>296</td>\n",
       "      <td>357</td>\n",
       "      <td>340</td>\n",
       "      <td>331</td>\n",
       "      <td>348</td>\n",
       "    </tr>\n",
       "    <tr>\n",
       "      <th>2</th>\n",
       "      <td>402</td>\n",
       "      <td>390</td>\n",
       "      <td>431</td>\n",
       "      <td>340</td>\n",
       "      <td>320</td>\n",
       "    </tr>\n",
       "    <tr>\n",
       "      <th>3</th>\n",
       "      <td>437</td>\n",
       "      <td>334</td>\n",
       "      <td>426</td>\n",
       "      <td>320</td>\n",
       "      <td>296</td>\n",
       "    </tr>\n",
       "    <tr>\n",
       "      <th>4</th>\n",
       "      <td>303</td>\n",
       "      <td>319</td>\n",
       "      <td>310</td>\n",
       "      <td>260</td>\n",
       "      <td>242</td>\n",
       "    </tr>\n",
       "    <tr>\n",
       "      <th>5</th>\n",
       "      <td>469</td>\n",
       "      <td>405</td>\n",
       "      <td>442</td>\n",
       "      <td>487</td>\n",
       "      <td>394</td>\n",
       "    </tr>\n",
       "    <tr>\n",
       "      <th>6</th>\n",
       "      <td>345</td>\n",
       "      <td>342</td>\n",
       "      <td>358</td>\n",
       "      <td>300</td>\n",
       "      <td>308</td>\n",
       "    </tr>\n",
       "    <tr>\n",
       "      <th>7</th>\n",
       "      <td>324</td>\n",
       "      <td>339</td>\n",
       "      <td>357</td>\n",
       "      <td>352</td>\n",
       "      <td>220</td>\n",
       "    </tr>\n",
       "    <tr>\n",
       "      <th>8</th>\n",
       "      <td>488</td>\n",
       "      <td>374</td>\n",
       "      <td>401</td>\n",
       "      <td>338</td>\n",
       "      <td>320</td>\n",
       "    </tr>\n",
       "  </tbody>\n",
       "</table>\n",
       "</div>"
      ],
      "text/plain": [
       "block      I   II  III   IV    V\n",
       "variety                         \n",
       "1        296  357  340  331  348\n",
       "2        402  390  431  340  320\n",
       "3        437  334  426  320  296\n",
       "4        303  319  310  260  242\n",
       "5        469  405  442  487  394\n",
       "6        345  342  358  300  308\n",
       "7        324  339  357  352  220\n",
       "8        488  374  401  338  320"
      ]
     },
     "execution_count": 3,
     "metadata": {},
     "output_type": "execute_result"
    }
   ],
   "source": [
    "oatvar.pivot(index = 'variety', columns='block', values='yield')"
   ]
  },
  {
   "cell_type": "markdown",
   "metadata": {},
   "source": [
    "Make plots of the data:"
   ]
  },
  {
   "cell_type": "code",
   "execution_count": 4,
   "metadata": {},
   "outputs": [
    {
     "data": {
      "image/png": "[encoded data removed]",
      "text/plain": [
       "<Figure size 432x288 with 1 Axes>"
      ]
     },
     "metadata": {
      "needs_background": "light"
     },
     "output_type": "display_data"
    }
   ],
   "source": [
    "sns.boxplot(x=\"variety\", y=\"yield\", data=oatvar)\n",
    "plt.show()"
   ]
  },
  {
   "cell_type": "code",
   "execution_count": 5,
   "metadata": {},
   "outputs": [
    {
     "data": {
      "image/png": "[encoded data removed]",
      "text/plain": [
       "<Figure size 432x288 with 1 Axes>"
      ]
     },
     "metadata": {
      "needs_background": "light"
     },
     "output_type": "display_data"
    }
   ],
   "source": [
    "sns.boxplot(x=\"block\", y=\"yield\", data=oatvar)\n",
    "plt.show()"
   ]
  },
  {
   "cell_type": "code",
   "execution_count": 6,
   "metadata": {},
   "outputs": [
    {
     "data": {
      "image/png": "[encoded data removed]",
      "text/plain": [
       "<Figure size 405.75x360 with 1 Axes>"
      ]
     },
     "metadata": {
      "needs_background": "light"
     },
     "output_type": "display_data"
    }
   ],
   "source": [
    "sns.catplot(x='variety',y='yield',hue='block', data=oatvar, kind='point')\n",
    "plt.show()"
   ]
  },
  {
   "cell_type": "code",
   "execution_count": 7,
   "metadata": {},
   "outputs": [
    {
     "data": {
      "image/png": "[encoded data removed]",
      "text/plain": [
       "<Figure size 402.875x360 with 1 Axes>"
      ]
     },
     "metadata": {
      "needs_background": "light"
     },
     "output_type": "display_data"
    }
   ],
   "source": [
    "sns.catplot(x='block',y='yield',hue='variety', data=oatvar, kind='point')\n",
    "plt.show()"
   ]
  },
  {
   "cell_type": "markdown",
   "metadata": {},
   "source": [
    "The obvious way to fit the model fails, apparently because `patsy` doesn't like the response to be called `yield`."
   ]
  },
  {
   "cell_type": "code",
   "execution_count": 8,
   "metadata": {},
   "outputs": [],
   "source": [
    "try:\n",
    "    lmod = smf.ols('yield ~ variety + block', oatvar).fit()\n",
    "    lmod.summary()\n",
    "except:\n",
    "    pass"
   ]
  },
  {
   "cell_type": "markdown",
   "metadata": {},
   "source": [
    "Look at the design matrix:"
   ]
  },
  {
   "cell_type": "code",
   "execution_count": 9,
   "metadata": {},
   "outputs": [
    {
     "data": {
      "text/plain": [
       "array([[1., 0., 0., 0., 0., 0., 0., 0., 0., 0., 0., 0.],\n",
       "       [1., 0., 0., 0., 0., 0., 0., 0., 1., 0., 0., 0.],\n",
       "       [1., 0., 0., 0., 0., 0., 0., 0., 0., 1., 0., 0.],\n",
       "       [1., 0., 0., 0., 0., 0., 0., 0., 0., 0., 1., 0.],\n",
       "       [1., 0., 0., 0., 0., 0., 0., 0., 0., 0., 0., 1.],\n",
       "       [1., 1., 0., 0., 0., 0., 0., 0., 0., 0., 0., 0.],\n",
       "       [1., 1., 0., 0., 0., 0., 0., 0., 1., 0., 0., 0.],\n",
       "       [1., 1., 0., 0., 0., 0., 0., 0., 0., 1., 0., 0.],\n",
       "       [1., 1., 0., 0., 0., 0., 0., 0., 0., 0., 1., 0.],\n",
       "       [1., 1., 0., 0., 0., 0., 0., 0., 0., 0., 0., 1.],\n",
       "       [1., 0., 1., 0., 0., 0., 0., 0., 0., 0., 0., 0.],\n",
       "       [1., 0., 1., 0., 0., 0., 0., 0., 1., 0., 0., 0.],\n",
       "       [1., 0., 1., 0., 0., 0., 0., 0., 0., 1., 0., 0.],\n",
       "       [1., 0., 1., 0., 0., 0., 0., 0., 0., 0., 1., 0.],\n",
       "       [1., 0., 1., 0., 0., 0., 0., 0., 0., 0., 0., 1.],\n",
       "       [1., 0., 0., 1., 0., 0., 0., 0., 0., 0., 0., 0.],\n",
       "       [1., 0., 0., 1., 0., 0., 0., 0., 1., 0., 0., 0.],\n",
       "       [1., 0., 0., 1., 0., 0., 0., 0., 0., 1., 0., 0.],\n",
       "       [1., 0., 0., 1., 0., 0., 0., 0., 0., 0., 1., 0.],\n",
       "       [1., 0., 0., 1., 0., 0., 0., 0., 0., 0., 0., 1.],\n",
       "       [1., 0., 0., 0., 1., 0., 0., 0., 0., 0., 0., 0.],\n",
       "       [1., 0., 0., 0., 1., 0., 0., 0., 1., 0., 0., 0.],\n",
       "       [1., 0., 0., 0., 1., 0., 0., 0., 0., 1., 0., 0.],\n",
       "       [1., 0., 0., 0., 1., 0., 0., 0., 0., 0., 1., 0.],\n",
       "       [1., 0., 0., 0., 1., 0., 0., 0., 0., 0., 0., 1.],\n",
       "       [1., 0., 0., 0., 0., 1., 0., 0., 0., 0., 0., 0.],\n",
       "       [1., 0., 0., 0., 0., 1., 0., 0., 1., 0., 0., 0.],\n",
       "       [1., 0., 0., 0., 0., 1., 0., 0., 0., 1., 0., 0.],\n",
       "       [1., 0., 0., 0., 0., 1., 0., 0., 0., 0., 1., 0.],\n",
       "       [1., 0., 0., 0., 0., 1., 0., 0., 0., 0., 0., 1.],\n",
       "       [1., 0., 0., 0., 0., 0., 1., 0., 0., 0., 0., 0.],\n",
       "       [1., 0., 0., 0., 0., 0., 1., 0., 1., 0., 0., 0.],\n",
       "       [1., 0., 0., 0., 0., 0., 1., 0., 0., 1., 0., 0.],\n",
       "       [1., 0., 0., 0., 0., 0., 1., 0., 0., 0., 1., 0.],\n",
       "       [1., 0., 0., 0., 0., 0., 1., 0., 0., 0., 0., 1.],\n",
       "       [1., 0., 0., 0., 0., 0., 0., 1., 0., 0., 0., 0.],\n",
       "       [1., 0., 0., 0., 0., 0., 0., 1., 1., 0., 0., 0.],\n",
       "       [1., 0., 0., 0., 0., 0., 0., 1., 0., 1., 0., 0.],\n",
       "       [1., 0., 0., 0., 0., 0., 0., 1., 0., 0., 1., 0.],\n",
       "       [1., 0., 0., 0., 0., 0., 0., 1., 0., 0., 0., 1.]])"
      ]
     },
     "execution_count": 9,
     "metadata": {},
     "output_type": "execute_result"
    }
   ],
   "source": [
    "import patsy\n",
    "dm = patsy.dmatrix('~ variety + block', oatvar)\n",
    "np.asarray(dm)"
   ]
  },
  {
   "cell_type": "code",
   "execution_count": 10,
   "metadata": {},
   "outputs": [
    {
     "data": {
      "text/html": [
       "<table class=\"simpletable\">\n",
       "<caption>OLS Regression Results</caption>\n",
       "<tr>\n",
       "  <th>Dep. Variable:</th>          <td>yield</td>      <th>  R-squared:         </th> <td>   0.748</td>\n",
       "</tr>\n",
       "<tr>\n",
       "  <th>Model:</th>                   <td>OLS</td>       <th>  Adj. R-squared:    </th> <td>   0.649</td>\n",
       "</tr>\n",
       "<tr>\n",
       "  <th>Method:</th>             <td>Least Squares</td>  <th>  F-statistic:       </th> <td>   7.542</td>\n",
       "</tr>\n",
       "<tr>\n",
       "  <th>Date:</th>             <td>Tue, 23 Jun 2020</td> <th>  Prob (F-statistic):</th> <td>7.72e-06</td>\n",
       "</tr>\n",
       "<tr>\n",
       "  <th>Time:</th>                 <td>16:34:51</td>     <th>  Log-Likelihood:    </th> <td> -193.59</td>\n",
       "</tr>\n",
       "<tr>\n",
       "  <th>No. Observations:</th>      <td>    40</td>      <th>  AIC:               </th> <td>   411.2</td>\n",
       "</tr>\n",
       "<tr>\n",
       "  <th>Df Residuals:</th>          <td>    28</td>      <th>  BIC:               </th> <td>   431.4</td>\n",
       "</tr>\n",
       "<tr>\n",
       "  <th>Df Model:</th>              <td>    11</td>      <th>                     </th>     <td> </td>   \n",
       "</tr>\n",
       "<tr>\n",
       "  <th>Covariance Type:</th>      <td>nonrobust</td>    <th>                     </th>     <td> </td>   \n",
       "</tr>\n",
       "</table>\n",
       "<table class=\"simpletable\">\n",
       "<tr>\n",
       "    <td></td>       <th>coef</th>     <th>std err</th>      <th>t</th>      <th>P>|t|</th>  <th>[0.025</th>    <th>0.975]</th>  \n",
       "</tr>\n",
       "<tr>\n",
       "  <th>const</th> <td>  363.2750</td> <td>   20.027</td> <td>   18.139</td> <td> 0.000</td> <td>  322.252</td> <td>  404.298</td>\n",
       "</tr>\n",
       "<tr>\n",
       "  <th>x1</th>    <td>   42.2000</td> <td>   23.125</td> <td>    1.825</td> <td> 0.079</td> <td>   -5.169</td> <td>   89.569</td>\n",
       "</tr>\n",
       "<tr>\n",
       "  <th>x2</th>    <td>   28.2000</td> <td>   23.125</td> <td>    1.219</td> <td> 0.233</td> <td>  -19.169</td> <td>   75.569</td>\n",
       "</tr>\n",
       "<tr>\n",
       "  <th>x3</th>    <td>  -47.6000</td> <td>   23.125</td> <td>   -2.058</td> <td> 0.049</td> <td>  -94.969</td> <td>   -0.231</td>\n",
       "</tr>\n",
       "<tr>\n",
       "  <th>x4</th>    <td>  105.0000</td> <td>   23.125</td> <td>    4.541</td> <td> 0.000</td> <td>   57.631</td> <td>  152.369</td>\n",
       "</tr>\n",
       "<tr>\n",
       "  <th>x5</th>    <td>   -3.8000</td> <td>   23.125</td> <td>   -0.164</td> <td> 0.871</td> <td>  -51.169</td> <td>   43.569</td>\n",
       "</tr>\n",
       "<tr>\n",
       "  <th>x6</th>    <td>  -16.0000</td> <td>   23.125</td> <td>   -0.692</td> <td> 0.495</td> <td>  -63.369</td> <td>   31.369</td>\n",
       "</tr>\n",
       "<tr>\n",
       "  <th>x7</th>    <td>   49.8000</td> <td>   23.125</td> <td>    2.154</td> <td> 0.040</td> <td>    2.431</td> <td>   97.169</td>\n",
       "</tr>\n",
       "<tr>\n",
       "  <th>x8</th>    <td>  -25.5000</td> <td>   18.282</td> <td>   -1.395</td> <td> 0.174</td> <td>  -62.949</td> <td>   11.949</td>\n",
       "</tr>\n",
       "<tr>\n",
       "  <th>x9</th>    <td>    0.1250</td> <td>   18.282</td> <td>    0.007</td> <td> 0.995</td> <td>  -37.324</td> <td>   37.574</td>\n",
       "</tr>\n",
       "<tr>\n",
       "  <th>x10</th>   <td>  -42.0000</td> <td>   18.282</td> <td>   -2.297</td> <td> 0.029</td> <td>  -79.449</td> <td>   -4.551</td>\n",
       "</tr>\n",
       "<tr>\n",
       "  <th>x11</th>   <td>  -77.0000</td> <td>   18.282</td> <td>   -4.212</td> <td> 0.000</td> <td> -114.449</td> <td>  -39.551</td>\n",
       "</tr>\n",
       "</table>\n",
       "<table class=\"simpletable\">\n",
       "<tr>\n",
       "  <th>Omnibus:</th>       <td> 1.932</td> <th>  Durbin-Watson:     </th> <td>   2.562</td>\n",
       "</tr>\n",
       "<tr>\n",
       "  <th>Prob(Omnibus):</th> <td> 0.381</td> <th>  Jarque-Bera (JB):  </th> <td>   1.397</td>\n",
       "</tr>\n",
       "<tr>\n",
       "  <th>Skew:</th>          <td> 0.458</td> <th>  Prob(JB):          </th> <td>   0.497</td>\n",
       "</tr>\n",
       "<tr>\n",
       "  <th>Kurtosis:</th>      <td> 3.015</td> <th>  Cond. No.          </th> <td>    9.57</td>\n",
       "</tr>\n",
       "</table><br/><br/>Warnings:<br/>[1] Standard Errors assume that the covariance matrix of the errors is correctly specified."
      ],
      "text/plain": [
       "<class 'statsmodels.iolib.summary.Summary'>\n",
       "\"\"\"\n",
       "                            OLS Regression Results                            \n",
       "==============================================================================\n",
       "Dep. Variable:                  yield   R-squared:                       0.748\n",
       "Model:                            OLS   Adj. R-squared:                  0.649\n",
       "Method:                 Least Squares   F-statistic:                     7.542\n",
       "Date:                Tue, 23 Jun 2020   Prob (F-statistic):           7.72e-06\n",
       "Time:                        16:34:51   Log-Likelihood:                -193.59\n",
       "No. Observations:                  40   AIC:                             411.2\n",
       "Df Residuals:                      28   BIC:                             431.4\n",
       "Df Model:                          11                                         \n",
       "Covariance Type:            nonrobust                                         \n",
       "==============================================================================\n",
       "                 coef    std err          t      P>|t|      [0.025      0.975]\n",
       "------------------------------------------------------------------------------\n",
       "const        363.2750     20.027     18.139      0.000     322.252     404.298\n",
       "x1            42.2000     23.125      1.825      0.079      -5.169      89.569\n",
       "x2            28.2000     23.125      1.219      0.233     -19.169      75.569\n",
       "x3           -47.6000     23.125     -2.058      0.049     -94.969      -0.231\n",
       "x4           105.0000     23.125      4.541      0.000      57.631     152.369\n",
       "x5            -3.8000     23.125     -0.164      0.871     -51.169      43.569\n",
       "x6           -16.0000     23.125     -0.692      0.495     -63.369      31.369\n",
       "x7            49.8000     23.125      2.154      0.040       2.431      97.169\n",
       "x8           -25.5000     18.282     -1.395      0.174     -62.949      11.949\n",
       "x9             0.1250     18.282      0.007      0.995     -37.324      37.574\n",
       "x10          -42.0000     18.282     -2.297      0.029     -79.449      -4.551\n",
       "x11          -77.0000     18.282     -4.212      0.000    -114.449     -39.551\n",
       "==============================================================================\n",
       "Omnibus:                        1.932   Durbin-Watson:                   2.562\n",
       "Prob(Omnibus):                  0.381   Jarque-Bera (JB):                1.397\n",
       "Skew:                           0.458   Prob(JB):                        0.497\n",
       "Kurtosis:                       3.015   Cond. No.                         9.57\n",
       "==============================================================================\n",
       "\n",
       "Warnings:\n",
       "[1] Standard Errors assume that the covariance matrix of the errors is correctly specified.\n",
       "\"\"\""
      ]
     },
     "execution_count": 10,
     "metadata": {},
     "output_type": "execute_result"
    }
   ],
   "source": [
    "lmod = sm.OLS(oatvar['yield'], dm).fit()\n",
    "lmod.summary()"
   ]
  },
  {
   "cell_type": "markdown",
   "metadata": {},
   "source": [
    "Another solution is to create a response with a new name:"
   ]
  },
  {
   "cell_type": "code",
   "execution_count": 11,
   "metadata": {},
   "outputs": [
    {
     "data": {
      "text/html": [
       "<div>\n",
       "<style scoped>\n",
       "    .dataframe tbody tr th:only-of-type {\n",
       "        vertical-align: middle;\n",
       "    }\n",
       "\n",
       "    .dataframe tbody tr th {\n",
       "        vertical-align: top;\n",
       "    }\n",
       "\n",
       "    .dataframe thead th {\n",
       "        text-align: right;\n",
       "    }\n",
       "</style>\n",
       "<table border=\"1\" class=\"dataframe\">\n",
       "  <thead>\n",
       "    <tr style=\"text-align: right;\">\n",
       "      <th></th>\n",
       "      <th>df</th>\n",
       "      <th>sum_sq</th>\n",
       "      <th>mean_sq</th>\n",
       "      <th>F</th>\n",
       "      <th>PR(&gt;F)</th>\n",
       "    </tr>\n",
       "  </thead>\n",
       "  <tbody>\n",
       "    <tr>\n",
       "      <th>variety</th>\n",
       "      <td>7.0</td>\n",
       "      <td>77523.575</td>\n",
       "      <td>11074.796</td>\n",
       "      <td>8.284</td>\n",
       "      <td>0.000</td>\n",
       "    </tr>\n",
       "    <tr>\n",
       "      <th>block</th>\n",
       "      <td>4.0</td>\n",
       "      <td>33395.500</td>\n",
       "      <td>8348.875</td>\n",
       "      <td>6.245</td>\n",
       "      <td>0.001</td>\n",
       "    </tr>\n",
       "    <tr>\n",
       "      <th>Residual</th>\n",
       "      <td>28.0</td>\n",
       "      <td>37433.300</td>\n",
       "      <td>1336.904</td>\n",
       "      <td>NaN</td>\n",
       "      <td>NaN</td>\n",
       "    </tr>\n",
       "  </tbody>\n",
       "</table>\n",
       "</div>"
      ],
      "text/plain": [
       "            df     sum_sq    mean_sq      F  PR(>F)\n",
       "variety    7.0  77523.575  11074.796  8.284   0.000\n",
       "block      4.0  33395.500   8348.875  6.245   0.001\n",
       "Residual  28.0  37433.300   1336.904    NaN     NaN"
      ]
     },
     "execution_count": 11,
     "metadata": {},
     "output_type": "execute_result"
    }
   ],
   "source": [
    "oatvar['y'] = oatvar['yield']\n",
    "lmod = smf.ols('y ~ variety + block', oatvar).fit()\n",
    "sm.stats.anova_lm(lmod).round(3)"
   ]
  },
  {
   "cell_type": "markdown",
   "metadata": {},
   "source": [
    "Fit with only block"
   ]
  },
  {
   "cell_type": "code",
   "execution_count": 12,
   "metadata": {},
   "outputs": [
    {
     "data": {
      "text/html": [
       "<div>\n",
       "<style scoped>\n",
       "    .dataframe tbody tr th:only-of-type {\n",
       "        vertical-align: middle;\n",
       "    }\n",
       "\n",
       "    .dataframe tbody tr th {\n",
       "        vertical-align: top;\n",
       "    }\n",
       "\n",
       "    .dataframe thead th {\n",
       "        text-align: right;\n",
       "    }\n",
       "</style>\n",
       "<table border=\"1\" class=\"dataframe\">\n",
       "  <thead>\n",
       "    <tr style=\"text-align: right;\">\n",
       "      <th></th>\n",
       "      <th>df</th>\n",
       "      <th>sum_sq</th>\n",
       "      <th>mean_sq</th>\n",
       "      <th>F</th>\n",
       "      <th>PR(&gt;F)</th>\n",
       "    </tr>\n",
       "  </thead>\n",
       "  <tbody>\n",
       "    <tr>\n",
       "      <th>block</th>\n",
       "      <td>4.0</td>\n",
       "      <td>33395.500</td>\n",
       "      <td>8348.875</td>\n",
       "      <td>2.542</td>\n",
       "      <td>0.057</td>\n",
       "    </tr>\n",
       "    <tr>\n",
       "      <th>Residual</th>\n",
       "      <td>35.0</td>\n",
       "      <td>114956.875</td>\n",
       "      <td>3284.482</td>\n",
       "      <td>NaN</td>\n",
       "      <td>NaN</td>\n",
       "    </tr>\n",
       "  </tbody>\n",
       "</table>\n",
       "</div>"
      ],
      "text/plain": [
       "            df      sum_sq   mean_sq      F  PR(>F)\n",
       "block      4.0   33395.500  8348.875  2.542   0.057\n",
       "Residual  35.0  114956.875  3284.482    NaN     NaN"
      ]
     },
     "execution_count": 12,
     "metadata": {},
     "output_type": "execute_result"
    }
   ],
   "source": [
    "lmod = smf.ols('y ~ block', oatvar).fit()\n",
    "sm.stats.anova_lm(lmod).round(3)"
   ]
  },
  {
   "cell_type": "markdown",
   "metadata": {},
   "source": [
    "Leave out the first observation:"
   ]
  },
  {
   "cell_type": "code",
   "execution_count": 13,
   "metadata": {},
   "outputs": [
    {
     "data": {
      "text/html": [
       "<div>\n",
       "<style scoped>\n",
       "    .dataframe tbody tr th:only-of-type {\n",
       "        vertical-align: middle;\n",
       "    }\n",
       "\n",
       "    .dataframe tbody tr th {\n",
       "        vertical-align: top;\n",
       "    }\n",
       "\n",
       "    .dataframe thead th {\n",
       "        text-align: right;\n",
       "    }\n",
       "</style>\n",
       "<table border=\"1\" class=\"dataframe\">\n",
       "  <thead>\n",
       "    <tr style=\"text-align: right;\">\n",
       "      <th></th>\n",
       "      <th>df</th>\n",
       "      <th>sum_sq</th>\n",
       "      <th>mean_sq</th>\n",
       "      <th>F</th>\n",
       "      <th>PR(&gt;F)</th>\n",
       "    </tr>\n",
       "  </thead>\n",
       "  <tbody>\n",
       "    <tr>\n",
       "      <th>variety</th>\n",
       "      <td>7.0</td>\n",
       "      <td>75901.631</td>\n",
       "      <td>10843.090</td>\n",
       "      <td>9.454</td>\n",
       "      <td>0.0</td>\n",
       "    </tr>\n",
       "    <tr>\n",
       "      <th>block</th>\n",
       "      <td>4.0</td>\n",
       "      <td>38017.908</td>\n",
       "      <td>9504.477</td>\n",
       "      <td>8.287</td>\n",
       "      <td>0.0</td>\n",
       "    </tr>\n",
       "    <tr>\n",
       "      <th>Residual</th>\n",
       "      <td>27.0</td>\n",
       "      <td>30967.692</td>\n",
       "      <td>1146.952</td>\n",
       "      <td>NaN</td>\n",
       "      <td>NaN</td>\n",
       "    </tr>\n",
       "  </tbody>\n",
       "</table>\n",
       "</div>"
      ],
      "text/plain": [
       "            df     sum_sq    mean_sq      F  PR(>F)\n",
       "variety    7.0  75901.631  10843.090  9.454     0.0\n",
       "block      4.0  38017.908   9504.477  8.287     0.0\n",
       "Residual  27.0  30967.692   1146.952    NaN     NaN"
      ]
     },
     "execution_count": 13,
     "metadata": {},
     "output_type": "execute_result"
    }
   ],
   "source": [
    "oat1 = oatvar.iloc[1:,]\n",
    "lmod = smf.ols('y ~ variety + block', oat1).fit()\n",
    "sm.stats.anova_lm(lmod).round(3)"
   ]
  },
  {
   "cell_type": "markdown",
   "metadata": {},
   "source": [
    "Change the factor order:"
   ]
  },
  {
   "cell_type": "code",
   "execution_count": 14,
   "metadata": {},
   "outputs": [
    {
     "data": {
      "text/html": [
       "<div>\n",
       "<style scoped>\n",
       "    .dataframe tbody tr th:only-of-type {\n",
       "        vertical-align: middle;\n",
       "    }\n",
       "\n",
       "    .dataframe tbody tr th {\n",
       "        vertical-align: top;\n",
       "    }\n",
       "\n",
       "    .dataframe thead th {\n",
       "        text-align: right;\n",
       "    }\n",
       "</style>\n",
       "<table border=\"1\" class=\"dataframe\">\n",
       "  <thead>\n",
       "    <tr style=\"text-align: right;\">\n",
       "      <th></th>\n",
       "      <th>df</th>\n",
       "      <th>sum_sq</th>\n",
       "      <th>mean_sq</th>\n",
       "      <th>F</th>\n",
       "      <th>PR(&gt;F)</th>\n",
       "    </tr>\n",
       "  </thead>\n",
       "  <tbody>\n",
       "    <tr>\n",
       "      <th>block</th>\n",
       "      <td>4.0</td>\n",
       "      <td>38580.641</td>\n",
       "      <td>9645.160</td>\n",
       "      <td>8.409</td>\n",
       "      <td>0.0</td>\n",
       "    </tr>\n",
       "    <tr>\n",
       "      <th>variety</th>\n",
       "      <td>7.0</td>\n",
       "      <td>75338.897</td>\n",
       "      <td>10762.700</td>\n",
       "      <td>9.384</td>\n",
       "      <td>0.0</td>\n",
       "    </tr>\n",
       "    <tr>\n",
       "      <th>Residual</th>\n",
       "      <td>27.0</td>\n",
       "      <td>30967.692</td>\n",
       "      <td>1146.952</td>\n",
       "      <td>NaN</td>\n",
       "      <td>NaN</td>\n",
       "    </tr>\n",
       "  </tbody>\n",
       "</table>\n",
       "</div>"
      ],
      "text/plain": [
       "            df     sum_sq    mean_sq      F  PR(>F)\n",
       "block      4.0  38580.641   9645.160  8.409     0.0\n",
       "variety    7.0  75338.897  10762.700  9.384     0.0\n",
       "Residual  27.0  30967.692   1146.952    NaN     NaN"
      ]
     },
     "execution_count": 14,
     "metadata": {},
     "output_type": "execute_result"
    }
   ],
   "source": [
    "lmod = smf.ols('y ~ block + variety', oat1).fit()\n",
    "sm.stats.anova_lm(lmod).round(3)"
   ]
  },
  {
   "cell_type": "markdown",
   "metadata": {},
   "source": [
    "Or use type III ANOVA which is like `drop()` in R"
   ]
  },
  {
   "cell_type": "code",
   "execution_count": 15,
   "metadata": {},
   "outputs": [
    {
     "data": {
      "text/html": [
       "<div>\n",
       "<style scoped>\n",
       "    .dataframe tbody tr th:only-of-type {\n",
       "        vertical-align: middle;\n",
       "    }\n",
       "\n",
       "    .dataframe tbody tr th {\n",
       "        vertical-align: top;\n",
       "    }\n",
       "\n",
       "    .dataframe thead th {\n",
       "        text-align: right;\n",
       "    }\n",
       "</style>\n",
       "<table border=\"1\" class=\"dataframe\">\n",
       "  <thead>\n",
       "    <tr style=\"text-align: right;\">\n",
       "      <th></th>\n",
       "      <th>sum_sq</th>\n",
       "      <th>df</th>\n",
       "      <th>F</th>\n",
       "      <th>PR(&gt;F)</th>\n",
       "    </tr>\n",
       "  </thead>\n",
       "  <tbody>\n",
       "    <tr>\n",
       "      <th>Intercept</th>\n",
       "      <td>358745.360119</td>\n",
       "      <td>1.0</td>\n",
       "      <td>312.781616</td>\n",
       "      <td>2.244635e-16</td>\n",
       "    </tr>\n",
       "    <tr>\n",
       "      <th>block</th>\n",
       "      <td>38017.908036</td>\n",
       "      <td>4.0</td>\n",
       "      <td>8.286729</td>\n",
       "      <td>1.699669e-04</td>\n",
       "    </tr>\n",
       "    <tr>\n",
       "      <th>variety</th>\n",
       "      <td>75338.897321</td>\n",
       "      <td>7.0</td>\n",
       "      <td>9.383744</td>\n",
       "      <td>7.266460e-06</td>\n",
       "    </tr>\n",
       "    <tr>\n",
       "      <th>Residual</th>\n",
       "      <td>30967.691964</td>\n",
       "      <td>27.0</td>\n",
       "      <td>NaN</td>\n",
       "      <td>NaN</td>\n",
       "    </tr>\n",
       "  </tbody>\n",
       "</table>\n",
       "</div>"
      ],
      "text/plain": [
       "                  sum_sq    df           F        PR(>F)\n",
       "Intercept  358745.360119   1.0  312.781616  2.244635e-16\n",
       "block       38017.908036   4.0    8.286729  1.699669e-04\n",
       "variety     75338.897321   7.0    9.383744  7.266460e-06\n",
       "Residual    30967.691964  27.0         NaN           NaN"
      ]
     },
     "execution_count": 15,
     "metadata": {},
     "output_type": "execute_result"
    }
   ],
   "source": [
    "sm.stats.anova_lm(lmod,typ=3)"
   ]
  },
  {
   "cell_type": "code",
   "execution_count": 16,
   "metadata": {},
   "outputs": [
    {
     "data": {
      "image/png": "[encoded data removed]",
      "text/plain": [
       "<Figure size 432x288 with 1 Axes>"
      ]
     },
     "metadata": {
      "needs_background": "light"
     },
     "output_type": "display_data"
    }
   ],
   "source": [
    "lmod = smf.ols('y ~ variety + block', oatvar).fit()\n",
    "sns.residplot(lmod.fittedvalues, lmod.resid)\n",
    "plt.xlabel(\"Fitted values\")\n",
    "plt.ylabel(\"Residuals\")\n",
    "plt.show()"
   ]
  },
  {
   "cell_type": "code",
   "execution_count": 17,
   "metadata": {},
   "outputs": [
    {
     "data": {
      "image/png": "[encoded data removed]",
      "text/plain": [
       "<Figure size 432x288 with 1 Axes>"
      ]
     },
     "metadata": {
      "needs_background": "light"
     },
     "output_type": "display_data"
    }
   ],
   "source": [
    "res = np.sort(lmod.resid)\n",
    "n = len(res)\n",
    "qq = stats.norm.ppf(np.arange(1,n+1)/(n+1))\n",
    "\n",
    "fig, ax = plt.subplots()\n",
    "ax.scatter(qq, res)\n",
    "   \n",
    "plt.xlabel(\"Normal Quantiles\")\n",
    "plt.ylabel(\"Sorted Residuals\")\n",
    "plt.show()"
   ]
  },
  {
   "cell_type": "markdown",
   "metadata": {},
   "source": [
    "Do the interaction test:"
   ]
  },
  {
   "cell_type": "code",
   "execution_count": 18,
   "metadata": {},
   "outputs": [
    {
     "data": {
      "text/plain": [
       "Intercept       363.275\n",
       "variety[T.2]     42.200\n",
       "variety[T.3]     28.200\n",
       "variety[T.4]    -47.600\n",
       "variety[T.5]    105.000\n",
       "variety[T.6]     -3.800\n",
       "variety[T.7]    -16.000\n",
       "variety[T.8]     49.800\n",
       "block[T.II]     -25.500\n",
       "block[T.III]      0.125\n",
       "block[T.IV]     -42.000\n",
       "block[T.V]      -77.000\n",
       "dtype: float64"
      ]
     },
     "execution_count": 18,
     "metadata": {},
     "output_type": "execute_result"
    }
   ],
   "source": [
    "lmod.params"
   ]
  },
  {
   "cell_type": "code",
   "execution_count": 19,
   "metadata": {},
   "outputs": [],
   "source": [
    "varcoefs = np.append([0.],lmod.params[1:8])\n",
    "varcoefs = np.repeat(varcoefs,5)\n",
    "blockcoefs = np.append([0.],lmod.params[8:12])\n",
    "blockcoefs = np.tile(blockcoefs,8)"
   ]
  },
  {
   "cell_type": "code",
   "execution_count": 20,
   "metadata": {},
   "outputs": [
    {
     "data": {
      "text/html": [
       "<table class=\"simpletable\">\n",
       "<caption>OLS Regression Results</caption>\n",
       "<tr>\n",
       "  <th>Dep. Variable:</th>            <td>y</td>        <th>  R-squared:         </th> <td>   0.749</td>\n",
       "</tr>\n",
       "<tr>\n",
       "  <th>Model:</th>                   <td>OLS</td>       <th>  Adj. R-squared:    </th> <td>   0.638</td>\n",
       "</tr>\n",
       "<tr>\n",
       "  <th>Method:</th>             <td>Least Squares</td>  <th>  F-statistic:       </th> <td>   6.718</td>\n",
       "</tr>\n",
       "<tr>\n",
       "  <th>Date:</th>             <td>Tue, 23 Jun 2020</td> <th>  Prob (F-statistic):</th> <td>2.08e-05</td>\n",
       "</tr>\n",
       "<tr>\n",
       "  <th>Time:</th>                 <td>16:34:51</td>     <th>  Log-Likelihood:    </th> <td> -193.47</td>\n",
       "</tr>\n",
       "<tr>\n",
       "  <th>No. Observations:</th>      <td>    40</td>      <th>  AIC:               </th> <td>   412.9</td>\n",
       "</tr>\n",
       "<tr>\n",
       "  <th>Df Residuals:</th>          <td>    27</td>      <th>  BIC:               </th> <td>   434.9</td>\n",
       "</tr>\n",
       "<tr>\n",
       "  <th>Df Model:</th>              <td>    12</td>      <th>                     </th>     <td> </td>   \n",
       "</tr>\n",
       "<tr>\n",
       "  <th>Covariance Type:</th>      <td>nonrobust</td>    <th>                     </th>     <td> </td>   \n",
       "</tr>\n",
       "</table>\n",
       "<table class=\"simpletable\">\n",
       "<tr>\n",
       "        <td></td>          <th>coef</th>     <th>std err</th>      <th>t</th>      <th>P>|t|</th>  <th>[0.025</th>    <th>0.975]</th>  \n",
       "</tr>\n",
       "<tr>\n",
       "  <th>Intercept</th>    <td>  362.2421</td> <td>   20.505</td> <td>   17.666</td> <td> 0.000</td> <td>  320.169</td> <td>  404.316</td>\n",
       "</tr>\n",
       "<tr>\n",
       "  <th>variety[T.2]</th> <td>   44.4099</td> <td>   24.146</td> <td>    1.839</td> <td> 0.077</td> <td>   -5.134</td> <td>   93.954</td>\n",
       "</tr>\n",
       "<tr>\n",
       "  <th>variety[T.3]</th> <td>   29.6768</td> <td>   23.781</td> <td>    1.248</td> <td> 0.223</td> <td>  -19.118</td> <td>   78.471</td>\n",
       "</tr>\n",
       "<tr>\n",
       "  <th>variety[T.4]</th> <td>  -50.0927</td> <td>   24.324</td> <td>   -2.059</td> <td> 0.049</td> <td> -100.001</td> <td>   -0.184</td>\n",
       "</tr>\n",
       "<tr>\n",
       "  <th>variety[T.5]</th> <td>  110.4985</td> <td>   27.335</td> <td>    4.042</td> <td> 0.000</td> <td>   54.412</td> <td>  166.585</td>\n",
       "</tr>\n",
       "<tr>\n",
       "  <th>variety[T.6]</th> <td>   -3.9990</td> <td>   23.488</td> <td>   -0.170</td> <td> 0.866</td> <td>  -52.192</td> <td>   44.194</td>\n",
       "</tr>\n",
       "<tr>\n",
       "  <th>variety[T.7]</th> <td>  -16.8379</td> <td>   23.579</td> <td>   -0.714</td> <td> 0.481</td> <td>  -65.218</td> <td>   31.542</td>\n",
       "</tr>\n",
       "<tr>\n",
       "  <th>variety[T.8]</th> <td>   52.4079</td> <td>   24.402</td> <td>    2.148</td> <td> 0.041</td> <td>    2.339</td> <td>  102.477</td>\n",
       "</tr>\n",
       "<tr>\n",
       "  <th>block[T.II]</th>  <td>  -24.5878</td> <td>   18.709</td> <td>   -1.314</td> <td> 0.200</td> <td>  -62.975</td> <td>   13.800</td>\n",
       "</tr>\n",
       "<tr>\n",
       "  <th>block[T.III]</th> <td>    0.1205</td> <td>   18.564</td> <td>    0.006</td> <td> 0.995</td> <td>  -37.970</td> <td>   38.211</td>\n",
       "</tr>\n",
       "<tr>\n",
       "  <th>block[T.IV]</th>  <td>  -40.4975</td> <td>   18.954</td> <td>   -2.137</td> <td> 0.042</td> <td>  -79.388</td> <td>   -1.607</td>\n",
       "</tr>\n",
       "<tr>\n",
       "  <th>block[T.V]</th>   <td>  -74.2455</td> <td>   19.844</td> <td>   -3.742</td> <td> 0.001</td> <td> -114.961</td> <td>  -33.530</td>\n",
       "</tr>\n",
       "<tr>\n",
       "  <th>crossp</th>       <td>    0.0018</td> <td>    0.005</td> <td>    0.393</td> <td> 0.697</td> <td>   -0.008</td> <td>    0.011</td>\n",
       "</tr>\n",
       "</table>\n",
       "<table class=\"simpletable\">\n",
       "<tr>\n",
       "  <th>Omnibus:</th>       <td> 1.627</td> <th>  Durbin-Watson:     </th> <td>   2.540</td>\n",
       "</tr>\n",
       "<tr>\n",
       "  <th>Prob(Omnibus):</th> <td> 0.443</td> <th>  Jarque-Bera (JB):  </th> <td>   1.167</td>\n",
       "</tr>\n",
       "<tr>\n",
       "  <th>Skew:</th>          <td> 0.418</td> <th>  Prob(JB):          </th> <td>   0.558</td>\n",
       "</tr>\n",
       "<tr>\n",
       "  <th>Kurtosis:</th>      <td> 2.986</td> <th>  Cond. No.          </th> <td>1.70e+04</td>\n",
       "</tr>\n",
       "</table><br/><br/>Warnings:<br/>[1] Standard Errors assume that the covariance matrix of the errors is correctly specified.<br/>[2] The condition number is large, 1.7e+04. This might indicate that there are<br/>strong multicollinearity or other numerical problems."
      ],
      "text/plain": [
       "<class 'statsmodels.iolib.summary.Summary'>\n",
       "\"\"\"\n",
       "                            OLS Regression Results                            \n",
       "==============================================================================\n",
       "Dep. Variable:                      y   R-squared:                       0.749\n",
       "Model:                            OLS   Adj. R-squared:                  0.638\n",
       "Method:                 Least Squares   F-statistic:                     6.718\n",
       "Date:                Tue, 23 Jun 2020   Prob (F-statistic):           2.08e-05\n",
       "Time:                        16:34:51   Log-Likelihood:                -193.47\n",
       "No. Observations:                  40   AIC:                             412.9\n",
       "Df Residuals:                      27   BIC:                             434.9\n",
       "Df Model:                          12                                         \n",
       "Covariance Type:            nonrobust                                         \n",
       "================================================================================\n",
       "                   coef    std err          t      P>|t|      [0.025      0.975]\n",
       "--------------------------------------------------------------------------------\n",
       "Intercept      362.2421     20.505     17.666      0.000     320.169     404.316\n",
       "variety[T.2]    44.4099     24.146      1.839      0.077      -5.134      93.954\n",
       "variety[T.3]    29.6768     23.781      1.248      0.223     -19.118      78.471\n",
       "variety[T.4]   -50.0927     24.324     -2.059      0.049    -100.001      -0.184\n",
       "variety[T.5]   110.4985     27.335      4.042      0.000      54.412     166.585\n",
       "variety[T.6]    -3.9990     23.488     -0.170      0.866     -52.192      44.194\n",
       "variety[T.7]   -16.8379     23.579     -0.714      0.481     -65.218      31.542\n",
       "variety[T.8]    52.4079     24.402      2.148      0.041       2.339     102.477\n",
       "block[T.II]    -24.5878     18.709     -1.314      0.200     -62.975      13.800\n",
       "block[T.III]     0.1205     18.564      0.006      0.995     -37.970      38.211\n",
       "block[T.IV]    -40.4975     18.954     -2.137      0.042     -79.388      -1.607\n",
       "block[T.V]     -74.2455     19.844     -3.742      0.001    -114.961     -33.530\n",
       "crossp           0.0018      0.005      0.393      0.697      -0.008       0.011\n",
       "==============================================================================\n",
       "Omnibus:                        1.627   Durbin-Watson:                   2.540\n",
       "Prob(Omnibus):                  0.443   Jarque-Bera (JB):                1.167\n",
       "Skew:                           0.418   Prob(JB):                        0.558\n",
       "Kurtosis:                       2.986   Cond. No.                     1.70e+04\n",
       "==============================================================================\n",
       "\n",
       "Warnings:\n",
       "[1] Standard Errors assume that the covariance matrix of the errors is correctly specified.\n",
       "[2] The condition number is large, 1.7e+04. This might indicate that there are\n",
       "strong multicollinearity or other numerical problems.\n",
       "\"\"\""
      ]
     },
     "execution_count": 20,
     "metadata": {},
     "output_type": "execute_result"
    }
   ],
   "source": [
    "oatvar['crossp'] = varcoefs * blockcoefs\n",
    "tmod = smf.ols(\"y ~ variety + block + crossp\", oatvar).fit()\n",
    "tmod.summary()"
   ]
  },
  {
   "cell_type": "markdown",
   "metadata": {},
   "source": [
    "Relative efficiency"
   ]
  },
  {
   "cell_type": "code",
   "execution_count": 21,
   "metadata": {},
   "outputs": [
    {
     "data": {
      "text/plain": [
       "47.04678522492265"
      ]
     },
     "execution_count": 21,
     "metadata": {},
     "output_type": "execute_result"
    }
   ],
   "source": [
    "lmcrd = smf.ols(\"y ~ variety\", oatvar).fit()\n",
    "np.sqrt(lmcrd.scale)"
   ]
  },
  {
   "cell_type": "code",
   "execution_count": 22,
   "metadata": {},
   "outputs": [
    {
     "data": {
      "text/plain": [
       "36.563691983011935"
      ]
     },
     "execution_count": 22,
     "metadata": {},
     "output_type": "execute_result"
    }
   ],
   "source": [
    "np.sqrt(lmod.scale)"
   ]
  },
  {
   "cell_type": "code",
   "execution_count": 23,
   "metadata": {},
   "outputs": [
    {
     "data": {
      "text/plain": [
       "1.6556167903978543"
      ]
     },
     "execution_count": 23,
     "metadata": {},
     "output_type": "execute_result"
    }
   ],
   "source": [
    "lmcrd.scale/lmod.scale"
   ]
  },
  {
   "cell_type": "markdown",
   "metadata": {},
   "source": [
    "## Latin square"
   ]
  },
  {
   "cell_type": "code",
   "execution_count": 24,
   "metadata": {},
   "outputs": [
    {
     "data": {
      "text/html": [
       "<div>\n",
       "<style scoped>\n",
       "    .dataframe tbody tr th:only-of-type {\n",
       "        vertical-align: middle;\n",
       "    }\n",
       "\n",
       "    .dataframe tbody tr th {\n",
       "        vertical-align: top;\n",
       "    }\n",
       "\n",
       "    .dataframe thead th {\n",
       "        text-align: right;\n",
       "    }\n",
       "</style>\n",
       "<table border=\"1\" class=\"dataframe\">\n",
       "  <thead>\n",
       "    <tr style=\"text-align: right;\">\n",
       "      <th></th>\n",
       "      <th>run</th>\n",
       "      <th>position</th>\n",
       "      <th>material</th>\n",
       "      <th>wear</th>\n",
       "    </tr>\n",
       "  </thead>\n",
       "  <tbody>\n",
       "    <tr>\n",
       "      <th>1</th>\n",
       "      <td>1</td>\n",
       "      <td>1</td>\n",
       "      <td>C</td>\n",
       "      <td>235</td>\n",
       "    </tr>\n",
       "    <tr>\n",
       "      <th>2</th>\n",
       "      <td>1</td>\n",
       "      <td>2</td>\n",
       "      <td>D</td>\n",
       "      <td>236</td>\n",
       "    </tr>\n",
       "    <tr>\n",
       "      <th>3</th>\n",
       "      <td>1</td>\n",
       "      <td>3</td>\n",
       "      <td>B</td>\n",
       "      <td>218</td>\n",
       "    </tr>\n",
       "    <tr>\n",
       "      <th>4</th>\n",
       "      <td>1</td>\n",
       "      <td>4</td>\n",
       "      <td>A</td>\n",
       "      <td>268</td>\n",
       "    </tr>\n",
       "    <tr>\n",
       "      <th>5</th>\n",
       "      <td>2</td>\n",
       "      <td>1</td>\n",
       "      <td>A</td>\n",
       "      <td>251</td>\n",
       "    </tr>\n",
       "  </tbody>\n",
       "</table>\n",
       "</div>"
      ],
      "text/plain": [
       "  run position material  wear\n",
       "1   1        1        C   235\n",
       "2   1        2        D   236\n",
       "3   1        3        B   218\n",
       "4   1        4        A   268\n",
       "5   2        1        A   251"
      ]
     },
     "execution_count": 24,
     "metadata": {},
     "output_type": "execute_result"
    }
   ],
   "source": [
    "abrasion = pd.read_csv(\"data/abrasion.csv\", index_col=0, \n",
    "                     dtype={'run':'category','position':'category','material':'category','wear':'int'})\n",
    "abrasion.head()"
   ]
  },
  {
   "cell_type": "markdown",
   "metadata": {},
   "source": [
    "See the Latin square layout:"
   ]
  },
  {
   "cell_type": "code",
   "execution_count": 25,
   "metadata": {},
   "outputs": [
    {
     "data": {
      "text/html": [
       "<div>\n",
       "<style scoped>\n",
       "    .dataframe tbody tr th:only-of-type {\n",
       "        vertical-align: middle;\n",
       "    }\n",
       "\n",
       "    .dataframe tbody tr th {\n",
       "        vertical-align: top;\n",
       "    }\n",
       "\n",
       "    .dataframe thead th {\n",
       "        text-align: right;\n",
       "    }\n",
       "</style>\n",
       "<table border=\"1\" class=\"dataframe\">\n",
       "  <thead>\n",
       "    <tr style=\"text-align: right;\">\n",
       "      <th>position</th>\n",
       "      <th>1</th>\n",
       "      <th>2</th>\n",
       "      <th>3</th>\n",
       "      <th>4</th>\n",
       "    </tr>\n",
       "    <tr>\n",
       "      <th>run</th>\n",
       "      <th></th>\n",
       "      <th></th>\n",
       "      <th></th>\n",
       "      <th></th>\n",
       "    </tr>\n",
       "  </thead>\n",
       "  <tbody>\n",
       "    <tr>\n",
       "      <th>1</th>\n",
       "      <td>235</td>\n",
       "      <td>236</td>\n",
       "      <td>218</td>\n",
       "      <td>268</td>\n",
       "    </tr>\n",
       "    <tr>\n",
       "      <th>2</th>\n",
       "      <td>251</td>\n",
       "      <td>241</td>\n",
       "      <td>227</td>\n",
       "      <td>229</td>\n",
       "    </tr>\n",
       "    <tr>\n",
       "      <th>3</th>\n",
       "      <td>234</td>\n",
       "      <td>273</td>\n",
       "      <td>274</td>\n",
       "      <td>226</td>\n",
       "    </tr>\n",
       "    <tr>\n",
       "      <th>4</th>\n",
       "      <td>195</td>\n",
       "      <td>270</td>\n",
       "      <td>230</td>\n",
       "      <td>225</td>\n",
       "    </tr>\n",
       "  </tbody>\n",
       "</table>\n",
       "</div>"
      ],
      "text/plain": [
       "position    1    2    3    4\n",
       "run                         \n",
       "1         235  236  218  268\n",
       "2         251  241  227  229\n",
       "3         234  273  274  226\n",
       "4         195  270  230  225"
      ]
     },
     "execution_count": 25,
     "metadata": {},
     "output_type": "execute_result"
    }
   ],
   "source": [
    "abrasion.pivot(index = 'run', columns='position', values='wear')"
   ]
  },
  {
   "cell_type": "code",
   "execution_count": 26,
   "metadata": {},
   "outputs": [
    {
     "data": {
      "text/html": [
       "<div>\n",
       "<style scoped>\n",
       "    .dataframe tbody tr th:only-of-type {\n",
       "        vertical-align: middle;\n",
       "    }\n",
       "\n",
       "    .dataframe tbody tr th {\n",
       "        vertical-align: top;\n",
       "    }\n",
       "\n",
       "    .dataframe thead th {\n",
       "        text-align: right;\n",
       "    }\n",
       "</style>\n",
       "<table border=\"1\" class=\"dataframe\">\n",
       "  <thead>\n",
       "    <tr style=\"text-align: right;\">\n",
       "      <th>position</th>\n",
       "      <th>1</th>\n",
       "      <th>2</th>\n",
       "      <th>3</th>\n",
       "      <th>4</th>\n",
       "    </tr>\n",
       "    <tr>\n",
       "      <th>run</th>\n",
       "      <th></th>\n",
       "      <th></th>\n",
       "      <th></th>\n",
       "      <th></th>\n",
       "    </tr>\n",
       "  </thead>\n",
       "  <tbody>\n",
       "    <tr>\n",
       "      <th>1</th>\n",
       "      <td>C</td>\n",
       "      <td>D</td>\n",
       "      <td>B</td>\n",
       "      <td>A</td>\n",
       "    </tr>\n",
       "    <tr>\n",
       "      <th>2</th>\n",
       "      <td>A</td>\n",
       "      <td>B</td>\n",
       "      <td>D</td>\n",
       "      <td>C</td>\n",
       "    </tr>\n",
       "    <tr>\n",
       "      <th>3</th>\n",
       "      <td>D</td>\n",
       "      <td>C</td>\n",
       "      <td>A</td>\n",
       "      <td>B</td>\n",
       "    </tr>\n",
       "    <tr>\n",
       "      <th>4</th>\n",
       "      <td>B</td>\n",
       "      <td>A</td>\n",
       "      <td>C</td>\n",
       "      <td>D</td>\n",
       "    </tr>\n",
       "  </tbody>\n",
       "</table>\n",
       "</div>"
      ],
      "text/plain": [
       "position  1  2  3  4\n",
       "run                 \n",
       "1         C  D  B  A\n",
       "2         A  B  D  C\n",
       "3         D  C  A  B\n",
       "4         B  A  C  D"
      ]
     },
     "execution_count": 26,
     "metadata": {},
     "output_type": "execute_result"
    }
   ],
   "source": [
    "abrasion.pivot(index = 'run', columns='position', values='material')"
   ]
  },
  {
   "cell_type": "code",
   "execution_count": 27,
   "metadata": {},
   "outputs": [
    {
     "data": {
      "text/plain": [
       "<seaborn.axisgrid.FacetGrid at 0x1fc99b8da08>"
      ]
     },
     "execution_count": 27,
     "metadata": {},
     "output_type": "execute_result"
    },
    {
     "data": {
      "image/png": "[encoded data removed]",
      "text/plain": [
       "<Figure size 407.5x360 with 1 Axes>"
      ]
     },
     "metadata": {
      "needs_background": "light"
     },
     "output_type": "display_data"
    }
   ],
   "source": [
    "sns.catplot(x='run',y='wear',hue='position', data=abrasion, kind='point',scale=0.5)"
   ]
  },
  {
   "cell_type": "code",
   "execution_count": 28,
   "metadata": {},
   "outputs": [
    {
     "data": {
      "text/plain": [
       "<seaborn.axisgrid.FacetGrid at 0x1fc99bd6548>"
      ]
     },
     "execution_count": 28,
     "metadata": {},
     "output_type": "execute_result"
    },
    {
     "data": {
      "image/png": "[encoded data removed]",
      "text/plain": [
       "<Figure size 409.75x360 with 1 Axes>"
      ]
     },
     "metadata": {
      "needs_background": "light"
     },
     "output_type": "display_data"
    }
   ],
   "source": [
    "sns.catplot(x='run',y='wear',hue='material', data=abrasion, kind='point',scale=0.5)"
   ]
  },
  {
   "cell_type": "code",
   "execution_count": 29,
   "metadata": {},
   "outputs": [
    {
     "data": {
      "text/html": [
       "<div>\n",
       "<style scoped>\n",
       "    .dataframe tbody tr th:only-of-type {\n",
       "        vertical-align: middle;\n",
       "    }\n",
       "\n",
       "    .dataframe tbody tr th {\n",
       "        vertical-align: top;\n",
       "    }\n",
       "\n",
       "    .dataframe thead th {\n",
       "        text-align: right;\n",
       "    }\n",
       "</style>\n",
       "<table border=\"1\" class=\"dataframe\">\n",
       "  <thead>\n",
       "    <tr style=\"text-align: right;\">\n",
       "      <th></th>\n",
       "      <th>sum_sq</th>\n",
       "      <th>df</th>\n",
       "      <th>F</th>\n",
       "      <th>PR(&gt;F)</th>\n",
       "    </tr>\n",
       "  </thead>\n",
       "  <tbody>\n",
       "    <tr>\n",
       "      <th>Intercept</th>\n",
       "      <td>103836.1</td>\n",
       "      <td>1.0</td>\n",
       "      <td>1695.283</td>\n",
       "      <td>0.000</td>\n",
       "    </tr>\n",
       "    <tr>\n",
       "      <th>run</th>\n",
       "      <td>986.5</td>\n",
       "      <td>3.0</td>\n",
       "      <td>5.369</td>\n",
       "      <td>0.039</td>\n",
       "    </tr>\n",
       "    <tr>\n",
       "      <th>position</th>\n",
       "      <td>1468.5</td>\n",
       "      <td>3.0</td>\n",
       "      <td>7.992</td>\n",
       "      <td>0.016</td>\n",
       "    </tr>\n",
       "    <tr>\n",
       "      <th>material</th>\n",
       "      <td>4621.5</td>\n",
       "      <td>3.0</td>\n",
       "      <td>25.151</td>\n",
       "      <td>0.001</td>\n",
       "    </tr>\n",
       "    <tr>\n",
       "      <th>Residual</th>\n",
       "      <td>367.5</td>\n",
       "      <td>6.0</td>\n",
       "      <td>NaN</td>\n",
       "      <td>NaN</td>\n",
       "    </tr>\n",
       "  </tbody>\n",
       "</table>\n",
       "</div>"
      ],
      "text/plain": [
       "             sum_sq   df         F  PR(>F)\n",
       "Intercept  103836.1  1.0  1695.283   0.000\n",
       "run           986.5  3.0     5.369   0.039\n",
       "position     1468.5  3.0     7.992   0.016\n",
       "material     4621.5  3.0    25.151   0.001\n",
       "Residual      367.5  6.0       NaN     NaN"
      ]
     },
     "execution_count": 29,
     "metadata": {},
     "output_type": "execute_result"
    }
   ],
   "source": [
    "lmod = smf.ols('wear ~ run + position + material', abrasion).fit()\n",
    "sm.stats.anova_lm(lmod,typ=3).round(3)"
   ]
  },
  {
   "cell_type": "code",
   "execution_count": 30,
   "metadata": {},
   "outputs": [
    {
     "data": {
      "text/html": [
       "<table class=\"simpletable\">\n",
       "<caption>OLS Regression Results</caption>\n",
       "<tr>\n",
       "  <th>Dep. Variable:</th>          <td>wear</td>       <th>  R-squared:         </th> <td>   0.951</td>\n",
       "</tr>\n",
       "<tr>\n",
       "  <th>Model:</th>                   <td>OLS</td>       <th>  Adj. R-squared:    </th> <td>   0.877</td>\n",
       "</tr>\n",
       "<tr>\n",
       "  <th>Method:</th>             <td>Least Squares</td>  <th>  F-statistic:       </th> <td>   12.84</td>\n",
       "</tr>\n",
       "<tr>\n",
       "  <th>Date:</th>             <td>Tue, 23 Jun 2020</td> <th>  Prob (F-statistic):</th>  <td>0.00283</td>\n",
       "</tr>\n",
       "<tr>\n",
       "  <th>Time:</th>                 <td>16:34:52</td>     <th>  Log-Likelihood:    </th> <td> -47.776</td>\n",
       "</tr>\n",
       "<tr>\n",
       "  <th>No. Observations:</th>      <td>    16</td>      <th>  AIC:               </th> <td>   115.6</td>\n",
       "</tr>\n",
       "<tr>\n",
       "  <th>Df Residuals:</th>          <td>     6</td>      <th>  BIC:               </th> <td>   123.3</td>\n",
       "</tr>\n",
       "<tr>\n",
       "  <th>Df Model:</th>              <td>     9</td>      <th>                     </th>     <td> </td>   \n",
       "</tr>\n",
       "<tr>\n",
       "  <th>Covariance Type:</th>      <td>nonrobust</td>    <th>                     </th>     <td> </td>   \n",
       "</tr>\n",
       "</table>\n",
       "<table class=\"simpletable\">\n",
       "<tr>\n",
       "        <td></td>           <th>coef</th>     <th>std err</th>      <th>t</th>      <th>P>|t|</th>  <th>[0.025</th>    <th>0.975]</th>  \n",
       "</tr>\n",
       "<tr>\n",
       "  <th>Intercept</th>     <td>  254.7500</td> <td>    6.187</td> <td>   41.174</td> <td> 0.000</td> <td>  239.611</td> <td>  269.889</td>\n",
       "</tr>\n",
       "<tr>\n",
       "  <th>run[T.2]</th>      <td>   -2.2500</td> <td>    5.534</td> <td>   -0.407</td> <td> 0.698</td> <td>  -15.791</td> <td>   11.291</td>\n",
       "</tr>\n",
       "<tr>\n",
       "  <th>run[T.3]</th>      <td>   12.5000</td> <td>    5.534</td> <td>    2.259</td> <td> 0.065</td> <td>   -1.041</td> <td>   26.041</td>\n",
       "</tr>\n",
       "<tr>\n",
       "  <th>run[T.4]</th>      <td>   -9.2500</td> <td>    5.534</td> <td>   -1.671</td> <td> 0.146</td> <td>  -22.791</td> <td>    4.291</td>\n",
       "</tr>\n",
       "<tr>\n",
       "  <th>position[T.2]</th> <td>   26.2500</td> <td>    5.534</td> <td>    4.743</td> <td> 0.003</td> <td>   12.709</td> <td>   39.791</td>\n",
       "</tr>\n",
       "<tr>\n",
       "  <th>position[T.3]</th> <td>    8.5000</td> <td>    5.534</td> <td>    1.536</td> <td> 0.175</td> <td>   -5.041</td> <td>   22.041</td>\n",
       "</tr>\n",
       "<tr>\n",
       "  <th>position[T.4]</th> <td>    8.2500</td> <td>    5.534</td> <td>    1.491</td> <td> 0.187</td> <td>   -5.291</td> <td>   21.791</td>\n",
       "</tr>\n",
       "<tr>\n",
       "  <th>material[T.B]</th> <td>  -45.7500</td> <td>    5.534</td> <td>   -8.267</td> <td> 0.000</td> <td>  -59.291</td> <td>  -32.209</td>\n",
       "</tr>\n",
       "<tr>\n",
       "  <th>material[T.C]</th> <td>  -24.0000</td> <td>    5.534</td> <td>   -4.337</td> <td> 0.005</td> <td>  -37.541</td> <td>  -10.459</td>\n",
       "</tr>\n",
       "<tr>\n",
       "  <th>material[T.D]</th> <td>  -35.2500</td> <td>    5.534</td> <td>   -6.370</td> <td> 0.001</td> <td>  -48.791</td> <td>  -21.709</td>\n",
       "</tr>\n",
       "</table>\n",
       "<table class=\"simpletable\">\n",
       "<tr>\n",
       "  <th>Omnibus:</th>       <td> 0.393</td> <th>  Durbin-Watson:     </th> <td>   2.080</td>\n",
       "</tr>\n",
       "<tr>\n",
       "  <th>Prob(Omnibus):</th> <td> 0.822</td> <th>  Jarque-Bera (JB):  </th> <td>   0.466</td>\n",
       "</tr>\n",
       "<tr>\n",
       "  <th>Skew:</th>          <td>-0.298</td> <th>  Prob(JB):          </th> <td>   0.792</td>\n",
       "</tr>\n",
       "<tr>\n",
       "  <th>Kurtosis:</th>      <td> 2.414</td> <th>  Cond. No.          </th> <td>    6.34</td>\n",
       "</tr>\n",
       "</table><br/><br/>Warnings:<br/>[1] Standard Errors assume that the covariance matrix of the errors is correctly specified."
      ],
      "text/plain": [
       "<class 'statsmodels.iolib.summary.Summary'>\n",
       "\"\"\"\n",
       "                            OLS Regression Results                            \n",
       "==============================================================================\n",
       "Dep. Variable:                   wear   R-squared:                       0.951\n",
       "Model:                            OLS   Adj. R-squared:                  0.877\n",
       "Method:                 Least Squares   F-statistic:                     12.84\n",
       "Date:                Tue, 23 Jun 2020   Prob (F-statistic):            0.00283\n",
       "Time:                        16:34:52   Log-Likelihood:                -47.776\n",
       "No. Observations:                  16   AIC:                             115.6\n",
       "Df Residuals:                       6   BIC:                             123.3\n",
       "Df Model:                           9                                         \n",
       "Covariance Type:            nonrobust                                         \n",
       "=================================================================================\n",
       "                    coef    std err          t      P>|t|      [0.025      0.975]\n",
       "---------------------------------------------------------------------------------\n",
       "Intercept       254.7500      6.187     41.174      0.000     239.611     269.889\n",
       "run[T.2]         -2.2500      5.534     -0.407      0.698     -15.791      11.291\n",
       "run[T.3]         12.5000      5.534      2.259      0.065      -1.041      26.041\n",
       "run[T.4]         -9.2500      5.534     -1.671      0.146     -22.791       4.291\n",
       "position[T.2]    26.2500      5.534      4.743      0.003      12.709      39.791\n",
       "position[T.3]     8.5000      5.534      1.536      0.175      -5.041      22.041\n",
       "position[T.4]     8.2500      5.534      1.491      0.187      -5.291      21.791\n",
       "material[T.B]   -45.7500      5.534     -8.267      0.000     -59.291     -32.209\n",
       "material[T.C]   -24.0000      5.534     -4.337      0.005     -37.541     -10.459\n",
       "material[T.D]   -35.2500      5.534     -6.370      0.001     -48.791     -21.709\n",
       "==============================================================================\n",
       "Omnibus:                        0.393   Durbin-Watson:                   2.080\n",
       "Prob(Omnibus):                  0.822   Jarque-Bera (JB):                0.466\n",
       "Skew:                          -0.298   Prob(JB):                        0.792\n",
       "Kurtosis:                       2.414   Cond. No.                         6.34\n",
       "==============================================================================\n",
       "\n",
       "Warnings:\n",
       "[1] Standard Errors assume that the covariance matrix of the errors is correctly specified.\n",
       "\"\"\""
      ]
     },
     "execution_count": 30,
     "metadata": {},
     "output_type": "execute_result"
    }
   ],
   "source": [
    "%%capture --no-display\n",
    "lmod.summary()"
   ]
  },
  {
   "cell_type": "markdown",
   "metadata": {},
   "source": [
    "Do the Tukey computation:"
   ]
  },
  {
   "cell_type": "code",
   "execution_count": 31,
   "metadata": {},
   "outputs": [
    {
     "data": {
      "text/plain": [
       "19.174282907060704"
      ]
     },
     "execution_count": 31,
     "metadata": {},
     "output_type": "execute_result"
    }
   ],
   "source": [
    "from statsmodels.sandbox.stats.multicomp import get_tukeyQcrit\n",
    "get_tukeyQcrit(4,6)*lmod.bse[1]/np.sqrt(2)"
   ]
  },
  {
   "cell_type": "code",
   "execution_count": 32,
   "metadata": {},
   "outputs": [],
   "source": [
    "mcoefs = np.append([0],lmod.params[7:10])\n",
    "nmats = ['A','B','C','D']"
   ]
  },
  {
   "cell_type": "code",
   "execution_count": 33,
   "metadata": {},
   "outputs": [
    {
     "data": {
      "text/html": [
       "<div>\n",
       "<style scoped>\n",
       "    .dataframe tbody tr th:only-of-type {\n",
       "        vertical-align: middle;\n",
       "    }\n",
       "\n",
       "    .dataframe tbody tr th {\n",
       "        vertical-align: top;\n",
       "    }\n",
       "\n",
       "    .dataframe thead th {\n",
       "        text-align: right;\n",
       "    }\n",
       "</style>\n",
       "<table border=\"1\" class=\"dataframe\">\n",
       "  <thead>\n",
       "    <tr style=\"text-align: right;\">\n",
       "      <th></th>\n",
       "      <th>Difference</th>\n",
       "      <th>lb</th>\n",
       "      <th>ub</th>\n",
       "    </tr>\n",
       "  </thead>\n",
       "  <tbody>\n",
       "    <tr>\n",
       "      <th>A-B</th>\n",
       "      <td>45.75</td>\n",
       "      <td>26.58</td>\n",
       "      <td>64.92</td>\n",
       "    </tr>\n",
       "    <tr>\n",
       "      <th>B-C</th>\n",
       "      <td>-21.75</td>\n",
       "      <td>-40.92</td>\n",
       "      <td>-2.58</td>\n",
       "    </tr>\n",
       "    <tr>\n",
       "      <th>B-D</th>\n",
       "      <td>-10.50</td>\n",
       "      <td>-29.67</td>\n",
       "      <td>8.67</td>\n",
       "    </tr>\n",
       "    <tr>\n",
       "      <th>C-D</th>\n",
       "      <td>11.25</td>\n",
       "      <td>-7.92</td>\n",
       "      <td>30.42</td>\n",
       "    </tr>\n",
       "    <tr>\n",
       "      <th>A-D</th>\n",
       "      <td>35.25</td>\n",
       "      <td>16.08</td>\n",
       "      <td>54.42</td>\n",
       "    </tr>\n",
       "    <tr>\n",
       "      <th>A-C</th>\n",
       "      <td>24.00</td>\n",
       "      <td>4.83</td>\n",
       "      <td>43.17</td>\n",
       "    </tr>\n",
       "  </tbody>\n",
       "</table>\n",
       "</div>"
      ],
      "text/plain": [
       "     Difference     lb     ub\n",
       "A-B       45.75  26.58  64.92\n",
       "B-C      -21.75 -40.92  -2.58\n",
       "B-D      -10.50 -29.67   8.67\n",
       "C-D       11.25  -7.92  30.42\n",
       "A-D       35.25  16.08  54.42\n",
       "A-C       24.00   4.83  43.17"
      ]
     },
     "execution_count": 33,
     "metadata": {},
     "output_type": "execute_result"
    }
   ],
   "source": [
    "import itertools\n",
    "dp = set(itertools.combinations(range(0,4),2))\n",
    "dcoef = []\n",
    "namdiff = []\n",
    "for cp in dp:\n",
    "    dcoef.append(mcoefs[cp[0]] - mcoefs[cp[1]])\n",
    "    namdiff.append(nmats[cp[0]] + '-' + nmats[cp[1]])\n",
    "thsd = pd.DataFrame({'Difference':dcoef},index=namdiff)\n",
    "thsd[\"lb\"] = thsd.Difference - get_tukeyQcrit(4,6) * lmod.bse[1]/np.sqrt(2)\n",
    "thsd[\"ub\"] = thsd.Difference + get_tukeyQcrit(4,6) * lmod.bse[1]/np.sqrt(2)\n",
    "thsd.round(2)"
   ]
  },
  {
   "cell_type": "markdown",
   "metadata": {},
   "source": [
    "Relative efficiency"
   ]
  },
  {
   "cell_type": "code",
   "execution_count": 34,
   "metadata": {},
   "outputs": [
    {
     "data": {
      "text/plain": [
       "3.8401360544217713"
      ]
     },
     "execution_count": 34,
     "metadata": {},
     "output_type": "execute_result"
    }
   ],
   "source": [
    "lmodr = smf.ols('wear ~ material', abrasion).fit()\n",
    "lmodr.scale/lmod.scale"
   ]
  },
  {
   "cell_type": "markdown",
   "metadata": {},
   "source": [
    "# Balanced incomplete block design"
   ]
  },
  {
   "cell_type": "code",
   "execution_count": 35,
   "metadata": {},
   "outputs": [
    {
     "data": {
      "text/html": [
       "<div>\n",
       "<style scoped>\n",
       "    .dataframe tbody tr th:only-of-type {\n",
       "        vertical-align: middle;\n",
       "    }\n",
       "\n",
       "    .dataframe tbody tr th {\n",
       "        vertical-align: top;\n",
       "    }\n",
       "\n",
       "    .dataframe thead th {\n",
       "        text-align: right;\n",
       "    }\n",
       "</style>\n",
       "<table border=\"1\" class=\"dataframe\">\n",
       "  <thead>\n",
       "    <tr style=\"text-align: right;\">\n",
       "      <th></th>\n",
       "      <th>treat</th>\n",
       "      <th>gain</th>\n",
       "      <th>block</th>\n",
       "    </tr>\n",
       "  </thead>\n",
       "  <tbody>\n",
       "    <tr>\n",
       "      <th>1</th>\n",
       "      <td>f</td>\n",
       "      <td>42.2</td>\n",
       "      <td>b1</td>\n",
       "    </tr>\n",
       "    <tr>\n",
       "      <th>2</th>\n",
       "      <td>b</td>\n",
       "      <td>32.6</td>\n",
       "      <td>b1</td>\n",
       "    </tr>\n",
       "    <tr>\n",
       "      <th>3</th>\n",
       "      <td>c</td>\n",
       "      <td>35.2</td>\n",
       "      <td>b1</td>\n",
       "    </tr>\n",
       "    <tr>\n",
       "      <th>4</th>\n",
       "      <td>c</td>\n",
       "      <td>40.9</td>\n",
       "      <td>b2</td>\n",
       "    </tr>\n",
       "    <tr>\n",
       "      <th>5</th>\n",
       "      <td>a</td>\n",
       "      <td>40.1</td>\n",
       "      <td>b2</td>\n",
       "    </tr>\n",
       "  </tbody>\n",
       "</table>\n",
       "</div>"
      ],
      "text/plain": [
       "  treat  gain block\n",
       "1     f  42.2    b1\n",
       "2     b  32.6    b1\n",
       "3     c  35.2    b1\n",
       "4     c  40.9    b2\n",
       "5     a  40.1    b2"
      ]
     },
     "execution_count": 35,
     "metadata": {},
     "output_type": "execute_result"
    }
   ],
   "source": [
    "rabbit = pd.read_csv(\"data/rabbit.csv\", index_col=0, \n",
    "                     dtype={'treat':'category','gain':'float','block':'category'})\n",
    "rabbit.head()"
   ]
  },
  {
   "cell_type": "markdown",
   "metadata": {},
   "source": [
    "Show the arrange of the BIB. I replace the NaNs with spaces for clarity."
   ]
  },
  {
   "cell_type": "code",
   "execution_count": 36,
   "metadata": {},
   "outputs": [
    {
     "data": {
      "text/html": [
       "<div>\n",
       "<style scoped>\n",
       "    .dataframe tbody tr th:only-of-type {\n",
       "        vertical-align: middle;\n",
       "    }\n",
       "\n",
       "    .dataframe tbody tr th {\n",
       "        vertical-align: top;\n",
       "    }\n",
       "\n",
       "    .dataframe thead th {\n",
       "        text-align: right;\n",
       "    }\n",
       "</style>\n",
       "<table border=\"1\" class=\"dataframe\">\n",
       "  <thead>\n",
       "    <tr style=\"text-align: right;\">\n",
       "      <th>block</th>\n",
       "      <th>b1</th>\n",
       "      <th>b10</th>\n",
       "      <th>b2</th>\n",
       "      <th>b3</th>\n",
       "      <th>b4</th>\n",
       "      <th>b5</th>\n",
       "      <th>b6</th>\n",
       "      <th>b7</th>\n",
       "      <th>b8</th>\n",
       "      <th>b9</th>\n",
       "    </tr>\n",
       "    <tr>\n",
       "      <th>treat</th>\n",
       "      <th></th>\n",
       "      <th></th>\n",
       "      <th></th>\n",
       "      <th></th>\n",
       "      <th></th>\n",
       "      <th></th>\n",
       "      <th></th>\n",
       "      <th></th>\n",
       "      <th></th>\n",
       "      <th></th>\n",
       "    </tr>\n",
       "  </thead>\n",
       "  <tbody>\n",
       "    <tr>\n",
       "      <th>a</th>\n",
       "      <td></td>\n",
       "      <td>37.3</td>\n",
       "      <td>40.1</td>\n",
       "      <td></td>\n",
       "      <td>44.9</td>\n",
       "      <td></td>\n",
       "      <td></td>\n",
       "      <td>45.2</td>\n",
       "      <td>44</td>\n",
       "      <td></td>\n",
       "    </tr>\n",
       "    <tr>\n",
       "      <th>b</th>\n",
       "      <td>32.6</td>\n",
       "      <td></td>\n",
       "      <td>38.1</td>\n",
       "      <td></td>\n",
       "      <td></td>\n",
       "      <td></td>\n",
       "      <td>37.3</td>\n",
       "      <td>40.6</td>\n",
       "      <td></td>\n",
       "      <td>30.6</td>\n",
       "    </tr>\n",
       "    <tr>\n",
       "      <th>c</th>\n",
       "      <td>35.2</td>\n",
       "      <td></td>\n",
       "      <td>40.9</td>\n",
       "      <td>34.6</td>\n",
       "      <td>43.9</td>\n",
       "      <td>40.9</td>\n",
       "      <td></td>\n",
       "      <td></td>\n",
       "      <td></td>\n",
       "      <td></td>\n",
       "    </tr>\n",
       "    <tr>\n",
       "      <th>d</th>\n",
       "      <td></td>\n",
       "      <td>42.3</td>\n",
       "      <td></td>\n",
       "      <td>37.5</td>\n",
       "      <td></td>\n",
       "      <td>37.3</td>\n",
       "      <td></td>\n",
       "      <td>37.9</td>\n",
       "      <td></td>\n",
       "      <td>27.5</td>\n",
       "    </tr>\n",
       "    <tr>\n",
       "      <th>e</th>\n",
       "      <td></td>\n",
       "      <td></td>\n",
       "      <td></td>\n",
       "      <td></td>\n",
       "      <td>40.8</td>\n",
       "      <td>32</td>\n",
       "      <td>40.5</td>\n",
       "      <td></td>\n",
       "      <td>38.5</td>\n",
       "      <td>20.6</td>\n",
       "    </tr>\n",
       "    <tr>\n",
       "      <th>f</th>\n",
       "      <td>42.2</td>\n",
       "      <td>41.7</td>\n",
       "      <td></td>\n",
       "      <td>34.3</td>\n",
       "      <td></td>\n",
       "      <td></td>\n",
       "      <td>42.8</td>\n",
       "      <td></td>\n",
       "      <td>51.9</td>\n",
       "      <td></td>\n",
       "    </tr>\n",
       "  </tbody>\n",
       "</table>\n",
       "</div>"
      ],
      "text/plain": [
       "block    b1   b10    b2    b3    b4    b5    b6    b7    b8    b9\n",
       "treat                                                            \n",
       "a            37.3  40.1        44.9              45.2    44      \n",
       "b      32.6        38.1                    37.3  40.6        30.6\n",
       "c      35.2        40.9  34.6  43.9  40.9                        \n",
       "d            42.3        37.5        37.3        37.9        27.5\n",
       "e                              40.8    32  40.5        38.5  20.6\n",
       "f      42.2  41.7        34.3              42.8        51.9      "
      ]
     },
     "execution_count": 36,
     "metadata": {},
     "output_type": "execute_result"
    }
   ],
   "source": [
    "pt = rabbit.pivot(index = 'treat', columns='block', values='gain')\n",
    "pt.replace(np.nan,\" \", regex=True)"
   ]
  },
  {
   "cell_type": "code",
   "execution_count": 37,
   "metadata": {},
   "outputs": [
    {
     "data": {
      "image/png": "[encoded data removed]",
      "text/plain": [
       "<Figure size 432x288 with 1 Axes>"
      ]
     },
     "metadata": {
      "needs_background": "light"
     },
     "output_type": "display_data"
    }
   ],
   "source": [
    "sns.swarmplot(x='block',y='gain',hue='treat',data=rabbit)\n",
    "plt.legend(bbox_to_anchor=(1.05, 1), loc=2, borderaxespad=0.)\n",
    "plt.show()"
   ]
  },
  {
   "cell_type": "code",
   "execution_count": 38,
   "metadata": {},
   "outputs": [
    {
     "data": {
      "image/png": "[encoded data removed]",
      "text/plain": [
       "<Figure size 432x288 with 1 Axes>"
      ]
     },
     "metadata": {
      "needs_background": "light"
     },
     "output_type": "display_data"
    }
   ],
   "source": [
    "sns.swarmplot(x='treat',y='gain',hue='block',data=rabbit)\n",
    "plt.legend(bbox_to_anchor=(1.05, 1), loc=2, borderaxespad=0.)\n",
    "plt.show()"
   ]
  },
  {
   "cell_type": "code",
   "execution_count": 39,
   "metadata": {},
   "outputs": [
    {
     "data": {
      "text/html": [
       "<div>\n",
       "<style scoped>\n",
       "    .dataframe tbody tr th:only-of-type {\n",
       "        vertical-align: middle;\n",
       "    }\n",
       "\n",
       "    .dataframe tbody tr th {\n",
       "        vertical-align: top;\n",
       "    }\n",
       "\n",
       "    .dataframe thead th {\n",
       "        text-align: right;\n",
       "    }\n",
       "</style>\n",
       "<table border=\"1\" class=\"dataframe\">\n",
       "  <thead>\n",
       "    <tr style=\"text-align: right;\">\n",
       "      <th></th>\n",
       "      <th>sum_sq</th>\n",
       "      <th>df</th>\n",
       "      <th>F</th>\n",
       "      <th>PR(&gt;F)</th>\n",
       "    </tr>\n",
       "  </thead>\n",
       "  <tbody>\n",
       "    <tr>\n",
       "      <th>Intercept</th>\n",
       "      <td>1945.500</td>\n",
       "      <td>1.0</td>\n",
       "      <td>193.553</td>\n",
       "      <td>0.000</td>\n",
       "    </tr>\n",
       "    <tr>\n",
       "      <th>treat</th>\n",
       "      <td>158.727</td>\n",
       "      <td>5.0</td>\n",
       "      <td>3.158</td>\n",
       "      <td>0.038</td>\n",
       "    </tr>\n",
       "    <tr>\n",
       "      <th>block</th>\n",
       "      <td>595.735</td>\n",
       "      <td>9.0</td>\n",
       "      <td>6.585</td>\n",
       "      <td>0.001</td>\n",
       "    </tr>\n",
       "    <tr>\n",
       "      <th>Residual</th>\n",
       "      <td>150.773</td>\n",
       "      <td>15.0</td>\n",
       "      <td>NaN</td>\n",
       "      <td>NaN</td>\n",
       "    </tr>\n",
       "  </tbody>\n",
       "</table>\n",
       "</div>"
      ],
      "text/plain": [
       "             sum_sq    df        F  PR(>F)\n",
       "Intercept  1945.500   1.0  193.553   0.000\n",
       "treat       158.727   5.0    3.158   0.038\n",
       "block       595.735   9.0    6.585   0.001\n",
       "Residual    150.773  15.0      NaN     NaN"
      ]
     },
     "execution_count": 39,
     "metadata": {},
     "output_type": "execute_result"
    }
   ],
   "source": [
    "lmod = smf.ols('gain ~ treat + block', rabbit).fit()\n",
    "sm.stats.anova_lm(lmod,typ=3).round(3)"
   ]
  },
  {
   "cell_type": "code",
   "execution_count": 40,
   "metadata": {},
   "outputs": [
    {
     "data": {
      "image/png": "[encoded data removed]",
      "text/plain": [
       "<Figure size 432x288 with 1 Axes>"
      ]
     },
     "metadata": {
      "needs_background": "light"
     },
     "output_type": "display_data"
    }
   ],
   "source": [
    "sns.residplot(lmod.fittedvalues, lmod.resid)\n",
    "plt.xlabel(\"Fitted values\")\n",
    "plt.ylabel(\"Residuals\")\n",
    "plt.show()"
   ]
  },
  {
   "cell_type": "code",
   "execution_count": 41,
   "metadata": {},
   "outputs": [
    {
     "data": {
      "image/png": "[encoded data removed]",
      "text/plain": [
       "<Figure size 432x288 with 1 Axes>"
      ]
     },
     "metadata": {
      "needs_background": "light"
     },
     "output_type": "display_data"
    }
   ],
   "source": [
    "res = np.sort(lmod.resid)\n",
    "n = len(res)\n",
    "qq = stats.norm.ppf(np.arange(1,n+1)/(n+1))\n",
    "\n",
    "fig, ax = plt.subplots()\n",
    "ax.scatter(qq, res)\n",
    "   \n",
    "plt.xlabel(\"Normal Quantiles\")\n",
    "plt.ylabel(\"Sorted Residuals\")\n",
    "plt.show()"
   ]
  },
  {
   "cell_type": "code",
   "execution_count": 42,
   "metadata": {},
   "outputs": [
    {
     "data": {
      "text/html": [
       "<table class=\"simpletable\">\n",
       "<caption>OLS Regression Results</caption>\n",
       "<tr>\n",
       "  <th>Dep. Variable:</th>          <td>gain</td>       <th>  R-squared:         </th> <td>   0.855</td>\n",
       "</tr>\n",
       "<tr>\n",
       "  <th>Model:</th>                   <td>OLS</td>       <th>  Adj. R-squared:    </th> <td>   0.720</td>\n",
       "</tr>\n",
       "<tr>\n",
       "  <th>Method:</th>             <td>Least Squares</td>  <th>  F-statistic:       </th> <td>   6.318</td>\n",
       "</tr>\n",
       "<tr>\n",
       "  <th>Date:</th>             <td>Tue, 23 Jun 2020</td> <th>  Prob (F-statistic):</th> <td>0.000518</td>\n",
       "</tr>\n",
       "<tr>\n",
       "  <th>Time:</th>                 <td>16:34:54</td>     <th>  Log-Likelihood:    </th> <td> -66.787</td>\n",
       "</tr>\n",
       "<tr>\n",
       "  <th>No. Observations:</th>      <td>    30</td>      <th>  AIC:               </th> <td>   163.6</td>\n",
       "</tr>\n",
       "<tr>\n",
       "  <th>Df Residuals:</th>          <td>    15</td>      <th>  BIC:               </th> <td>   184.6</td>\n",
       "</tr>\n",
       "<tr>\n",
       "  <th>Df Model:</th>              <td>    14</td>      <th>                     </th>     <td> </td>   \n",
       "</tr>\n",
       "<tr>\n",
       "  <th>Covariance Type:</th>      <td>nonrobust</td>    <th>                     </th>     <td> </td>   \n",
       "</tr>\n",
       "</table>\n",
       "<table class=\"simpletable\">\n",
       "<tr>\n",
       "        <td></td>          <th>coef</th>     <th>std err</th>      <th>t</th>      <th>P>|t|</th>  <th>[0.025</th>    <th>0.975]</th>  \n",
       "</tr>\n",
       "<tr>\n",
       "  <th>Intercept</th>    <td>   36.0139</td> <td>    2.589</td> <td>   13.912</td> <td> 0.000</td> <td>   30.496</td> <td>   41.531</td>\n",
       "</tr>\n",
       "<tr>\n",
       "  <th>treat[T.b]</th>   <td>   -1.7417</td> <td>    2.242</td> <td>   -0.777</td> <td> 0.449</td> <td>   -6.520</td> <td>    3.037</td>\n",
       "</tr>\n",
       "<tr>\n",
       "  <th>treat[T.c]</th>   <td>    0.4000</td> <td>    2.242</td> <td>    0.178</td> <td> 0.861</td> <td>   -4.378</td> <td>    5.178</td>\n",
       "</tr>\n",
       "<tr>\n",
       "  <th>treat[T.d]</th>   <td>    0.0667</td> <td>    2.242</td> <td>    0.030</td> <td> 0.977</td> <td>   -4.712</td> <td>    4.845</td>\n",
       "</tr>\n",
       "<tr>\n",
       "  <th>treat[T.e]</th>   <td>   -5.2250</td> <td>    2.242</td> <td>   -2.331</td> <td> 0.034</td> <td>  -10.003</td> <td>   -0.447</td>\n",
       "</tr>\n",
       "<tr>\n",
       "  <th>treat[T.f]</th>   <td>    3.3000</td> <td>    2.242</td> <td>    1.472</td> <td> 0.162</td> <td>   -1.478</td> <td>    8.078</td>\n",
       "</tr>\n",
       "<tr>\n",
       "  <th>block[T.b10]</th> <td>    3.2972</td> <td>    2.796</td> <td>    1.179</td> <td> 0.257</td> <td>   -2.662</td> <td>    9.257</td>\n",
       "</tr>\n",
       "<tr>\n",
       "  <th>block[T.b2]</th>  <td>    4.1333</td> <td>    2.694</td> <td>    1.534</td> <td> 0.146</td> <td>   -1.610</td> <td>    9.876</td>\n",
       "</tr>\n",
       "<tr>\n",
       "  <th>block[T.b3]</th>  <td>   -1.8028</td> <td>    2.694</td> <td>   -0.669</td> <td> 0.514</td> <td>   -7.546</td> <td>    3.940</td>\n",
       "</tr>\n",
       "<tr>\n",
       "  <th>block[T.b4]</th>  <td>    8.7944</td> <td>    2.796</td> <td>    3.145</td> <td> 0.007</td> <td>    2.835</td> <td>   14.754</td>\n",
       "</tr>\n",
       "<tr>\n",
       "  <th>block[T.b5]</th>  <td>    2.3056</td> <td>    2.796</td> <td>    0.825</td> <td> 0.423</td> <td>   -3.654</td> <td>    8.265</td>\n",
       "</tr>\n",
       "<tr>\n",
       "  <th>block[T.b6]</th>  <td>    5.4083</td> <td>    2.694</td> <td>    2.007</td> <td> 0.063</td> <td>   -0.335</td> <td>   11.151</td>\n",
       "</tr>\n",
       "<tr>\n",
       "  <th>block[T.b7]</th>  <td>    5.7778</td> <td>    2.796</td> <td>    2.066</td> <td> 0.057</td> <td>   -0.182</td> <td>   11.737</td>\n",
       "</tr>\n",
       "<tr>\n",
       "  <th>block[T.b8]</th>  <td>    9.4278</td> <td>    2.796</td> <td>    3.372</td> <td> 0.004</td> <td>    3.468</td> <td>   15.387</td>\n",
       "</tr>\n",
       "<tr>\n",
       "  <th>block[T.b9]</th>  <td>   -7.4806</td> <td>    2.796</td> <td>   -2.675</td> <td> 0.017</td> <td>  -13.440</td> <td>   -1.521</td>\n",
       "</tr>\n",
       "</table>\n",
       "<table class=\"simpletable\">\n",
       "<tr>\n",
       "  <th>Omnibus:</th>       <td> 2.951</td> <th>  Durbin-Watson:     </th> <td>   2.921</td>\n",
       "</tr>\n",
       "<tr>\n",
       "  <th>Prob(Omnibus):</th> <td> 0.229</td> <th>  Jarque-Bera (JB):  </th> <td>   1.909</td>\n",
       "</tr>\n",
       "<tr>\n",
       "  <th>Skew:</th>          <td> 0.401</td> <th>  Prob(JB):          </th> <td>   0.385</td>\n",
       "</tr>\n",
       "<tr>\n",
       "  <th>Kurtosis:</th>      <td> 2.060</td> <th>  Cond. No.          </th> <td>    12.8</td>\n",
       "</tr>\n",
       "</table><br/><br/>Warnings:<br/>[1] Standard Errors assume that the covariance matrix of the errors is correctly specified."
      ],
      "text/plain": [
       "<class 'statsmodels.iolib.summary.Summary'>\n",
       "\"\"\"\n",
       "                            OLS Regression Results                            \n",
       "==============================================================================\n",
       "Dep. Variable:                   gain   R-squared:                       0.855\n",
       "Model:                            OLS   Adj. R-squared:                  0.720\n",
       "Method:                 Least Squares   F-statistic:                     6.318\n",
       "Date:                Tue, 23 Jun 2020   Prob (F-statistic):           0.000518\n",
       "Time:                        16:34:54   Log-Likelihood:                -66.787\n",
       "No. Observations:                  30   AIC:                             163.6\n",
       "Df Residuals:                      15   BIC:                             184.6\n",
       "Df Model:                          14                                         \n",
       "Covariance Type:            nonrobust                                         \n",
       "================================================================================\n",
       "                   coef    std err          t      P>|t|      [0.025      0.975]\n",
       "--------------------------------------------------------------------------------\n",
       "Intercept       36.0139      2.589     13.912      0.000      30.496      41.531\n",
       "treat[T.b]      -1.7417      2.242     -0.777      0.449      -6.520       3.037\n",
       "treat[T.c]       0.4000      2.242      0.178      0.861      -4.378       5.178\n",
       "treat[T.d]       0.0667      2.242      0.030      0.977      -4.712       4.845\n",
       "treat[T.e]      -5.2250      2.242     -2.331      0.034     -10.003      -0.447\n",
       "treat[T.f]       3.3000      2.242      1.472      0.162      -1.478       8.078\n",
       "block[T.b10]     3.2972      2.796      1.179      0.257      -2.662       9.257\n",
       "block[T.b2]      4.1333      2.694      1.534      0.146      -1.610       9.876\n",
       "block[T.b3]     -1.8028      2.694     -0.669      0.514      -7.546       3.940\n",
       "block[T.b4]      8.7944      2.796      3.145      0.007       2.835      14.754\n",
       "block[T.b5]      2.3056      2.796      0.825      0.423      -3.654       8.265\n",
       "block[T.b6]      5.4083      2.694      2.007      0.063      -0.335      11.151\n",
       "block[T.b7]      5.7778      2.796      2.066      0.057      -0.182      11.737\n",
       "block[T.b8]      9.4278      2.796      3.372      0.004       3.468      15.387\n",
       "block[T.b9]     -7.4806      2.796     -2.675      0.017     -13.440      -1.521\n",
       "==============================================================================\n",
       "Omnibus:                        2.951   Durbin-Watson:                   2.921\n",
       "Prob(Omnibus):                  0.229   Jarque-Bera (JB):                1.909\n",
       "Skew:                           0.401   Prob(JB):                        0.385\n",
       "Kurtosis:                       2.060   Cond. No.                         12.8\n",
       "==============================================================================\n",
       "\n",
       "Warnings:\n",
       "[1] Standard Errors assume that the covariance matrix of the errors is correctly specified.\n",
       "\"\"\""
      ]
     },
     "execution_count": 42,
     "metadata": {},
     "output_type": "execute_result"
    }
   ],
   "source": [
    "lmod.summary()"
   ]
  },
  {
   "cell_type": "markdown",
   "metadata": {},
   "source": [
    "Tukey pairwise differences:"
   ]
  },
  {
   "cell_type": "code",
   "execution_count": 43,
   "metadata": {},
   "outputs": [],
   "source": [
    "mcoefs = np.append([0],lmod.params[1:6])\n",
    "nmats = [chr(i) for i in range(ord('a'),ord('f')+1)]"
   ]
  },
  {
   "cell_type": "code",
   "execution_count": 44,
   "metadata": {},
   "outputs": [
    {
     "data": {
      "text/html": [
       "<div>\n",
       "<style scoped>\n",
       "    .dataframe tbody tr th:only-of-type {\n",
       "        vertical-align: middle;\n",
       "    }\n",
       "\n",
       "    .dataframe tbody tr th {\n",
       "        vertical-align: top;\n",
       "    }\n",
       "\n",
       "    .dataframe thead th {\n",
       "        text-align: right;\n",
       "    }\n",
       "</style>\n",
       "<table border=\"1\" class=\"dataframe\">\n",
       "  <thead>\n",
       "    <tr style=\"text-align: right;\">\n",
       "      <th></th>\n",
       "      <th>Difference</th>\n",
       "      <th>lb</th>\n",
       "      <th>ub</th>\n",
       "    </tr>\n",
       "  </thead>\n",
       "  <tbody>\n",
       "    <tr>\n",
       "      <th>a-b</th>\n",
       "      <td>1.74</td>\n",
       "      <td>-5.53</td>\n",
       "      <td>9.02</td>\n",
       "    </tr>\n",
       "    <tr>\n",
       "      <th>b-c</th>\n",
       "      <td>-2.14</td>\n",
       "      <td>-9.42</td>\n",
       "      <td>5.13</td>\n",
       "    </tr>\n",
       "    <tr>\n",
       "      <th>b-d</th>\n",
       "      <td>-1.81</td>\n",
       "      <td>-9.08</td>\n",
       "      <td>5.47</td>\n",
       "    </tr>\n",
       "    <tr>\n",
       "      <th>e-f</th>\n",
       "      <td>-8.53</td>\n",
       "      <td>-15.80</td>\n",
       "      <td>-1.25</td>\n",
       "    </tr>\n",
       "    <tr>\n",
       "      <th>b-e</th>\n",
       "      <td>3.48</td>\n",
       "      <td>-3.79</td>\n",
       "      <td>10.76</td>\n",
       "    </tr>\n",
       "    <tr>\n",
       "      <th>b-f</th>\n",
       "      <td>-5.04</td>\n",
       "      <td>-12.32</td>\n",
       "      <td>2.23</td>\n",
       "    </tr>\n",
       "    <tr>\n",
       "      <th>c-e</th>\n",
       "      <td>5.62</td>\n",
       "      <td>-1.65</td>\n",
       "      <td>12.90</td>\n",
       "    </tr>\n",
       "    <tr>\n",
       "      <th>a-f</th>\n",
       "      <td>-3.30</td>\n",
       "      <td>-10.58</td>\n",
       "      <td>3.98</td>\n",
       "    </tr>\n",
       "    <tr>\n",
       "      <th>c-d</th>\n",
       "      <td>0.33</td>\n",
       "      <td>-6.94</td>\n",
       "      <td>7.61</td>\n",
       "    </tr>\n",
       "    <tr>\n",
       "      <th>c-f</th>\n",
       "      <td>-2.90</td>\n",
       "      <td>-10.18</td>\n",
       "      <td>4.38</td>\n",
       "    </tr>\n",
       "    <tr>\n",
       "      <th>a-e</th>\n",
       "      <td>5.23</td>\n",
       "      <td>-2.05</td>\n",
       "      <td>12.50</td>\n",
       "    </tr>\n",
       "    <tr>\n",
       "      <th>a-d</th>\n",
       "      <td>-0.07</td>\n",
       "      <td>-7.34</td>\n",
       "      <td>7.21</td>\n",
       "    </tr>\n",
       "    <tr>\n",
       "      <th>d-e</th>\n",
       "      <td>5.29</td>\n",
       "      <td>-1.98</td>\n",
       "      <td>12.57</td>\n",
       "    </tr>\n",
       "    <tr>\n",
       "      <th>a-c</th>\n",
       "      <td>-0.40</td>\n",
       "      <td>-7.68</td>\n",
       "      <td>6.88</td>\n",
       "    </tr>\n",
       "    <tr>\n",
       "      <th>d-f</th>\n",
       "      <td>-3.23</td>\n",
       "      <td>-10.51</td>\n",
       "      <td>4.04</td>\n",
       "    </tr>\n",
       "  </tbody>\n",
       "</table>\n",
       "</div>"
      ],
      "text/plain": [
       "     Difference     lb     ub\n",
       "a-b        1.74  -5.53   9.02\n",
       "b-c       -2.14  -9.42   5.13\n",
       "b-d       -1.81  -9.08   5.47\n",
       "e-f       -8.53 -15.80  -1.25\n",
       "b-e        3.48  -3.79  10.76\n",
       "b-f       -5.04 -12.32   2.23\n",
       "c-e        5.62  -1.65  12.90\n",
       "a-f       -3.30 -10.58   3.98\n",
       "c-d        0.33  -6.94   7.61\n",
       "c-f       -2.90 -10.18   4.38\n",
       "a-e        5.23  -2.05  12.50\n",
       "a-d       -0.07  -7.34   7.21\n",
       "d-e        5.29  -1.98  12.57\n",
       "a-c       -0.40  -7.68   6.88\n",
       "d-f       -3.23 -10.51   4.04"
      ]
     },
     "execution_count": 44,
     "metadata": {},
     "output_type": "execute_result"
    }
   ],
   "source": [
    "p = len(mcoefs)\n",
    "dp = set(itertools.combinations(range(0,p),2))\n",
    "dcoef = []\n",
    "namdiff = []\n",
    "for cp in dp:\n",
    "    dcoef.append(mcoefs[cp[0]] - mcoefs[cp[1]])\n",
    "    namdiff.append(nmats[cp[0]] + '-' + nmats[cp[1]])\n",
    "thsd = pd.DataFrame({'Difference':dcoef},index=namdiff)\n",
    "thsd[\"lb\"] = thsd.Difference - get_tukeyQcrit(p,lmod.df_resid) * lmod.bse[1]/np.sqrt(2)\n",
    "thsd[\"ub\"] = thsd.Difference + get_tukeyQcrit(p,lmod.df_resid) * lmod.bse[1]/np.sqrt(2)\n",
    "thsd.round(2)"
   ]
  },
  {
   "cell_type": "markdown",
   "metadata": {},
   "source": [
    "Relative efficiency"
   ]
  },
  {
   "cell_type": "code",
   "execution_count": 45,
   "metadata": {},
   "outputs": [
    {
     "data": {
      "text/plain": [
       "3.094507555519525"
      ]
     },
     "execution_count": 45,
     "metadata": {},
     "output_type": "execute_result"
    }
   ],
   "source": [
    "lmodr = smf.ols('gain ~ treat', rabbit).fit()\n",
    "lmodr.scale/lmod.scale"
   ]
  }
 ],
 "metadata": {
  "kernelspec": {
   "display_name": "Python 3",
   "language": "python",
   "name": "python3"
  },
  "language_info": {
   "codemirror_mode": {
    "name": "ipython",
    "version": 3
   },
   "file_extension": ".py",
   "mimetype": "text/x-python",
   "name": "python",
   "nbconvert_exporter": "python",
   "pygments_lexer": "ipython3",
   "version": "3.7.6"
  }
 },
 "nbformat": 4,
 "nbformat_minor": 2
}
