{
 "cells": [
  {
   "cell_type": "markdown",
   "metadata": {},
   "source": [
    "# Chapter 13: Missing Data"
   ]
  },
  {
   "cell_type": "code",
   "execution_count": 1,
   "metadata": {},
   "outputs": [],
   "source": [
    "import pandas as pd\n",
    "import numpy as np\n",
    "import matplotlib.pyplot as plt\n",
    "import statsmodels.api as sm\n",
    "import statsmodels.formula.api as smf"
   ]
  },
  {
   "cell_type": "markdown",
   "metadata": {},
   "source": [
    "Read in a missing version of the Chicago Insurance data:"
   ]
  },
  {
   "cell_type": "code",
   "execution_count": 2,
   "metadata": {},
   "outputs": [
    {
     "data": {
      "text/html": [
       "<div>\n",
       "<style scoped>\n",
       "    .dataframe tbody tr th:only-of-type {\n",
       "        vertical-align: middle;\n",
       "    }\n",
       "\n",
       "    .dataframe tbody tr th {\n",
       "        vertical-align: top;\n",
       "    }\n",
       "\n",
       "    .dataframe thead th {\n",
       "        text-align: right;\n",
       "    }\n",
       "</style>\n",
       "<table border=\"1\" class=\"dataframe\">\n",
       "  <thead>\n",
       "    <tr style=\"text-align: right;\">\n",
       "      <th></th>\n",
       "      <th>race</th>\n",
       "      <th>fire</th>\n",
       "      <th>theft</th>\n",
       "      <th>age</th>\n",
       "      <th>involact</th>\n",
       "      <th>income</th>\n",
       "    </tr>\n",
       "  </thead>\n",
       "  <tbody>\n",
       "    <tr>\n",
       "      <th>60626</th>\n",
       "      <td>10.0</td>\n",
       "      <td>6.2</td>\n",
       "      <td>29.0</td>\n",
       "      <td>60.4</td>\n",
       "      <td>NaN</td>\n",
       "      <td>11.744</td>\n",
       "    </tr>\n",
       "    <tr>\n",
       "      <th>60640</th>\n",
       "      <td>22.2</td>\n",
       "      <td>9.5</td>\n",
       "      <td>44.0</td>\n",
       "      <td>76.5</td>\n",
       "      <td>0.1</td>\n",
       "      <td>9.323</td>\n",
       "    </tr>\n",
       "    <tr>\n",
       "      <th>60613</th>\n",
       "      <td>19.6</td>\n",
       "      <td>10.5</td>\n",
       "      <td>36.0</td>\n",
       "      <td>NaN</td>\n",
       "      <td>1.2</td>\n",
       "      <td>9.948</td>\n",
       "    </tr>\n",
       "    <tr>\n",
       "      <th>60657</th>\n",
       "      <td>17.3</td>\n",
       "      <td>7.7</td>\n",
       "      <td>37.0</td>\n",
       "      <td>NaN</td>\n",
       "      <td>0.5</td>\n",
       "      <td>10.656</td>\n",
       "    </tr>\n",
       "    <tr>\n",
       "      <th>60614</th>\n",
       "      <td>24.5</td>\n",
       "      <td>8.6</td>\n",
       "      <td>53.0</td>\n",
       "      <td>81.4</td>\n",
       "      <td>0.7</td>\n",
       "      <td>9.730</td>\n",
       "    </tr>\n",
       "  </tbody>\n",
       "</table>\n",
       "</div>"
      ],
      "text/plain": [
       "       race  fire  theft   age  involact  income\n",
       "60626  10.0   6.2   29.0  60.4       NaN  11.744\n",
       "60640  22.2   9.5   44.0  76.5       0.1   9.323\n",
       "60613  19.6  10.5   36.0   NaN       1.2   9.948\n",
       "60657  17.3   7.7   37.0   NaN       0.5  10.656\n",
       "60614  24.5   8.6   53.0  81.4       0.7   9.730"
      ]
     },
     "execution_count": 2,
     "metadata": {},
     "output_type": "execute_result"
    }
   ],
   "source": [
    "chmiss = pd.read_csv(\"data/chmiss.csv\", index_col=0)\n",
    "chmiss.head()"
   ]
  },
  {
   "cell_type": "markdown",
   "metadata": {},
   "source": [
    "Describe does give observed count but can only tell the number of missing by subtraction"
   ]
  },
  {
   "cell_type": "code",
   "execution_count": 3,
   "metadata": {},
   "outputs": [
    {
     "data": {
      "text/html": [
       "<div>\n",
       "<style scoped>\n",
       "    .dataframe tbody tr th:only-of-type {\n",
       "        vertical-align: middle;\n",
       "    }\n",
       "\n",
       "    .dataframe tbody tr th {\n",
       "        vertical-align: top;\n",
       "    }\n",
       "\n",
       "    .dataframe thead th {\n",
       "        text-align: right;\n",
       "    }\n",
       "</style>\n",
       "<table border=\"1\" class=\"dataframe\">\n",
       "  <thead>\n",
       "    <tr style=\"text-align: right;\">\n",
       "      <th></th>\n",
       "      <th>race</th>\n",
       "      <th>fire</th>\n",
       "      <th>theft</th>\n",
       "      <th>age</th>\n",
       "      <th>involact</th>\n",
       "      <th>income</th>\n",
       "    </tr>\n",
       "  </thead>\n",
       "  <tbody>\n",
       "    <tr>\n",
       "      <th>count</th>\n",
       "      <td>43.00</td>\n",
       "      <td>45.00</td>\n",
       "      <td>43.00</td>\n",
       "      <td>42.00</td>\n",
       "      <td>44.00</td>\n",
       "      <td>45.00</td>\n",
       "    </tr>\n",
       "    <tr>\n",
       "      <th>mean</th>\n",
       "      <td>35.61</td>\n",
       "      <td>11.42</td>\n",
       "      <td>32.65</td>\n",
       "      <td>59.97</td>\n",
       "      <td>0.65</td>\n",
       "      <td>10.74</td>\n",
       "    </tr>\n",
       "    <tr>\n",
       "      <th>std</th>\n",
       "      <td>33.26</td>\n",
       "      <td>8.36</td>\n",
       "      <td>23.12</td>\n",
       "      <td>23.62</td>\n",
       "      <td>0.64</td>\n",
       "      <td>2.79</td>\n",
       "    </tr>\n",
       "    <tr>\n",
       "      <th>min</th>\n",
       "      <td>1.00</td>\n",
       "      <td>2.00</td>\n",
       "      <td>3.00</td>\n",
       "      <td>2.00</td>\n",
       "      <td>0.00</td>\n",
       "      <td>5.58</td>\n",
       "    </tr>\n",
       "    <tr>\n",
       "      <th>25%</th>\n",
       "      <td>3.75</td>\n",
       "      <td>5.60</td>\n",
       "      <td>22.00</td>\n",
       "      <td>48.30</td>\n",
       "      <td>0.00</td>\n",
       "      <td>8.56</td>\n",
       "    </tr>\n",
       "    <tr>\n",
       "      <th>50%</th>\n",
       "      <td>24.50</td>\n",
       "      <td>9.50</td>\n",
       "      <td>29.00</td>\n",
       "      <td>64.40</td>\n",
       "      <td>0.50</td>\n",
       "      <td>10.69</td>\n",
       "    </tr>\n",
       "    <tr>\n",
       "      <th>75%</th>\n",
       "      <td>57.65</td>\n",
       "      <td>15.10</td>\n",
       "      <td>38.00</td>\n",
       "      <td>78.25</td>\n",
       "      <td>0.92</td>\n",
       "      <td>12.10</td>\n",
       "    </tr>\n",
       "    <tr>\n",
       "      <th>max</th>\n",
       "      <td>99.70</td>\n",
       "      <td>36.20</td>\n",
       "      <td>147.00</td>\n",
       "      <td>90.10</td>\n",
       "      <td>2.20</td>\n",
       "      <td>21.48</td>\n",
       "    </tr>\n",
       "  </tbody>\n",
       "</table>\n",
       "</div>"
      ],
      "text/plain": [
       "        race   fire   theft    age  involact  income\n",
       "count  43.00  45.00   43.00  42.00     44.00   45.00\n",
       "mean   35.61  11.42   32.65  59.97      0.65   10.74\n",
       "std    33.26   8.36   23.12  23.62      0.64    2.79\n",
       "min     1.00   2.00    3.00   2.00      0.00    5.58\n",
       "25%     3.75   5.60   22.00  48.30      0.00    8.56\n",
       "50%    24.50   9.50   29.00  64.40      0.50   10.69\n",
       "75%    57.65  15.10   38.00  78.25      0.92   12.10\n",
       "max    99.70  36.20  147.00  90.10      2.20   21.48"
      ]
     },
     "execution_count": 3,
     "metadata": {},
     "output_type": "execute_result"
    }
   ],
   "source": [
    "chmiss.describe().round(2)"
   ]
  },
  {
   "cell_type": "markdown",
   "metadata": {},
   "source": [
    "Number of missing values per variable"
   ]
  },
  {
   "cell_type": "code",
   "execution_count": 4,
   "metadata": {},
   "outputs": [
    {
     "data": {
      "text/plain": [
       "race        4\n",
       "fire        2\n",
       "theft       4\n",
       "age         5\n",
       "involact    3\n",
       "income      2\n",
       "dtype: int64"
      ]
     },
     "execution_count": 4,
     "metadata": {},
     "output_type": "execute_result"
    }
   ],
   "source": [
    "chmiss.isna().sum(axis=0)"
   ]
  },
  {
   "cell_type": "markdown",
   "metadata": {},
   "source": [
    "Number of missing values per case"
   ]
  },
  {
   "cell_type": "code",
   "execution_count": 5,
   "metadata": {},
   "outputs": [
    {
     "data": {
      "text/plain": [
       "60626    1\n",
       "60640    0\n",
       "60613    1\n",
       "60657    1\n",
       "60614    0\n",
       "60610    0\n",
       "60611    0\n",
       "60625    0\n",
       "60618    1\n",
       "60647    1\n",
       "60622    0\n",
       "60631    0\n",
       "60646    1\n",
       "60656    0\n",
       "60630    0\n",
       "60634    1\n",
       "60641    0\n",
       "60635    0\n",
       "60639    0\n",
       "60651    1\n",
       "60644    1\n",
       "60624    0\n",
       "60612    0\n",
       "60607    1\n",
       "60623    0\n",
       "60608    1\n",
       "60616    1\n",
       "60632    0\n",
       "60609    1\n",
       "60653    0\n",
       "60615    0\n",
       "60638    0\n",
       "60629    1\n",
       "60636    0\n",
       "60621    1\n",
       "60637    0\n",
       "60652    0\n",
       "60620    1\n",
       "60619    0\n",
       "60649    1\n",
       "60617    1\n",
       "60655    0\n",
       "60643    0\n",
       "60628    1\n",
       "60627    0\n",
       "60633    0\n",
       "60645    1\n",
       "dtype: int64"
      ]
     },
     "execution_count": 5,
     "metadata": {},
     "output_type": "execute_result"
    }
   ],
   "source": [
    "chmiss.isna().sum(axis=1)"
   ]
  },
  {
   "cell_type": "markdown",
   "metadata": {},
   "source": [
    "Make a plot of the missing data:"
   ]
  },
  {
   "cell_type": "code",
   "execution_count": 6,
   "metadata": {},
   "outputs": [
    {
     "data": {
      "image/png": "[encoded data removed]",
      "text/plain": [
       "<Figure size 432x288 with 1 Axes>"
      ]
     },
     "metadata": {
      "needs_background": "light"
     },
     "output_type": "display_data"
    }
   ],
   "source": [
    "plt.imshow(~chmiss.isna(), aspect='auto')\n",
    "plt.xlabel(\"variables\")\n",
    "plt.ylabel(\"cases\")\n",
    "plt.gray()\n",
    "plt.show()"
   ]
  },
  {
   "cell_type": "markdown",
   "metadata": {},
   "source": [
    "Full data model"
   ]
  },
  {
   "cell_type": "code",
   "execution_count": 7,
   "metadata": {},
   "outputs": [
    {
     "data": {
      "text/html": [
       "<table class=\"simpletable\">\n",
       "<caption>OLS Regression Results</caption>\n",
       "<tr>\n",
       "  <th>Dep. Variable:</th>        <td>involact</td>     <th>  R-squared:         </th> <td>   0.752</td>\n",
       "</tr>\n",
       "<tr>\n",
       "  <th>Model:</th>                   <td>OLS</td>       <th>  Adj. R-squared:    </th> <td>   0.721</td>\n",
       "</tr>\n",
       "<tr>\n",
       "  <th>Method:</th>             <td>Least Squares</td>  <th>  F-statistic:       </th> <td>   24.83</td>\n",
       "</tr>\n",
       "<tr>\n",
       "  <th>Date:</th>             <td>Tue, 23 Jun 2020</td> <th>  Prob (F-statistic):</th> <td>2.01e-11</td>\n",
       "</tr>\n",
       "<tr>\n",
       "  <th>Time:</th>                 <td>17:05:58</td>     <th>  Log-Likelihood:    </th> <td> -12.014</td>\n",
       "</tr>\n",
       "<tr>\n",
       "  <th>No. Observations:</th>      <td>    47</td>      <th>  AIC:               </th> <td>   36.03</td>\n",
       "</tr>\n",
       "<tr>\n",
       "  <th>Df Residuals:</th>          <td>    41</td>      <th>  BIC:               </th> <td>   47.13</td>\n",
       "</tr>\n",
       "<tr>\n",
       "  <th>Df Model:</th>              <td>     5</td>      <th>                     </th>     <td> </td>   \n",
       "</tr>\n",
       "<tr>\n",
       "  <th>Covariance Type:</th>      <td>nonrobust</td>    <th>                     </th>     <td> </td>   \n",
       "</tr>\n",
       "</table>\n",
       "<table class=\"simpletable\">\n",
       "<tr>\n",
       "         <td></td>           <th>coef</th>     <th>std err</th>      <th>t</th>      <th>P>|t|</th>  <th>[0.025</th>    <th>0.975]</th>  \n",
       "</tr>\n",
       "<tr>\n",
       "  <th>Intercept</th>      <td>   -1.1855</td> <td>    1.100</td> <td>   -1.078</td> <td> 0.288</td> <td>   -3.408</td> <td>    1.036</td>\n",
       "</tr>\n",
       "<tr>\n",
       "  <th>race</th>           <td>    0.0095</td> <td>    0.002</td> <td>    3.817</td> <td> 0.000</td> <td>    0.004</td> <td>    0.015</td>\n",
       "</tr>\n",
       "<tr>\n",
       "  <th>fire</th>           <td>    0.0399</td> <td>    0.009</td> <td>    4.547</td> <td> 0.000</td> <td>    0.022</td> <td>    0.058</td>\n",
       "</tr>\n",
       "<tr>\n",
       "  <th>theft</th>          <td>   -0.0103</td> <td>    0.003</td> <td>   -3.653</td> <td> 0.001</td> <td>   -0.016</td> <td>   -0.005</td>\n",
       "</tr>\n",
       "<tr>\n",
       "  <th>age</th>            <td>    0.0083</td> <td>    0.003</td> <td>    3.038</td> <td> 0.004</td> <td>    0.003</td> <td>    0.014</td>\n",
       "</tr>\n",
       "<tr>\n",
       "  <th>np.log(income)</th> <td>    0.3458</td> <td>    0.400</td> <td>    0.864</td> <td> 0.393</td> <td>   -0.462</td> <td>    1.154</td>\n",
       "</tr>\n",
       "</table>\n",
       "<table class=\"simpletable\">\n",
       "<tr>\n",
       "  <th>Omnibus:</th>       <td> 2.243</td> <th>  Durbin-Watson:     </th> <td>   2.161</td>\n",
       "</tr>\n",
       "<tr>\n",
       "  <th>Prob(Omnibus):</th> <td> 0.326</td> <th>  Jarque-Bera (JB):  </th> <td>   1.355</td>\n",
       "</tr>\n",
       "<tr>\n",
       "  <th>Skew:</th>          <td> 0.170</td> <th>  Prob(JB):          </th> <td>   0.508</td>\n",
       "</tr>\n",
       "<tr>\n",
       "  <th>Kurtosis:</th>      <td> 3.759</td> <th>  Cond. No.          </th> <td>2.01e+03</td>\n",
       "</tr>\n",
       "</table><br/><br/>Warnings:<br/>[1] Standard Errors assume that the covariance matrix of the errors is correctly specified.<br/>[2] The condition number is large, 2.01e+03. This might indicate that there are<br/>strong multicollinearity or other numerical problems."
      ],
      "text/plain": [
       "<class 'statsmodels.iolib.summary.Summary'>\n",
       "\"\"\"\n",
       "                            OLS Regression Results                            \n",
       "==============================================================================\n",
       "Dep. Variable:               involact   R-squared:                       0.752\n",
       "Model:                            OLS   Adj. R-squared:                  0.721\n",
       "Method:                 Least Squares   F-statistic:                     24.83\n",
       "Date:                Tue, 23 Jun 2020   Prob (F-statistic):           2.01e-11\n",
       "Time:                        17:05:58   Log-Likelihood:                -12.014\n",
       "No. Observations:                  47   AIC:                             36.03\n",
       "Df Residuals:                      41   BIC:                             47.13\n",
       "Df Model:                           5                                         \n",
       "Covariance Type:            nonrobust                                         \n",
       "==================================================================================\n",
       "                     coef    std err          t      P>|t|      [0.025      0.975]\n",
       "----------------------------------------------------------------------------------\n",
       "Intercept         -1.1855      1.100     -1.078      0.288      -3.408       1.036\n",
       "race               0.0095      0.002      3.817      0.000       0.004       0.015\n",
       "fire               0.0399      0.009      4.547      0.000       0.022       0.058\n",
       "theft             -0.0103      0.003     -3.653      0.001      -0.016      -0.005\n",
       "age                0.0083      0.003      3.038      0.004       0.003       0.014\n",
       "np.log(income)     0.3458      0.400      0.864      0.393      -0.462       1.154\n",
       "==============================================================================\n",
       "Omnibus:                        2.243   Durbin-Watson:                   2.161\n",
       "Prob(Omnibus):                  0.326   Jarque-Bera (JB):                1.355\n",
       "Skew:                           0.170   Prob(JB):                        0.508\n",
       "Kurtosis:                       3.759   Cond. No.                     2.01e+03\n",
       "==============================================================================\n",
       "\n",
       "Warnings:\n",
       "[1] Standard Errors assume that the covariance matrix of the errors is correctly specified.\n",
       "[2] The condition number is large, 2.01e+03. This might indicate that there are\n",
       "strong multicollinearity or other numerical problems.\n",
       "\"\"\""
      ]
     },
     "execution_count": 7,
     "metadata": {},
     "output_type": "execute_result"
    }
   ],
   "source": [
    "chredlin = pd.read_csv(\"data/chredlin.csv\", index_col=0)\n",
    "lmod = smf.ols(formula='involact ~ race + fire + theft + age + np.log(income)', data=chredlin).fit()\n",
    "lmod.summary()"
   ]
  },
  {
   "cell_type": "markdown",
   "metadata": {},
   "source": [
    "Missing data model"
   ]
  },
  {
   "cell_type": "code",
   "execution_count": 8,
   "metadata": {},
   "outputs": [
    {
     "data": {
      "text/html": [
       "<table class=\"simpletable\">\n",
       "<caption>OLS Regression Results</caption>\n",
       "<tr>\n",
       "  <th>Dep. Variable:</th>        <td>involact</td>     <th>  R-squared:         </th> <td>   0.790</td>\n",
       "</tr>\n",
       "<tr>\n",
       "  <th>Model:</th>                   <td>OLS</td>       <th>  Adj. R-squared:    </th> <td>   0.740</td>\n",
       "</tr>\n",
       "<tr>\n",
       "  <th>Method:</th>             <td>Least Squares</td>  <th>  F-statistic:       </th> <td>   15.79</td>\n",
       "</tr>\n",
       "<tr>\n",
       "  <th>Date:</th>             <td>Tue, 23 Jun 2020</td> <th>  Prob (F-statistic):</th> <td>1.69e-06</td>\n",
       "</tr>\n",
       "<tr>\n",
       "  <th>Time:</th>                 <td>17:05:58</td>     <th>  Log-Likelihood:    </th> <td> -5.7253</td>\n",
       "</tr>\n",
       "<tr>\n",
       "  <th>No. Observations:</th>      <td>    27</td>      <th>  AIC:               </th> <td>   23.45</td>\n",
       "</tr>\n",
       "<tr>\n",
       "  <th>Df Residuals:</th>          <td>    21</td>      <th>  BIC:               </th> <td>   31.23</td>\n",
       "</tr>\n",
       "<tr>\n",
       "  <th>Df Model:</th>              <td>     5</td>      <th>                     </th>     <td> </td>   \n",
       "</tr>\n",
       "<tr>\n",
       "  <th>Covariance Type:</th>      <td>nonrobust</td>    <th>                     </th>     <td> </td>   \n",
       "</tr>\n",
       "</table>\n",
       "<table class=\"simpletable\">\n",
       "<tr>\n",
       "         <td></td>           <th>coef</th>     <th>std err</th>      <th>t</th>      <th>P>|t|</th>  <th>[0.025</th>    <th>0.975]</th>  \n",
       "</tr>\n",
       "<tr>\n",
       "  <th>Intercept</th>      <td>   -2.4072</td> <td>    1.419</td> <td>   -1.696</td> <td> 0.105</td> <td>   -5.359</td> <td>    0.544</td>\n",
       "</tr>\n",
       "<tr>\n",
       "  <th>race</th>           <td>    0.0111</td> <td>    0.003</td> <td>    3.232</td> <td> 0.004</td> <td>    0.004</td> <td>    0.018</td>\n",
       "</tr>\n",
       "<tr>\n",
       "  <th>fire</th>           <td>    0.0450</td> <td>    0.011</td> <td>    4.208</td> <td> 0.000</td> <td>    0.023</td> <td>    0.067</td>\n",
       "</tr>\n",
       "<tr>\n",
       "  <th>theft</th>          <td>   -0.0161</td> <td>    0.006</td> <td>   -2.894</td> <td> 0.009</td> <td>   -0.028</td> <td>   -0.005</td>\n",
       "</tr>\n",
       "<tr>\n",
       "  <th>age</th>            <td>    0.0091</td> <td>    0.003</td> <td>    2.652</td> <td> 0.015</td> <td>    0.002</td> <td>    0.016</td>\n",
       "</tr>\n",
       "<tr>\n",
       "  <th>np.log(income)</th> <td>    0.8443</td> <td>    0.532</td> <td>    1.588</td> <td> 0.127</td> <td>   -0.261</td> <td>    1.950</td>\n",
       "</tr>\n",
       "</table>\n",
       "<table class=\"simpletable\">\n",
       "<tr>\n",
       "  <th>Omnibus:</th>       <td> 1.216</td> <th>  Durbin-Watson:     </th> <td>   2.453</td>\n",
       "</tr>\n",
       "<tr>\n",
       "  <th>Prob(Omnibus):</th> <td> 0.545</td> <th>  Jarque-Bera (JB):  </th> <td>   0.935</td>\n",
       "</tr>\n",
       "<tr>\n",
       "  <th>Skew:</th>          <td> 0.441</td> <th>  Prob(JB):          </th> <td>   0.626</td>\n",
       "</tr>\n",
       "<tr>\n",
       "  <th>Kurtosis:</th>      <td> 2.768</td> <th>  Cond. No.          </th> <td>1.89e+03</td>\n",
       "</tr>\n",
       "</table><br/><br/>Warnings:<br/>[1] Standard Errors assume that the covariance matrix of the errors is correctly specified.<br/>[2] The condition number is large, 1.89e+03. This might indicate that there are<br/>strong multicollinearity or other numerical problems."
      ],
      "text/plain": [
       "<class 'statsmodels.iolib.summary.Summary'>\n",
       "\"\"\"\n",
       "                            OLS Regression Results                            \n",
       "==============================================================================\n",
       "Dep. Variable:               involact   R-squared:                       0.790\n",
       "Model:                            OLS   Adj. R-squared:                  0.740\n",
       "Method:                 Least Squares   F-statistic:                     15.79\n",
       "Date:                Tue, 23 Jun 2020   Prob (F-statistic):           1.69e-06\n",
       "Time:                        17:05:58   Log-Likelihood:                -5.7253\n",
       "No. Observations:                  27   AIC:                             23.45\n",
       "Df Residuals:                      21   BIC:                             31.23\n",
       "Df Model:                           5                                         \n",
       "Covariance Type:            nonrobust                                         \n",
       "==================================================================================\n",
       "                     coef    std err          t      P>|t|      [0.025      0.975]\n",
       "----------------------------------------------------------------------------------\n",
       "Intercept         -2.4072      1.419     -1.696      0.105      -5.359       0.544\n",
       "race               0.0111      0.003      3.232      0.004       0.004       0.018\n",
       "fire               0.0450      0.011      4.208      0.000       0.023       0.067\n",
       "theft             -0.0161      0.006     -2.894      0.009      -0.028      -0.005\n",
       "age                0.0091      0.003      2.652      0.015       0.002       0.016\n",
       "np.log(income)     0.8443      0.532      1.588      0.127      -0.261       1.950\n",
       "==============================================================================\n",
       "Omnibus:                        1.216   Durbin-Watson:                   2.453\n",
       "Prob(Omnibus):                  0.545   Jarque-Bera (JB):                0.935\n",
       "Skew:                           0.441   Prob(JB):                        0.626\n",
       "Kurtosis:                       2.768   Cond. No.                     1.89e+03\n",
       "==============================================================================\n",
       "\n",
       "Warnings:\n",
       "[1] Standard Errors assume that the covariance matrix of the errors is correctly specified.\n",
       "[2] The condition number is large, 1.89e+03. This might indicate that there are\n",
       "strong multicollinearity or other numerical problems.\n",
       "\"\"\""
      ]
     },
     "execution_count": 8,
     "metadata": {},
     "output_type": "execute_result"
    }
   ],
   "source": [
    "lmodm = smf.ols(formula='involact ~ race + fire + theft + age + np.log(income)', data=chmiss).fit()\n",
    "lmodm.summary()"
   ]
  },
  {
   "cell_type": "markdown",
   "metadata": {},
   "source": [
    "Mean values for the variables"
   ]
  },
  {
   "cell_type": "code",
   "execution_count": 9,
   "metadata": {},
   "outputs": [
    {
     "data": {
      "text/plain": [
       "race        35.609302\n",
       "fire        11.424444\n",
       "theft       32.651163\n",
       "age         59.969048\n",
       "involact     0.647727\n",
       "income      10.735867\n",
       "dtype: float64"
      ]
     },
     "execution_count": 9,
     "metadata": {},
     "output_type": "execute_result"
    }
   ],
   "source": [
    "cmeans = chmiss.mean(axis=0)\n",
    "cmeans"
   ]
  },
  {
   "cell_type": "markdown",
   "metadata": {},
   "source": [
    "Fill in missing values with means"
   ]
  },
  {
   "cell_type": "code",
   "execution_count": 10,
   "metadata": {},
   "outputs": [
    {
     "data": {
      "text/html": [
       "<table class=\"simpletable\">\n",
       "<caption>OLS Regression Results</caption>\n",
       "<tr>\n",
       "  <th>Dep. Variable:</th>        <td>involact</td>     <th>  R-squared:         </th> <td>   0.681</td>\n",
       "</tr>\n",
       "<tr>\n",
       "  <th>Model:</th>                   <td>OLS</td>       <th>  Adj. R-squared:    </th> <td>   0.639</td>\n",
       "</tr>\n",
       "<tr>\n",
       "  <th>Method:</th>             <td>Least Squares</td>  <th>  F-statistic:       </th> <td>   16.25</td>\n",
       "</tr>\n",
       "<tr>\n",
       "  <th>Date:</th>             <td>Tue, 23 Jun 2020</td> <th>  Prob (F-statistic):</th> <td>1.46e-08</td>\n",
       "</tr>\n",
       "<tr>\n",
       "  <th>Time:</th>                 <td>17:05:58</td>     <th>  Log-Likelihood:    </th> <td> -17.153</td>\n",
       "</tr>\n",
       "<tr>\n",
       "  <th>No. Observations:</th>      <td>    44</td>      <th>  AIC:               </th> <td>   46.31</td>\n",
       "</tr>\n",
       "<tr>\n",
       "  <th>Df Residuals:</th>          <td>    38</td>      <th>  BIC:               </th> <td>   57.01</td>\n",
       "</tr>\n",
       "<tr>\n",
       "  <th>Df Model:</th>              <td>     5</td>      <th>                     </th>     <td> </td>   \n",
       "</tr>\n",
       "<tr>\n",
       "  <th>Covariance Type:</th>      <td>nonrobust</td>    <th>                     </th>     <td> </td>   \n",
       "</tr>\n",
       "</table>\n",
       "<table class=\"simpletable\">\n",
       "<tr>\n",
       "         <td></td>           <th>coef</th>     <th>std err</th>      <th>t</th>      <th>P>|t|</th>  <th>[0.025</th>    <th>0.975]</th>  \n",
       "</tr>\n",
       "<tr>\n",
       "  <th>Intercept</th>      <td>    0.5296</td> <td>    1.088</td> <td>    0.487</td> <td> 0.629</td> <td>   -1.673</td> <td>    2.732</td>\n",
       "</tr>\n",
       "<tr>\n",
       "  <th>race</th>           <td>    0.0070</td> <td>    0.003</td> <td>    2.452</td> <td> 0.019</td> <td>    0.001</td> <td>    0.013</td>\n",
       "</tr>\n",
       "<tr>\n",
       "  <th>fire</th>           <td>    0.0282</td> <td>    0.010</td> <td>    2.956</td> <td> 0.005</td> <td>    0.009</td> <td>    0.048</td>\n",
       "</tr>\n",
       "<tr>\n",
       "  <th>theft</th>          <td>   -0.0033</td> <td>    0.003</td> <td>   -1.206</td> <td> 0.235</td> <td>   -0.009</td> <td>    0.002</td>\n",
       "</tr>\n",
       "<tr>\n",
       "  <th>age</th>            <td>    0.0062</td> <td>    0.003</td> <td>    1.976</td> <td> 0.055</td> <td>   -0.000</td> <td>    0.013</td>\n",
       "</tr>\n",
       "<tr>\n",
       "  <th>np.log(income)</th> <td>   -0.3158</td> <td>    0.390</td> <td>   -0.809</td> <td> 0.423</td> <td>   -1.106</td> <td>    0.474</td>\n",
       "</tr>\n",
       "</table>\n",
       "<table class=\"simpletable\">\n",
       "<tr>\n",
       "  <th>Omnibus:</th>       <td> 1.687</td> <th>  Durbin-Watson:     </th> <td>   2.026</td>\n",
       "</tr>\n",
       "<tr>\n",
       "  <th>Prob(Omnibus):</th> <td> 0.430</td> <th>  Jarque-Bera (JB):  </th> <td>   0.817</td>\n",
       "</tr>\n",
       "<tr>\n",
       "  <th>Skew:</th>          <td>-0.219</td> <th>  Prob(JB):          </th> <td>   0.665</td>\n",
       "</tr>\n",
       "<tr>\n",
       "  <th>Kurtosis:</th>      <td> 3.504</td> <th>  Cond. No.          </th> <td>1.68e+03</td>\n",
       "</tr>\n",
       "</table><br/><br/>Warnings:<br/>[1] Standard Errors assume that the covariance matrix of the errors is correctly specified.<br/>[2] The condition number is large, 1.68e+03. This might indicate that there are<br/>strong multicollinearity or other numerical problems."
      ],
      "text/plain": [
       "<class 'statsmodels.iolib.summary.Summary'>\n",
       "\"\"\"\n",
       "                            OLS Regression Results                            \n",
       "==============================================================================\n",
       "Dep. Variable:               involact   R-squared:                       0.681\n",
       "Model:                            OLS   Adj. R-squared:                  0.639\n",
       "Method:                 Least Squares   F-statistic:                     16.25\n",
       "Date:                Tue, 23 Jun 2020   Prob (F-statistic):           1.46e-08\n",
       "Time:                        17:05:58   Log-Likelihood:                -17.153\n",
       "No. Observations:                  44   AIC:                             46.31\n",
       "Df Residuals:                      38   BIC:                             57.01\n",
       "Df Model:                           5                                         \n",
       "Covariance Type:            nonrobust                                         \n",
       "==================================================================================\n",
       "                     coef    std err          t      P>|t|      [0.025      0.975]\n",
       "----------------------------------------------------------------------------------\n",
       "Intercept          0.5296      1.088      0.487      0.629      -1.673       2.732\n",
       "race               0.0070      0.003      2.452      0.019       0.001       0.013\n",
       "fire               0.0282      0.010      2.956      0.005       0.009       0.048\n",
       "theft             -0.0033      0.003     -1.206      0.235      -0.009       0.002\n",
       "age                0.0062      0.003      1.976      0.055      -0.000       0.013\n",
       "np.log(income)    -0.3158      0.390     -0.809      0.423      -1.106       0.474\n",
       "==============================================================================\n",
       "Omnibus:                        1.687   Durbin-Watson:                   2.026\n",
       "Prob(Omnibus):                  0.430   Jarque-Bera (JB):                0.817\n",
       "Skew:                          -0.219   Prob(JB):                        0.665\n",
       "Kurtosis:                       3.504   Cond. No.                     1.68e+03\n",
       "==============================================================================\n",
       "\n",
       "Warnings:\n",
       "[1] Standard Errors assume that the covariance matrix of the errors is correctly specified.\n",
       "[2] The condition number is large, 1.68e+03. This might indicate that there are\n",
       "strong multicollinearity or other numerical problems.\n",
       "\"\"\""
      ]
     },
     "execution_count": 10,
     "metadata": {},
     "output_type": "execute_result"
    }
   ],
   "source": [
    "mchm = chmiss.copy()\n",
    "mchm.race.fillna(cmeans['race'],inplace=True)\n",
    "mchm.fire.fillna(cmeans['fire'],inplace=True)\n",
    "mchm.theft.fillna(cmeans['theft'],inplace=True)\n",
    "mchm.age.fillna(cmeans['age'],inplace=True)\n",
    "mchm.income.fillna(cmeans['income'],inplace=True)\n",
    "imod = smf.ols(formula='involact ~ race + fire + theft + age + np.log(income)', data=mchm).fit()\n",
    "imod.summary()"
   ]
  },
  {
   "cell_type": "code",
   "execution_count": 11,
   "metadata": {},
   "outputs": [
    {
     "data": {
      "text/plain": [
       "60646   -15.945180\n",
       "60651    21.418063\n",
       "60616    72.607239\n",
       "60617    27.977170\n",
       "dtype: float64"
      ]
     },
     "execution_count": 11,
     "metadata": {},
     "output_type": "execute_result"
    }
   ],
   "source": [
    "lmodr = smf.ols(formula='race ~ fire + theft + age + np.log(income)', data=chmiss).fit()\n",
    "mv = chmiss.race.isna()\n",
    "lmodr.predict(chmiss)[mv]"
   ]
  },
  {
   "cell_type": "code",
   "execution_count": 12,
   "metadata": {},
   "outputs": [
    {
     "data": {
      "text/plain": [
       "60646   -15.945180\n",
       "60651    21.418063\n",
       "60616    72.607239\n",
       "60617    27.977170\n",
       "Name: race, dtype: float64"
      ]
     },
     "execution_count": 12,
     "metadata": {},
     "output_type": "execute_result"
    }
   ],
   "source": [
    "chmiss.race.fillna(lmodr.predict(chmiss))[mv]"
   ]
  },
  {
   "cell_type": "markdown",
   "metadata": {},
   "source": [
    "Use logit transformation to restrict to [0,1]"
   ]
  },
  {
   "cell_type": "code",
   "execution_count": 13,
   "metadata": {},
   "outputs": [],
   "source": [
    "def logit(x): return(np.log(x/(1-x)))"
   ]
  },
  {
   "cell_type": "code",
   "execution_count": 14,
   "metadata": {},
   "outputs": [],
   "source": [
    "def ilogit(x): return(np.exp(x)/(1+np.exp(x)))"
   ]
  },
  {
   "cell_type": "code",
   "execution_count": 15,
   "metadata": {},
   "outputs": [
    {
     "data": {
      "text/plain": [
       "0.5"
      ]
     },
     "execution_count": 15,
     "metadata": {},
     "output_type": "execute_result"
    }
   ],
   "source": [
    "ilogit(0)"
   ]
  },
  {
   "cell_type": "code",
   "execution_count": 16,
   "metadata": {},
   "outputs": [
    {
     "data": {
      "text/plain": [
       "60646     0.456738\n",
       "60651    10.142346\n",
       "60616    87.219223\n",
       "60617    15.781989\n",
       "dtype: float64"
      ]
     },
     "execution_count": 16,
     "metadata": {},
     "output_type": "execute_result"
    }
   ],
   "source": [
    "lmodr = smf.ols(formula='logit(race/100) ~ fire + theft + age + np.log(income)', data=chmiss).fit()\n",
    "(ilogit(lmodr.predict(chmiss))*100)[mv]"
   ]
  },
  {
   "cell_type": "markdown",
   "metadata": {},
   "source": [
    "## Multiple imputation\n",
    "\n",
    "`statsmodels` has *Multiple Imputation with Chained Equations* (MICE). Not the same as the R package demonstrated in R."
   ]
  },
  {
   "cell_type": "code",
   "execution_count": 17,
   "metadata": {},
   "outputs": [
    {
     "name": "stdout",
     "output_type": "stream",
     "text": [
      "                           Results: MICE\n",
      "====================================================================\n",
      "Method:                   MICE           Sample size:           47  \n",
      "Model:                    OLS            Scale                  0.13\n",
      "Dependent variable:       involact       Num. imputations       10  \n",
      "--------------------------------------------------------------------\n",
      "                Coef.  Std.Err.    t    P>|t|   [0.025 0.975]  FMI  \n",
      "--------------------------------------------------------------------\n",
      "Intercept       0.0399   1.1857  0.0336 0.9732 -2.2840 2.3638 0.1295\n",
      "race            0.0072   0.0029  2.4791 0.0132  0.0015 0.0129 0.1611\n",
      "fire            0.0327   0.0106  3.0974 0.0020  0.0120 0.0534 0.2374\n",
      "theft          -0.0052   0.0038 -1.3733 0.1697 -0.0127 0.0022 0.5397\n",
      "age             0.0064   0.0029  2.1605 0.0307  0.0006 0.0121 0.0877\n",
      "np.log(income) -0.1141   0.4372 -0.2610 0.7941 -0.9711 0.7428 0.1570\n",
      "====================================================================\n",
      "\n"
     ]
    }
   ],
   "source": [
    "import statsmodels.imputation.mice as smi\n",
    "imp = smi.MICEData(chmiss)\n",
    "fm = 'involact ~ race + fire + theft + age + np.log(income)'\n",
    "mmod = smi.MICE(fm, sm.OLS, imp)\n",
    "results = mmod.fit(10, 10)\n",
    "print(results.summary())"
   ]
  },
  {
   "cell_type": "markdown",
   "metadata": {},
   "source": [
    "As might be expected, the inference is not as sharp as seen in the full data version with somewhat larger p-values."
   ]
  }
 ],
 "metadata": {
  "kernelspec": {
   "display_name": "Python 3",
   "language": "python",
   "name": "python3"
  },
  "language_info": {
   "codemirror_mode": {
    "name": "ipython",
    "version": 3
   },
   "file_extension": ".py",
   "mimetype": "text/x-python",
   "name": "python",
   "nbconvert_exporter": "python",
   "pygments_lexer": "ipython3",
   "version": "3.7.6"
  }
 },
 "nbformat": 4,
 "nbformat_minor": 2
}
