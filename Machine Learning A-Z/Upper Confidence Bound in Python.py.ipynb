{
 "cells": [
  {
   "cell_type": "code",
   "execution_count": 1,
   "metadata": {},
   "outputs": [
    {
     "data": {
      "image/png": "[encoded data removed]",
      "text/plain": [
       "<Figure size 432x288 with 1 Axes>"
      ]
     },
     "metadata": {
      "needs_background": "light"
     },
     "output_type": "display_data"
    }
   ],
   "source": [
    "import numpy as np\n",
    "import pandas as pd\n",
    "import matplotlib.pyplot as plt\n",
    "import math\n",
    "\n",
    "\n",
    "# Reading in data\n",
    "ds = pd.read_csv('data/Ads_CTR.csv')\n",
    "\n",
    "N = 10000\n",
    "d = 10\n",
    "\n",
    "# Random selection\n",
    "import random as rn\n",
    "random_rewards = []\n",
    "\n",
    "for i in range(20):\n",
    "    random_reward = 0\n",
    "    for n in range(N):\n",
    "        ad = rn.randrange(d)\n",
    "        random_reward += ds.values[n,ad]\n",
    "    random_rewards.append(random_reward)\n",
    "\n",
    "mean_random_reward = np.mean(random_rewards)\n",
    "\n",
    "## Using the UCB strategy\n",
    "\n",
    "# Sample each distribution once to initialise. \n",
    "ads_selected = [i for i in range(d)]\n",
    "num_selections = [1] * d\n",
    "sum_rewards = ds.iloc[0,:].tolist() \n",
    "total_reward = sum(sum_rewards)\n",
    "\n",
    "# The lower bound on the range is 1 since we have already initialised.\n",
    "# For each round, we choose the ad with the maximum UCB. \n",
    "for n in range(1, N):\n",
    "    ad = 0\n",
    "    max_upper_bound = 0\n",
    "    \n",
    "    # Compute the UCBs for each ad, to find the maximum\n",
    "    for i in range(d):\n",
    "        rbar = sum_rewards[i]/num_selections[i]\n",
    "        delta_i = math.sqrt(3/2 * math.log(n + 1)/num_selections[i])\n",
    "        ucb = rbar + delta_i\n",
    "\n",
    "        if ucb > max_upper_bound:\n",
    "            ad = i\n",
    "            max_upper_bound = ucb\n",
    "            \n",
    "    # Sample the maximal distribution we chose. \n",
    "    ads_selected.append(ad)\n",
    "    num_selections[ad] += 1\n",
    "    reward = ds.values[n, ad]\n",
    "    sum_rewards[ad] += reward\n",
    "    total_reward += reward\n",
    "\n",
    "# Visualising results on a bar chart\n",
    "\n",
    "width = 0.35\n",
    "ind = np.arange(d)\n",
    "\n",
    "# Take logs\n",
    "lognum = list(map(lambda x: math.log(x), num_selections))\n",
    "logreward = list(map(lambda x: math.log(x), sum_rewards))\n",
    "\n",
    "fig, ax = plt.subplots()\n",
    "rects1 = ax.bar(ind - width/2, lognum, width)\n",
    "rects2 = ax.bar(ind + width/2, logreward , width)\n",
    "\n",
    "ax.set_xlabel('Advert')\n",
    "ax.set_title('Logarithmic number of times sampled and reward')\n",
    "ax.set_yticks([])\n",
    "ax.set_xticks(ind)\n",
    "ax.legend((rects1[0], rects2[0]), ('Number of times sampled', 'Reward'))\n",
    "\n",
    "plt.show()"
   ]
  },
  {
   "cell_type": "code",
   "execution_count": null,
   "metadata": {},
   "outputs": [],
   "source": []
  }
 ],
 "metadata": {
  "kernelspec": {
   "display_name": "Python 3",
   "language": "python",
   "name": "python3"
  },
  "language_info": {
   "codemirror_mode": {
    "name": "ipython",
    "version": 3
   },
   "file_extension": ".py",
   "mimetype": "text/x-python",
   "name": "python",
   "nbconvert_exporter": "python",
   "pygments_lexer": "ipython3",
   "version": "3.7.6"
  }
 },
 "nbformat": 4,
 "nbformat_minor": 4
}
