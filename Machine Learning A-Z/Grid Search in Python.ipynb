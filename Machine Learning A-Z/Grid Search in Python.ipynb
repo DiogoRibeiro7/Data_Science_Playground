{
 "cells": [
  {
   "cell_type": "code",
   "execution_count": 1,
   "metadata": {},
   "outputs": [
    {
     "name": "stdout",
     "output_type": "stream",
     "text": [
      "0.9066666666666668\n"
     ]
    },
    {
     "name": "stderr",
     "output_type": "stream",
     "text": [
      "'c' argument looks like a single numeric RGB or RGBA sequence, which should be avoided as value-mapping will have precedence in case its length matches with 'x' & 'y'.  Please use a 2-D array with a single row if you really want to specify the same RGB or RGBA value for all points.\n",
      "'c' argument looks like a single numeric RGB or RGBA sequence, which should be avoided as value-mapping will have precedence in case its length matches with 'x' & 'y'.  Please use a 2-D array with a single row if you really want to specify the same RGB or RGBA value for all points.\n"
     ]
    },
    {
     "data": {
      "image/png": "[encoded data removed]",
      "text/plain": [
       "<Figure size 432x288 with 1 Axes>"
      ]
     },
     "metadata": {
      "needs_background": "light"
     },
     "output_type": "display_data"
    }
   ],
   "source": [
    "import numpy as np\n",
    "import pandas as pd\n",
    "import matplotlib.pyplot as plt\n",
    "plt.style.use('seaborn-deep')\n",
    "import matplotlib.cm\n",
    "cmap = matplotlib.cm.get_cmap('plasma')\n",
    "\n",
    "\n",
    "# Reading in data\n",
    "ds = pd.read_csv(\"data/Social_Network_Ads.csv\")\n",
    "X = ds.iloc[:, 2:4].values\n",
    "y = ds.iloc[:,4].values\n",
    "\n",
    "# Splitting and scaling\n",
    "from sklearn.model_selection import train_test_split\n",
    "from sklearn.preprocessing import StandardScaler\n",
    "\n",
    "X_train, X_test, y_train, y_test = train_test_split(X,y)\n",
    "\n",
    "sc_X = StandardScaler()\n",
    "X_train = sc_X.fit_transform(X_train)\n",
    "X_test = sc_X.fit_transform(X_test)\n",
    "\n",
    "# Classifier\n",
    "from sklearn.svm import SVC\n",
    "from sklearn.metrics import confusion_matrix\n",
    "\n",
    "\n",
    "clf = SVC(kernel = 'rbf', gamma = 0.45, C = 0.8)\n",
    "clf.fit(X_train, y_train)\n",
    "\n",
    "y_pred = clf.predict(X_test)\n",
    "cm = confusion_matrix(y_test, y_pred)\n",
    "accuracy = (cm[0][0]+cm[1][1])/sum(sum(cm))\n",
    "\n",
    "# Gridsearch\n",
    "from sklearn.model_selection import GridSearchCV\n",
    "\n",
    "parameters = [ {\"C\" : [2**i for i in range(-1,10)], \n",
    "                \"kernel\":[\"rbf\", \"poly\", \"sigmoid\"],\n",
    "                \"gamma\":[10**i for i in range(-3,2)]}]\n",
    "\n",
    "grid_search = GridSearchCV(clf, parameters, scoring='accuracy', cv=10,\n",
    "                           n_jobs=-1)\n",
    "\n",
    "grid_search = grid_search.fit(X_train, y_train)\n",
    "best_params = grid_search.best_params_\n",
    "print(grid_search.best_score_)\n",
    "\n",
    "# Plot\n",
    "from matplotlib.colors import ListedColormap\n",
    "\n",
    "plt.figure()\n",
    "X_set, y_set = X_train, y_train\n",
    "X1, X2 = np.meshgrid(np.arange(X_set[:,0].min() - 1, \n",
    "                               X_set[:,0].max() + 1, \n",
    "                               step = 0.01),\n",
    "                     np.arange(X_set[:,1].min() - 1, \n",
    "                               X_set[:,1].max() + 1, \n",
    "                               step = 0.01))\n",
    "boundary = clf.predict(np.array([X1.ravel(), X2.ravel()]).T).reshape(X1.shape)\n",
    "plt.contourf(X1, X2, boundary, alpha = 0.75, \n",
    "             cmap = ListedColormap(('#fc7a74', '#6ff785')))\n",
    "plt.xlim(X1.min(), X1.max())\n",
    "plt.ylim(X2.min(), X2.max())\n",
    "for i,j in enumerate(np.unique(y_set)):\n",
    "    plt.scatter(X_set[y_set == j, 0], X_set[y_set == j, 1],\n",
    "                c = ListedColormap(('red', 'green'))(i), \n",
    "                label = j, s = 20)\n",
    "plt.title('Gaussian SVM')\n",
    "plt.xlabel('Age')\n",
    "plt.ylabel('Salary')\n",
    "plt.legend()\n",
    "plt.show()\n"
   ]
  },
  {
   "cell_type": "code",
   "execution_count": null,
   "metadata": {},
   "outputs": [],
   "source": []
  }
 ],
 "metadata": {
  "kernelspec": {
   "display_name": "Python 3",
   "language": "python",
   "name": "python3"
  },
  "language_info": {
   "codemirror_mode": {
    "name": "ipython",
    "version": 3
   },
   "file_extension": ".py",
   "mimetype": "text/x-python",
   "name": "python",
   "nbconvert_exporter": "python",
   "pygments_lexer": "ipython3",
   "version": "3.7.6"
  }
 },
 "nbformat": 4,
 "nbformat_minor": 4
}
