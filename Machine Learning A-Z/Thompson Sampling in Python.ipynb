{
 "cells": [
  {
   "cell_type": "code",
   "execution_count": 1,
   "metadata": {},
   "outputs": [
    {
     "data": {
      "image/png": "[encoded data removed]",
      "text/plain": [
       "<Figure size 432x288 with 1 Axes>"
      ]
     },
     "metadata": {
      "needs_background": "light"
     },
     "output_type": "display_data"
    }
   ],
   "source": [
    "import numpy as np\n",
    "import pandas as pd\n",
    "import matplotlib.pyplot as plt\n",
    "import math\n",
    "\n",
    "\n",
    "# Reading in data\n",
    "ds = pd.read_csv('data/Ads_CTR.csv')\n",
    "\n",
    "N = 10000\n",
    "d = 10\n",
    "\n",
    "# Random selection\n",
    "import random as rn\n",
    "random_rewards = []\n",
    "\n",
    "for i in range(20):\n",
    "    random_reward = 0\n",
    "    for n in range(N):\n",
    "        ad = rn.randrange(d)\n",
    "        random_reward += ds.values[n,ad]\n",
    "    random_rewards.append(random_reward)\n",
    "\n",
    "mean_random_reward = np.mean(random_rewards)\n",
    "\n",
    "## Using the Thompson sampling algorithm\n",
    "\n",
    "# Sample each distribution once to initialise. \n",
    "ads_selected = [i for i in range(d)]\n",
    "num_rewards_1 = ds.iloc[0,:].tolist() \n",
    "num_rewards_0 = list(map(lambda x: 1-x, num_rewards_1))\n",
    "total_reward = sum(num_rewards_1)\n",
    "\n",
    "# The lower bound on the range is 1 since we have already initialised.\n",
    "# For each round, we choose the ad with the maximum theta\n",
    "for n in range(1, N):\n",
    "    ad = 0\n",
    "    max_theta = 0\n",
    "    \n",
    "    # For each ad, sample theta from the beta distribution\n",
    "    for i in range(d):\n",
    "        theta = np.random.beta(num_rewards_1[i] + 1, num_rewards_0[i]+1)\n",
    "        if theta > max_theta:\n",
    "            ad = i\n",
    "            max_theta = theta\n",
    "            \n",
    "    # Choose the ad with maximal theta\n",
    "    ads_selected.append(ad)\n",
    "    reward = ds.values[n, ad]\n",
    "    total_reward += reward\n",
    "    \n",
    "    if reward == 1:\n",
    "        num_rewards_1[ad] += 1\n",
    "    else:\n",
    "        num_rewards_0[ad] += 1\n",
    "\n",
    "\n",
    "# Visualising results on a bar chart\n",
    "\n",
    "# Take logs\n",
    "logreward = list(map(lambda x: math.log(x+1), num_rewards_1))\n",
    "\n",
    "width = 0.7\n",
    "ind = np.arange(d)\n",
    "\n",
    "fig, ax = plt.subplots()\n",
    "rects1 = ax.bar(ind, logreward, width)\n",
    "\n",
    "ax.set_xlabel('Advert')\n",
    "ax.set_ylabel('Log(reward)')\n",
    "ax.set_title('Logarithmic bar chart of reward from Thompson sampling')\n",
    "ax.set_xticks(ind)\n",
    "\n",
    "plt.show()"
   ]
  },
  {
   "cell_type": "code",
   "execution_count": null,
   "metadata": {},
   "outputs": [],
   "source": []
  }
 ],
 "metadata": {
  "kernelspec": {
   "display_name": "Python 3",
   "language": "python",
   "name": "python3"
  },
  "language_info": {
   "codemirror_mode": {
    "name": "ipython",
    "version": 3
   },
   "file_extension": ".py",
   "mimetype": "text/x-python",
   "name": "python",
   "nbconvert_exporter": "python",
   "pygments_lexer": "ipython3",
   "version": "3.7.6"
  }
 },
 "nbformat": 4,
 "nbformat_minor": 4
}
