{
 "cells": [
  {
   "cell_type": "markdown",
   "metadata": {},
   "source": [
    "# Markov Perfect Equilibrium\n",
    "\n",
    "\n",
    "<a id='index-0'></a>"
   ]
  },
  {
   "cell_type": "code",
   "execution_count": 1,
   "metadata": {
    "hide-output": false
   },
   "outputs": [
    {
     "name": "stderr",
     "output_type": "stream",
     "text": [
      "C:\\Users\\Diogo\\Anaconda3\\lib\\site-packages\\numba\\np\\ufunc\\parallel.py:355: NumbaWarning: \u001b[1mThe TBB threading layer requires TBB version 2019.5 or later i.e., TBB_INTERFACE_VERSION >= 11005. Found TBB_INTERFACE_VERSION = 10005. The TBB threading layer is disabled.\u001b[0m\n",
      "  warnings.warn(problem)\n"
     ]
    }
   ],
   "source": [
    "import numpy as np\n",
    "import quantecon as qe\n",
    "import matplotlib.pyplot as plt\n",
    "%matplotlib inline"
   ]
  },
  {
   "cell_type": "code",
   "execution_count": 2,
   "metadata": {
    "hide-output": false
   },
   "outputs": [
    {
     "name": "stdout",
     "output_type": "stream",
     "text": [
      "Computed policies for firm 1 and firm 2:\n",
      "\n",
      "F1 = [[-0.66846615  0.29512482  0.07584666]]\n",
      "F2 = [[-0.66846615  0.07584666  0.29512482]]\n",
      "\n",
      "\n"
     ]
    }
   ],
   "source": [
    "import numpy as np\n",
    "import quantecon as qe\n",
    "\n",
    "# Parameters\n",
    "a0 = 10.0\n",
    "a1 = 2.0\n",
    "β = 0.96\n",
    "γ = 12.0\n",
    "\n",
    "# In LQ form\n",
    "A = np.eye(3)\n",
    "B1 = np.array([[0.], [1.], [0.]])\n",
    "B2 = np.array([[0.], [0.], [1.]])\n",
    "\n",
    "\n",
    "R1 = [[      0.,     -a0 / 2,          0.],\n",
    "      [-a0 / 2.,          a1,     a1 / 2.],\n",
    "      [       0,     a1 / 2.,          0.]]\n",
    "\n",
    "R2 = [[     0.,           0.,      -a0 / 2],\n",
    "      [     0.,           0.,      a1 / 2.],\n",
    "      [-a0 / 2,      a1 / 2.,           a1]]\n",
    "\n",
    "Q1 = Q2 = γ\n",
    "S1 = S2 = W1 = W2 = M1 = M2 = 0.0\n",
    "\n",
    "# Solve using QE's nnash function\n",
    "F1, F2, P1, P2 = qe.nnash(A, B1, B2, R1, R2, Q1, \n",
    "                          Q2, S1, S2, W1, W2, M1, \n",
    "                          M2, beta=β)\n",
    "\n",
    "# Display policies\n",
    "print(\"Computed policies for firm 1 and firm 2:\\n\")\n",
    "print(f\"F1 = {F1}\")\n",
    "print(f\"F2 = {F2}\")\n",
    "print(\"\\n\")"
   ]
  },
  {
   "cell_type": "code",
   "execution_count": 3,
   "metadata": {
    "hide-output": false
   },
   "outputs": [
    {
     "data": {
      "text/plain": [
       "array([[-0.66846613,  0.29512482,  0.07584666]])"
      ]
     },
     "execution_count": 3,
     "metadata": {},
     "output_type": "execute_result"
    }
   ],
   "source": [
    "Λ1 = A - B2 @ F2\n",
    "lq1 = qe.LQ(Q1, R1, Λ1, B1, beta=β)\n",
    "P1_ih, F1_ih, d = lq1.stationary_values()\n",
    "F1_ih"
   ]
  },
  {
   "cell_type": "code",
   "execution_count": 4,
   "metadata": {
    "hide-output": false
   },
   "outputs": [
    {
     "data": {
      "text/plain": [
       "True"
      ]
     },
     "execution_count": 4,
     "metadata": {},
     "output_type": "execute_result"
    }
   ],
   "source": [
    "np.allclose(F1, F1_ih)"
   ]
  },
  {
   "cell_type": "code",
   "execution_count": 5,
   "metadata": {
    "hide-output": false
   },
   "outputs": [
    {
     "data": {
      "image/png": "[encoded data removed]",
      "text/plain": [
       "<Figure size 648x417.6 with 1 Axes>"
      ]
     },
     "metadata": {
      "needs_background": "light"
     },
     "output_type": "display_data"
    }
   ],
   "source": [
    "AF = A - B1 @ F1 - B2 @ F2\n",
    "n = 20\n",
    "x = np.empty((3, n))\n",
    "x[:, 0] = 1, 1, 1\n",
    "for t in range(n-1):\n",
    "    x[:, t+1] = AF @ x[:, t]\n",
    "q1 = x[1, :]\n",
    "q2 = x[2, :]\n",
    "q = q1 + q2       # Total output, MPE\n",
    "p = a0 - a1 * q   # Price, MPE\n",
    "\n",
    "fig, ax = plt.subplots(figsize=(9, 5.8))\n",
    "ax.plot(q, 'b-', lw=2, alpha=0.75, label='total output')\n",
    "ax.plot(p, 'g-', lw=2, alpha=0.75, label='price')\n",
    "ax.set_title('Output and prices, duopoly MPE')\n",
    "ax.legend(frameon=False)\n",
    "plt.show()"
   ]
  },
  {
   "cell_type": "code",
   "execution_count": 6,
   "metadata": {
    "hide-output": false
   },
   "outputs": [],
   "source": [
    "# == Parameters == #\n",
    "a0 = 10.0\n",
    "a1 = 2.0\n",
    "β = 0.96\n",
    "γ = 12.0\n",
    "\n",
    "# == In LQ form == #\n",
    "A  = np.eye(3)\n",
    "B1 = np.array([[0.], [1.], [0.]])\n",
    "B2 = np.array([[0.], [0.], [1.]])\n",
    "R1 = [[      0.,      -a0/2,          0.],\n",
    "      [-a0 / 2.,         a1,     a1 / 2.],\n",
    "      [       0,    a1 / 2.,          0.]]\n",
    "\n",
    "R2 = [[     0.,          0.,     -a0 / 2],\n",
    "      [     0.,          0.,     a1 / 2.],\n",
    "      [-a0 / 2,     a1 / 2.,          a1]]\n",
    "\n",
    "Q1 = Q2 = γ\n",
    "S1 = S2 = W1 = W2 = M1 = M2 = 0.0\n",
    "\n",
    "# == Solve using QE's nnash function == #\n",
    "F1, F2, P1, P2 = qe.nnash(A, B1, B2, R1, R2, Q1,\n",
    "                          Q2, S1, S2, W1, W2, M1,\n",
    "                          M2, beta=β)"
   ]
  },
  {
   "cell_type": "code",
   "execution_count": 7,
   "metadata": {
    "hide-output": false
   },
   "outputs": [],
   "source": [
    "AF = A - B1 @ F1 - B2 @ F2\n",
    "n = 20\n",
    "x = np.empty((3, n))\n",
    "x[:, 0] = 1, 1, 1\n",
    "for t in range(n-1):\n",
    "    x[:, t+1] = AF @ x[:, t]\n",
    "q1 = x[1, :]\n",
    "q2 = x[2, :]\n",
    "q = q1 + q2       # Total output, MPE\n",
    "p = a0 - a1 * q   # Price, MPE"
   ]
  },
  {
   "cell_type": "code",
   "execution_count": 8,
   "metadata": {
    "hide-output": false
   },
   "outputs": [],
   "source": [
    "R = a1\n",
    "Q = γ\n",
    "A = B = 1\n",
    "lq_alt = qe.LQ(Q, R, A, B, beta=β)\n",
    "P, F, d = lq_alt.stationary_values()\n",
    "q_bar = a0 / (2.0 * a1)\n",
    "qm = np.empty(n)\n",
    "qm[0] = 2\n",
    "x0 = qm[0] - q_bar\n",
    "x = x0\n",
    "for i in range(1, n):\n",
    "    x = A * x - B * F * x\n",
    "    qm[i] = float(x) + q_bar\n",
    "pm = a0 - a1 * qm"
   ]
  },
  {
   "cell_type": "code",
   "execution_count": 9,
   "metadata": {
    "hide-output": false
   },
   "outputs": [
    {
     "data": {
      "image/png": "[encoded data removed]",
      "text/plain": [
       "<Figure size 648x648 with 2 Axes>"
      ]
     },
     "metadata": {
      "needs_background": "light"
     },
     "output_type": "display_data"
    }
   ],
   "source": [
    "fig, axes = plt.subplots(2, 1, figsize=(9, 9))\n",
    "\n",
    "ax = axes[0]\n",
    "ax.plot(qm, 'b-', lw=2, alpha=0.75, label='monopolist output')\n",
    "ax.plot(q, 'g-', lw=2, alpha=0.75, label='MPE total output')\n",
    "ax.set(ylabel=\"output\", xlabel=\"time\", ylim=(2, 4))\n",
    "ax.legend(loc='upper left', frameon=0)\n",
    "\n",
    "ax = axes[1]\n",
    "ax.plot(pm, 'b-', lw=2, alpha=0.75, label='monopolist price')\n",
    "ax.plot(p, 'g-', lw=2, alpha=0.75, label='MPE price')\n",
    "ax.set(ylabel=\"price\", xlabel=\"time\")\n",
    "ax.legend(loc='upper right', frameon=0)\n",
    "plt.show()"
   ]
  },
  {
   "cell_type": "code",
   "execution_count": 10,
   "metadata": {
    "hide-output": false
   },
   "outputs": [],
   "source": [
    "δ = 0.02\n",
    "D = np.array([[-1, 0.5], [0.5, -1]])\n",
    "b = np.array([25, 25])\n",
    "c1 = c2 = np.array([1, -2, 1])\n",
    "e1 = e2 = np.array([10, 10, 3])\n",
    "\n",
    "δ_1 = 1 - δ"
   ]
  },
  {
   "cell_type": "code",
   "execution_count": 11,
   "metadata": {
    "hide-output": false
   },
   "outputs": [],
   "source": [
    "# ==  Create matrices needed to compute the Nash feedback equilibrium == #\n",
    "\n",
    "A = np.array([[δ_1,      0,    -δ_1 * b[0]],\n",
    "              [  0,    δ_1,    -δ_1 * b[1]],\n",
    "              [  0,      0,             1]])\n",
    "\n",
    "B1 = δ_1 * np.array([[1, -D[0, 0]],\n",
    "                     [0, -D[1, 0]],\n",
    "                     [0,       0]])\n",
    "B2 = δ_1 * np.array([[0, -D[0, 1]],\n",
    "                     [1, -D[1, 1]],\n",
    "                     [0,       0]])\n",
    "\n",
    "R1 = -np.array([[0.5 * c1[2],     0,    0.5 * c1[1]],\n",
    "                [          0,     0,              0],\n",
    "                [0.5 * c1[1],     0,         c1[0]]])\n",
    "R2 = -np.array([[0,               0,              0],\n",
    "                [0,     0.5 * c2[2],    0.5 * c2[1]],\n",
    "                [0,     0.5 * c2[1],         c2[0]]])\n",
    "\n",
    "Q1 = np.array([[-0.5 * e1[2], 0], [0, D[0, 0]]])\n",
    "Q2 = np.array([[-0.5 * e2[2], 0], [0, D[1, 1]]])\n",
    "\n",
    "S1 = np.zeros((2, 2))\n",
    "S2 = np.copy(S1)\n",
    "\n",
    "W1 = np.array([[           0,             0],\n",
    "               [           0,             0],\n",
    "               [-0.5 * e1[1],    b[0] / 2.]])\n",
    "W2 = np.array([[           0,             0],\n",
    "               [           0,             0],\n",
    "               [-0.5 * e2[1],    b[1] / 2.]])\n",
    "\n",
    "M1 = np.array([[0, 0], [0, D[0, 1] / 2.]])\n",
    "M2 = np.copy(M1)"
   ]
  },
  {
   "cell_type": "code",
   "execution_count": 12,
   "metadata": {
    "hide-output": false
   },
   "outputs": [
    {
     "name": "stdout",
     "output_type": "stream",
     "text": [
      "\n",
      "Firm 1's feedback rule:\n",
      "\n",
      "[[ 2.43666582e-01  2.72360627e-02 -6.82788293e+00]\n",
      " [ 3.92370734e-01  1.39696451e-01 -3.77341073e+01]]\n",
      "\n",
      "Firm 2's feedback rule:\n",
      "\n",
      "[[ 2.72360627e-02  2.43666582e-01 -6.82788293e+00]\n",
      " [ 1.39696451e-01  3.92370734e-01 -3.77341073e+01]]\n"
     ]
    }
   ],
   "source": [
    "F1, F2, P1, P2 = qe.nnash(A, B1, B2, R1,\n",
    "                          R2, Q1, Q2, S1,\n",
    "                          S2, W1, W2, M1, M2)\n",
    "\n",
    "print(\"\\nFirm 1's feedback rule:\\n\")\n",
    "print(F1)\n",
    "\n",
    "print(\"\\nFirm 2's feedback rule:\\n\")\n",
    "print(F2)"
   ]
  },
  {
   "cell_type": "code",
   "execution_count": 13,
   "metadata": {
    "hide-output": false
   },
   "outputs": [
    {
     "data": {
      "image/png": "[encoded data removed]",
      "text/plain": [
       "<Figure size 648x360 with 1 Axes>"
      ]
     },
     "metadata": {
      "needs_background": "light"
     },
     "output_type": "display_data"
    }
   ],
   "source": [
    "AF = A - B1 @ F1 - B2 @ F2\n",
    "n = 25\n",
    "x = np.empty((3, n))\n",
    "x[:, 0] = 2, 0, 1\n",
    "for t in range(n-1):\n",
    "    x[:, t+1] = AF @ x[:, t]\n",
    "I1 = x[0, :]\n",
    "I2 = x[1, :]\n",
    "fig, ax = plt.subplots(figsize=(9, 5))\n",
    "ax.plot(I1, 'b-', lw=2, alpha=0.75, label='inventories, firm 1')\n",
    "ax.plot(I2, 'g-', lw=2, alpha=0.75, label='inventories, firm 2')\n",
    "ax.set_title(rf'$\\delta = {δ}$')\n",
    "ax.legend()\n",
    "plt.show()"
   ]
  }
 ],
 "metadata": {
  "date": 1592456492.4815972,
  "filename": "markov_perf.rst",
  "kernelspec": {
   "display_name": "Python 3",
   "language": "python",
   "name": "python3"
  },
  "language_info": {
   "codemirror_mode": {
    "name": "ipython",
    "version": 3
   },
   "file_extension": ".py",
   "mimetype": "text/x-python",
   "name": "python",
   "nbconvert_exporter": "python",
   "pygments_lexer": "ipython3",
   "version": "3.7.6"
  },
  "next_doc": {
   "link": "uncertainty_traps",
   "title": "Uncertainty Traps"
  },
  "prev_doc": {
   "link": "re_with_feedback",
   "title": "Stability in Linear Rational Expectations Models"
  },
  "title": "Markov Perfect Equilibrium"
 },
 "nbformat": 4,
 "nbformat_minor": 2
}
