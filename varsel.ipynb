{
 "cells": [
  {
   "cell_type": "markdown",
   "metadata": {},
   "source": [
    "# Chapter 10: Model Selection\n",
    "\n",
    "Load the packages:"
   ]
  },
  {
   "cell_type": "code",
   "execution_count": 1,
   "metadata": {},
   "outputs": [],
   "source": [
    "import pandas as pd\n",
    "import numpy as np\n",
    "import matplotlib.pyplot as plt\n",
    "import scipy as sp\n",
    "import statsmodels.api as sm\n",
    "import statsmodels.formula.api as smf"
   ]
  },
  {
   "cell_type": "markdown",
   "metadata": {},
   "source": [
    "## Testing based procedures\n",
    "\n",
    "Load in the data:"
   ]
  },
  {
   "cell_type": "code",
   "execution_count": 2,
   "metadata": {},
   "outputs": [
    {
     "data": {
      "text/html": [
       "<div>\n",
       "<style scoped>\n",
       "    .dataframe tbody tr th:only-of-type {\n",
       "        vertical-align: middle;\n",
       "    }\n",
       "\n",
       "    .dataframe tbody tr th {\n",
       "        vertical-align: top;\n",
       "    }\n",
       "\n",
       "    .dataframe thead th {\n",
       "        text-align: right;\n",
       "    }\n",
       "</style>\n",
       "<table border=\"1\" class=\"dataframe\">\n",
       "  <thead>\n",
       "    <tr style=\"text-align: right;\">\n",
       "      <th></th>\n",
       "      <th>Population</th>\n",
       "      <th>Income</th>\n",
       "      <th>Illiteracy</th>\n",
       "      <th>LifeExp</th>\n",
       "      <th>Murder</th>\n",
       "      <th>HSGrad</th>\n",
       "      <th>Frost</th>\n",
       "      <th>Area</th>\n",
       "    </tr>\n",
       "  </thead>\n",
       "  <tbody>\n",
       "    <tr>\n",
       "      <th>AL</th>\n",
       "      <td>3615</td>\n",
       "      <td>3624</td>\n",
       "      <td>2.1</td>\n",
       "      <td>69.05</td>\n",
       "      <td>15.1</td>\n",
       "      <td>41.3</td>\n",
       "      <td>20</td>\n",
       "      <td>50708</td>\n",
       "    </tr>\n",
       "    <tr>\n",
       "      <th>AK</th>\n",
       "      <td>365</td>\n",
       "      <td>6315</td>\n",
       "      <td>1.5</td>\n",
       "      <td>69.31</td>\n",
       "      <td>11.3</td>\n",
       "      <td>66.7</td>\n",
       "      <td>152</td>\n",
       "      <td>566432</td>\n",
       "    </tr>\n",
       "    <tr>\n",
       "      <th>AZ</th>\n",
       "      <td>2212</td>\n",
       "      <td>4530</td>\n",
       "      <td>1.8</td>\n",
       "      <td>70.55</td>\n",
       "      <td>7.8</td>\n",
       "      <td>58.1</td>\n",
       "      <td>15</td>\n",
       "      <td>113417</td>\n",
       "    </tr>\n",
       "    <tr>\n",
       "      <th>AR</th>\n",
       "      <td>2110</td>\n",
       "      <td>3378</td>\n",
       "      <td>1.9</td>\n",
       "      <td>70.66</td>\n",
       "      <td>10.1</td>\n",
       "      <td>39.9</td>\n",
       "      <td>65</td>\n",
       "      <td>51945</td>\n",
       "    </tr>\n",
       "    <tr>\n",
       "      <th>CA</th>\n",
       "      <td>21198</td>\n",
       "      <td>5114</td>\n",
       "      <td>1.1</td>\n",
       "      <td>71.71</td>\n",
       "      <td>10.3</td>\n",
       "      <td>62.6</td>\n",
       "      <td>20</td>\n",
       "      <td>156361</td>\n",
       "    </tr>\n",
       "  </tbody>\n",
       "</table>\n",
       "</div>"
      ],
      "text/plain": [
       "    Population  Income  Illiteracy  LifeExp  Murder  HSGrad  Frost    Area\n",
       "AL        3615    3624         2.1    69.05    15.1    41.3     20   50708\n",
       "AK         365    6315         1.5    69.31    11.3    66.7    152  566432\n",
       "AZ        2212    4530         1.8    70.55     7.8    58.1     15  113417\n",
       "AR        2110    3378         1.9    70.66    10.1    39.9     65   51945\n",
       "CA       21198    5114         1.1    71.71    10.3    62.6     20  156361"
      ]
     },
     "execution_count": 2,
     "metadata": {},
     "output_type": "execute_result"
    }
   ],
   "source": [
    "statedata = pd.read_csv(\"data/statedata.csv\",index_col=0)\n",
    "statedata.head()"
   ]
  },
  {
   "cell_type": "markdown",
   "metadata": {},
   "source": [
    "Fit the base model:"
   ]
  },
  {
   "cell_type": "code",
   "execution_count": 3,
   "metadata": {},
   "outputs": [
    {
     "data": {
      "text/html": [
       "<table class=\"simpletable\">\n",
       "<caption>OLS Regression Results</caption>\n",
       "<tr>\n",
       "  <th>Dep. Variable:</th>         <td>LifeExp</td>     <th>  R-squared:         </th> <td>   0.736</td>\n",
       "</tr>\n",
       "<tr>\n",
       "  <th>Model:</th>                   <td>OLS</td>       <th>  Adj. R-squared:    </th> <td>   0.692</td>\n",
       "</tr>\n",
       "<tr>\n",
       "  <th>Method:</th>             <td>Least Squares</td>  <th>  F-statistic:       </th> <td>   16.74</td>\n",
       "</tr>\n",
       "<tr>\n",
       "  <th>Date:</th>             <td>Tue, 23 Jun 2020</td> <th>  Prob (F-statistic):</th> <td>2.53e-10</td>\n",
       "</tr>\n",
       "<tr>\n",
       "  <th>Time:</th>                 <td>17:18:26</td>     <th>  Log-Likelihood:    </th> <td> -51.855</td>\n",
       "</tr>\n",
       "<tr>\n",
       "  <th>No. Observations:</th>      <td>    50</td>      <th>  AIC:               </th> <td>   119.7</td>\n",
       "</tr>\n",
       "<tr>\n",
       "  <th>Df Residuals:</th>          <td>    42</td>      <th>  BIC:               </th> <td>   135.0</td>\n",
       "</tr>\n",
       "<tr>\n",
       "  <th>Df Model:</th>              <td>     7</td>      <th>                     </th>     <td> </td>   \n",
       "</tr>\n",
       "<tr>\n",
       "  <th>Covariance Type:</th>      <td>nonrobust</td>    <th>                     </th>     <td> </td>   \n",
       "</tr>\n",
       "</table>\n",
       "<table class=\"simpletable\">\n",
       "<tr>\n",
       "       <td></td>         <th>coef</th>     <th>std err</th>      <th>t</th>      <th>P>|t|</th>  <th>[0.025</th>    <th>0.975]</th>  \n",
       "</tr>\n",
       "<tr>\n",
       "  <th>Intercept</th>  <td>   70.9432</td> <td>    1.748</td> <td>   40.586</td> <td> 0.000</td> <td>   67.416</td> <td>   74.471</td>\n",
       "</tr>\n",
       "<tr>\n",
       "  <th>Population</th> <td>  5.18e-05</td> <td> 2.92e-05</td> <td>    1.775</td> <td> 0.083</td> <td> -7.1e-06</td> <td>    0.000</td>\n",
       "</tr>\n",
       "<tr>\n",
       "  <th>Income</th>     <td> -2.18e-05</td> <td>    0.000</td> <td>   -0.089</td> <td> 0.929</td> <td>   -0.001</td> <td>    0.000</td>\n",
       "</tr>\n",
       "<tr>\n",
       "  <th>Illiteracy</th> <td>    0.0338</td> <td>    0.366</td> <td>    0.092</td> <td> 0.927</td> <td>   -0.705</td> <td>    0.773</td>\n",
       "</tr>\n",
       "<tr>\n",
       "  <th>Murder</th>     <td>   -0.3011</td> <td>    0.047</td> <td>   -6.459</td> <td> 0.000</td> <td>   -0.395</td> <td>   -0.207</td>\n",
       "</tr>\n",
       "<tr>\n",
       "  <th>HSGrad</th>     <td>    0.0489</td> <td>    0.023</td> <td>    2.098</td> <td> 0.042</td> <td>    0.002</td> <td>    0.096</td>\n",
       "</tr>\n",
       "<tr>\n",
       "  <th>Frost</th>      <td>   -0.0057</td> <td>    0.003</td> <td>   -1.825</td> <td> 0.075</td> <td>   -0.012</td> <td>    0.001</td>\n",
       "</tr>\n",
       "<tr>\n",
       "  <th>Area</th>       <td>-7.383e-08</td> <td> 1.67e-06</td> <td>   -0.044</td> <td> 0.965</td> <td>-3.44e-06</td> <td> 3.29e-06</td>\n",
       "</tr>\n",
       "</table>\n",
       "<table class=\"simpletable\">\n",
       "<tr>\n",
       "  <th>Omnibus:</th>       <td> 2.385</td> <th>  Durbin-Watson:     </th> <td>   1.929</td>\n",
       "</tr>\n",
       "<tr>\n",
       "  <th>Prob(Omnibus):</th> <td> 0.303</td> <th>  Jarque-Bera (JB):  </th> <td>   1.420</td>\n",
       "</tr>\n",
       "<tr>\n",
       "  <th>Skew:</th>          <td>-0.081</td> <th>  Prob(JB):          </th> <td>   0.492</td>\n",
       "</tr>\n",
       "<tr>\n",
       "  <th>Kurtosis:</th>      <td> 2.190</td> <th>  Cond. No.          </th> <td>1.85e+06</td>\n",
       "</tr>\n",
       "</table><br/><br/>Warnings:<br/>[1] Standard Errors assume that the covariance matrix of the errors is correctly specified.<br/>[2] The condition number is large, 1.85e+06. This might indicate that there are<br/>strong multicollinearity or other numerical problems."
      ],
      "text/plain": [
       "<class 'statsmodels.iolib.summary.Summary'>\n",
       "\"\"\"\n",
       "                            OLS Regression Results                            \n",
       "==============================================================================\n",
       "Dep. Variable:                LifeExp   R-squared:                       0.736\n",
       "Model:                            OLS   Adj. R-squared:                  0.692\n",
       "Method:                 Least Squares   F-statistic:                     16.74\n",
       "Date:                Tue, 23 Jun 2020   Prob (F-statistic):           2.53e-10\n",
       "Time:                        17:18:26   Log-Likelihood:                -51.855\n",
       "No. Observations:                  50   AIC:                             119.7\n",
       "Df Residuals:                      42   BIC:                             135.0\n",
       "Df Model:                           7                                         \n",
       "Covariance Type:            nonrobust                                         \n",
       "==============================================================================\n",
       "                 coef    std err          t      P>|t|      [0.025      0.975]\n",
       "------------------------------------------------------------------------------\n",
       "Intercept     70.9432      1.748     40.586      0.000      67.416      74.471\n",
       "Population   5.18e-05   2.92e-05      1.775      0.083    -7.1e-06       0.000\n",
       "Income      -2.18e-05      0.000     -0.089      0.929      -0.001       0.000\n",
       "Illiteracy     0.0338      0.366      0.092      0.927      -0.705       0.773\n",
       "Murder        -0.3011      0.047     -6.459      0.000      -0.395      -0.207\n",
       "HSGrad         0.0489      0.023      2.098      0.042       0.002       0.096\n",
       "Frost         -0.0057      0.003     -1.825      0.075      -0.012       0.001\n",
       "Area       -7.383e-08   1.67e-06     -0.044      0.965   -3.44e-06    3.29e-06\n",
       "==============================================================================\n",
       "Omnibus:                        2.385   Durbin-Watson:                   1.929\n",
       "Prob(Omnibus):                  0.303   Jarque-Bera (JB):                1.420\n",
       "Skew:                          -0.081   Prob(JB):                        0.492\n",
       "Kurtosis:                       2.190   Cond. No.                     1.85e+06\n",
       "==============================================================================\n",
       "\n",
       "Warnings:\n",
       "[1] Standard Errors assume that the covariance matrix of the errors is correctly specified.\n",
       "[2] The condition number is large, 1.85e+06. This might indicate that there are\n",
       "strong multicollinearity or other numerical problems.\n",
       "\"\"\""
      ]
     },
     "execution_count": 3,
     "metadata": {},
     "output_type": "execute_result"
    }
   ],
   "source": [
    "lmod = smf.ols('LifeExp ~ Population + Income + Illiteracy + Murder + HSGrad + Frost + Area', data=statedata).fit()\n",
    "lmod.summary()"
   ]
  },
  {
   "cell_type": "markdown",
   "metadata": {},
   "source": [
    "Backward elimination using p-values:"
   ]
  },
  {
   "cell_type": "code",
   "execution_count": 4,
   "metadata": {},
   "outputs": [
    {
     "data": {
      "text/plain": [
       "Intercept     0.00\n",
       "Population    0.08\n",
       "Income        0.93\n",
       "Illiteracy    0.93\n",
       "Murder        0.00\n",
       "HSGrad        0.04\n",
       "Frost         0.08\n",
       "Area          0.96\n",
       "dtype: float64"
      ]
     },
     "execution_count": 4,
     "metadata": {},
     "output_type": "execute_result"
    }
   ],
   "source": [
    "lmod.pvalues.round(2)"
   ]
  },
  {
   "cell_type": "code",
   "execution_count": 5,
   "metadata": {},
   "outputs": [
    {
     "data": {
      "text/plain": [
       "Intercept     0.00\n",
       "Population    0.08\n",
       "Income        0.92\n",
       "Illiteracy    0.93\n",
       "Murder        0.00\n",
       "HSGrad        0.02\n",
       "Frost         0.06\n",
       "dtype: float64"
      ]
     },
     "execution_count": 5,
     "metadata": {},
     "output_type": "execute_result"
    }
   ],
   "source": [
    "lmod = smf.ols('LifeExp ~ Population + Income + Illiteracy + Murder + HSGrad + Frost', data=statedata).fit()\n",
    "lmod.pvalues.round(2)"
   ]
  },
  {
   "cell_type": "code",
   "execution_count": 6,
   "metadata": {},
   "outputs": [
    {
     "data": {
      "text/plain": [
       "Intercept     0.00\n",
       "Population    0.07\n",
       "Income        0.92\n",
       "Murder        0.00\n",
       "HSGrad        0.01\n",
       "Frost         0.02\n",
       "dtype: float64"
      ]
     },
     "execution_count": 6,
     "metadata": {},
     "output_type": "execute_result"
    }
   ],
   "source": [
    "lmod = smf.ols('LifeExp ~ Population + Income + Murder + HSGrad + Frost', data=statedata).fit()\n",
    "lmod.pvalues.round(2)"
   ]
  },
  {
   "cell_type": "code",
   "execution_count": 7,
   "metadata": {},
   "outputs": [
    {
     "data": {
      "text/plain": [
       "Intercept     0.00\n",
       "Population    0.05\n",
       "Murder        0.00\n",
       "HSGrad        0.00\n",
       "Frost         0.02\n",
       "dtype: float64"
      ]
     },
     "execution_count": 7,
     "metadata": {},
     "output_type": "execute_result"
    }
   ],
   "source": [
    "lmod = smf.ols('LifeExp ~ Population + Murder + HSGrad + Frost', data=statedata).fit()\n",
    "lmod.pvalues.round(2)"
   ]
  },
  {
   "cell_type": "code",
   "execution_count": 8,
   "metadata": {},
   "outputs": [
    {
     "data": {
      "text/html": [
       "<table class=\"simpletable\">\n",
       "<caption>OLS Regression Results</caption>\n",
       "<tr>\n",
       "  <th>Dep. Variable:</th>         <td>LifeExp</td>     <th>  R-squared:         </th> <td>   0.713</td>\n",
       "</tr>\n",
       "<tr>\n",
       "  <th>Model:</th>                   <td>OLS</td>       <th>  Adj. R-squared:    </th> <td>   0.694</td>\n",
       "</tr>\n",
       "<tr>\n",
       "  <th>Method:</th>             <td>Least Squares</td>  <th>  F-statistic:       </th> <td>   38.03</td>\n",
       "</tr>\n",
       "<tr>\n",
       "  <th>Date:</th>             <td>Tue, 23 Jun 2020</td> <th>  Prob (F-statistic):</th> <td>1.63e-12</td>\n",
       "</tr>\n",
       "<tr>\n",
       "  <th>Time:</th>                 <td>17:18:26</td>     <th>  Log-Likelihood:    </th> <td> -53.987</td>\n",
       "</tr>\n",
       "<tr>\n",
       "  <th>No. Observations:</th>      <td>    50</td>      <th>  AIC:               </th> <td>   116.0</td>\n",
       "</tr>\n",
       "<tr>\n",
       "  <th>Df Residuals:</th>          <td>    46</td>      <th>  BIC:               </th> <td>   123.6</td>\n",
       "</tr>\n",
       "<tr>\n",
       "  <th>Df Model:</th>              <td>     3</td>      <th>                     </th>     <td> </td>   \n",
       "</tr>\n",
       "<tr>\n",
       "  <th>Covariance Type:</th>      <td>nonrobust</td>    <th>                     </th>     <td> </td>   \n",
       "</tr>\n",
       "</table>\n",
       "<table class=\"simpletable\">\n",
       "<tr>\n",
       "      <td></td>         <th>coef</th>     <th>std err</th>      <th>t</th>      <th>P>|t|</th>  <th>[0.025</th>    <th>0.975]</th>  \n",
       "</tr>\n",
       "<tr>\n",
       "  <th>Intercept</th> <td>   71.0364</td> <td>    0.983</td> <td>   72.246</td> <td> 0.000</td> <td>   69.057</td> <td>   73.016</td>\n",
       "</tr>\n",
       "<tr>\n",
       "  <th>Murder</th>    <td>   -0.2831</td> <td>    0.037</td> <td>   -7.706</td> <td> 0.000</td> <td>   -0.357</td> <td>   -0.209</td>\n",
       "</tr>\n",
       "<tr>\n",
       "  <th>HSGrad</th>    <td>    0.0499</td> <td>    0.015</td> <td>    3.286</td> <td> 0.002</td> <td>    0.019</td> <td>    0.081</td>\n",
       "</tr>\n",
       "<tr>\n",
       "  <th>Frost</th>     <td>   -0.0069</td> <td>    0.002</td> <td>   -2.824</td> <td> 0.007</td> <td>   -0.012</td> <td>   -0.002</td>\n",
       "</tr>\n",
       "</table>\n",
       "<table class=\"simpletable\">\n",
       "<tr>\n",
       "  <th>Omnibus:</th>       <td> 5.102</td> <th>  Durbin-Watson:     </th> <td>   1.794</td>\n",
       "</tr>\n",
       "<tr>\n",
       "  <th>Prob(Omnibus):</th> <td> 0.078</td> <th>  Jarque-Bera (JB):  </th> <td>   2.569</td>\n",
       "</tr>\n",
       "<tr>\n",
       "  <th>Skew:</th>          <td>-0.290</td> <th>  Prob(JB):          </th> <td>   0.277</td>\n",
       "</tr>\n",
       "<tr>\n",
       "  <th>Kurtosis:</th>      <td> 2.053</td> <th>  Cond. No.          </th> <td>1.19e+03</td>\n",
       "</tr>\n",
       "</table><br/><br/>Warnings:<br/>[1] Standard Errors assume that the covariance matrix of the errors is correctly specified.<br/>[2] The condition number is large, 1.19e+03. This might indicate that there are<br/>strong multicollinearity or other numerical problems."
      ],
      "text/plain": [
       "<class 'statsmodels.iolib.summary.Summary'>\n",
       "\"\"\"\n",
       "                            OLS Regression Results                            \n",
       "==============================================================================\n",
       "Dep. Variable:                LifeExp   R-squared:                       0.713\n",
       "Model:                            OLS   Adj. R-squared:                  0.694\n",
       "Method:                 Least Squares   F-statistic:                     38.03\n",
       "Date:                Tue, 23 Jun 2020   Prob (F-statistic):           1.63e-12\n",
       "Time:                        17:18:26   Log-Likelihood:                -53.987\n",
       "No. Observations:                  50   AIC:                             116.0\n",
       "Df Residuals:                      46   BIC:                             123.6\n",
       "Df Model:                           3                                         \n",
       "Covariance Type:            nonrobust                                         \n",
       "==============================================================================\n",
       "                 coef    std err          t      P>|t|      [0.025      0.975]\n",
       "------------------------------------------------------------------------------\n",
       "Intercept     71.0364      0.983     72.246      0.000      69.057      73.016\n",
       "Murder        -0.2831      0.037     -7.706      0.000      -0.357      -0.209\n",
       "HSGrad         0.0499      0.015      3.286      0.002       0.019       0.081\n",
       "Frost         -0.0069      0.002     -2.824      0.007      -0.012      -0.002\n",
       "==============================================================================\n",
       "Omnibus:                        5.102   Durbin-Watson:                   1.794\n",
       "Prob(Omnibus):                  0.078   Jarque-Bera (JB):                2.569\n",
       "Skew:                          -0.290   Prob(JB):                        0.277\n",
       "Kurtosis:                       2.053   Cond. No.                     1.19e+03\n",
       "==============================================================================\n",
       "\n",
       "Warnings:\n",
       "[1] Standard Errors assume that the covariance matrix of the errors is correctly specified.\n",
       "[2] The condition number is large, 1.19e+03. This might indicate that there are\n",
       "strong multicollinearity or other numerical problems.\n",
       "\"\"\""
      ]
     },
     "execution_count": 8,
     "metadata": {},
     "output_type": "execute_result"
    }
   ],
   "source": [
    "lmod = smf.ols('LifeExp ~ Murder + HSGrad + Frost', data=statedata).fit()\n",
    "lmod.summary()"
   ]
  },
  {
   "cell_type": "markdown",
   "metadata": {},
   "source": [
    "Variables that are eliminated may have some significance."
   ]
  },
  {
   "cell_type": "code",
   "execution_count": 9,
   "metadata": {},
   "outputs": [
    {
     "data": {
      "text/html": [
       "<table class=\"simpletable\">\n",
       "<caption>OLS Regression Results</caption>\n",
       "<tr>\n",
       "  <th>Dep. Variable:</th>         <td>LifeExp</td>     <th>  R-squared:         </th> <td>   0.674</td>\n",
       "</tr>\n",
       "<tr>\n",
       "  <th>Model:</th>                   <td>OLS</td>       <th>  Adj. R-squared:    </th> <td>   0.653</td>\n",
       "</tr>\n",
       "<tr>\n",
       "  <th>Method:</th>             <td>Least Squares</td>  <th>  F-statistic:       </th> <td>   31.69</td>\n",
       "</tr>\n",
       "<tr>\n",
       "  <th>Date:</th>             <td>Tue, 23 Jun 2020</td> <th>  Prob (F-statistic):</th> <td>2.91e-11</td>\n",
       "</tr>\n",
       "<tr>\n",
       "  <th>Time:</th>                 <td>17:18:26</td>     <th>  Log-Likelihood:    </th> <td> -57.147</td>\n",
       "</tr>\n",
       "<tr>\n",
       "  <th>No. Observations:</th>      <td>    50</td>      <th>  AIC:               </th> <td>   122.3</td>\n",
       "</tr>\n",
       "<tr>\n",
       "  <th>Df Residuals:</th>          <td>    46</td>      <th>  BIC:               </th> <td>   129.9</td>\n",
       "</tr>\n",
       "<tr>\n",
       "  <th>Df Model:</th>              <td>     3</td>      <th>                     </th>     <td> </td>   \n",
       "</tr>\n",
       "<tr>\n",
       "  <th>Covariance Type:</th>      <td>nonrobust</td>    <th>                     </th>     <td> </td>   \n",
       "</tr>\n",
       "</table>\n",
       "<table class=\"simpletable\">\n",
       "<tr>\n",
       "       <td></td>         <th>coef</th>     <th>std err</th>      <th>t</th>      <th>P>|t|</th>  <th>[0.025</th>    <th>0.975]</th>  \n",
       "</tr>\n",
       "<tr>\n",
       "  <th>Intercept</th>  <td>   74.5567</td> <td>    0.584</td> <td>  127.611</td> <td> 0.000</td> <td>   73.381</td> <td>   75.733</td>\n",
       "</tr>\n",
       "<tr>\n",
       "  <th>Illiteracy</th> <td>   -0.6018</td> <td>    0.299</td> <td>   -2.013</td> <td> 0.050</td> <td>   -1.203</td> <td>-5.18e-05</td>\n",
       "</tr>\n",
       "<tr>\n",
       "  <th>Murder</th>     <td>   -0.2800</td> <td>    0.043</td> <td>   -6.454</td> <td> 0.000</td> <td>   -0.367</td> <td>   -0.193</td>\n",
       "</tr>\n",
       "<tr>\n",
       "  <th>Frost</th>      <td>   -0.0087</td> <td>    0.003</td> <td>   -2.937</td> <td> 0.005</td> <td>   -0.015</td> <td>   -0.003</td>\n",
       "</tr>\n",
       "</table>\n",
       "<table class=\"simpletable\">\n",
       "<tr>\n",
       "  <th>Omnibus:</th>       <td> 0.019</td> <th>  Durbin-Watson:     </th> <td>   1.638</td>\n",
       "</tr>\n",
       "<tr>\n",
       "  <th>Prob(Omnibus):</th> <td> 0.990</td> <th>  Jarque-Bera (JB):  </th> <td>   0.071</td>\n",
       "</tr>\n",
       "<tr>\n",
       "  <th>Skew:</th>          <td> 0.026</td> <th>  Prob(JB):          </th> <td>   0.965</td>\n",
       "</tr>\n",
       "<tr>\n",
       "  <th>Kurtosis:</th>      <td> 2.823</td> <th>  Cond. No.          </th> <td>    638.</td>\n",
       "</tr>\n",
       "</table><br/><br/>Warnings:<br/>[1] Standard Errors assume that the covariance matrix of the errors is correctly specified."
      ],
      "text/plain": [
       "<class 'statsmodels.iolib.summary.Summary'>\n",
       "\"\"\"\n",
       "                            OLS Regression Results                            \n",
       "==============================================================================\n",
       "Dep. Variable:                LifeExp   R-squared:                       0.674\n",
       "Model:                            OLS   Adj. R-squared:                  0.653\n",
       "Method:                 Least Squares   F-statistic:                     31.69\n",
       "Date:                Tue, 23 Jun 2020   Prob (F-statistic):           2.91e-11\n",
       "Time:                        17:18:26   Log-Likelihood:                -57.147\n",
       "No. Observations:                  50   AIC:                             122.3\n",
       "Df Residuals:                      46   BIC:                             129.9\n",
       "Df Model:                           3                                         \n",
       "Covariance Type:            nonrobust                                         \n",
       "==============================================================================\n",
       "                 coef    std err          t      P>|t|      [0.025      0.975]\n",
       "------------------------------------------------------------------------------\n",
       "Intercept     74.5567      0.584    127.611      0.000      73.381      75.733\n",
       "Illiteracy    -0.6018      0.299     -2.013      0.050      -1.203   -5.18e-05\n",
       "Murder        -0.2800      0.043     -6.454      0.000      -0.367      -0.193\n",
       "Frost         -0.0087      0.003     -2.937      0.005      -0.015      -0.003\n",
       "==============================================================================\n",
       "Omnibus:                        0.019   Durbin-Watson:                   1.638\n",
       "Prob(Omnibus):                  0.990   Jarque-Bera (JB):                0.071\n",
       "Skew:                           0.026   Prob(JB):                        0.965\n",
       "Kurtosis:                       2.823   Cond. No.                         638.\n",
       "==============================================================================\n",
       "\n",
       "Warnings:\n",
       "[1] Standard Errors assume that the covariance matrix of the errors is correctly specified.\n",
       "\"\"\""
      ]
     },
     "execution_count": 9,
     "metadata": {},
     "output_type": "execute_result"
    }
   ],
   "source": [
    "lmod = smf.ols('LifeExp ~ Illiteracy + Murder + Frost', data=statedata).fit()\n",
    "lmod.summary()"
   ]
  },
  {
   "cell_type": "markdown",
   "metadata": {},
   "source": [
    "## Criterion-based procedures.\n",
    "\n",
    "Can use `sklearn` but only makes sense if data are scaled. Note this method is not in \"Linear Models with R\"."
   ]
  },
  {
   "cell_type": "code",
   "execution_count": 10,
   "metadata": {},
   "outputs": [
    {
     "data": {
      "text/plain": [
       "Population    0.172276\n",
       "Income       -0.009981\n",
       "Illiteracy    0.015357\n",
       "Murder       -0.828079\n",
       "HSGrad        0.294402\n",
       "Frost        -0.222074\n",
       "Area         -0.004693\n",
       "dtype: float64"
      ]
     },
     "execution_count": 10,
     "metadata": {},
     "output_type": "execute_result"
    }
   ],
   "source": [
    "from sklearn.preprocessing import scale\n",
    "scalstat = pd.DataFrame(scale(statedata), index=statedata.index, columns=statedata.columns)\n",
    "from sklearn import linear_model\n",
    "reg = linear_model.LinearRegression(fit_intercept=False)\n",
    "X = scalstat.drop('LifeExp',axis=1)\n",
    "smlmod = sm.OLS(scalstat.LifeExp, X).fit()\n",
    "smlmod.params"
   ]
  },
  {
   "cell_type": "code",
   "execution_count": 11,
   "metadata": {},
   "outputs": [
    {
     "data": {
      "text/plain": [
       "array([ 0.17227607, -0.00998072,  0.0153566 , -0.82807917,  0.29440196,\n",
       "       -0.22207364, -0.004693  ])"
      ]
     },
     "execution_count": 11,
     "metadata": {},
     "output_type": "execute_result"
    }
   ],
   "source": [
    "reg.fit(X, scalstat.LifeExp)\n",
    "reg.coef_"
   ]
  },
  {
   "cell_type": "markdown",
   "metadata": {},
   "source": [
    "Expect the intercept to be zero since was not included."
   ]
  },
  {
   "cell_type": "code",
   "execution_count": 12,
   "metadata": {},
   "outputs": [
    {
     "data": {
      "text/plain": [
       "0.0"
      ]
     },
     "execution_count": 12,
     "metadata": {},
     "output_type": "execute_result"
    }
   ],
   "source": [
    "reg.intercept_"
   ]
  },
  {
   "cell_type": "markdown",
   "metadata": {},
   "source": [
    "Chooses importance of predictors based on the coefficient size:"
   ]
  },
  {
   "cell_type": "code",
   "execution_count": 13,
   "metadata": {},
   "outputs": [
    {
     "data": {
      "text/plain": [
       "array([4, 6, 5, 1, 2, 3, 7])"
      ]
     },
     "execution_count": 13,
     "metadata": {},
     "output_type": "execute_result"
    }
   ],
   "source": [
    "from sklearn.feature_selection import RFE\n",
    "selector = RFE(reg, 1, step=1)\n",
    "selector = selector.fit(X, scalstat.LifeExp)\n",
    "selector.ranking_"
   ]
  },
  {
   "cell_type": "markdown",
   "metadata": {},
   "source": [
    "In order of importance:"
   ]
  },
  {
   "cell_type": "code",
   "execution_count": 14,
   "metadata": {},
   "outputs": [
    {
     "data": {
      "text/plain": [
       "Index(['Murder', 'Frost', 'HSGrad', 'Population', 'Income', 'Illiteracy',\n",
       "       'Area'],\n",
       "      dtype='object')"
      ]
     },
     "execution_count": 14,
     "metadata": {},
     "output_type": "execute_result"
    }
   ],
   "source": [
    "X.columns[selector.ranking_-1]"
   ]
  },
  {
   "cell_type": "markdown",
   "metadata": {},
   "source": [
    "Use 10-fold crossvalidation"
   ]
  },
  {
   "cell_type": "code",
   "execution_count": 15,
   "metadata": {},
   "outputs": [
    {
     "data": {
      "text/plain": [
       "array([2, 4, 3, 1, 1, 1, 5])"
      ]
     },
     "execution_count": 15,
     "metadata": {},
     "output_type": "execute_result"
    }
   ],
   "source": [
    "from sklearn.feature_selection import RFECV\n",
    "selector = RFECV(reg, step=1, cv=10)\n",
    "selector = selector.fit(X, scalstat.LifeExp)\n",
    "selector.ranking_"
   ]
  },
  {
   "cell_type": "markdown",
   "metadata": {},
   "source": [
    "Picks only 3 predictors."
   ]
  },
  {
   "cell_type": "code",
   "execution_count": 16,
   "metadata": {},
   "outputs": [
    {
     "data": {
      "text/plain": [
       "Index(['Murder', 'HSGrad', 'Frost'], dtype='object')"
      ]
     },
     "execution_count": 16,
     "metadata": {},
     "output_type": "execute_result"
    }
   ],
   "source": [
    "X.columns[selector.support_]"
   ]
  },
  {
   "cell_type": "markdown",
   "metadata": {},
   "source": [
    "### All subsets regression\n",
    "\n",
    "Compute the RSS for every subset of predictors."
   ]
  },
  {
   "cell_type": "code",
   "execution_count": 17,
   "metadata": {},
   "outputs": [],
   "source": [
    "import itertools"
   ]
  },
  {
   "cell_type": "code",
   "execution_count": 18,
   "metadata": {},
   "outputs": [
    {
     "data": {
      "text/plain": [
       "array([88.299, 34.461, 29.77 , 25.372, 23.308, 23.302, 23.298, 23.297])"
      ]
     },
     "execution_count": 18,
     "metadata": {},
     "output_type": "execute_result"
    }
   ],
   "source": [
    "pcols = list(statedata.columns)\n",
    "pcols.remove('LifeExp')\n",
    "rss = np.empty(len(pcols) + 1)\n",
    "rss[0] = np.sum((statedata.LifeExp - np.mean(statedata.LifeExp))**2)\n",
    "selvar = ['Null']\n",
    "for k in range(1,len(pcols)+1):\n",
    "    RSS = {}\n",
    "    for variables in itertools.combinations(pcols, k):\n",
    "        predictors = statedata.loc[:,list(variables)]\n",
    "        predictors['Intercept'] = 1\n",
    "        res = sm.OLS(statedata.LifeExp, predictors).fit()\n",
    "        RSS[variables] = res.ssr\n",
    "    rss[k] = min(RSS.values())\n",
    "    selvar.append(min(RSS, key=RSS.get))\n",
    "rss.round(3)"
   ]
  },
  {
   "cell_type": "code",
   "execution_count": 19,
   "metadata": {},
   "outputs": [
    {
     "data": {
      "text/plain": [
       "['Null',\n",
       " ('Murder',),\n",
       " ('Murder', 'HSGrad'),\n",
       " ('Murder', 'HSGrad', 'Frost'),\n",
       " ('Population', 'Murder', 'HSGrad', 'Frost'),\n",
       " ('Population', 'Income', 'Murder', 'HSGrad', 'Frost'),\n",
       " ('Population', 'Income', 'Illiteracy', 'Murder', 'HSGrad', 'Frost'),\n",
       " ('Population', 'Income', 'Illiteracy', 'Murder', 'HSGrad', 'Frost', 'Area')]"
      ]
     },
     "execution_count": 19,
     "metadata": {},
     "output_type": "execute_result"
    }
   ],
   "source": [
    "selvar"
   ]
  },
  {
   "cell_type": "code",
   "execution_count": 20,
   "metadata": {
    "scrolled": true
   },
   "outputs": [
    {
     "data": {
      "image/png": "[encoded data removed]",
      "text/plain": [
       "<Figure size 432x288 with 1 Axes>"
      ]
     },
     "metadata": {
      "needs_background": "light"
     },
     "output_type": "display_data"
    }
   ],
   "source": [
    "aic = 50 * np.log(rss/50) + np.arange(1,9)*2\n",
    "plt.plot(np.arange(1,8), aic[1:])\n",
    "plt.xlabel('Number of Predictors')\n",
    "plt.ylabel('AIC')\n",
    "plt.show()"
   ]
  },
  {
   "cell_type": "code",
   "execution_count": 21,
   "metadata": {},
   "outputs": [
    {
     "data": {
      "image/png": "[encoded data removed]",
      "text/plain": [
       "<Figure size 432x288 with 1 Axes>"
      ]
     },
     "metadata": {
      "needs_background": "light"
     },
     "output_type": "display_data"
    }
   ],
   "source": [
    "adjr2 = 1 - (rss/(50 - np.arange(1,9)))/(rss[0]/49)\n",
    "plt.plot(np.arange(1,8),adjr2[1:])\n",
    "plt.xlabel('Number of Predictors')\n",
    "plt.ylabel('Adjusted R^2')\n",
    "plt.show()"
   ]
  },
  {
   "cell_type": "code",
   "execution_count": 22,
   "metadata": {},
   "outputs": [
    {
     "data": {
      "image/png": "[encoded data removed]",
      "text/plain": [
       "<Figure size 432x288 with 1 Axes>"
      ]
     },
     "metadata": {
      "needs_background": "light"
     },
     "output_type": "display_data"
    }
   ],
   "source": [
    "lmod = smf.ols('LifeExp ~ Population + Income + Illiteracy + Murder + HSGrad + Frost + Area', data=statedata).fit()\n",
    "cpstat = rss/lmod.scale + 2 * np.arange(1,9) - 50\n",
    "plt.plot(np.arange(2,9),cpstat[1:])\n",
    "plt.xlabel('Number of Parameters')\n",
    "plt.ylabel('Cp statistic')\n",
    "plt.plot([2,8],[2,8])\n",
    "plt.show()"
   ]
  },
  {
   "cell_type": "markdown",
   "metadata": {},
   "source": [
    "Calculate the hat values. Although the parameter estimates are the same, the hat values are different from R."
   ]
  },
  {
   "cell_type": "code",
   "execution_count": 23,
   "metadata": {},
   "outputs": [
    {
     "data": {
      "text/plain": [
       "NY    0.225227\n",
       "HI    0.239792\n",
       "AK    0.247279\n",
       "NV    0.288609\n",
       "CA    0.384759\n",
       "dtype: float64"
      ]
     },
     "execution_count": 23,
     "metadata": {},
     "output_type": "execute_result"
    }
   ],
   "source": [
    "lmod = smf.ols('LifeExp ~ Population + Murder + HSGrad + Frost', data=statedata).fit()\n",
    "diagv = lmod.get_influence()\n",
    "hatv = pd.Series(diagv.hat_matrix_diag, statedata.index)\n",
    "hatv.sort_values().iloc[-5:]"
   ]
  },
  {
   "cell_type": "markdown",
   "metadata": {},
   "source": [
    "Leave out AK as in LMR book."
   ]
  },
  {
   "cell_type": "code",
   "execution_count": 24,
   "metadata": {},
   "outputs": [
    {
     "data": {
      "text/plain": [
       "array([0.        , 0.59232605, 0.66032808, 0.69488547, 0.70867029,\n",
       "       0.71044047, 0.70730267, 0.70088995])"
      ]
     },
     "execution_count": 24,
     "metadata": {},
     "output_type": "execute_result"
    }
   ],
   "source": [
    "state49 = statedata.drop(['AK'])\n",
    "rss = np.empty(len(pcols) + 1)\n",
    "rss[0] = np.sum((state49.LifeExp - np.mean(state49.LifeExp))**2)\n",
    "selvar = ['Null']\n",
    "for k in range(1,len(pcols)+1):\n",
    "    RSS = {}\n",
    "    for variables in itertools.combinations(pcols, k):\n",
    "        predictors = state49.loc[:,list(variables)]\n",
    "        predictors['Intercept'] = 1\n",
    "        res = sm.OLS(state49.LifeExp, predictors).fit()\n",
    "        RSS[variables] = res.ssr\n",
    "    rss[k] = min(RSS.values())\n",
    "    selvar.append(min(RSS, key=RSS.get))\n",
    "adjr2 = 1 - (rss/(49 - np.arange(1,9)))/(rss[0]/48)\n",
    "adjr2"
   ]
  },
  {
   "cell_type": "code",
   "execution_count": 25,
   "metadata": {},
   "outputs": [
    {
     "data": {
      "text/plain": [
       "('Population', 'Murder', 'HSGrad', 'Frost', 'Area')"
      ]
     },
     "execution_count": 25,
     "metadata": {},
     "output_type": "execute_result"
    }
   ],
   "source": [
    "selvar[adjr2.argmax()]"
   ]
  },
  {
   "cell_type": "code",
   "execution_count": 26,
   "metadata": {},
   "outputs": [
    {
     "data": {
      "text/plain": [
       "5"
      ]
     },
     "execution_count": 26,
     "metadata": {},
     "output_type": "execute_result"
    }
   ],
   "source": [
    "adjr2.argmax()"
   ]
  },
  {
   "cell_type": "markdown",
   "metadata": {},
   "source": [
    "Scale data and strip plot:"
   ]
  },
  {
   "cell_type": "code",
   "execution_count": 27,
   "metadata": {},
   "outputs": [
    {
     "data": {
      "text/html": [
       "<div>\n",
       "<style scoped>\n",
       "    .dataframe tbody tr th:only-of-type {\n",
       "        vertical-align: middle;\n",
       "    }\n",
       "\n",
       "    .dataframe tbody tr th {\n",
       "        vertical-align: top;\n",
       "    }\n",
       "\n",
       "    .dataframe thead th {\n",
       "        text-align: right;\n",
       "    }\n",
       "</style>\n",
       "<table border=\"1\" class=\"dataframe\">\n",
       "  <thead>\n",
       "    <tr style=\"text-align: right;\">\n",
       "      <th></th>\n",
       "      <th>Population</th>\n",
       "      <th>Income</th>\n",
       "      <th>Illiteracy</th>\n",
       "      <th>LifeExp</th>\n",
       "      <th>Murder</th>\n",
       "      <th>HSGrad</th>\n",
       "      <th>Frost</th>\n",
       "      <th>Area</th>\n",
       "    </tr>\n",
       "  </thead>\n",
       "  <tbody>\n",
       "    <tr>\n",
       "      <th>AL</th>\n",
       "      <td>-0.142867</td>\n",
       "      <td>-1.334552</td>\n",
       "      <td>1.541248</td>\n",
       "      <td>-1.376023</td>\n",
       "      <td>2.113047</td>\n",
       "      <td>-1.476772</td>\n",
       "      <td>-1.641325</td>\n",
       "      <td>-0.237101</td>\n",
       "    </tr>\n",
       "    <tr>\n",
       "      <th>AK</th>\n",
       "      <td>-0.878225</td>\n",
       "      <td>3.089295</td>\n",
       "      <td>0.546895</td>\n",
       "      <td>-1.180373</td>\n",
       "      <td>1.073216</td>\n",
       "      <td>1.699888</td>\n",
       "      <td>0.923853</td>\n",
       "      <td>5.868329</td>\n",
       "    </tr>\n",
       "    <tr>\n",
       "      <th>AZ</th>\n",
       "      <td>-0.460315</td>\n",
       "      <td>0.154859</td>\n",
       "      <td>1.044071</td>\n",
       "      <td>-0.247272</td>\n",
       "      <td>0.115476</td>\n",
       "      <td>0.624326</td>\n",
       "      <td>-1.738491</td>\n",
       "      <td>0.505283</td>\n",
       "    </tr>\n",
       "    <tr>\n",
       "      <th>AR</th>\n",
       "      <td>-0.483394</td>\n",
       "      <td>-1.738961</td>\n",
       "      <td>1.209797</td>\n",
       "      <td>-0.164497</td>\n",
       "      <td>0.744848</td>\n",
       "      <td>-1.651863</td>\n",
       "      <td>-0.766833</td>\n",
       "      <td>-0.222457</td>\n",
       "    </tr>\n",
       "    <tr>\n",
       "      <th>CA</th>\n",
       "      <td>3.835528</td>\n",
       "      <td>1.114921</td>\n",
       "      <td>-0.116008</td>\n",
       "      <td>0.625629</td>\n",
       "      <td>0.799576</td>\n",
       "      <td>1.187120</td>\n",
       "      <td>-1.641325</td>\n",
       "      <td>1.013678</td>\n",
       "    </tr>\n",
       "  </tbody>\n",
       "</table>\n",
       "</div>"
      ],
      "text/plain": [
       "    Population    Income  Illiteracy   LifeExp    Murder    HSGrad     Frost  \\\n",
       "AL   -0.142867 -1.334552    1.541248 -1.376023  2.113047 -1.476772 -1.641325   \n",
       "AK   -0.878225  3.089295    0.546895 -1.180373  1.073216  1.699888  0.923853   \n",
       "AZ   -0.460315  0.154859    1.044071 -0.247272  0.115476  0.624326 -1.738491   \n",
       "AR   -0.483394 -1.738961    1.209797 -0.164497  0.744848 -1.651863 -0.766833   \n",
       "CA    3.835528  1.114921   -0.116008  0.625629  0.799576  1.187120 -1.641325   \n",
       "\n",
       "        Area  \n",
       "AL -0.237101  \n",
       "AK  5.868329  \n",
       "AZ  0.505283  \n",
       "AR -0.222457  \n",
       "CA  1.013678  "
      ]
     },
     "execution_count": 27,
     "metadata": {},
     "output_type": "execute_result"
    }
   ],
   "source": [
    "from sklearn.preprocessing import scale\n",
    "scalstat = pd.DataFrame(scale(statedata), index=statedata.index, columns=statedata.columns)\n",
    "scalstat.head()"
   ]
  },
  {
   "cell_type": "code",
   "execution_count": 28,
   "metadata": {},
   "outputs": [
    {
     "data": {
      "image/png": "[encoded data removed]",
      "text/plain": [
       "<Figure size 432x288 with 1 Axes>"
      ]
     },
     "metadata": {},
     "output_type": "display_data"
    }
   ],
   "source": [
    "import seaborn as sns\n",
    "sns.set_style(\"whitegrid\")\n",
    "sns.stripplot(data=scalstat, jitter=True)\n",
    "plt.show()"
   ]
  },
  {
   "cell_type": "markdown",
   "metadata": {},
   "source": [
    "Do variable selection on the transformed model."
   ]
  },
  {
   "cell_type": "code",
   "execution_count": 29,
   "metadata": {},
   "outputs": [
    {
     "data": {
      "text/plain": [
       "array([0.        , 0.60158926, 0.64849909, 0.69392297, 0.71256902,\n",
       "       0.7061129 , 0.69932684, 0.69218231])"
      ]
     },
     "execution_count": 29,
     "metadata": {},
     "output_type": "execute_result"
    }
   ],
   "source": [
    "lmod = smf.ols('LifeExp ~ np.log(Population) + Income + Illiteracy + Murder + HSGrad + Frost + np.log(Area)', data=statedata).fit()\n",
    "rss = np.empty(len(pcols) + 1)\n",
    "rss[0] = np.sum((statedata.LifeExp - np.mean(statedata.LifeExp))**2)\n",
    "selvar = ['Null']\n",
    "for k in range(1,len(pcols)+1):\n",
    "    RSS = {}\n",
    "    for variables in itertools.combinations(pcols, k):\n",
    "        predictors = statedata.loc[:,list(variables)]\n",
    "        predictors['Intercept'] = 1\n",
    "        res = sm.OLS(statedata.LifeExp, predictors).fit()\n",
    "        RSS[variables] = res.ssr\n",
    "    rss[k] = min(RSS.values())\n",
    "    selvar.append(min(RSS, key=RSS.get))\n",
    "adjr2 = 1 - (rss/(50 - np.arange(1,9)))/(rss[0]/49)\n",
    "adjr2\n"
   ]
  },
  {
   "cell_type": "code",
   "execution_count": 30,
   "metadata": {},
   "outputs": [
    {
     "data": {
      "text/plain": [
       "('Population', 'Murder', 'HSGrad', 'Frost')"
      ]
     },
     "execution_count": 30,
     "metadata": {},
     "output_type": "execute_result"
    }
   ],
   "source": [
    "selvar[adjr2.argmax()]"
   ]
  },
  {
   "cell_type": "markdown",
   "metadata": {},
   "source": [
    "Would be worth creating a function for the all subsets regression."
   ]
  }
 ],
 "metadata": {
  "kernelspec": {
   "display_name": "Python 3",
   "language": "python",
   "name": "python3"
  },
  "language_info": {
   "codemirror_mode": {
    "name": "ipython",
    "version": 3
   },
   "file_extension": ".py",
   "mimetype": "text/x-python",
   "name": "python",
   "nbconvert_exporter": "python",
   "pygments_lexer": "ipython3",
   "version": "3.7.6"
  }
 },
 "nbformat": 4,
 "nbformat_minor": 2
}
